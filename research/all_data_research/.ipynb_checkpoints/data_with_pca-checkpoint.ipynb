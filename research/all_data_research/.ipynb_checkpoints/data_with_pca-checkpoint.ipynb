{
 "cells": [
  {
   "cell_type": "code",
   "execution_count": 1,
   "id": "817af307",
   "metadata": {},
   "outputs": [],
   "source": [
    "import numpy as np\n",
    "import pandas as pd\n",
    "from sklearn.model_selection import KFold\n",
    "from sklearn.model_selection import cross_val_score\n",
    "from sklearn.model_selection import train_test_split\n",
    "from sklearn.preprocessing import LabelEncoder, RobustScaler, StandardScaler\n",
    "from sklearn.decomposition import PCA\n",
    "\n",
    "import matplotlib.pyplot as plt\n",
    "plt.rcParams['figure.figsize'] = [12, 8]\n",
    "plt.rcParams['figure.dpi'] = 100\n",
    "\n",
    "from sklearn.dummy import DummyClassifier\n",
    "from sklearn.linear_model import Perceptron\n",
    "from sklearn.svm import SVC\n",
    "from sklearn.linear_model import LogisticRegression\n",
    "from sklearn.tree import DecisionTreeClassifier\n",
    "from sklearn.ensemble import RandomForestClassifier\n",
    "from xgboost import XGBClassifier\n",
    "\n",
    "from sklearn.model_selection import GridSearchCV\n",
    "\n",
    "import warnings\n",
    "warnings.filterwarnings('ignore')"
   ]
  },
  {
   "cell_type": "markdown",
   "id": "0a5c0c6b",
   "metadata": {},
   "source": [
    "<h2>Предобработка данных</h2>"
   ]
  },
  {
   "cell_type": "code",
   "execution_count": 2,
   "id": "9c78fae0",
   "metadata": {},
   "outputs": [
    {
     "name": "stdout",
     "output_type": "stream",
     "text": [
      "<class 'pandas.core.frame.DataFrame'>\n",
      "Int64Index: 842 entries, 0 to 844\n",
      "Columns: 1029 entries, version to 5_map\n",
      "dtypes: float64(339), int64(679), object(11)\n",
      "memory usage: 6.6+ MB\n"
     ]
    }
   ],
   "source": [
    "df = pd.read_csv('../data/df_games.csv')\n",
    "df = df.drop(df[(df.best_of == 5) & (df['5_map'] == 'did not play')].index.values, axis=0)\n",
    "df.info()"
   ]
  },
  {
   "cell_type": "code",
   "execution_count": 3,
   "id": "8a1a7a0a",
   "metadata": {},
   "outputs": [
    {
     "data": {
      "text/html": [
       "<div>\n",
       "<style scoped>\n",
       "    .dataframe tbody tr th:only-of-type {\n",
       "        vertical-align: middle;\n",
       "    }\n",
       "\n",
       "    .dataframe tbody tr th {\n",
       "        vertical-align: top;\n",
       "    }\n",
       "\n",
       "    .dataframe thead th {\n",
       "        text-align: right;\n",
       "    }\n",
       "</style>\n",
       "<table border=\"1\" class=\"dataframe\">\n",
       "  <thead>\n",
       "    <tr style=\"text-align: right;\">\n",
       "      <th></th>\n",
       "      <th>team1_world_rank</th>\n",
       "      <th>team2_world_rank</th>\n",
       "      <th>1_47_top5_Times played</th>\n",
       "      <th>1_47_top5_wins</th>\n",
       "      <th>1_47_top5_draws</th>\n",
       "      <th>1_47_top5_losses</th>\n",
       "      <th>1_47_top5_Total rounds played</th>\n",
       "      <th>1_47_top5_Rounds won</th>\n",
       "      <th>1_47_top5_Win percent</th>\n",
       "      <th>1_47_top5_Pistol rounds</th>\n",
       "      <th>...</th>\n",
       "      <th>2_46_topAll_Pistol round win percent</th>\n",
       "      <th>2_46_topAll_CT round win percent</th>\n",
       "      <th>2_46_topAll_T round win percent</th>\n",
       "      <th>result</th>\n",
       "      <th>best_of</th>\n",
       "      <th>1_map</th>\n",
       "      <th>2_map</th>\n",
       "      <th>3_map</th>\n",
       "      <th>4_map</th>\n",
       "      <th>5_map</th>\n",
       "    </tr>\n",
       "  </thead>\n",
       "  <tbody>\n",
       "    <tr>\n",
       "      <th>0</th>\n",
       "      <td>28</td>\n",
       "      <td>46</td>\n",
       "      <td>0</td>\n",
       "      <td>0</td>\n",
       "      <td>0</td>\n",
       "      <td>0</td>\n",
       "      <td>0</td>\n",
       "      <td>0</td>\n",
       "      <td>0.0</td>\n",
       "      <td>0</td>\n",
       "      <td>...</td>\n",
       "      <td>0.5</td>\n",
       "      <td>0.590</td>\n",
       "      <td>0.526</td>\n",
       "      <td>-1</td>\n",
       "      <td>3</td>\n",
       "      <td>Nuke</td>\n",
       "      <td>Ancient</td>\n",
       "      <td>Inferno</td>\n",
       "      <td>did not play</td>\n",
       "      <td>did not play</td>\n",
       "    </tr>\n",
       "    <tr>\n",
       "      <th>1</th>\n",
       "      <td>1</td>\n",
       "      <td>223</td>\n",
       "      <td>2</td>\n",
       "      <td>2</td>\n",
       "      <td>0</td>\n",
       "      <td>0</td>\n",
       "      <td>54</td>\n",
       "      <td>32</td>\n",
       "      <td>1.0</td>\n",
       "      <td>4</td>\n",
       "      <td>...</td>\n",
       "      <td>0.5</td>\n",
       "      <td>0.448</td>\n",
       "      <td>0.552</td>\n",
       "      <td>1</td>\n",
       "      <td>3</td>\n",
       "      <td>Mirage</td>\n",
       "      <td>Ancient</td>\n",
       "      <td>Inferno</td>\n",
       "      <td>did not play</td>\n",
       "      <td>did not play</td>\n",
       "    </tr>\n",
       "    <tr>\n",
       "      <th>2</th>\n",
       "      <td>14</td>\n",
       "      <td>101</td>\n",
       "      <td>0</td>\n",
       "      <td>0</td>\n",
       "      <td>0</td>\n",
       "      <td>0</td>\n",
       "      <td>0</td>\n",
       "      <td>0</td>\n",
       "      <td>0.0</td>\n",
       "      <td>0</td>\n",
       "      <td>...</td>\n",
       "      <td>0.0</td>\n",
       "      <td>0.000</td>\n",
       "      <td>0.000</td>\n",
       "      <td>1</td>\n",
       "      <td>3</td>\n",
       "      <td>Overpass</td>\n",
       "      <td>Dust2</td>\n",
       "      <td>Vertigo</td>\n",
       "      <td>did not play</td>\n",
       "      <td>did not play</td>\n",
       "    </tr>\n",
       "    <tr>\n",
       "      <th>3</th>\n",
       "      <td>3</td>\n",
       "      <td>46</td>\n",
       "      <td>0</td>\n",
       "      <td>0</td>\n",
       "      <td>0</td>\n",
       "      <td>0</td>\n",
       "      <td>0</td>\n",
       "      <td>0</td>\n",
       "      <td>0.0</td>\n",
       "      <td>0</td>\n",
       "      <td>...</td>\n",
       "      <td>0.5</td>\n",
       "      <td>0.590</td>\n",
       "      <td>0.526</td>\n",
       "      <td>1</td>\n",
       "      <td>3</td>\n",
       "      <td>Dust2</td>\n",
       "      <td>Inferno</td>\n",
       "      <td>Nuke</td>\n",
       "      <td>did not play</td>\n",
       "      <td>did not play</td>\n",
       "    </tr>\n",
       "    <tr>\n",
       "      <th>4</th>\n",
       "      <td>7</td>\n",
       "      <td>1</td>\n",
       "      <td>0</td>\n",
       "      <td>0</td>\n",
       "      <td>0</td>\n",
       "      <td>0</td>\n",
       "      <td>0</td>\n",
       "      <td>0</td>\n",
       "      <td>0.0</td>\n",
       "      <td>0</td>\n",
       "      <td>...</td>\n",
       "      <td>0.0</td>\n",
       "      <td>0.000</td>\n",
       "      <td>0.000</td>\n",
       "      <td>1</td>\n",
       "      <td>3</td>\n",
       "      <td>Nuke</td>\n",
       "      <td>Overpass</td>\n",
       "      <td>Mirage</td>\n",
       "      <td>did not play</td>\n",
       "      <td>did not play</td>\n",
       "    </tr>\n",
       "  </tbody>\n",
       "</table>\n",
       "<p>5 rows × 1017 columns</p>\n",
       "</div>"
      ],
      "text/plain": [
       "   team1_world_rank  team2_world_rank  1_47_top5_Times played  1_47_top5_wins  \\\n",
       "0                28                46                       0               0   \n",
       "1                 1               223                       2               2   \n",
       "2                14               101                       0               0   \n",
       "3                 3                46                       0               0   \n",
       "4                 7                 1                       0               0   \n",
       "\n",
       "   1_47_top5_draws  1_47_top5_losses  1_47_top5_Total rounds played  \\\n",
       "0                0                 0                              0   \n",
       "1                0                 0                             54   \n",
       "2                0                 0                              0   \n",
       "3                0                 0                              0   \n",
       "4                0                 0                              0   \n",
       "\n",
       "   1_47_top5_Rounds won  1_47_top5_Win percent  1_47_top5_Pistol rounds  ...  \\\n",
       "0                     0                    0.0                        0  ...   \n",
       "1                    32                    1.0                        4  ...   \n",
       "2                     0                    0.0                        0  ...   \n",
       "3                     0                    0.0                        0  ...   \n",
       "4                     0                    0.0                        0  ...   \n",
       "\n",
       "   2_46_topAll_Pistol round win percent  2_46_topAll_CT round win percent  \\\n",
       "0                                   0.5                             0.590   \n",
       "1                                   0.5                             0.448   \n",
       "2                                   0.0                             0.000   \n",
       "3                                   0.5                             0.590   \n",
       "4                                   0.0                             0.000   \n",
       "\n",
       "   2_46_topAll_T round win percent  result  best_of     1_map     2_map  \\\n",
       "0                            0.526      -1        3      Nuke   Ancient   \n",
       "1                            0.552       1        3    Mirage   Ancient   \n",
       "2                            0.000       1        3  Overpass     Dust2   \n",
       "3                            0.526       1        3     Dust2   Inferno   \n",
       "4                            0.000       1        3      Nuke  Overpass   \n",
       "\n",
       "     3_map         4_map         5_map  \n",
       "0  Inferno  did not play  did not play  \n",
       "1  Inferno  did not play  did not play  \n",
       "2  Vertigo  did not play  did not play  \n",
       "3     Nuke  did not play  did not play  \n",
       "4   Mirage  did not play  did not play  \n",
       "\n",
       "[5 rows x 1017 columns]"
      ]
     },
     "execution_count": 3,
     "metadata": {},
     "output_type": "execute_result"
    }
   ],
   "source": [
    "df = df.drop(['version', 'url', 'number_of_confrontation', 'datetime1', 'ratio1', 'ratio2', 'name1', 'number1', 'name2', 'number2',\n",
    "         'team1_stat_url', 'team2_stat_url'], axis=1)\n",
    "df.head()"
   ]
  },
  {
   "cell_type": "code",
   "execution_count": 4,
   "id": "0e58a2dc",
   "metadata": {},
   "outputs": [],
   "source": [
    "maps_decoder = LabelEncoder()\n",
    "maps_decoder.fit(df['3_map'])\n",
    "for num_map in range(1,6):\n",
    "    df[f'{num_map}_map'] = maps_decoder.transform(df[f'{num_map}_map'])\n"
   ]
  },
  {
   "cell_type": "code",
   "execution_count": 5,
   "id": "c0b86b89",
   "metadata": {},
   "outputs": [],
   "source": [
    "cv = KFold(shuffle=True, random_state=1)\n",
    "X = df.drop('result', axis=1)\n",
    "y = df['result']"
   ]
  },
  {
   "cell_type": "markdown",
   "id": "ae0b2efd",
   "metadata": {},
   "source": [
    "<h3>PCA</h3>\n",
    "Подберем такое количество компонент, что бы они объясняли 99 процентов изменчивости данных, в ходе исследований можем поизменять это число"
   ]
  },
  {
   "cell_type": "code",
   "execution_count": 6,
   "id": "c0379347",
   "metadata": {},
   "outputs": [
    {
     "data": {
      "text/plain": [
       "0.9920327061834668"
      ]
     },
     "execution_count": 6,
     "metadata": {},
     "output_type": "execute_result"
    }
   ],
   "source": [
    "transform = PCA(n_components=50)\n",
    "X_pca = pd.DataFrame(transform.fit_transform(X))\n",
    "transform.explained_variance_ratio_.sum()"
   ]
  },
  {
   "cell_type": "code",
   "execution_count": 7,
   "id": "3f23a002",
   "metadata": {},
   "outputs": [
    {
     "data": {
      "text/html": [
       "<div>\n",
       "<style scoped>\n",
       "    .dataframe tbody tr th:only-of-type {\n",
       "        vertical-align: middle;\n",
       "    }\n",
       "\n",
       "    .dataframe tbody tr th {\n",
       "        vertical-align: top;\n",
       "    }\n",
       "\n",
       "    .dataframe thead th {\n",
       "        text-align: right;\n",
       "    }\n",
       "</style>\n",
       "<table border=\"1\" class=\"dataframe\">\n",
       "  <thead>\n",
       "    <tr style=\"text-align: right;\">\n",
       "      <th></th>\n",
       "      <th>count</th>\n",
       "      <th>mean</th>\n",
       "      <th>std</th>\n",
       "      <th>min</th>\n",
       "      <th>25%</th>\n",
       "      <th>50%</th>\n",
       "      <th>75%</th>\n",
       "      <th>max</th>\n",
       "    </tr>\n",
       "  </thead>\n",
       "  <tbody>\n",
       "    <tr>\n",
       "      <th>0</th>\n",
       "      <td>842.0</td>\n",
       "      <td>2.160320e-14</td>\n",
       "      <td>492.421734</td>\n",
       "      <td>-724.338402</td>\n",
       "      <td>-438.412625</td>\n",
       "      <td>-45.410390</td>\n",
       "      <td>361.725083</td>\n",
       "      <td>1552.266777</td>\n",
       "    </tr>\n",
       "    <tr>\n",
       "      <th>1</th>\n",
       "      <td>842.0</td>\n",
       "      <td>-6.428218e-15</td>\n",
       "      <td>303.719362</td>\n",
       "      <td>-1100.155949</td>\n",
       "      <td>-163.548987</td>\n",
       "      <td>-22.520345</td>\n",
       "      <td>176.101093</td>\n",
       "      <td>1110.610566</td>\n",
       "    </tr>\n",
       "    <tr>\n",
       "      <th>2</th>\n",
       "      <td>842.0</td>\n",
       "      <td>-5.210928e-15</td>\n",
       "      <td>268.333777</td>\n",
       "      <td>-651.114271</td>\n",
       "      <td>-186.939257</td>\n",
       "      <td>-23.344049</td>\n",
       "      <td>160.345933</td>\n",
       "      <td>953.157246</td>\n",
       "    </tr>\n",
       "    <tr>\n",
       "      <th>3</th>\n",
       "      <td>842.0</td>\n",
       "      <td>-8.620183e-15</td>\n",
       "      <td>186.793392</td>\n",
       "      <td>-808.667866</td>\n",
       "      <td>-68.872657</td>\n",
       "      <td>14.488943</td>\n",
       "      <td>68.790069</td>\n",
       "      <td>844.125060</td>\n",
       "    </tr>\n",
       "    <tr>\n",
       "      <th>4</th>\n",
       "      <td>842.0</td>\n",
       "      <td>1.181847e-14</td>\n",
       "      <td>167.297117</td>\n",
       "      <td>-567.389253</td>\n",
       "      <td>-94.798129</td>\n",
       "      <td>-6.665606</td>\n",
       "      <td>60.506018</td>\n",
       "      <td>663.356569</td>\n",
       "    </tr>\n",
       "    <tr>\n",
       "      <th>5</th>\n",
       "      <td>842.0</td>\n",
       "      <td>7.198254e-15</td>\n",
       "      <td>162.371922</td>\n",
       "      <td>-474.677659</td>\n",
       "      <td>-88.527170</td>\n",
       "      <td>1.463945</td>\n",
       "      <td>72.549942</td>\n",
       "      <td>833.187387</td>\n",
       "    </tr>\n",
       "    <tr>\n",
       "      <th>6</th>\n",
       "      <td>842.0</td>\n",
       "      <td>-3.259045e-14</td>\n",
       "      <td>160.271418</td>\n",
       "      <td>-627.648246</td>\n",
       "      <td>-75.709649</td>\n",
       "      <td>-0.546730</td>\n",
       "      <td>77.336618</td>\n",
       "      <td>685.944058</td>\n",
       "    </tr>\n",
       "    <tr>\n",
       "      <th>7</th>\n",
       "      <td>842.0</td>\n",
       "      <td>-1.186699e-14</td>\n",
       "      <td>146.346628</td>\n",
       "      <td>-525.821768</td>\n",
       "      <td>-64.053072</td>\n",
       "      <td>-12.523822</td>\n",
       "      <td>70.471115</td>\n",
       "      <td>552.335869</td>\n",
       "    </tr>\n",
       "    <tr>\n",
       "      <th>8</th>\n",
       "      <td>842.0</td>\n",
       "      <td>1.046405e-15</td>\n",
       "      <td>141.520641</td>\n",
       "      <td>-476.011442</td>\n",
       "      <td>-86.944526</td>\n",
       "      <td>1.970237</td>\n",
       "      <td>81.415660</td>\n",
       "      <td>496.497312</td>\n",
       "    </tr>\n",
       "    <tr>\n",
       "      <th>9</th>\n",
       "      <td>842.0</td>\n",
       "      <td>-1.849774e-14</td>\n",
       "      <td>139.002936</td>\n",
       "      <td>-435.436353</td>\n",
       "      <td>-67.114658</td>\n",
       "      <td>7.727244</td>\n",
       "      <td>62.778241</td>\n",
       "      <td>513.894930</td>\n",
       "    </tr>\n",
       "    <tr>\n",
       "      <th>10</th>\n",
       "      <td>842.0</td>\n",
       "      <td>9.848021e-15</td>\n",
       "      <td>132.837391</td>\n",
       "      <td>-372.444701</td>\n",
       "      <td>-84.770187</td>\n",
       "      <td>7.709378</td>\n",
       "      <td>69.380941</td>\n",
       "      <td>556.714604</td>\n",
       "    </tr>\n",
       "    <tr>\n",
       "      <th>11</th>\n",
       "      <td>842.0</td>\n",
       "      <td>3.134996e-15</td>\n",
       "      <td>123.159277</td>\n",
       "      <td>-393.845146</td>\n",
       "      <td>-71.734029</td>\n",
       "      <td>-11.464433</td>\n",
       "      <td>65.292672</td>\n",
       "      <td>447.708947</td>\n",
       "    </tr>\n",
       "    <tr>\n",
       "      <th>12</th>\n",
       "      <td>842.0</td>\n",
       "      <td>-5.274219e-15</td>\n",
       "      <td>118.621957</td>\n",
       "      <td>-344.606265</td>\n",
       "      <td>-54.775750</td>\n",
       "      <td>-1.705644</td>\n",
       "      <td>60.186045</td>\n",
       "      <td>560.333998</td>\n",
       "    </tr>\n",
       "    <tr>\n",
       "      <th>13</th>\n",
       "      <td>842.0</td>\n",
       "      <td>2.936685e-15</td>\n",
       "      <td>113.026516</td>\n",
       "      <td>-360.584910</td>\n",
       "      <td>-57.893257</td>\n",
       "      <td>-11.140059</td>\n",
       "      <td>55.736873</td>\n",
       "      <td>649.528536</td>\n",
       "    </tr>\n",
       "    <tr>\n",
       "      <th>14</th>\n",
       "      <td>842.0</td>\n",
       "      <td>-1.708003e-14</td>\n",
       "      <td>105.659369</td>\n",
       "      <td>-341.518796</td>\n",
       "      <td>-56.674785</td>\n",
       "      <td>-2.217393</td>\n",
       "      <td>63.138371</td>\n",
       "      <td>420.770460</td>\n",
       "    </tr>\n",
       "    <tr>\n",
       "      <th>15</th>\n",
       "      <td>842.0</td>\n",
       "      <td>-2.307998e-15</td>\n",
       "      <td>105.246316</td>\n",
       "      <td>-331.682505</td>\n",
       "      <td>-54.061156</td>\n",
       "      <td>-5.141003</td>\n",
       "      <td>53.762016</td>\n",
       "      <td>431.469093</td>\n",
       "    </tr>\n",
       "    <tr>\n",
       "      <th>16</th>\n",
       "      <td>842.0</td>\n",
       "      <td>-2.169392e-14</td>\n",
       "      <td>100.793499</td>\n",
       "      <td>-329.390959</td>\n",
       "      <td>-68.524227</td>\n",
       "      <td>-2.230517</td>\n",
       "      <td>68.051318</td>\n",
       "      <td>343.903136</td>\n",
       "    </tr>\n",
       "    <tr>\n",
       "      <th>17</th>\n",
       "      <td>842.0</td>\n",
       "      <td>-5.881809e-15</td>\n",
       "      <td>87.502021</td>\n",
       "      <td>-311.965126</td>\n",
       "      <td>-55.668941</td>\n",
       "      <td>0.852119</td>\n",
       "      <td>52.038670</td>\n",
       "      <td>385.662463</td>\n",
       "    </tr>\n",
       "    <tr>\n",
       "      <th>18</th>\n",
       "      <td>842.0</td>\n",
       "      <td>8.599086e-15</td>\n",
       "      <td>70.214238</td>\n",
       "      <td>-203.077506</td>\n",
       "      <td>-42.159074</td>\n",
       "      <td>-0.553662</td>\n",
       "      <td>33.282582</td>\n",
       "      <td>222.584109</td>\n",
       "    </tr>\n",
       "    <tr>\n",
       "      <th>19</th>\n",
       "      <td>842.0</td>\n",
       "      <td>9.653930e-15</td>\n",
       "      <td>66.855002</td>\n",
       "      <td>-210.917817</td>\n",
       "      <td>-38.067470</td>\n",
       "      <td>-2.635047</td>\n",
       "      <td>34.249908</td>\n",
       "      <td>268.539919</td>\n",
       "    </tr>\n",
       "    <tr>\n",
       "      <th>20</th>\n",
       "      <td>842.0</td>\n",
       "      <td>-7.686646e-15</td>\n",
       "      <td>60.606807</td>\n",
       "      <td>-248.581930</td>\n",
       "      <td>-28.421648</td>\n",
       "      <td>2.625568</td>\n",
       "      <td>34.302646</td>\n",
       "      <td>281.275684</td>\n",
       "    </tr>\n",
       "    <tr>\n",
       "      <th>21</th>\n",
       "      <td>842.0</td>\n",
       "      <td>-7.189815e-15</td>\n",
       "      <td>57.676716</td>\n",
       "      <td>-216.479645</td>\n",
       "      <td>-33.016679</td>\n",
       "      <td>2.704665</td>\n",
       "      <td>31.679105</td>\n",
       "      <td>303.699751</td>\n",
       "    </tr>\n",
       "    <tr>\n",
       "      <th>22</th>\n",
       "      <td>842.0</td>\n",
       "      <td>5.063250e-15</td>\n",
       "      <td>54.451310</td>\n",
       "      <td>-185.607185</td>\n",
       "      <td>-34.632527</td>\n",
       "      <td>3.754852</td>\n",
       "      <td>30.241779</td>\n",
       "      <td>226.021423</td>\n",
       "    </tr>\n",
       "    <tr>\n",
       "      <th>23</th>\n",
       "      <td>842.0</td>\n",
       "      <td>5.586452e-15</td>\n",
       "      <td>52.520254</td>\n",
       "      <td>-224.412361</td>\n",
       "      <td>-27.303304</td>\n",
       "      <td>-1.154245</td>\n",
       "      <td>26.334655</td>\n",
       "      <td>262.135365</td>\n",
       "    </tr>\n",
       "    <tr>\n",
       "      <th>24</th>\n",
       "      <td>842.0</td>\n",
       "      <td>1.076204e-15</td>\n",
       "      <td>51.807889</td>\n",
       "      <td>-206.914568</td>\n",
       "      <td>-35.905665</td>\n",
       "      <td>-0.334101</td>\n",
       "      <td>32.310167</td>\n",
       "      <td>214.939735</td>\n",
       "    </tr>\n",
       "    <tr>\n",
       "      <th>25</th>\n",
       "      <td>842.0</td>\n",
       "      <td>-7.257325e-16</td>\n",
       "      <td>47.721492</td>\n",
       "      <td>-142.476488</td>\n",
       "      <td>-32.789114</td>\n",
       "      <td>-1.221776</td>\n",
       "      <td>27.707211</td>\n",
       "      <td>147.464090</td>\n",
       "    </tr>\n",
       "    <tr>\n",
       "      <th>26</th>\n",
       "      <td>842.0</td>\n",
       "      <td>-2.852297e-15</td>\n",
       "      <td>47.609094</td>\n",
       "      <td>-153.159021</td>\n",
       "      <td>-30.671074</td>\n",
       "      <td>-0.261050</td>\n",
       "      <td>32.898109</td>\n",
       "      <td>229.034641</td>\n",
       "    </tr>\n",
       "    <tr>\n",
       "      <th>27</th>\n",
       "      <td>842.0</td>\n",
       "      <td>7.594875e-16</td>\n",
       "      <td>47.208877</td>\n",
       "      <td>-136.807412</td>\n",
       "      <td>-31.547442</td>\n",
       "      <td>0.201875</td>\n",
       "      <td>31.304221</td>\n",
       "      <td>187.005846</td>\n",
       "    </tr>\n",
       "    <tr>\n",
       "      <th>28</th>\n",
       "      <td>842.0</td>\n",
       "      <td>1.502097e-15</td>\n",
       "      <td>44.692314</td>\n",
       "      <td>-173.370450</td>\n",
       "      <td>-24.649208</td>\n",
       "      <td>1.071851</td>\n",
       "      <td>24.246241</td>\n",
       "      <td>244.084173</td>\n",
       "    </tr>\n",
       "    <tr>\n",
       "      <th>29</th>\n",
       "      <td>842.0</td>\n",
       "      <td>-5.342783e-15</td>\n",
       "      <td>44.534131</td>\n",
       "      <td>-173.254112</td>\n",
       "      <td>-23.824412</td>\n",
       "      <td>-2.249785</td>\n",
       "      <td>23.884895</td>\n",
       "      <td>208.101341</td>\n",
       "    </tr>\n",
       "    <tr>\n",
       "      <th>30</th>\n",
       "      <td>842.0</td>\n",
       "      <td>-8.750984e-15</td>\n",
       "      <td>41.648543</td>\n",
       "      <td>-152.536109</td>\n",
       "      <td>-25.154303</td>\n",
       "      <td>0.273741</td>\n",
       "      <td>23.274149</td>\n",
       "      <td>169.246805</td>\n",
       "    </tr>\n",
       "    <tr>\n",
       "      <th>31</th>\n",
       "      <td>842.0</td>\n",
       "      <td>-1.088240e-16</td>\n",
       "      <td>39.267437</td>\n",
       "      <td>-146.628627</td>\n",
       "      <td>-23.942582</td>\n",
       "      <td>1.474407</td>\n",
       "      <td>24.908718</td>\n",
       "      <td>150.844672</td>\n",
       "    </tr>\n",
       "    <tr>\n",
       "      <th>32</th>\n",
       "      <td>842.0</td>\n",
       "      <td>4.651861e-15</td>\n",
       "      <td>37.312665</td>\n",
       "      <td>-115.145268</td>\n",
       "      <td>-23.080710</td>\n",
       "      <td>1.049432</td>\n",
       "      <td>20.835910</td>\n",
       "      <td>125.633652</td>\n",
       "    </tr>\n",
       "    <tr>\n",
       "      <th>33</th>\n",
       "      <td>842.0</td>\n",
       "      <td>1.662434e-15</td>\n",
       "      <td>36.181253</td>\n",
       "      <td>-124.876299</td>\n",
       "      <td>-19.941649</td>\n",
       "      <td>-0.180766</td>\n",
       "      <td>19.402359</td>\n",
       "      <td>131.222018</td>\n",
       "    </tr>\n",
       "    <tr>\n",
       "      <th>34</th>\n",
       "      <td>842.0</td>\n",
       "      <td>8.143394e-16</td>\n",
       "      <td>34.055700</td>\n",
       "      <td>-114.440432</td>\n",
       "      <td>-21.683330</td>\n",
       "      <td>0.192367</td>\n",
       "      <td>18.673308</td>\n",
       "      <td>144.165989</td>\n",
       "    </tr>\n",
       "    <tr>\n",
       "      <th>35</th>\n",
       "      <td>842.0</td>\n",
       "      <td>1.225728e-15</td>\n",
       "      <td>33.265815</td>\n",
       "      <td>-120.971773</td>\n",
       "      <td>-19.122478</td>\n",
       "      <td>0.256624</td>\n",
       "      <td>19.609451</td>\n",
       "      <td>136.044762</td>\n",
       "    </tr>\n",
       "    <tr>\n",
       "      <th>36</th>\n",
       "      <td>842.0</td>\n",
       "      <td>3.670856e-15</td>\n",
       "      <td>31.778362</td>\n",
       "      <td>-121.964994</td>\n",
       "      <td>-19.914936</td>\n",
       "      <td>1.141204</td>\n",
       "      <td>18.840650</td>\n",
       "      <td>135.370660</td>\n",
       "    </tr>\n",
       "    <tr>\n",
       "      <th>37</th>\n",
       "      <td>842.0</td>\n",
       "      <td>-2.385635e-14</td>\n",
       "      <td>30.779684</td>\n",
       "      <td>-104.449548</td>\n",
       "      <td>-17.961355</td>\n",
       "      <td>0.552167</td>\n",
       "      <td>18.753837</td>\n",
       "      <td>115.349642</td>\n",
       "    </tr>\n",
       "    <tr>\n",
       "      <th>38</th>\n",
       "      <td>842.0</td>\n",
       "      <td>-1.609270e-14</td>\n",
       "      <td>29.376986</td>\n",
       "      <td>-108.244320</td>\n",
       "      <td>-17.732585</td>\n",
       "      <td>-0.522183</td>\n",
       "      <td>17.977777</td>\n",
       "      <td>108.713260</td>\n",
       "    </tr>\n",
       "    <tr>\n",
       "      <th>39</th>\n",
       "      <td>842.0</td>\n",
       "      <td>-4.894475e-15</td>\n",
       "      <td>29.315253</td>\n",
       "      <td>-92.677039</td>\n",
       "      <td>-16.466539</td>\n",
       "      <td>0.582874</td>\n",
       "      <td>18.048142</td>\n",
       "      <td>102.993605</td>\n",
       "    </tr>\n",
       "    <tr>\n",
       "      <th>40</th>\n",
       "      <td>842.0</td>\n",
       "      <td>-4.746797e-15</td>\n",
       "      <td>28.379503</td>\n",
       "      <td>-91.712249</td>\n",
       "      <td>-17.406305</td>\n",
       "      <td>-0.043745</td>\n",
       "      <td>16.982851</td>\n",
       "      <td>114.152636</td>\n",
       "    </tr>\n",
       "    <tr>\n",
       "      <th>41</th>\n",
       "      <td>842.0</td>\n",
       "      <td>1.183113e-14</td>\n",
       "      <td>27.684993</td>\n",
       "      <td>-107.812359</td>\n",
       "      <td>-13.504695</td>\n",
       "      <td>0.789459</td>\n",
       "      <td>15.130572</td>\n",
       "      <td>131.229562</td>\n",
       "    </tr>\n",
       "    <tr>\n",
       "      <th>42</th>\n",
       "      <td>842.0</td>\n",
       "      <td>2.514747e-15</td>\n",
       "      <td>26.428592</td>\n",
       "      <td>-107.577730</td>\n",
       "      <td>-13.867157</td>\n",
       "      <td>-0.008894</td>\n",
       "      <td>14.986813</td>\n",
       "      <td>131.708577</td>\n",
       "    </tr>\n",
       "    <tr>\n",
       "      <th>43</th>\n",
       "      <td>842.0</td>\n",
       "      <td>8.235692e-16</td>\n",
       "      <td>25.989191</td>\n",
       "      <td>-78.699746</td>\n",
       "      <td>-15.009282</td>\n",
       "      <td>-1.488535</td>\n",
       "      <td>17.521816</td>\n",
       "      <td>82.125688</td>\n",
       "    </tr>\n",
       "    <tr>\n",
       "      <th>44</th>\n",
       "      <td>842.0</td>\n",
       "      <td>-2.565380e-15</td>\n",
       "      <td>24.077351</td>\n",
       "      <td>-93.699035</td>\n",
       "      <td>-12.860968</td>\n",
       "      <td>-0.181687</td>\n",
       "      <td>11.956877</td>\n",
       "      <td>108.144976</td>\n",
       "    </tr>\n",
       "    <tr>\n",
       "      <th>45</th>\n",
       "      <td>842.0</td>\n",
       "      <td>-2.455676e-15</td>\n",
       "      <td>23.397978</td>\n",
       "      <td>-75.007855</td>\n",
       "      <td>-13.038913</td>\n",
       "      <td>0.393478</td>\n",
       "      <td>13.456667</td>\n",
       "      <td>96.825497</td>\n",
       "    </tr>\n",
       "    <tr>\n",
       "      <th>46</th>\n",
       "      <td>842.0</td>\n",
       "      <td>3.226240e-15</td>\n",
       "      <td>23.060081</td>\n",
       "      <td>-85.011160</td>\n",
       "      <td>-12.362762</td>\n",
       "      <td>0.278765</td>\n",
       "      <td>13.684836</td>\n",
       "      <td>87.120811</td>\n",
       "    </tr>\n",
       "    <tr>\n",
       "      <th>47</th>\n",
       "      <td>842.0</td>\n",
       "      <td>2.241543e-15</td>\n",
       "      <td>22.274181</td>\n",
       "      <td>-77.571235</td>\n",
       "      <td>-13.291455</td>\n",
       "      <td>0.665908</td>\n",
       "      <td>12.821153</td>\n",
       "      <td>78.279820</td>\n",
       "    </tr>\n",
       "    <tr>\n",
       "      <th>48</th>\n",
       "      <td>842.0</td>\n",
       "      <td>6.655009e-15</td>\n",
       "      <td>21.423549</td>\n",
       "      <td>-80.279709</td>\n",
       "      <td>-12.005080</td>\n",
       "      <td>-1.018046</td>\n",
       "      <td>12.109854</td>\n",
       "      <td>93.496351</td>\n",
       "    </tr>\n",
       "    <tr>\n",
       "      <th>49</th>\n",
       "      <td>842.0</td>\n",
       "      <td>-4.898694e-15</td>\n",
       "      <td>20.277142</td>\n",
       "      <td>-73.964814</td>\n",
       "      <td>-8.892896</td>\n",
       "      <td>-0.705327</td>\n",
       "      <td>9.445261</td>\n",
       "      <td>127.990960</td>\n",
       "    </tr>\n",
       "  </tbody>\n",
       "</table>\n",
       "</div>"
      ],
      "text/plain": [
       "    count          mean         std          min         25%        50%  \\\n",
       "0   842.0  2.160320e-14  492.421734  -724.338402 -438.412625 -45.410390   \n",
       "1   842.0 -6.428218e-15  303.719362 -1100.155949 -163.548987 -22.520345   \n",
       "2   842.0 -5.210928e-15  268.333777  -651.114271 -186.939257 -23.344049   \n",
       "3   842.0 -8.620183e-15  186.793392  -808.667866  -68.872657  14.488943   \n",
       "4   842.0  1.181847e-14  167.297117  -567.389253  -94.798129  -6.665606   \n",
       "5   842.0  7.198254e-15  162.371922  -474.677659  -88.527170   1.463945   \n",
       "6   842.0 -3.259045e-14  160.271418  -627.648246  -75.709649  -0.546730   \n",
       "7   842.0 -1.186699e-14  146.346628  -525.821768  -64.053072 -12.523822   \n",
       "8   842.0  1.046405e-15  141.520641  -476.011442  -86.944526   1.970237   \n",
       "9   842.0 -1.849774e-14  139.002936  -435.436353  -67.114658   7.727244   \n",
       "10  842.0  9.848021e-15  132.837391  -372.444701  -84.770187   7.709378   \n",
       "11  842.0  3.134996e-15  123.159277  -393.845146  -71.734029 -11.464433   \n",
       "12  842.0 -5.274219e-15  118.621957  -344.606265  -54.775750  -1.705644   \n",
       "13  842.0  2.936685e-15  113.026516  -360.584910  -57.893257 -11.140059   \n",
       "14  842.0 -1.708003e-14  105.659369  -341.518796  -56.674785  -2.217393   \n",
       "15  842.0 -2.307998e-15  105.246316  -331.682505  -54.061156  -5.141003   \n",
       "16  842.0 -2.169392e-14  100.793499  -329.390959  -68.524227  -2.230517   \n",
       "17  842.0 -5.881809e-15   87.502021  -311.965126  -55.668941   0.852119   \n",
       "18  842.0  8.599086e-15   70.214238  -203.077506  -42.159074  -0.553662   \n",
       "19  842.0  9.653930e-15   66.855002  -210.917817  -38.067470  -2.635047   \n",
       "20  842.0 -7.686646e-15   60.606807  -248.581930  -28.421648   2.625568   \n",
       "21  842.0 -7.189815e-15   57.676716  -216.479645  -33.016679   2.704665   \n",
       "22  842.0  5.063250e-15   54.451310  -185.607185  -34.632527   3.754852   \n",
       "23  842.0  5.586452e-15   52.520254  -224.412361  -27.303304  -1.154245   \n",
       "24  842.0  1.076204e-15   51.807889  -206.914568  -35.905665  -0.334101   \n",
       "25  842.0 -7.257325e-16   47.721492  -142.476488  -32.789114  -1.221776   \n",
       "26  842.0 -2.852297e-15   47.609094  -153.159021  -30.671074  -0.261050   \n",
       "27  842.0  7.594875e-16   47.208877  -136.807412  -31.547442   0.201875   \n",
       "28  842.0  1.502097e-15   44.692314  -173.370450  -24.649208   1.071851   \n",
       "29  842.0 -5.342783e-15   44.534131  -173.254112  -23.824412  -2.249785   \n",
       "30  842.0 -8.750984e-15   41.648543  -152.536109  -25.154303   0.273741   \n",
       "31  842.0 -1.088240e-16   39.267437  -146.628627  -23.942582   1.474407   \n",
       "32  842.0  4.651861e-15   37.312665  -115.145268  -23.080710   1.049432   \n",
       "33  842.0  1.662434e-15   36.181253  -124.876299  -19.941649  -0.180766   \n",
       "34  842.0  8.143394e-16   34.055700  -114.440432  -21.683330   0.192367   \n",
       "35  842.0  1.225728e-15   33.265815  -120.971773  -19.122478   0.256624   \n",
       "36  842.0  3.670856e-15   31.778362  -121.964994  -19.914936   1.141204   \n",
       "37  842.0 -2.385635e-14   30.779684  -104.449548  -17.961355   0.552167   \n",
       "38  842.0 -1.609270e-14   29.376986  -108.244320  -17.732585  -0.522183   \n",
       "39  842.0 -4.894475e-15   29.315253   -92.677039  -16.466539   0.582874   \n",
       "40  842.0 -4.746797e-15   28.379503   -91.712249  -17.406305  -0.043745   \n",
       "41  842.0  1.183113e-14   27.684993  -107.812359  -13.504695   0.789459   \n",
       "42  842.0  2.514747e-15   26.428592  -107.577730  -13.867157  -0.008894   \n",
       "43  842.0  8.235692e-16   25.989191   -78.699746  -15.009282  -1.488535   \n",
       "44  842.0 -2.565380e-15   24.077351   -93.699035  -12.860968  -0.181687   \n",
       "45  842.0 -2.455676e-15   23.397978   -75.007855  -13.038913   0.393478   \n",
       "46  842.0  3.226240e-15   23.060081   -85.011160  -12.362762   0.278765   \n",
       "47  842.0  2.241543e-15   22.274181   -77.571235  -13.291455   0.665908   \n",
       "48  842.0  6.655009e-15   21.423549   -80.279709  -12.005080  -1.018046   \n",
       "49  842.0 -4.898694e-15   20.277142   -73.964814   -8.892896  -0.705327   \n",
       "\n",
       "           75%          max  \n",
       "0   361.725083  1552.266777  \n",
       "1   176.101093  1110.610566  \n",
       "2   160.345933   953.157246  \n",
       "3    68.790069   844.125060  \n",
       "4    60.506018   663.356569  \n",
       "5    72.549942   833.187387  \n",
       "6    77.336618   685.944058  \n",
       "7    70.471115   552.335869  \n",
       "8    81.415660   496.497312  \n",
       "9    62.778241   513.894930  \n",
       "10   69.380941   556.714604  \n",
       "11   65.292672   447.708947  \n",
       "12   60.186045   560.333998  \n",
       "13   55.736873   649.528536  \n",
       "14   63.138371   420.770460  \n",
       "15   53.762016   431.469093  \n",
       "16   68.051318   343.903136  \n",
       "17   52.038670   385.662463  \n",
       "18   33.282582   222.584109  \n",
       "19   34.249908   268.539919  \n",
       "20   34.302646   281.275684  \n",
       "21   31.679105   303.699751  \n",
       "22   30.241779   226.021423  \n",
       "23   26.334655   262.135365  \n",
       "24   32.310167   214.939735  \n",
       "25   27.707211   147.464090  \n",
       "26   32.898109   229.034641  \n",
       "27   31.304221   187.005846  \n",
       "28   24.246241   244.084173  \n",
       "29   23.884895   208.101341  \n",
       "30   23.274149   169.246805  \n",
       "31   24.908718   150.844672  \n",
       "32   20.835910   125.633652  \n",
       "33   19.402359   131.222018  \n",
       "34   18.673308   144.165989  \n",
       "35   19.609451   136.044762  \n",
       "36   18.840650   135.370660  \n",
       "37   18.753837   115.349642  \n",
       "38   17.977777   108.713260  \n",
       "39   18.048142   102.993605  \n",
       "40   16.982851   114.152636  \n",
       "41   15.130572   131.229562  \n",
       "42   14.986813   131.708577  \n",
       "43   17.521816    82.125688  \n",
       "44   11.956877   108.144976  \n",
       "45   13.456667    96.825497  \n",
       "46   13.684836    87.120811  \n",
       "47   12.821153    78.279820  \n",
       "48   12.109854    93.496351  \n",
       "49    9.445261   127.990960  "
      ]
     },
     "execution_count": 7,
     "metadata": {},
     "output_type": "execute_result"
    }
   ],
   "source": [
    "X_pca.describe().T"
   ]
  },
  {
   "cell_type": "markdown",
   "id": "29e9aaa9",
   "metadata": {},
   "source": [
    "Очень большой разброс. Давайте стандартизируем."
   ]
  },
  {
   "cell_type": "code",
   "execution_count": 8,
   "id": "fec07a32",
   "metadata": {},
   "outputs": [],
   "source": [
    "scaler = StandardScaler()\n",
    "X_pca_scaled = scaler.fit_transform(X_pca)"
   ]
  },
  {
   "cell_type": "code",
   "execution_count": 10,
   "id": "646d0fdb",
   "metadata": {},
   "outputs": [
    {
     "data": {
      "text/html": [
       "<div>\n",
       "<style scoped>\n",
       "    .dataframe tbody tr th:only-of-type {\n",
       "        vertical-align: middle;\n",
       "    }\n",
       "\n",
       "    .dataframe tbody tr th {\n",
       "        vertical-align: top;\n",
       "    }\n",
       "\n",
       "    .dataframe thead th {\n",
       "        text-align: right;\n",
       "    }\n",
       "</style>\n",
       "<table border=\"1\" class=\"dataframe\">\n",
       "  <thead>\n",
       "    <tr style=\"text-align: right;\">\n",
       "      <th></th>\n",
       "      <th>0</th>\n",
       "      <th>1</th>\n",
       "      <th>2</th>\n",
       "      <th>3</th>\n",
       "      <th>4</th>\n",
       "      <th>5</th>\n",
       "      <th>6</th>\n",
       "      <th>7</th>\n",
       "      <th>8</th>\n",
       "      <th>9</th>\n",
       "    </tr>\n",
       "  </thead>\n",
       "  <tbody>\n",
       "    <tr>\n",
       "      <th>0</th>\n",
       "      <td>-440.123499</td>\n",
       "      <td>-134.300710</td>\n",
       "      <td>35.155989</td>\n",
       "      <td>72.356797</td>\n",
       "      <td>20.239936</td>\n",
       "      <td>-93.186579</td>\n",
       "      <td>-141.534898</td>\n",
       "      <td>66.090362</td>\n",
       "      <td>-42.643316</td>\n",
       "      <td>-76.824591</td>\n",
       "    </tr>\n",
       "    <tr>\n",
       "      <th>1</th>\n",
       "      <td>262.586561</td>\n",
       "      <td>-18.824813</td>\n",
       "      <td>575.088506</td>\n",
       "      <td>-341.585038</td>\n",
       "      <td>-31.828410</td>\n",
       "      <td>-300.333827</td>\n",
       "      <td>-51.879588</td>\n",
       "      <td>228.379963</td>\n",
       "      <td>-35.245972</td>\n",
       "      <td>92.777063</td>\n",
       "    </tr>\n",
       "    <tr>\n",
       "      <th>2</th>\n",
       "      <td>-56.467931</td>\n",
       "      <td>442.484628</td>\n",
       "      <td>416.711355</td>\n",
       "      <td>-103.748906</td>\n",
       "      <td>-157.424444</td>\n",
       "      <td>-82.762536</td>\n",
       "      <td>-170.413862</td>\n",
       "      <td>82.920085</td>\n",
       "      <td>-96.734546</td>\n",
       "      <td>-18.608072</td>\n",
       "    </tr>\n",
       "    <tr>\n",
       "      <th>3</th>\n",
       "      <td>158.495153</td>\n",
       "      <td>236.349291</td>\n",
       "      <td>391.157137</td>\n",
       "      <td>-293.570464</td>\n",
       "      <td>-208.453806</td>\n",
       "      <td>-204.540333</td>\n",
       "      <td>-342.431121</td>\n",
       "      <td>143.849038</td>\n",
       "      <td>-205.930876</td>\n",
       "      <td>-160.427214</td>\n",
       "    </tr>\n",
       "    <tr>\n",
       "      <th>4</th>\n",
       "      <td>365.533394</td>\n",
       "      <td>-163.568859</td>\n",
       "      <td>578.731583</td>\n",
       "      <td>-415.111346</td>\n",
       "      <td>156.741297</td>\n",
       "      <td>-194.845959</td>\n",
       "      <td>126.349197</td>\n",
       "      <td>195.727069</td>\n",
       "      <td>-31.055166</td>\n",
       "      <td>-110.829676</td>\n",
       "    </tr>\n",
       "  </tbody>\n",
       "</table>\n",
       "</div>"
      ],
      "text/plain": [
       "            0           1           2           3           4           5  \\\n",
       "0 -440.123499 -134.300710   35.155989   72.356797   20.239936  -93.186579   \n",
       "1  262.586561  -18.824813  575.088506 -341.585038  -31.828410 -300.333827   \n",
       "2  -56.467931  442.484628  416.711355 -103.748906 -157.424444  -82.762536   \n",
       "3  158.495153  236.349291  391.157137 -293.570464 -208.453806 -204.540333   \n",
       "4  365.533394 -163.568859  578.731583 -415.111346  156.741297 -194.845959   \n",
       "\n",
       "            6           7           8           9  \n",
       "0 -141.534898   66.090362  -42.643316  -76.824591  \n",
       "1  -51.879588  228.379963  -35.245972   92.777063  \n",
       "2 -170.413862   82.920085  -96.734546  -18.608072  \n",
       "3 -342.431121  143.849038 -205.930876 -160.427214  \n",
       "4  126.349197  195.727069  -31.055166 -110.829676  "
      ]
     },
     "execution_count": 10,
     "metadata": {},
     "output_type": "execute_result"
    }
   ],
   "source": [
    "pd.DataFrame(X_pca).head().iloc[:,:10].to_excel('standart.xlsx')"
   ]
  },
  {
   "cell_type": "code",
   "execution_count": null,
   "id": "4238ce33",
   "metadata": {},
   "outputs": [],
   "source": []
  },
  {
   "cell_type": "markdown",
   "id": "afc5c250",
   "metadata": {},
   "source": [
    "<h2>Обучение моделей. Сравнение результатов.</h2>"
   ]
  },
  {
   "cell_type": "code",
   "execution_count": 19,
   "id": "e60ad544",
   "metadata": {},
   "outputs": [
    {
     "name": "stdout",
     "output_type": "stream",
     "text": [
      "name: Dummy, score: [0.59763314 0.55621302 0.5297619  0.58333333 0.56547619], mean: 0.5664835164835165\n"
     ]
    }
   ],
   "source": [
    "model_dummy = DummyClassifier(strategy=\"most_frequent\")\n",
    "result_dummy = cross_val_score(model_dummy, X_pca, y, cv=cv)\n",
    "print(f'name: Dummy, score: {result_dummy}, mean: {result_dummy.mean()}')"
   ]
  },
  {
   "cell_type": "markdown",
   "id": "a581e954",
   "metadata": {},
   "source": [
    "<h3>Ошибка перцептрона</h3> "
   ]
  },
  {
   "cell_type": "code",
   "execution_count": 33,
   "id": "a0358f93",
   "metadata": {},
   "outputs": [
    {
     "name": "stdout",
     "output_type": "stream",
     "text": [
      "name: Perceptron, score: [0.56804734 0.65680473 0.48214286 0.58928571 0.54761905], mean: 0.5687799380107073\n"
     ]
    }
   ],
   "source": [
    "model_perceptron = Perceptron()\n",
    "result_perceptron = cross_val_score(model_perceptron, X_pca_scaled, y, cv=cv)\n",
    "print(f'name: Perceptron, score: {result_perceptron}, mean: {result_perceptron.mean()}')"
   ]
  },
  {
   "cell_type": "code",
   "execution_count": 34,
   "id": "192f94d3",
   "metadata": {},
   "outputs": [],
   "source": [
    "param = {'penalty': ['l2', 'l1'],\n",
    "         'alpha': [10**-6, 10**-5, 10**-4, 10**-3, 10**-2, 10**-1, 10**0, 10**1, 10**2]}"
   ]
  },
  {
   "cell_type": "code",
   "execution_count": 37,
   "id": "3d139124",
   "metadata": {},
   "outputs": [
    {
     "name": "stdout",
     "output_type": "stream",
     "text": [
      "Wall time: 84.1 ms\n"
     ]
    },
    {
     "data": {
      "text/plain": [
       "({'alpha': 1e-05, 'penalty': 'l2'}, 0.5927021696252466)"
      ]
     },
     "execution_count": 37,
     "metadata": {},
     "output_type": "execute_result"
    }
   ],
   "source": [
    "%%time\n",
    "grid_search = GridSearchCV(Perceptron(), param,cv=cv, n_jobs=-1)\n",
    "grid_search.fit(X_pca_scaled,y)\n",
    "(grid_search.best_params_, grid_search.best_score_)"
   ]
  },
  {
   "cell_type": "code",
   "execution_count": 38,
   "id": "f30941fe",
   "metadata": {},
   "outputs": [
    {
     "name": "stdout",
     "output_type": "stream",
     "text": [
      "Wall time: 124 ms\n"
     ]
    },
    {
     "data": {
      "text/plain": [
       "({'alpha': 1, 'penalty': 'l1'}, 0.5737109044801353)"
      ]
     },
     "execution_count": 38,
     "metadata": {},
     "output_type": "execute_result"
    }
   ],
   "source": [
    "%%time\n",
    "grid_search = GridSearchCV(Perceptron(), param,cv=cv, n_jobs=-1)\n",
    "grid_search.fit(X_pca,y)\n",
    "(grid_search.best_params_, grid_search.best_score_)"
   ]
  },
  {
   "cell_type": "markdown",
   "id": "a21bd8ca",
   "metadata": {},
   "source": [
    "Как мы видим на стандартизированном множестве перцептрон обучается лучше."
   ]
  },
  {
   "cell_type": "markdown",
   "id": "4b8fa639",
   "metadata": {},
   "source": [
    "<h3>Метод опорных векторов</h3>"
   ]
  },
  {
   "cell_type": "code",
   "execution_count": 39,
   "id": "a6a9fd97",
   "metadata": {},
   "outputs": [
    {
     "name": "stdout",
     "output_type": "stream",
     "text": [
      "name: SVM, score: [0.60946746 0.62130178 0.58333333 0.61904762 0.5952381 ], mean: 0.6056776556776557\n",
      "Wall time: 48 ms\n"
     ]
    }
   ],
   "source": [
    "%%time\n",
    "model_svm = SVC()\n",
    "result_svm = cross_val_score(model_svm, X_pca, y, cv=cv, n_jobs=-1)\n",
    "print(f'name: SVM, score: {result_svm}, mean: {result_svm.mean()}')"
   ]
  },
  {
   "cell_type": "code",
   "execution_count": 40,
   "id": "61ff82db",
   "metadata": {},
   "outputs": [
    {
     "name": "stdout",
     "output_type": "stream",
     "text": [
      "name: SVM, score: [0.59763314 0.61538462 0.5952381  0.60119048 0.58333333], mean: 0.598555931248239\n",
      "Wall time: 47 ms\n"
     ]
    }
   ],
   "source": [
    "%%time\n",
    "model_svm = SVC()\n",
    "result_svm = cross_val_score(model_svm, X_pca_scaled, y, cv=cv, n_jobs=-1)\n",
    "print(f'name: SVM, score: {result_svm}, mean: {result_svm.mean()}')"
   ]
  },
  {
   "cell_type": "markdown",
   "id": "f6984a22",
   "metadata": {},
   "source": [
    "А вот SVM показывает почти одинаковые результаты"
   ]
  },
  {
   "cell_type": "code",
   "execution_count": 42,
   "id": "f3d8b275",
   "metadata": {},
   "outputs": [],
   "source": [
    "param = {'C': [10**-3, 10**-2, 10**-1, 10**0, 10**1],\n",
    "         'kernel': ['rbf', 'poly', 'sigmoid']}"
   ]
  },
  {
   "cell_type": "code",
   "execution_count": 43,
   "id": "d7161206",
   "metadata": {},
   "outputs": [
    {
     "name": "stdout",
     "output_type": "stream",
     "text": [
      "Wall time: 374 ms\n"
     ]
    },
    {
     "data": {
      "text/plain": [
       "({'C': 1, 'kernel': 'rbf'}, 0.6056776556776557)"
      ]
     },
     "execution_count": 43,
     "metadata": {},
     "output_type": "execute_result"
    }
   ],
   "source": [
    "%%time\n",
    "grid_search = GridSearchCV(SVC(), param,cv=cv, n_jobs=-1)\n",
    "grid_search.fit(X_pca,y)\n",
    "(grid_search.best_params_, grid_search.best_score_)"
   ]
  },
  {
   "cell_type": "code",
   "execution_count": 44,
   "id": "453d6f2f",
   "metadata": {},
   "outputs": [
    {
     "name": "stdout",
     "output_type": "stream",
     "text": [
      "Wall time: 346 ms\n"
     ]
    },
    {
     "data": {
      "text/plain": [
       "({'C': 1, 'kernel': 'sigmoid'}, 0.6056987883910961)"
      ]
     },
     "execution_count": 44,
     "metadata": {},
     "output_type": "execute_result"
    }
   ],
   "source": [
    "%%time\n",
    "grid_search = GridSearchCV(SVC(), param,cv=cv, n_jobs=-1)\n",
    "grid_search.fit(X_pca_scaled,y)\n",
    "(grid_search.best_params_, grid_search.best_score_)"
   ]
  },
  {
   "cell_type": "markdown",
   "id": "ccce3e64",
   "metadata": {},
   "source": [
    "И снова почти одинаково, но при этом гораздо быстрее. можно попробовать еще поподбирать."
   ]
  },
  {
   "cell_type": "code",
   "execution_count": 46,
   "id": "0fb13090",
   "metadata": {},
   "outputs": [],
   "source": [
    "param = {'C': [1],\n",
    "         'kernel': ['poly'],\n",
    "         'degree': range(1,11)}"
   ]
  },
  {
   "cell_type": "code",
   "execution_count": 48,
   "id": "441d3ac7",
   "metadata": {},
   "outputs": [
    {
     "name": "stdout",
     "output_type": "stream",
     "text": [
      "Wall time: 227 ms\n"
     ]
    },
    {
     "data": {
      "text/plain": [
       "({'C': 1, 'degree': 1, 'kernel': 'poly'}, 0.6175965060580445)"
      ]
     },
     "execution_count": 48,
     "metadata": {},
     "output_type": "execute_result"
    }
   ],
   "source": [
    "%%time\n",
    "grid_search = GridSearchCV(SVC(), param,cv=cv, n_jobs=-1)\n",
    "grid_search.fit(X_pca_scaled,y)\n",
    "(grid_search.best_params_, grid_search.best_score_)"
   ]
  },
  {
   "cell_type": "code",
   "execution_count": 49,
   "id": "6e081e53",
   "metadata": {},
   "outputs": [
    {
     "name": "stdout",
     "output_type": "stream",
     "text": [
      "Wall time: 353 ms\n"
     ]
    },
    {
     "data": {
      "text/plain": [
       "({'C': 1, 'degree': 1, 'kernel': 'poly'}, 0.6032896590588898)"
      ]
     },
     "execution_count": 49,
     "metadata": {},
     "output_type": "execute_result"
    }
   ],
   "source": [
    "%%time\n",
    "grid_search = GridSearchCV(SVC(), param,cv=cv, n_jobs=-1)\n",
    "grid_search.fit(X_pca,y)\n",
    "(grid_search.best_params_, grid_search.best_score_)"
   ]
  },
  {
   "cell_type": "markdown",
   "id": "83d488cb",
   "metadata": {},
   "source": [
    "Такое себе."
   ]
  },
  {
   "cell_type": "markdown",
   "id": "e03024df",
   "metadata": {},
   "source": [
    "<h3>Дерево решений.</h3>"
   ]
  },
  {
   "cell_type": "code",
   "execution_count": 50,
   "id": "c688f21c",
   "metadata": {},
   "outputs": [
    {
     "name": "stdout",
     "output_type": "stream",
     "text": [
      "name: Tree, score: [0.52071006 0.49112426 0.49404762 0.5297619  0.5952381 ], mean: 0.5261763877148493\n",
      "Wall time: 63 ms\n"
     ]
    }
   ],
   "source": [
    "%%time\n",
    "model_tree = DecisionTreeClassifier()\n",
    "result_tree = cross_val_score(model_tree, X_pca, y, cv=cv, n_jobs=-1)\n",
    "print(f'name: Tree, score: {result_tree}, mean: {result_tree.mean()}')"
   ]
  },
  {
   "cell_type": "code",
   "execution_count": 51,
   "id": "2258db90",
   "metadata": {},
   "outputs": [
    {
     "name": "stdout",
     "output_type": "stream",
     "text": [
      "name: Tree, score: [0.52662722 0.50295858 0.46428571 0.52380952 0.5952381 ], mean: 0.5225838264299802\n",
      "Wall time: 57 ms\n"
     ]
    }
   ],
   "source": [
    "%%time\n",
    "model_tree = DecisionTreeClassifier()\n",
    "result_tree = cross_val_score(model_tree, X_pca_scaled, y, cv=cv, n_jobs=-1)\n",
    "print(f'name: Tree, score: {result_tree}, mean: {result_tree.mean()}')"
   ]
  },
  {
   "cell_type": "code",
   "execution_count": 52,
   "id": "4d1df1ed",
   "metadata": {},
   "outputs": [],
   "source": [
    "param = {'criterion': ['gini', 'entropy'],\n",
    "         'max_depth': range(2,50)}"
   ]
  },
  {
   "cell_type": "code",
   "execution_count": 53,
   "id": "38904a52",
   "metadata": {},
   "outputs": [
    {
     "name": "stdout",
     "output_type": "stream",
     "text": [
      "Wall time: 1.64 s\n"
     ]
    },
    {
     "data": {
      "text/plain": [
       "({'criterion': 'entropy', 'max_depth': 3}, 0.5985488870104254)"
      ]
     },
     "execution_count": 53,
     "metadata": {},
     "output_type": "execute_result"
    }
   ],
   "source": [
    "%%time\n",
    "grid_search = GridSearchCV(DecisionTreeClassifier(), param,cv=cv, n_jobs=-1)\n",
    "grid_search.fit(X_pca,y)\n",
    "(grid_search.best_params_, grid_search.best_score_)"
   ]
  },
  {
   "cell_type": "code",
   "execution_count": 54,
   "id": "0749b2c5",
   "metadata": {},
   "outputs": [
    {
     "name": "stdout",
     "output_type": "stream",
     "text": [
      "Wall time: 1.5 s\n"
     ]
    },
    {
     "data": {
      "text/plain": [
       "({'criterion': 'entropy', 'max_depth': 3}, 0.5997323189630882)"
      ]
     },
     "execution_count": 54,
     "metadata": {},
     "output_type": "execute_result"
    }
   ],
   "source": [
    "%%time\n",
    "grid_search = GridSearchCV(DecisionTreeClassifier(), param,cv=cv, n_jobs=-1)\n",
    "grid_search.fit(X_pca_scaled,y)\n",
    "(grid_search.best_params_, grid_search.best_score_)"
   ]
  },
  {
   "cell_type": "code",
   "execution_count": 55,
   "id": "b52edfc3",
   "metadata": {},
   "outputs": [],
   "source": [
    "param = {'criterion': ['gini', 'entropy'],\n",
    "         'max_depth': range(2,50),\n",
    "         'min_samples_split': range(2,20),\n",
    "         'min_samples_leaf': range(1,10)}"
   ]
  },
  {
   "cell_type": "code",
   "execution_count": 56,
   "id": "71590e54",
   "metadata": {},
   "outputs": [
    {
     "name": "stdout",
     "output_type": "stream",
     "text": [
      "Wall time: 3min 51s\n"
     ]
    },
    {
     "data": {
      "text/plain": [
       "({'criterion': 'entropy',\n",
       "  'max_depth': 3,\n",
       "  'min_samples_leaf': 1,\n",
       "  'min_samples_split': 6},\n",
       " 0.5997393632009016)"
      ]
     },
     "execution_count": 56,
     "metadata": {},
     "output_type": "execute_result"
    }
   ],
   "source": [
    "%%time\n",
    "grid_search = GridSearchCV(DecisionTreeClassifier(), param,cv=cv, n_jobs=-1)\n",
    "grid_search.fit(X_pca,y)\n",
    "(grid_search.best_params_, grid_search.best_score_)"
   ]
  },
  {
   "cell_type": "code",
   "execution_count": 57,
   "id": "019c7b9e",
   "metadata": {},
   "outputs": [
    {
     "name": "stdout",
     "output_type": "stream",
     "text": [
      "Wall time: 3min 30s\n"
     ]
    },
    {
     "data": {
      "text/plain": [
       "({'criterion': 'entropy',\n",
       "  'max_depth': 3,\n",
       "  'min_samples_leaf': 1,\n",
       "  'min_samples_split': 9},\n",
       " 0.5997323189630882)"
      ]
     },
     "execution_count": 57,
     "metadata": {},
     "output_type": "execute_result"
    }
   ],
   "source": [
    "%%time\n",
    "grid_search = GridSearchCV(DecisionTreeClassifier(), param,cv=cv, n_jobs=-1)\n",
    "grid_search.fit(X_pca_scaled,y)\n",
    "(grid_search.best_params_, grid_search.best_score_)"
   ]
  },
  {
   "cell_type": "markdown",
   "id": "add7c1b9",
   "metadata": {},
   "source": [
    "Все печально, деревья не справились"
   ]
  },
  {
   "cell_type": "markdown",
   "id": "696dd951",
   "metadata": {},
   "source": [
    "<h3>Логистическая регрессия</h3>"
   ]
  },
  {
   "cell_type": "code",
   "execution_count": 58,
   "id": "5388dc5a",
   "metadata": {},
   "outputs": [
    {
     "name": "stdout",
     "output_type": "stream",
     "text": [
      "name: LogisticRegression, score: [0.62130178 0.62130178 0.60714286 0.6547619  0.58333333], mean: 0.6175683291067906\n",
      "Wall time: 202 ms\n"
     ]
    }
   ],
   "source": [
    "%%time\n",
    "model_log = LogisticRegression()\n",
    "result_log = cross_val_score(model_log, X_pca, y, cv=cv, n_jobs=-1)\n",
    "print(f'name: LogisticRegression, score: {result_log}, mean: {result_log.mean()}')"
   ]
  },
  {
   "cell_type": "code",
   "execution_count": 59,
   "id": "8091c6c1",
   "metadata": {},
   "outputs": [
    {
     "name": "stdout",
     "output_type": "stream",
     "text": [
      "name: LogisticRegression, score: [0.62130178 0.62130178 0.60714286 0.6547619  0.58928571], mean: 0.6187588052972668\n",
      "Wall time: 652 ms\n"
     ]
    }
   ],
   "source": [
    "%%time\n",
    "model_log = LogisticRegression()\n",
    "result_log = cross_val_score(model_log, X_pca_scaled, y, cv=cv, n_jobs=-1)\n",
    "print(f'name: LogisticRegression, score: {result_log}, mean: {result_log.mean()}')"
   ]
  },
  {
   "cell_type": "markdown",
   "id": "ab41e18e",
   "metadata": {},
   "source": [
    "не плохо оно выдает, конечно. Подберем параметры."
   ]
  },
  {
   "cell_type": "code",
   "execution_count": 60,
   "id": "de91d032",
   "metadata": {},
   "outputs": [],
   "source": [
    "param = {'C': [10**-3, 10**-2, 10**-1, 10**0, 10**1]}"
   ]
  },
  {
   "cell_type": "code",
   "execution_count": 63,
   "id": "c4e22e59",
   "metadata": {},
   "outputs": [
    {
     "name": "stdout",
     "output_type": "stream",
     "text": [
      "Wall time: 32 ms\n"
     ]
    },
    {
     "data": {
      "text/plain": [
       "({'C': 0.1}, 0.6235207100591716)"
      ]
     },
     "execution_count": 63,
     "metadata": {},
     "output_type": "execute_result"
    }
   ],
   "source": [
    "%%time\n",
    "grid_search = GridSearchCV(LogisticRegression(), param,cv=cv, n_jobs=-1)\n",
    "grid_search.fit(X_pca_scaled,y)\n",
    "(grid_search.best_params_, grid_search.best_score_)"
   ]
  },
  {
   "cell_type": "markdown",
   "id": "05db6527",
   "metadata": {},
   "source": [
    "Я думал будет лучше."
   ]
  },
  {
   "cell_type": "markdown",
   "id": "ac7a993f",
   "metadata": {},
   "source": [
    "<h3>Случайный лес</h3>"
   ]
  },
  {
   "cell_type": "code",
   "execution_count": 64,
   "id": "48627b8e",
   "metadata": {},
   "outputs": [
    {
     "name": "stdout",
     "output_type": "stream",
     "text": [
      "name: RandomForestClassifier, score: [0.60946746 0.58579882 0.61309524 0.6547619  0.58333333], mean: 0.6092913496759651\n",
      "Wall time: 365 ms\n"
     ]
    }
   ],
   "source": [
    "%%time\n",
    "model_rf = RandomForestClassifier()\n",
    "result_fr = cross_val_score(model_rf, X_pca, y, cv=cv, n_jobs=-1)\n",
    "print(f'name: RandomForestClassifier, score: {result_fr}, mean: {result_fr.mean()}')"
   ]
  },
  {
   "cell_type": "code",
   "execution_count": 65,
   "id": "a450af1c",
   "metadata": {},
   "outputs": [
    {
     "name": "stdout",
     "output_type": "stream",
     "text": [
      "name: RandomForestClassifier, score: [0.63905325 0.59171598 0.60119048 0.63690476 0.54166667], mean: 0.6021062271062271\n",
      "Wall time: 359 ms\n"
     ]
    }
   ],
   "source": [
    "%%time\n",
    "model_rf = RandomForestClassifier()\n",
    "result_fr = cross_val_score(model_rf, X_pca_scaled, y, cv=cv, n_jobs=-1)\n",
    "print(f'name: RandomForestClassifier, score: {result_fr}, mean: {result_fr.mean()}')"
   ]
  },
  {
   "cell_type": "code",
   "execution_count": 66,
   "id": "e129fb9f",
   "metadata": {},
   "outputs": [],
   "source": [
    "param = {'n_estimators': [100,200,500,1000,2000],\n",
    "         'criterion': ['gini', 'entropy'],\n",
    "         'max_depth': range(1,51,10)}"
   ]
  },
  {
   "cell_type": "code",
   "execution_count": 67,
   "id": "8421e261",
   "metadata": {},
   "outputs": [
    {
     "name": "stdout",
     "output_type": "stream",
     "text": [
      "Wall time: 1min 14s\n"
     ]
    },
    {
     "data": {
      "text/plain": [
       "({'criterion': 'gini', 'max_depth': 41, 'n_estimators': 100},\n",
       " 0.6270780501549733)"
      ]
     },
     "execution_count": 67,
     "metadata": {},
     "output_type": "execute_result"
    }
   ],
   "source": [
    "%%time\n",
    "grid_search = GridSearchCV(RandomForestClassifier(n_jobs=-1), param,cv=cv, n_jobs=-1)\n",
    "grid_search.fit(X_pca,y)\n",
    "(grid_search.best_params_, grid_search.best_score_)"
   ]
  },
  {
   "cell_type": "code",
   "execution_count": 68,
   "id": "0310ada4",
   "metadata": {},
   "outputs": [
    {
     "name": "stdout",
     "output_type": "stream",
     "text": [
      "Wall time: 1min 14s\n"
     ]
    },
    {
     "data": {
      "text/plain": [
       "({'criterion': 'entropy', 'max_depth': 41, 'n_estimators': 200},\n",
       " 0.6187588052972669)"
      ]
     },
     "execution_count": 68,
     "metadata": {},
     "output_type": "execute_result"
    }
   ],
   "source": [
    "%%time\n",
    "grid_search = GridSearchCV(RandomForestClassifier(n_jobs=-1), param,cv=cv, n_jobs=-1)\n",
    "grid_search.fit(X_pca_scaled,y)\n",
    "(grid_search.best_params_, grid_search.best_score_)"
   ]
  },
  {
   "cell_type": "markdown",
   "id": "fa65f943",
   "metadata": {},
   "source": [
    "Еще поподбираем параметры для случайного леса с pca без стандартизации"
   ]
  },
  {
   "cell_type": "code",
   "execution_count": 69,
   "id": "ba8be6b9",
   "metadata": {},
   "outputs": [],
   "source": [
    "param = {'n_estimators': [100,200,500,1000],\n",
    "         'criterion': ['gini'],\n",
    "         'max_depth': range(10,41,5),\n",
    "         'min_samples_split': range(2,20,2),\n",
    "         'min_samples_leaf': range(1,10,2)}"
   ]
  },
  {
   "cell_type": "code",
   "execution_count": 70,
   "id": "b1a83a99",
   "metadata": {},
   "outputs": [
    {
     "name": "stdout",
     "output_type": "stream",
     "text": [
      "Wall time: 14min 21s\n"
     ]
    },
    {
     "data": {
      "text/plain": [
       "({'criterion': 'gini',\n",
       "  'max_depth': 15,\n",
       "  'min_samples_leaf': 5,\n",
       "  'min_samples_split': 18,\n",
       "  'n_estimators': 100},\n",
       " 0.6294096928712314)"
      ]
     },
     "execution_count": 70,
     "metadata": {},
     "output_type": "execute_result"
    }
   ],
   "source": [
    "%%time\n",
    "grid_search = GridSearchCV(RandomForestClassifier(n_jobs=-1), param,cv=cv, n_jobs=-1)\n",
    "grid_search.fit(X_pca,y)\n",
    "(grid_search.best_params_, grid_search.best_score_)"
   ]
  },
  {
   "cell_type": "markdown",
   "id": "ff9c5284",
   "metadata": {},
   "source": [
    "Как мы видим PCA не улучшил Случайный лес"
   ]
  },
  {
   "cell_type": "markdown",
   "id": "61cff71a",
   "metadata": {},
   "source": [
    "<h3>Градиентный бустинг</h3>"
   ]
  },
  {
   "cell_type": "code",
   "execution_count": 71,
   "id": "86bf0bf6",
   "metadata": {},
   "outputs": [
    {
     "name": "stdout",
     "output_type": "stream",
     "text": [
      "name: XGBClassifier, score: [0.56213018 0.56804734 0.57142857 0.58333333 0.60119048], mean: 0.5772259791490562\n",
      "Wall time: 1.96 s\n"
     ]
    }
   ],
   "source": [
    "%%time\n",
    "model_xgb = XGBClassifier()\n",
    "result_xgb = cross_val_score(model_xgb, X_pca, y, cv=cv, n_jobs=-1)\n",
    "print(f'name: XGBClassifier, score: {result_xgb}, mean: {result_xgb.mean()}')"
   ]
  },
  {
   "cell_type": "code",
   "execution_count": 72,
   "id": "13c17468",
   "metadata": {},
   "outputs": [
    {
     "name": "stdout",
     "output_type": "stream",
     "text": [
      "name: XGBClassifier, score: [0.56213018 0.56804734 0.57142857 0.58333333 0.60119048], mean: 0.5772259791490562\n",
      "Wall time: 1.53 s\n"
     ]
    }
   ],
   "source": [
    "%%time\n",
    "model_xgb = XGBClassifier()\n",
    "result_xgb = cross_val_score(model_xgb, X_pca_scaled, y, cv=cv, n_jobs=-1)\n",
    "print(f'name: XGBClassifier, score: {result_xgb}, mean: {result_xgb.mean()}')"
   ]
  },
  {
   "cell_type": "markdown",
   "id": "1ebb8e18",
   "metadata": {},
   "source": [
    "В градиентном бустинге вообще очень грустно"
   ]
  },
  {
   "cell_type": "code",
   "execution_count": 74,
   "id": "1a0c25bf",
   "metadata": {},
   "outputs": [],
   "source": [
    "param = {'n_estimators': [100,200],\n",
    "         'max_depth': range(10,51,2)}"
   ]
  },
  {
   "cell_type": "code",
   "execution_count": 75,
   "id": "7d2077a9",
   "metadata": {},
   "outputs": [
    {
     "name": "stdout",
     "output_type": "stream",
     "text": [
      "[18:07:34] WARNING: ..\\src\\learner.cc:1115: Starting in XGBoost 1.3.0, the default evaluation metric used with the objective 'binary:logistic' was changed from 'error' to 'logloss'. Explicitly set eval_metric if you'd like to restore the old behavior.\n",
      "Wall time: 20.9 s\n"
     ]
    },
    {
     "data": {
      "text/plain": [
       "({'max_depth': 16, 'n_estimators': 200}, 0.599774584389969)"
      ]
     },
     "execution_count": 75,
     "metadata": {},
     "output_type": "execute_result"
    }
   ],
   "source": [
    "%%time\n",
    "grid_search = GridSearchCV(XGBClassifier(n_jobs=-1), param,cv=cv, n_jobs=-1)\n",
    "grid_search.fit(X_pca,y)\n",
    "(grid_search.best_params_, grid_search.best_score_)"
   ]
  },
  {
   "cell_type": "code",
   "execution_count": 76,
   "id": "c8fbf792",
   "metadata": {},
   "outputs": [
    {
     "name": "stdout",
     "output_type": "stream",
     "text": [
      "[18:08:07] WARNING: ..\\src\\learner.cc:1115: Starting in XGBoost 1.3.0, the default evaluation metric used with the objective 'binary:logistic' was changed from 'error' to 'logloss'. Explicitly set eval_metric if you'd like to restore the old behavior.\n",
      "Wall time: 20.3 s\n"
     ]
    },
    {
     "data": {
      "text/plain": [
       "({'max_depth': 16, 'n_estimators': 200}, 0.599774584389969)"
      ]
     },
     "execution_count": 76,
     "metadata": {},
     "output_type": "execute_result"
    }
   ],
   "source": [
    "%%time\n",
    "grid_search = GridSearchCV(XGBClassifier(n_jobs=-1), param,cv=cv, n_jobs=-1)\n",
    "grid_search.fit(X_pca_scaled,y)\n",
    "(grid_search.best_params_, grid_search.best_score_)"
   ]
  },
  {
   "cell_type": "markdown",
   "id": "c27a8744",
   "metadata": {},
   "source": [
    "Все печально. PCA только ухудшил градиентный бустинг"
   ]
  },
  {
   "cell_type": "code",
   "execution_count": null,
   "id": "d593125e",
   "metadata": {},
   "outputs": [],
   "source": []
  }
 ],
 "metadata": {
  "kernelspec": {
   "display_name": "Python 3",
   "language": "python",
   "name": "python3"
  },
  "language_info": {
   "codemirror_mode": {
    "name": "ipython",
    "version": 3
   },
   "file_extension": ".py",
   "mimetype": "text/x-python",
   "name": "python",
   "nbconvert_exporter": "python",
   "pygments_lexer": "ipython3",
   "version": "3.8.5"
  }
 },
 "nbformat": 4,
 "nbformat_minor": 5
}
