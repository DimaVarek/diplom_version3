{
 "cells": [
  {
   "cell_type": "code",
   "execution_count": 2,
   "id": "f37dbf1e",
   "metadata": {},
   "outputs": [],
   "source": [
    "import numpy as np\n",
    "import pandas as pd\n",
    "from sklearn.model_selection import KFold\n",
    "from sklearn.model_selection import cross_val_score\n",
    "from sklearn.model_selection import train_test_split\n",
    "from sklearn.preprocessing import LabelEncoder, RobustScaler, StandardScaler\n",
    "from sklearn.preprocessing import PowerTransformer\n",
    "\n",
    "import matplotlib.pyplot as plt\n",
    "plt.rcParams['figure.figsize'] = [12, 8]\n",
    "plt.rcParams['figure.dpi'] = 100\n",
    "\n",
    "from sklearn.dummy import DummyClassifier\n",
    "from sklearn.linear_model import Perceptron\n",
    "from sklearn.svm import SVC\n",
    "from sklearn.linear_model import LogisticRegression\n",
    "from sklearn.tree import DecisionTreeClassifier\n",
    "from sklearn.ensemble import RandomForestClassifier\n",
    "from xgboost import XGBClassifier\n",
    "\n",
    "from sklearn.model_selection import GridSearchCV\n",
    "\n",
    "import warnings\n",
    "warnings.filterwarnings('ignore')"
   ]
  },
  {
   "cell_type": "markdown",
   "id": "742f0cd4",
   "metadata": {},
   "source": [
    "<h2>Предобработка данных</h2>"
   ]
  },
  {
   "cell_type": "code",
   "execution_count": 3,
   "id": "26166ea5",
   "metadata": {},
   "outputs": [
    {
     "name": "stdout",
     "output_type": "stream",
     "text": [
      "<class 'pandas.core.frame.DataFrame'>\n",
      "Int64Index: 842 entries, 0 to 844\n",
      "Columns: 1029 entries, version to 5_map\n",
      "dtypes: float64(339), int64(679), object(11)\n",
      "memory usage: 6.6+ MB\n"
     ]
    }
   ],
   "source": [
    "df = pd.read_csv('../data/df_games.csv')\n",
    "df = df.drop(df[(df.best_of == 5) & (df['5_map'] == 'did not play')].index.values, axis=0)\n",
    "df.info()"
   ]
  },
  {
   "cell_type": "code",
   "execution_count": 4,
   "id": "8d609347",
   "metadata": {},
   "outputs": [
    {
     "data": {
      "text/html": [
       "<div>\n",
       "<style scoped>\n",
       "    .dataframe tbody tr th:only-of-type {\n",
       "        vertical-align: middle;\n",
       "    }\n",
       "\n",
       "    .dataframe tbody tr th {\n",
       "        vertical-align: top;\n",
       "    }\n",
       "\n",
       "    .dataframe thead th {\n",
       "        text-align: right;\n",
       "    }\n",
       "</style>\n",
       "<table border=\"1\" class=\"dataframe\">\n",
       "  <thead>\n",
       "    <tr style=\"text-align: right;\">\n",
       "      <th></th>\n",
       "      <th>team1_world_rank</th>\n",
       "      <th>team2_world_rank</th>\n",
       "      <th>1_47_top5_Times played</th>\n",
       "      <th>1_47_top5_wins</th>\n",
       "      <th>1_47_top5_draws</th>\n",
       "      <th>1_47_top5_losses</th>\n",
       "      <th>1_47_top5_Total rounds played</th>\n",
       "      <th>1_47_top5_Rounds won</th>\n",
       "      <th>1_47_top5_Win percent</th>\n",
       "      <th>1_47_top5_Pistol rounds</th>\n",
       "      <th>...</th>\n",
       "      <th>2_46_topAll_Pistol round win percent</th>\n",
       "      <th>2_46_topAll_CT round win percent</th>\n",
       "      <th>2_46_topAll_T round win percent</th>\n",
       "      <th>result</th>\n",
       "      <th>best_of</th>\n",
       "      <th>1_map</th>\n",
       "      <th>2_map</th>\n",
       "      <th>3_map</th>\n",
       "      <th>4_map</th>\n",
       "      <th>5_map</th>\n",
       "    </tr>\n",
       "  </thead>\n",
       "  <tbody>\n",
       "    <tr>\n",
       "      <th>0</th>\n",
       "      <td>28</td>\n",
       "      <td>46</td>\n",
       "      <td>0</td>\n",
       "      <td>0</td>\n",
       "      <td>0</td>\n",
       "      <td>0</td>\n",
       "      <td>0</td>\n",
       "      <td>0</td>\n",
       "      <td>0.0</td>\n",
       "      <td>0</td>\n",
       "      <td>...</td>\n",
       "      <td>0.5</td>\n",
       "      <td>0.590</td>\n",
       "      <td>0.526</td>\n",
       "      <td>-1</td>\n",
       "      <td>3</td>\n",
       "      <td>Nuke</td>\n",
       "      <td>Ancient</td>\n",
       "      <td>Inferno</td>\n",
       "      <td>did not play</td>\n",
       "      <td>did not play</td>\n",
       "    </tr>\n",
       "    <tr>\n",
       "      <th>1</th>\n",
       "      <td>1</td>\n",
       "      <td>223</td>\n",
       "      <td>2</td>\n",
       "      <td>2</td>\n",
       "      <td>0</td>\n",
       "      <td>0</td>\n",
       "      <td>54</td>\n",
       "      <td>32</td>\n",
       "      <td>1.0</td>\n",
       "      <td>4</td>\n",
       "      <td>...</td>\n",
       "      <td>0.5</td>\n",
       "      <td>0.448</td>\n",
       "      <td>0.552</td>\n",
       "      <td>1</td>\n",
       "      <td>3</td>\n",
       "      <td>Mirage</td>\n",
       "      <td>Ancient</td>\n",
       "      <td>Inferno</td>\n",
       "      <td>did not play</td>\n",
       "      <td>did not play</td>\n",
       "    </tr>\n",
       "    <tr>\n",
       "      <th>2</th>\n",
       "      <td>14</td>\n",
       "      <td>101</td>\n",
       "      <td>0</td>\n",
       "      <td>0</td>\n",
       "      <td>0</td>\n",
       "      <td>0</td>\n",
       "      <td>0</td>\n",
       "      <td>0</td>\n",
       "      <td>0.0</td>\n",
       "      <td>0</td>\n",
       "      <td>...</td>\n",
       "      <td>0.0</td>\n",
       "      <td>0.000</td>\n",
       "      <td>0.000</td>\n",
       "      <td>1</td>\n",
       "      <td>3</td>\n",
       "      <td>Overpass</td>\n",
       "      <td>Dust2</td>\n",
       "      <td>Vertigo</td>\n",
       "      <td>did not play</td>\n",
       "      <td>did not play</td>\n",
       "    </tr>\n",
       "    <tr>\n",
       "      <th>3</th>\n",
       "      <td>3</td>\n",
       "      <td>46</td>\n",
       "      <td>0</td>\n",
       "      <td>0</td>\n",
       "      <td>0</td>\n",
       "      <td>0</td>\n",
       "      <td>0</td>\n",
       "      <td>0</td>\n",
       "      <td>0.0</td>\n",
       "      <td>0</td>\n",
       "      <td>...</td>\n",
       "      <td>0.5</td>\n",
       "      <td>0.590</td>\n",
       "      <td>0.526</td>\n",
       "      <td>1</td>\n",
       "      <td>3</td>\n",
       "      <td>Dust2</td>\n",
       "      <td>Inferno</td>\n",
       "      <td>Nuke</td>\n",
       "      <td>did not play</td>\n",
       "      <td>did not play</td>\n",
       "    </tr>\n",
       "    <tr>\n",
       "      <th>4</th>\n",
       "      <td>7</td>\n",
       "      <td>1</td>\n",
       "      <td>0</td>\n",
       "      <td>0</td>\n",
       "      <td>0</td>\n",
       "      <td>0</td>\n",
       "      <td>0</td>\n",
       "      <td>0</td>\n",
       "      <td>0.0</td>\n",
       "      <td>0</td>\n",
       "      <td>...</td>\n",
       "      <td>0.0</td>\n",
       "      <td>0.000</td>\n",
       "      <td>0.000</td>\n",
       "      <td>1</td>\n",
       "      <td>3</td>\n",
       "      <td>Nuke</td>\n",
       "      <td>Overpass</td>\n",
       "      <td>Mirage</td>\n",
       "      <td>did not play</td>\n",
       "      <td>did not play</td>\n",
       "    </tr>\n",
       "  </tbody>\n",
       "</table>\n",
       "<p>5 rows × 1017 columns</p>\n",
       "</div>"
      ],
      "text/plain": [
       "   team1_world_rank  team2_world_rank  1_47_top5_Times played  1_47_top5_wins  \\\n",
       "0                28                46                       0               0   \n",
       "1                 1               223                       2               2   \n",
       "2                14               101                       0               0   \n",
       "3                 3                46                       0               0   \n",
       "4                 7                 1                       0               0   \n",
       "\n",
       "   1_47_top5_draws  1_47_top5_losses  1_47_top5_Total rounds played  \\\n",
       "0                0                 0                              0   \n",
       "1                0                 0                             54   \n",
       "2                0                 0                              0   \n",
       "3                0                 0                              0   \n",
       "4                0                 0                              0   \n",
       "\n",
       "   1_47_top5_Rounds won  1_47_top5_Win percent  1_47_top5_Pistol rounds  ...  \\\n",
       "0                     0                    0.0                        0  ...   \n",
       "1                    32                    1.0                        4  ...   \n",
       "2                     0                    0.0                        0  ...   \n",
       "3                     0                    0.0                        0  ...   \n",
       "4                     0                    0.0                        0  ...   \n",
       "\n",
       "   2_46_topAll_Pistol round win percent  2_46_topAll_CT round win percent  \\\n",
       "0                                   0.5                             0.590   \n",
       "1                                   0.5                             0.448   \n",
       "2                                   0.0                             0.000   \n",
       "3                                   0.5                             0.590   \n",
       "4                                   0.0                             0.000   \n",
       "\n",
       "   2_46_topAll_T round win percent  result  best_of     1_map     2_map  \\\n",
       "0                            0.526      -1        3      Nuke   Ancient   \n",
       "1                            0.552       1        3    Mirage   Ancient   \n",
       "2                            0.000       1        3  Overpass     Dust2   \n",
       "3                            0.526       1        3     Dust2   Inferno   \n",
       "4                            0.000       1        3      Nuke  Overpass   \n",
       "\n",
       "     3_map         4_map         5_map  \n",
       "0  Inferno  did not play  did not play  \n",
       "1  Inferno  did not play  did not play  \n",
       "2  Vertigo  did not play  did not play  \n",
       "3     Nuke  did not play  did not play  \n",
       "4   Mirage  did not play  did not play  \n",
       "\n",
       "[5 rows x 1017 columns]"
      ]
     },
     "execution_count": 4,
     "metadata": {},
     "output_type": "execute_result"
    }
   ],
   "source": [
    "df = df.drop(['version', 'url', 'number_of_confrontation', 'datetime1', 'ratio1', 'ratio2', 'name1', 'number1', 'name2', 'number2',\n",
    "         'team1_stat_url', 'team2_stat_url'], axis=1)\n",
    "df.head()"
   ]
  },
  {
   "cell_type": "code",
   "execution_count": 5,
   "id": "4a39d35c",
   "metadata": {},
   "outputs": [],
   "source": [
    "maps_decoder = LabelEncoder()\n",
    "maps_decoder.fit(df['3_map'])\n",
    "for num_map in range(1,6):\n",
    "    df[f'{num_map}_map'] = maps_decoder.transform(df[f'{num_map}_map'])"
   ]
  },
  {
   "cell_type": "code",
   "execution_count": 6,
   "id": "2cf51a16",
   "metadata": {},
   "outputs": [],
   "source": [
    "cv = KFold(shuffle=True, random_state=1)\n",
    "X = df.drop('result', axis=1)\n",
    "y = df['result']"
   ]
  },
  {
   "cell_type": "code",
   "execution_count": 7,
   "id": "c1e042da",
   "metadata": {},
   "outputs": [
    {
     "data": {
      "text/html": [
       "<div>\n",
       "<style scoped>\n",
       "    .dataframe tbody tr th:only-of-type {\n",
       "        vertical-align: middle;\n",
       "    }\n",
       "\n",
       "    .dataframe tbody tr th {\n",
       "        vertical-align: top;\n",
       "    }\n",
       "\n",
       "    .dataframe thead th {\n",
       "        text-align: right;\n",
       "    }\n",
       "</style>\n",
       "<table border=\"1\" class=\"dataframe\">\n",
       "  <thead>\n",
       "    <tr style=\"text-align: right;\">\n",
       "      <th></th>\n",
       "      <th>team1_world_rank</th>\n",
       "      <th>team2_world_rank</th>\n",
       "      <th>1_47_top5_Times played</th>\n",
       "      <th>1_47_top5_wins</th>\n",
       "      <th>1_47_top5_draws</th>\n",
       "      <th>1_47_top5_losses</th>\n",
       "      <th>1_47_top5_Total rounds played</th>\n",
       "      <th>1_47_top5_Rounds won</th>\n",
       "      <th>1_47_top5_Win percent</th>\n",
       "      <th>1_47_top5_Pistol rounds</th>\n",
       "      <th>...</th>\n",
       "      <th>2_46_topAll_Pistol rounds won</th>\n",
       "      <th>2_46_topAll_Pistol round win percent</th>\n",
       "      <th>2_46_topAll_CT round win percent</th>\n",
       "      <th>2_46_topAll_T round win percent</th>\n",
       "      <th>best_of</th>\n",
       "      <th>1_map</th>\n",
       "      <th>2_map</th>\n",
       "      <th>3_map</th>\n",
       "      <th>4_map</th>\n",
       "      <th>5_map</th>\n",
       "    </tr>\n",
       "  </thead>\n",
       "  <tbody>\n",
       "    <tr>\n",
       "      <th>0</th>\n",
       "      <td>-0.456001</td>\n",
       "      <td>-0.353612</td>\n",
       "      <td>-0.201968</td>\n",
       "      <td>-0.147799</td>\n",
       "      <td>0.0</td>\n",
       "      <td>-0.147799</td>\n",
       "      <td>-0.201968</td>\n",
       "      <td>-0.201968</td>\n",
       "      <td>-0.147799</td>\n",
       "      <td>-0.201968</td>\n",
       "      <td>...</td>\n",
       "      <td>0.254303</td>\n",
       "      <td>0.328579</td>\n",
       "      <td>0.714532</td>\n",
       "      <td>0.616862</td>\n",
       "      <td>0.404572</td>\n",
       "      <td>0.536579</td>\n",
       "      <td>-1.739089</td>\n",
       "      <td>-0.743002</td>\n",
       "      <td>0.09156</td>\n",
       "      <td>0.09156</td>\n",
       "    </tr>\n",
       "    <tr>\n",
       "      <th>1</th>\n",
       "      <td>-2.144222</td>\n",
       "      <td>1.645044</td>\n",
       "      <td>4.951278</td>\n",
       "      <td>6.765928</td>\n",
       "      <td>0.0</td>\n",
       "      <td>-0.147799</td>\n",
       "      <td>4.951278</td>\n",
       "      <td>4.951278</td>\n",
       "      <td>6.765928</td>\n",
       "      <td>4.951278</td>\n",
       "      <td>...</td>\n",
       "      <td>-0.285971</td>\n",
       "      <td>0.328579</td>\n",
       "      <td>-0.033227</td>\n",
       "      <td>0.768101</td>\n",
       "      <td>0.404572</td>\n",
       "      <td>0.031579</td>\n",
       "      <td>-1.739089</td>\n",
       "      <td>-0.743002</td>\n",
       "      <td>0.09156</td>\n",
       "      <td>0.09156</td>\n",
       "    </tr>\n",
       "    <tr>\n",
       "      <th>2</th>\n",
       "      <td>-0.972160</td>\n",
       "      <td>0.509862</td>\n",
       "      <td>-0.201968</td>\n",
       "      <td>-0.147799</td>\n",
       "      <td>0.0</td>\n",
       "      <td>-0.147799</td>\n",
       "      <td>-0.201968</td>\n",
       "      <td>-0.201968</td>\n",
       "      <td>-0.147799</td>\n",
       "      <td>-0.201968</td>\n",
       "      <td>...</td>\n",
       "      <td>-1.374558</td>\n",
       "      <td>-1.448010</td>\n",
       "      <td>-1.554966</td>\n",
       "      <td>-1.560098</td>\n",
       "      <td>0.404572</td>\n",
       "      <td>1.020583</td>\n",
       "      <td>-1.203108</td>\n",
       "      <td>0.905083</td>\n",
       "      <td>0.09156</td>\n",
       "      <td>0.09156</td>\n",
       "    </tr>\n",
       "    <tr>\n",
       "      <th>3</th>\n",
       "      <td>-1.800114</td>\n",
       "      <td>-0.353612</td>\n",
       "      <td>-0.201968</td>\n",
       "      <td>-0.147799</td>\n",
       "      <td>0.0</td>\n",
       "      <td>-0.147799</td>\n",
       "      <td>-0.201968</td>\n",
       "      <td>-0.201968</td>\n",
       "      <td>-0.147799</td>\n",
       "      <td>-0.201968</td>\n",
       "      <td>...</td>\n",
       "      <td>0.254303</td>\n",
       "      <td>0.328579</td>\n",
       "      <td>0.714532</td>\n",
       "      <td>0.616862</td>\n",
       "      <td>0.404572</td>\n",
       "      <td>-1.073353</td>\n",
       "      <td>-0.725354</td>\n",
       "      <td>0.107335</td>\n",
       "      <td>0.09156</td>\n",
       "      <td>0.09156</td>\n",
       "    </tr>\n",
       "    <tr>\n",
       "      <th>4</th>\n",
       "      <td>-1.397067</td>\n",
       "      <td>-2.268794</td>\n",
       "      <td>-0.201968</td>\n",
       "      <td>-0.147799</td>\n",
       "      <td>0.0</td>\n",
       "      <td>-0.147799</td>\n",
       "      <td>-0.201968</td>\n",
       "      <td>-0.201968</td>\n",
       "      <td>-0.147799</td>\n",
       "      <td>-0.201968</td>\n",
       "      <td>...</td>\n",
       "      <td>-1.374558</td>\n",
       "      <td>-1.448010</td>\n",
       "      <td>-1.554966</td>\n",
       "      <td>-1.560098</td>\n",
       "      <td>0.404572</td>\n",
       "      <td>0.536579</td>\n",
       "      <td>0.539275</td>\n",
       "      <td>-0.309511</td>\n",
       "      <td>0.09156</td>\n",
       "      <td>0.09156</td>\n",
       "    </tr>\n",
       "  </tbody>\n",
       "</table>\n",
       "<p>5 rows × 1016 columns</p>\n",
       "</div>"
      ],
      "text/plain": [
       "   team1_world_rank  team2_world_rank  1_47_top5_Times played  1_47_top5_wins  \\\n",
       "0         -0.456001         -0.353612               -0.201968       -0.147799   \n",
       "1         -2.144222          1.645044                4.951278        6.765928   \n",
       "2         -0.972160          0.509862               -0.201968       -0.147799   \n",
       "3         -1.800114         -0.353612               -0.201968       -0.147799   \n",
       "4         -1.397067         -2.268794               -0.201968       -0.147799   \n",
       "\n",
       "   1_47_top5_draws  1_47_top5_losses  1_47_top5_Total rounds played  \\\n",
       "0              0.0         -0.147799                      -0.201968   \n",
       "1              0.0         -0.147799                       4.951278   \n",
       "2              0.0         -0.147799                      -0.201968   \n",
       "3              0.0         -0.147799                      -0.201968   \n",
       "4              0.0         -0.147799                      -0.201968   \n",
       "\n",
       "   1_47_top5_Rounds won  1_47_top5_Win percent  1_47_top5_Pistol rounds  ...  \\\n",
       "0             -0.201968              -0.147799                -0.201968  ...   \n",
       "1              4.951278               6.765928                 4.951278  ...   \n",
       "2             -0.201968              -0.147799                -0.201968  ...   \n",
       "3             -0.201968              -0.147799                -0.201968  ...   \n",
       "4             -0.201968              -0.147799                -0.201968  ...   \n",
       "\n",
       "   2_46_topAll_Pistol rounds won  2_46_topAll_Pistol round win percent  \\\n",
       "0                       0.254303                              0.328579   \n",
       "1                      -0.285971                              0.328579   \n",
       "2                      -1.374558                             -1.448010   \n",
       "3                       0.254303                              0.328579   \n",
       "4                      -1.374558                             -1.448010   \n",
       "\n",
       "   2_46_topAll_CT round win percent  2_46_topAll_T round win percent  \\\n",
       "0                          0.714532                         0.616862   \n",
       "1                         -0.033227                         0.768101   \n",
       "2                         -1.554966                        -1.560098   \n",
       "3                          0.714532                         0.616862   \n",
       "4                         -1.554966                        -1.560098   \n",
       "\n",
       "    best_of     1_map     2_map     3_map    4_map    5_map  \n",
       "0  0.404572  0.536579 -1.739089 -0.743002  0.09156  0.09156  \n",
       "1  0.404572  0.031579 -1.739089 -0.743002  0.09156  0.09156  \n",
       "2  0.404572  1.020583 -1.203108  0.905083  0.09156  0.09156  \n",
       "3  0.404572 -1.073353 -0.725354  0.107335  0.09156  0.09156  \n",
       "4  0.404572  0.536579  0.539275 -0.309511  0.09156  0.09156  \n",
       "\n",
       "[5 rows x 1016 columns]"
      ]
     },
     "execution_count": 7,
     "metadata": {},
     "output_type": "execute_result"
    }
   ],
   "source": [
    "X_norm = pd.DataFrame()\n",
    "transform = PowerTransformer()\n",
    "for i in X.columns:\n",
    "    X_norm[i] = transform.fit_transform(np.array(X[i]).reshape(-1, 1)).reshape(1, -1)[0]\n",
    "X_norm.head()"
   ]
  },
  {
   "cell_type": "code",
   "execution_count": 9,
   "id": "d8e67d57",
   "metadata": {},
   "outputs": [],
   "source": [
    "X_norm.head().iloc[:,:10].to_excel('norm.xlsx')"
   ]
  },
  {
   "cell_type": "markdown",
   "id": "ddb099b4",
   "metadata": {},
   "source": [
    "<h2>Обучение моделей. Сравнение результатов.</h2>"
   ]
  },
  {
   "cell_type": "code",
   "execution_count": 39,
   "id": "44275007",
   "metadata": {},
   "outputs": [
    {
     "name": "stdout",
     "output_type": "stream",
     "text": [
      "name: Dummy, score: [0.59763314 0.55621302 0.5297619  0.58333333 0.56547619], mean: 0.5664835164835165\n"
     ]
    }
   ],
   "source": [
    "model_dummy = DummyClassifier(strategy=\"most_frequent\")\n",
    "result_dummy = cross_val_score(model_dummy, X_norm, y, cv=cv)\n",
    "print(f'name: Dummy, score: {result_dummy}, mean: {result_dummy.mean()}')"
   ]
  },
  {
   "cell_type": "markdown",
   "id": "652edf2d",
   "metadata": {},
   "source": [
    "<h3>Ошибка перцептрона</h3> "
   ]
  },
  {
   "cell_type": "code",
   "execution_count": 41,
   "id": "2708ad0f",
   "metadata": {},
   "outputs": [
    {
     "name": "stdout",
     "output_type": "stream",
     "text": [
      "name: Perceptron, score: [0.58579882 0.60946746 0.60714286 0.5952381  0.61904762], mean: 0.6033389687235842\n"
     ]
    }
   ],
   "source": [
    "model_perceptron = Perceptron()\n",
    "result_perceptron = cross_val_score(model_perceptron, X_norm, y, cv=cv)\n",
    "print(f'name: Perceptron, score: {result_perceptron}, mean: {result_perceptron.mean()}')"
   ]
  },
  {
   "cell_type": "code",
   "execution_count": 44,
   "id": "e9d71496",
   "metadata": {},
   "outputs": [],
   "source": [
    "param = {'penalty': ['l2', 'l1','none'],\n",
    "         'alpha': [10**-6, 10**-5, 10**-4, 10**-3, 10**-2, 10**-1, 10**0, 10**1, 10**2]}"
   ]
  },
  {
   "cell_type": "code",
   "execution_count": 45,
   "id": "8c903623",
   "metadata": {},
   "outputs": [
    {
     "name": "stdout",
     "output_type": "stream",
     "text": [
      "Wall time: 1.11 s\n"
     ]
    },
    {
     "data": {
      "text/plain": [
       "({'alpha': 1e-06, 'penalty': 'none'}, 0.6033389687235842)"
      ]
     },
     "execution_count": 45,
     "metadata": {},
     "output_type": "execute_result"
    }
   ],
   "source": [
    "%%time\n",
    "grid_search = GridSearchCV(Perceptron(), param,cv=cv, n_jobs=-1)\n",
    "grid_search.fit(X_norm,y)\n",
    "(grid_search.best_params_, grid_search.best_score_)"
   ]
  },
  {
   "cell_type": "code",
   "execution_count": 46,
   "id": "87af926b",
   "metadata": {},
   "outputs": [
    {
     "data": {
      "text/html": [
       "<div>\n",
       "<style scoped>\n",
       "    .dataframe tbody tr th:only-of-type {\n",
       "        vertical-align: middle;\n",
       "    }\n",
       "\n",
       "    .dataframe tbody tr th {\n",
       "        vertical-align: top;\n",
       "    }\n",
       "\n",
       "    .dataframe thead th {\n",
       "        text-align: right;\n",
       "    }\n",
       "</style>\n",
       "<table border=\"1\" class=\"dataframe\">\n",
       "  <thead>\n",
       "    <tr style=\"text-align: right;\">\n",
       "      <th></th>\n",
       "      <th>param_alpha</th>\n",
       "      <th>param_penalty</th>\n",
       "      <th>params</th>\n",
       "      <th>split0_test_score</th>\n",
       "      <th>split1_test_score</th>\n",
       "      <th>split2_test_score</th>\n",
       "      <th>split3_test_score</th>\n",
       "      <th>split4_test_score</th>\n",
       "      <th>mean_test_score</th>\n",
       "      <th>std_test_score</th>\n",
       "      <th>rank_test_score</th>\n",
       "    </tr>\n",
       "  </thead>\n",
       "  <tbody>\n",
       "    <tr>\n",
       "      <th>26</th>\n",
       "      <td>100</td>\n",
       "      <td>none</td>\n",
       "      <td>{'alpha': 100, 'penalty': 'none'}</td>\n",
       "      <td>0.585799</td>\n",
       "      <td>0.609467</td>\n",
       "      <td>0.607143</td>\n",
       "      <td>0.595238</td>\n",
       "      <td>0.619048</td>\n",
       "      <td>0.603339</td>\n",
       "      <td>0.011594</td>\n",
       "      <td>1</td>\n",
       "    </tr>\n",
       "    <tr>\n",
       "      <th>11</th>\n",
       "      <td>0.001</td>\n",
       "      <td>none</td>\n",
       "      <td>{'alpha': 0.001, 'penalty': 'none'}</td>\n",
       "      <td>0.585799</td>\n",
       "      <td>0.609467</td>\n",
       "      <td>0.607143</td>\n",
       "      <td>0.595238</td>\n",
       "      <td>0.619048</td>\n",
       "      <td>0.603339</td>\n",
       "      <td>0.011594</td>\n",
       "      <td>1</td>\n",
       "    </tr>\n",
       "    <tr>\n",
       "      <th>2</th>\n",
       "      <td>1e-06</td>\n",
       "      <td>none</td>\n",
       "      <td>{'alpha': 1e-06, 'penalty': 'none'}</td>\n",
       "      <td>0.585799</td>\n",
       "      <td>0.609467</td>\n",
       "      <td>0.607143</td>\n",
       "      <td>0.595238</td>\n",
       "      <td>0.619048</td>\n",
       "      <td>0.603339</td>\n",
       "      <td>0.011594</td>\n",
       "      <td>1</td>\n",
       "    </tr>\n",
       "    <tr>\n",
       "      <th>23</th>\n",
       "      <td>10</td>\n",
       "      <td>none</td>\n",
       "      <td>{'alpha': 10, 'penalty': 'none'}</td>\n",
       "      <td>0.585799</td>\n",
       "      <td>0.609467</td>\n",
       "      <td>0.607143</td>\n",
       "      <td>0.595238</td>\n",
       "      <td>0.619048</td>\n",
       "      <td>0.603339</td>\n",
       "      <td>0.011594</td>\n",
       "      <td>1</td>\n",
       "    </tr>\n",
       "    <tr>\n",
       "      <th>20</th>\n",
       "      <td>1</td>\n",
       "      <td>none</td>\n",
       "      <td>{'alpha': 1, 'penalty': 'none'}</td>\n",
       "      <td>0.585799</td>\n",
       "      <td>0.609467</td>\n",
       "      <td>0.607143</td>\n",
       "      <td>0.595238</td>\n",
       "      <td>0.619048</td>\n",
       "      <td>0.603339</td>\n",
       "      <td>0.011594</td>\n",
       "      <td>1</td>\n",
       "    </tr>\n",
       "  </tbody>\n",
       "</table>\n",
       "</div>"
      ],
      "text/plain": [
       "   param_alpha param_penalty                               params  \\\n",
       "26         100          none    {'alpha': 100, 'penalty': 'none'}   \n",
       "11       0.001          none  {'alpha': 0.001, 'penalty': 'none'}   \n",
       "2        1e-06          none  {'alpha': 1e-06, 'penalty': 'none'}   \n",
       "23          10          none     {'alpha': 10, 'penalty': 'none'}   \n",
       "20           1          none      {'alpha': 1, 'penalty': 'none'}   \n",
       "\n",
       "    split0_test_score  split1_test_score  split2_test_score  \\\n",
       "26           0.585799           0.609467           0.607143   \n",
       "11           0.585799           0.609467           0.607143   \n",
       "2            0.585799           0.609467           0.607143   \n",
       "23           0.585799           0.609467           0.607143   \n",
       "20           0.585799           0.609467           0.607143   \n",
       "\n",
       "    split3_test_score  split4_test_score  mean_test_score  std_test_score  \\\n",
       "26           0.595238           0.619048         0.603339        0.011594   \n",
       "11           0.595238           0.619048         0.603339        0.011594   \n",
       "2            0.595238           0.619048         0.603339        0.011594   \n",
       "23           0.595238           0.619048         0.603339        0.011594   \n",
       "20           0.595238           0.619048         0.603339        0.011594   \n",
       "\n",
       "    rank_test_score  \n",
       "26                1  \n",
       "11                1  \n",
       "2                 1  \n",
       "23                1  \n",
       "20                1  "
      ]
     },
     "execution_count": 46,
     "metadata": {},
     "output_type": "execute_result"
    }
   ],
   "source": [
    "pd.DataFrame(grid_search.cv_results_).sort_values('mean_test_score', ascending=False).iloc[:,4:].head()"
   ]
  },
  {
   "cell_type": "markdown",
   "id": "111c365b",
   "metadata": {},
   "source": [
    "Как мы видим лучше всего без регурялизации, а так очень хорошо для перцептрона."
   ]
  },
  {
   "cell_type": "markdown",
   "id": "9afed8c3",
   "metadata": {},
   "source": [
    "<h3>Метод опорных векторов</h3>"
   ]
  },
  {
   "cell_type": "code",
   "execution_count": 47,
   "id": "82f49a0b",
   "metadata": {},
   "outputs": [
    {
     "name": "stdout",
     "output_type": "stream",
     "text": [
      "name: SVM, score: [0.67455621 0.62721893 0.58333333 0.58928571 0.58928571], mean: 0.6127359819667513\n",
      "Wall time: 313 ms\n"
     ]
    }
   ],
   "source": [
    "%%time\n",
    "model_svm = SVC()\n",
    "result_svm = cross_val_score(model_svm, X_norm, y, cv=cv, n_jobs=-1)\n",
    "print(f'name: SVM, score: {result_svm}, mean: {result_svm.mean()}')"
   ]
  },
  {
   "cell_type": "markdown",
   "id": "3ffd1e05",
   "metadata": {},
   "source": [
    "Очень не плохо. Попробуем пообучать"
   ]
  },
  {
   "cell_type": "code",
   "execution_count": 48,
   "id": "98331e55",
   "metadata": {},
   "outputs": [],
   "source": [
    "param = {'C': [10**-3, 10**-2, 10**-1, 10**0, 10**1],\n",
    "         'kernel': ['rbf', 'poly', 'sigmoid']}"
   ]
  },
  {
   "cell_type": "code",
   "execution_count": 49,
   "id": "e39cfaec",
   "metadata": {},
   "outputs": [
    {
     "name": "stdout",
     "output_type": "stream",
     "text": [
      "Wall time: 7.79 s\n"
     ]
    },
    {
     "data": {
      "text/plain": [
       "({'C': 1, 'kernel': 'rbf'}, 0.6127359819667513)"
      ]
     },
     "execution_count": 49,
     "metadata": {},
     "output_type": "execute_result"
    }
   ],
   "source": [
    "%%time\n",
    "grid_search = GridSearchCV(SVC(), param,cv=cv, n_jobs=-1)\n",
    "grid_search.fit(X_norm,y)\n",
    "(grid_search.best_params_, grid_search.best_score_)"
   ]
  },
  {
   "cell_type": "code",
   "execution_count": 50,
   "id": "ac9b7c41",
   "metadata": {},
   "outputs": [],
   "source": [
    "param = {'C': [1],\n",
    "         'kernel': ['poly'],\n",
    "         'degree': range(1,11)}"
   ]
  },
  {
   "cell_type": "code",
   "execution_count": 51,
   "id": "4e54cb7d",
   "metadata": {},
   "outputs": [
    {
     "name": "stdout",
     "output_type": "stream",
     "text": [
      "Wall time: 6.35 s\n"
     ]
    },
    {
     "data": {
      "text/plain": [
       "({'C': 1, 'degree': 1, 'kernel': 'poly'}, 0.618716539870386)"
      ]
     },
     "execution_count": 51,
     "metadata": {},
     "output_type": "execute_result"
    }
   ],
   "source": [
    "%%time\n",
    "grid_search = GridSearchCV(SVC(), param,cv=cv, n_jobs=-1)\n",
    "grid_search.fit(X_norm,y)\n",
    "(grid_search.best_params_, grid_search.best_score_)"
   ]
  },
  {
   "cell_type": "markdown",
   "id": "1c755430",
   "metadata": {},
   "source": [
    "Почти 62 процента, что очень не плохо для SVM"
   ]
  },
  {
   "cell_type": "markdown",
   "id": "a97e8956",
   "metadata": {},
   "source": [
    "<h3>Дерево решений.</h3>"
   ]
  },
  {
   "cell_type": "code",
   "execution_count": 52,
   "id": "74473f74",
   "metadata": {},
   "outputs": [
    {
     "name": "stdout",
     "output_type": "stream",
     "text": [
      "name: Tree, score: [0.58579882 0.49704142 0.56547619 0.56547619 0.55952381], mean: 0.5546632854325162\n",
      "Wall time: 277 ms\n"
     ]
    }
   ],
   "source": [
    "%%time\n",
    "model_tree = DecisionTreeClassifier()\n",
    "result_tree = cross_val_score(model_tree, X_norm, y, cv=cv, n_jobs=-1)\n",
    "print(f'name: Tree, score: {result_tree}, mean: {result_tree.mean()}')"
   ]
  },
  {
   "cell_type": "code",
   "execution_count": 53,
   "id": "fc3886a3",
   "metadata": {},
   "outputs": [],
   "source": [
    "param = {'criterion': ['gini', 'entropy'],\n",
    "         'max_depth': range(2,50)}"
   ]
  },
  {
   "cell_type": "code",
   "execution_count": 54,
   "id": "bb44fafe",
   "metadata": {},
   "outputs": [
    {
     "name": "stdout",
     "output_type": "stream",
     "text": [
      "Wall time: 6.88 s\n"
     ]
    },
    {
     "data": {
      "text/plain": [
       "({'criterion': 'entropy', 'max_depth': 28}, 0.5831431389123697)"
      ]
     },
     "execution_count": 54,
     "metadata": {},
     "output_type": "execute_result"
    }
   ],
   "source": [
    "%%time\n",
    "grid_search = GridSearchCV(DecisionTreeClassifier(), param,cv=cv, n_jobs=-1)\n",
    "grid_search.fit(X_norm,y)\n",
    "(grid_search.best_params_, grid_search.best_score_)"
   ]
  },
  {
   "cell_type": "markdown",
   "id": "8925dfb8",
   "metadata": {},
   "source": [
    "Ну, как и предполагалось, дерево решений не становится лучше от таких манипуляций с данными."
   ]
  },
  {
   "cell_type": "markdown",
   "id": "bdb5b035",
   "metadata": {},
   "source": [
    "<h3>Логистическая регрессия</h3>"
   ]
  },
  {
   "cell_type": "code",
   "execution_count": 56,
   "id": "1d168382",
   "metadata": {},
   "outputs": [
    {
     "name": "stdout",
     "output_type": "stream",
     "text": [
      "name: LogisticRegression, score: [0.61538462 0.56804734 0.58928571 0.61904762 0.54166667], mean: 0.5866863905325443\n",
      "Wall time: 452 ms\n"
     ]
    }
   ],
   "source": [
    "%%time\n",
    "model_log = LogisticRegression()\n",
    "result_log = cross_val_score(model_log, X_norm, y, cv=cv, n_jobs=-1)\n",
    "print(f'name: LogisticRegression, score: {result_log}, mean: {result_log.mean()}')"
   ]
  },
  {
   "cell_type": "code",
   "execution_count": 57,
   "id": "01f7a9b0",
   "metadata": {},
   "outputs": [],
   "source": [
    "param = {'C': [10**-3, 10**-2, 10**-1, 10**0, 10**1]}"
   ]
  },
  {
   "cell_type": "code",
   "execution_count": 58,
   "id": "ce064623",
   "metadata": {},
   "outputs": [
    {
     "name": "stdout",
     "output_type": "stream",
     "text": [
      "Wall time: 988 ms\n"
     ]
    },
    {
     "data": {
      "text/plain": [
       "({'C': 0.01}, 0.6187094956325726)"
      ]
     },
     "execution_count": 58,
     "metadata": {},
     "output_type": "execute_result"
    }
   ],
   "source": [
    "%%time\n",
    "grid_search = GridSearchCV(LogisticRegression(), param,cv=cv, n_jobs=-1)\n",
    "grid_search.fit(X_norm,y)\n",
    "(grid_search.best_params_, grid_search.best_score_)"
   ]
  },
  {
   "cell_type": "code",
   "execution_count": 59,
   "id": "13e99510",
   "metadata": {},
   "outputs": [
    {
     "data": {
      "text/html": [
       "<div>\n",
       "<style scoped>\n",
       "    .dataframe tbody tr th:only-of-type {\n",
       "        vertical-align: middle;\n",
       "    }\n",
       "\n",
       "    .dataframe tbody tr th {\n",
       "        vertical-align: top;\n",
       "    }\n",
       "\n",
       "    .dataframe thead th {\n",
       "        text-align: right;\n",
       "    }\n",
       "</style>\n",
       "<table border=\"1\" class=\"dataframe\">\n",
       "  <thead>\n",
       "    <tr style=\"text-align: right;\">\n",
       "      <th></th>\n",
       "      <th>param_C</th>\n",
       "      <th>params</th>\n",
       "      <th>split0_test_score</th>\n",
       "      <th>split1_test_score</th>\n",
       "      <th>split2_test_score</th>\n",
       "      <th>split3_test_score</th>\n",
       "      <th>split4_test_score</th>\n",
       "      <th>mean_test_score</th>\n",
       "      <th>std_test_score</th>\n",
       "      <th>rank_test_score</th>\n",
       "    </tr>\n",
       "  </thead>\n",
       "  <tbody>\n",
       "    <tr>\n",
       "      <th>1</th>\n",
       "      <td>0.01</td>\n",
       "      <td>{'C': 0.01}</td>\n",
       "      <td>0.639053</td>\n",
       "      <td>0.644970</td>\n",
       "      <td>0.613095</td>\n",
       "      <td>0.613095</td>\n",
       "      <td>0.583333</td>\n",
       "      <td>0.618709</td>\n",
       "      <td>0.021991</td>\n",
       "      <td>1</td>\n",
       "    </tr>\n",
       "    <tr>\n",
       "      <th>0</th>\n",
       "      <td>0.001</td>\n",
       "      <td>{'C': 0.001}</td>\n",
       "      <td>0.615385</td>\n",
       "      <td>0.609467</td>\n",
       "      <td>0.619048</td>\n",
       "      <td>0.630952</td>\n",
       "      <td>0.613095</td>\n",
       "      <td>0.617589</td>\n",
       "      <td>0.007372</td>\n",
       "      <td>2</td>\n",
       "    </tr>\n",
       "    <tr>\n",
       "      <th>2</th>\n",
       "      <td>0.1</td>\n",
       "      <td>{'C': 0.1}</td>\n",
       "      <td>0.621302</td>\n",
       "      <td>0.591716</td>\n",
       "      <td>0.625000</td>\n",
       "      <td>0.601190</td>\n",
       "      <td>0.523810</td>\n",
       "      <td>0.592604</td>\n",
       "      <td>0.036552</td>\n",
       "      <td>3</td>\n",
       "    </tr>\n",
       "    <tr>\n",
       "      <th>3</th>\n",
       "      <td>1</td>\n",
       "      <td>{'C': 1}</td>\n",
       "      <td>0.615385</td>\n",
       "      <td>0.568047</td>\n",
       "      <td>0.589286</td>\n",
       "      <td>0.619048</td>\n",
       "      <td>0.541667</td>\n",
       "      <td>0.586686</td>\n",
       "      <td>0.029161</td>\n",
       "      <td>4</td>\n",
       "    </tr>\n",
       "    <tr>\n",
       "      <th>4</th>\n",
       "      <td>10</td>\n",
       "      <td>{'C': 10}</td>\n",
       "      <td>0.591716</td>\n",
       "      <td>0.568047</td>\n",
       "      <td>0.583333</td>\n",
       "      <td>0.577381</td>\n",
       "      <td>0.523810</td>\n",
       "      <td>0.568857</td>\n",
       "      <td>0.023810</td>\n",
       "      <td>5</td>\n",
       "    </tr>\n",
       "  </tbody>\n",
       "</table>\n",
       "</div>"
      ],
      "text/plain": [
       "  param_C        params  split0_test_score  split1_test_score  \\\n",
       "1    0.01   {'C': 0.01}           0.639053           0.644970   \n",
       "0   0.001  {'C': 0.001}           0.615385           0.609467   \n",
       "2     0.1    {'C': 0.1}           0.621302           0.591716   \n",
       "3       1      {'C': 1}           0.615385           0.568047   \n",
       "4      10     {'C': 10}           0.591716           0.568047   \n",
       "\n",
       "   split2_test_score  split3_test_score  split4_test_score  mean_test_score  \\\n",
       "1           0.613095           0.613095           0.583333         0.618709   \n",
       "0           0.619048           0.630952           0.613095         0.617589   \n",
       "2           0.625000           0.601190           0.523810         0.592604   \n",
       "3           0.589286           0.619048           0.541667         0.586686   \n",
       "4           0.583333           0.577381           0.523810         0.568857   \n",
       "\n",
       "   std_test_score  rank_test_score  \n",
       "1        0.021991                1  \n",
       "0        0.007372                2  \n",
       "2        0.036552                3  \n",
       "3        0.029161                4  \n",
       "4        0.023810                5  "
      ]
     },
     "execution_count": 59,
     "metadata": {},
     "output_type": "execute_result"
    }
   ],
   "source": [
    "pd.DataFrame(grid_search.cv_results_).sort_values('mean_test_score', ascending=False).iloc[:,4:].head(10)"
   ]
  },
  {
   "cell_type": "markdown",
   "id": "c7848321",
   "metadata": {},
   "source": [
    "Нет никаких заметных улучшений, что печально."
   ]
  },
  {
   "cell_type": "markdown",
   "id": "a6d81b97",
   "metadata": {},
   "source": [
    "<h3>Случайный лес</h3>"
   ]
  },
  {
   "cell_type": "code",
   "execution_count": 60,
   "id": "f6f29b80",
   "metadata": {},
   "outputs": [
    {
     "name": "stdout",
     "output_type": "stream",
     "text": [
      "name: RandomForestClassifier, score: [0.65088757 0.62130178 0.60714286 0.6547619  0.58333333], mean: 0.6234854888701042\n",
      "Wall time: 521 ms\n"
     ]
    }
   ],
   "source": [
    "%%time\n",
    "model_rf = RandomForestClassifier()\n",
    "result_fr = cross_val_score(model_rf, X_norm, y, cv=cv, n_jobs=-1)\n",
    "print(f'name: RandomForestClassifier, score: {result_fr}, mean: {result_fr.mean()}')"
   ]
  },
  {
   "cell_type": "markdown",
   "id": "10d7d4ed",
   "metadata": {},
   "source": [
    "Из коробки уже хорошо"
   ]
  },
  {
   "cell_type": "code",
   "execution_count": 61,
   "id": "a79bb879",
   "metadata": {},
   "outputs": [],
   "source": [
    "param = {'n_estimators': [100,200,500,1000,2000],\n",
    "         'criterion': ['gini', 'entropy'],\n",
    "         'max_depth': range(1,51,10)}"
   ]
  },
  {
   "cell_type": "code",
   "execution_count": 63,
   "id": "2b5792b8",
   "metadata": {},
   "outputs": [
    {
     "name": "stdout",
     "output_type": "stream",
     "text": [
      "Wall time: 1min 20s\n"
     ]
    },
    {
     "data": {
      "text/plain": [
       "({'criterion': 'entropy', 'max_depth': 31, 'n_estimators': 100},\n",
       " 0.6258593970132431)"
      ]
     },
     "execution_count": 63,
     "metadata": {},
     "output_type": "execute_result"
    }
   ],
   "source": [
    "%%time\n",
    "grid_search = GridSearchCV(RandomForestClassifier(n_jobs=-1), param,cv=cv, n_jobs=-1)\n",
    "grid_search.fit(X_norm,y)\n",
    "(grid_search.best_params_, grid_search.best_score_)"
   ]
  },
  {
   "cell_type": "code",
   "execution_count": 64,
   "id": "f16eca4f",
   "metadata": {},
   "outputs": [
    {
     "data": {
      "text/html": [
       "<div>\n",
       "<style scoped>\n",
       "    .dataframe tbody tr th:only-of-type {\n",
       "        vertical-align: middle;\n",
       "    }\n",
       "\n",
       "    .dataframe tbody tr th {\n",
       "        vertical-align: top;\n",
       "    }\n",
       "\n",
       "    .dataframe thead th {\n",
       "        text-align: right;\n",
       "    }\n",
       "</style>\n",
       "<table border=\"1\" class=\"dataframe\">\n",
       "  <thead>\n",
       "    <tr style=\"text-align: right;\">\n",
       "      <th></th>\n",
       "      <th>param_criterion</th>\n",
       "      <th>param_max_depth</th>\n",
       "      <th>param_n_estimators</th>\n",
       "      <th>params</th>\n",
       "      <th>split0_test_score</th>\n",
       "      <th>split1_test_score</th>\n",
       "      <th>split2_test_score</th>\n",
       "      <th>split3_test_score</th>\n",
       "      <th>split4_test_score</th>\n",
       "      <th>mean_test_score</th>\n",
       "      <th>std_test_score</th>\n",
       "      <th>rank_test_score</th>\n",
       "    </tr>\n",
       "  </thead>\n",
       "  <tbody>\n",
       "    <tr>\n",
       "      <th>40</th>\n",
       "      <td>entropy</td>\n",
       "      <td>31</td>\n",
       "      <td>100</td>\n",
       "      <td>{'criterion': 'entropy', 'max_depth': 31, 'n_e...</td>\n",
       "      <td>0.615385</td>\n",
       "      <td>0.662722</td>\n",
       "      <td>0.636905</td>\n",
       "      <td>0.630952</td>\n",
       "      <td>0.583333</td>\n",
       "      <td>0.625859</td>\n",
       "      <td>0.026172</td>\n",
       "      <td>1</td>\n",
       "    </tr>\n",
       "    <tr>\n",
       "      <th>23</th>\n",
       "      <td>gini</td>\n",
       "      <td>41</td>\n",
       "      <td>1000</td>\n",
       "      <td>{'criterion': 'gini', 'max_depth': 41, 'n_esti...</td>\n",
       "      <td>0.621302</td>\n",
       "      <td>0.639053</td>\n",
       "      <td>0.642857</td>\n",
       "      <td>0.625000</td>\n",
       "      <td>0.577381</td>\n",
       "      <td>0.621119</td>\n",
       "      <td>0.023334</td>\n",
       "      <td>2</td>\n",
       "    </tr>\n",
       "    <tr>\n",
       "      <th>24</th>\n",
       "      <td>gini</td>\n",
       "      <td>41</td>\n",
       "      <td>2000</td>\n",
       "      <td>{'criterion': 'gini', 'max_depth': 41, 'n_esti...</td>\n",
       "      <td>0.627219</td>\n",
       "      <td>0.633136</td>\n",
       "      <td>0.625000</td>\n",
       "      <td>0.619048</td>\n",
       "      <td>0.589286</td>\n",
       "      <td>0.618738</td>\n",
       "      <td>0.015401</td>\n",
       "      <td>3</td>\n",
       "    </tr>\n",
       "    <tr>\n",
       "      <th>19</th>\n",
       "      <td>gini</td>\n",
       "      <td>31</td>\n",
       "      <td>2000</td>\n",
       "      <td>{'criterion': 'gini', 'max_depth': 31, 'n_esti...</td>\n",
       "      <td>0.633136</td>\n",
       "      <td>0.639053</td>\n",
       "      <td>0.613095</td>\n",
       "      <td>0.613095</td>\n",
       "      <td>0.595238</td>\n",
       "      <td>0.618724</td>\n",
       "      <td>0.015722</td>\n",
       "      <td>4</td>\n",
       "    </tr>\n",
       "    <tr>\n",
       "      <th>46</th>\n",
       "      <td>entropy</td>\n",
       "      <td>41</td>\n",
       "      <td>200</td>\n",
       "      <td>{'criterion': 'entropy', 'max_depth': 41, 'n_e...</td>\n",
       "      <td>0.650888</td>\n",
       "      <td>0.639053</td>\n",
       "      <td>0.583333</td>\n",
       "      <td>0.619048</td>\n",
       "      <td>0.601190</td>\n",
       "      <td>0.618702</td>\n",
       "      <td>0.024527</td>\n",
       "      <td>5</td>\n",
       "    </tr>\n",
       "  </tbody>\n",
       "</table>\n",
       "</div>"
      ],
      "text/plain": [
       "   param_criterion param_max_depth param_n_estimators  \\\n",
       "40         entropy              31                100   \n",
       "23            gini              41               1000   \n",
       "24            gini              41               2000   \n",
       "19            gini              31               2000   \n",
       "46         entropy              41                200   \n",
       "\n",
       "                                               params  split0_test_score  \\\n",
       "40  {'criterion': 'entropy', 'max_depth': 31, 'n_e...           0.615385   \n",
       "23  {'criterion': 'gini', 'max_depth': 41, 'n_esti...           0.621302   \n",
       "24  {'criterion': 'gini', 'max_depth': 41, 'n_esti...           0.627219   \n",
       "19  {'criterion': 'gini', 'max_depth': 31, 'n_esti...           0.633136   \n",
       "46  {'criterion': 'entropy', 'max_depth': 41, 'n_e...           0.650888   \n",
       "\n",
       "    split1_test_score  split2_test_score  split3_test_score  \\\n",
       "40           0.662722           0.636905           0.630952   \n",
       "23           0.639053           0.642857           0.625000   \n",
       "24           0.633136           0.625000           0.619048   \n",
       "19           0.639053           0.613095           0.613095   \n",
       "46           0.639053           0.583333           0.619048   \n",
       "\n",
       "    split4_test_score  mean_test_score  std_test_score  rank_test_score  \n",
       "40           0.583333         0.625859        0.026172                1  \n",
       "23           0.577381         0.621119        0.023334                2  \n",
       "24           0.589286         0.618738        0.015401                3  \n",
       "19           0.595238         0.618724        0.015722                4  \n",
       "46           0.601190         0.618702        0.024527                5  "
      ]
     },
     "execution_count": 64,
     "metadata": {},
     "output_type": "execute_result"
    }
   ],
   "source": [
    "pd.DataFrame(grid_search.cv_results_).sort_values('mean_test_score', ascending=False).iloc[:,4:].head(5)"
   ]
  },
  {
   "cell_type": "code",
   "execution_count": 65,
   "id": "1e0c0e65",
   "metadata": {},
   "outputs": [],
   "source": [
    "param = {'n_estimators': [100,200,500,1000],\n",
    "         'criterion': ['gini'],\n",
    "         'max_depth': range(10,41,5),\n",
    "         'min_samples_split': range(2,20,2),\n",
    "         'min_samples_leaf': range(1,10,2)}"
   ]
  },
  {
   "cell_type": "code",
   "execution_count": 66,
   "id": "66fc28de",
   "metadata": {},
   "outputs": [
    {
     "name": "stdout",
     "output_type": "stream",
     "text": [
      "Wall time: 16min 19s\n"
     ]
    },
    {
     "data": {
      "text/plain": [
       "({'criterion': 'gini',\n",
       "  'max_depth': 25,\n",
       "  'min_samples_leaf': 1,\n",
       "  'min_samples_split': 2,\n",
       "  'n_estimators': 100},\n",
       " 0.6341434206818823)"
      ]
     },
     "execution_count": 66,
     "metadata": {},
     "output_type": "execute_result"
    }
   ],
   "source": [
    "%%time\n",
    "grid_search = GridSearchCV(RandomForestClassifier(n_jobs=-1), param,cv=cv, n_jobs=-1)\n",
    "grid_search.fit(X_norm,y)\n",
    "(grid_search.best_params_, grid_search.best_score_)"
   ]
  },
  {
   "cell_type": "code",
   "execution_count": 67,
   "id": "125691f4",
   "metadata": {},
   "outputs": [
    {
     "data": {
      "text/html": [
       "<div>\n",
       "<style scoped>\n",
       "    .dataframe tbody tr th:only-of-type {\n",
       "        vertical-align: middle;\n",
       "    }\n",
       "\n",
       "    .dataframe tbody tr th {\n",
       "        vertical-align: top;\n",
       "    }\n",
       "\n",
       "    .dataframe thead th {\n",
       "        text-align: right;\n",
       "    }\n",
       "</style>\n",
       "<table border=\"1\" class=\"dataframe\">\n",
       "  <thead>\n",
       "    <tr style=\"text-align: right;\">\n",
       "      <th></th>\n",
       "      <th>param_criterion</th>\n",
       "      <th>param_max_depth</th>\n",
       "      <th>param_min_samples_leaf</th>\n",
       "      <th>param_min_samples_split</th>\n",
       "      <th>param_n_estimators</th>\n",
       "      <th>params</th>\n",
       "      <th>split0_test_score</th>\n",
       "      <th>split1_test_score</th>\n",
       "      <th>split2_test_score</th>\n",
       "      <th>split3_test_score</th>\n",
       "      <th>split4_test_score</th>\n",
       "      <th>mean_test_score</th>\n",
       "      <th>std_test_score</th>\n",
       "      <th>rank_test_score</th>\n",
       "    </tr>\n",
       "  </thead>\n",
       "  <tbody>\n",
       "    <tr>\n",
       "      <th>540</th>\n",
       "      <td>gini</td>\n",
       "      <td>25</td>\n",
       "      <td>1</td>\n",
       "      <td>2</td>\n",
       "      <td>100</td>\n",
       "      <td>{'criterion': 'gini', 'max_depth': 25, 'min_sa...</td>\n",
       "      <td>0.680473</td>\n",
       "      <td>0.639053</td>\n",
       "      <td>0.654762</td>\n",
       "      <td>0.607143</td>\n",
       "      <td>0.589286</td>\n",
       "      <td>0.634143</td>\n",
       "      <td>0.032671</td>\n",
       "      <td>1</td>\n",
       "    </tr>\n",
       "    <tr>\n",
       "      <th>904</th>\n",
       "      <td>gini</td>\n",
       "      <td>35</td>\n",
       "      <td>1</td>\n",
       "      <td>4</td>\n",
       "      <td>100</td>\n",
       "      <td>{'criterion': 'gini', 'max_depth': 35, 'min_sa...</td>\n",
       "      <td>0.668639</td>\n",
       "      <td>0.650888</td>\n",
       "      <td>0.607143</td>\n",
       "      <td>0.625000</td>\n",
       "      <td>0.601190</td>\n",
       "      <td>0.630572</td>\n",
       "      <td>0.025710</td>\n",
       "      <td>2</td>\n",
       "    </tr>\n",
       "    <tr>\n",
       "      <th>956</th>\n",
       "      <td>gini</td>\n",
       "      <td>35</td>\n",
       "      <td>3</td>\n",
       "      <td>12</td>\n",
       "      <td>100</td>\n",
       "      <td>{'criterion': 'gini', 'max_depth': 35, 'min_sa...</td>\n",
       "      <td>0.644970</td>\n",
       "      <td>0.639053</td>\n",
       "      <td>0.607143</td>\n",
       "      <td>0.642857</td>\n",
       "      <td>0.607143</td>\n",
       "      <td>0.628233</td>\n",
       "      <td>0.017324</td>\n",
       "      <td>3</td>\n",
       "    </tr>\n",
       "    <tr>\n",
       "      <th>249</th>\n",
       "      <td>gini</td>\n",
       "      <td>15</td>\n",
       "      <td>3</td>\n",
       "      <td>18</td>\n",
       "      <td>200</td>\n",
       "      <td>{'criterion': 'gini', 'max_depth': 15, 'min_sa...</td>\n",
       "      <td>0.674556</td>\n",
       "      <td>0.627219</td>\n",
       "      <td>0.601190</td>\n",
       "      <td>0.630952</td>\n",
       "      <td>0.601190</td>\n",
       "      <td>0.627022</td>\n",
       "      <td>0.026868</td>\n",
       "      <td>4</td>\n",
       "    </tr>\n",
       "    <tr>\n",
       "      <th>905</th>\n",
       "      <td>gini</td>\n",
       "      <td>35</td>\n",
       "      <td>1</td>\n",
       "      <td>4</td>\n",
       "      <td>200</td>\n",
       "      <td>{'criterion': 'gini', 'max_depth': 35, 'min_sa...</td>\n",
       "      <td>0.633136</td>\n",
       "      <td>0.633136</td>\n",
       "      <td>0.648810</td>\n",
       "      <td>0.642857</td>\n",
       "      <td>0.571429</td>\n",
       "      <td>0.625873</td>\n",
       "      <td>0.027872</td>\n",
       "      <td>5</td>\n",
       "    </tr>\n",
       "  </tbody>\n",
       "</table>\n",
       "</div>"
      ],
      "text/plain": [
       "    param_criterion param_max_depth param_min_samples_leaf  \\\n",
       "540            gini              25                      1   \n",
       "904            gini              35                      1   \n",
       "956            gini              35                      3   \n",
       "249            gini              15                      3   \n",
       "905            gini              35                      1   \n",
       "\n",
       "    param_min_samples_split param_n_estimators  \\\n",
       "540                       2                100   \n",
       "904                       4                100   \n",
       "956                      12                100   \n",
       "249                      18                200   \n",
       "905                       4                200   \n",
       "\n",
       "                                                params  split0_test_score  \\\n",
       "540  {'criterion': 'gini', 'max_depth': 25, 'min_sa...           0.680473   \n",
       "904  {'criterion': 'gini', 'max_depth': 35, 'min_sa...           0.668639   \n",
       "956  {'criterion': 'gini', 'max_depth': 35, 'min_sa...           0.644970   \n",
       "249  {'criterion': 'gini', 'max_depth': 15, 'min_sa...           0.674556   \n",
       "905  {'criterion': 'gini', 'max_depth': 35, 'min_sa...           0.633136   \n",
       "\n",
       "     split1_test_score  split2_test_score  split3_test_score  \\\n",
       "540           0.639053           0.654762           0.607143   \n",
       "904           0.650888           0.607143           0.625000   \n",
       "956           0.639053           0.607143           0.642857   \n",
       "249           0.627219           0.601190           0.630952   \n",
       "905           0.633136           0.648810           0.642857   \n",
       "\n",
       "     split4_test_score  mean_test_score  std_test_score  rank_test_score  \n",
       "540           0.589286         0.634143        0.032671                1  \n",
       "904           0.601190         0.630572        0.025710                2  \n",
       "956           0.607143         0.628233        0.017324                3  \n",
       "249           0.601190         0.627022        0.026868                4  \n",
       "905           0.571429         0.625873        0.027872                5  "
      ]
     },
     "execution_count": 67,
     "metadata": {},
     "output_type": "execute_result"
    }
   ],
   "source": [
    "pd.DataFrame(grid_search.cv_results_).sort_values('mean_test_score', ascending=False).iloc[:,4:].head(5)"
   ]
  },
  {
   "cell_type": "markdown",
   "id": "ba91a9b6",
   "metadata": {},
   "source": [
    "Есть небольшие улучшения, но это все равно не очень."
   ]
  },
  {
   "cell_type": "markdown",
   "id": "a59e2f5c",
   "metadata": {},
   "source": [
    "<h3>Градиентный бустинг</h3>"
   ]
  },
  {
   "cell_type": "code",
   "execution_count": 69,
   "id": "9d07963f",
   "metadata": {},
   "outputs": [
    {
     "name": "stdout",
     "output_type": "stream",
     "text": [
      "name: XGBClassifier, score: [0.61538462 0.63905325 0.5952381  0.625      0.54761905], mean: 0.6044590025359258\n",
      "Wall time: 3.9 s\n"
     ]
    }
   ],
   "source": [
    "%%time\n",
    "model_xgb = XGBClassifier()\n",
    "result_xgb = cross_val_score(model_xgb, X_norm, y, cv=cv, n_jobs=-1)\n",
    "print(f'name: XGBClassifier, score: {result_xgb}, mean: {result_xgb.mean()}')"
   ]
  },
  {
   "cell_type": "code",
   "execution_count": 70,
   "id": "96ef13e0",
   "metadata": {},
   "outputs": [],
   "source": [
    "param = {'n_estimators': [100,200],\n",
    "         'max_depth': range(10,51,2)}"
   ]
  },
  {
   "cell_type": "code",
   "execution_count": 72,
   "id": "67591397",
   "metadata": {},
   "outputs": [
    {
     "name": "stdout",
     "output_type": "stream",
     "text": [
      "[16:52:29] WARNING: ..\\src\\learner.cc:1115: Starting in XGBoost 1.3.0, the default evaluation metric used with the objective 'binary:logistic' was changed from 'error' to 'logloss'. Explicitly set eval_metric if you'd like to restore the old behavior.\n",
      "Wall time: 2min 5s\n"
     ]
    },
    {
     "data": {
      "text/plain": [
       "({'max_depth': 16, 'n_estimators': 100}, 0.6198999718230488)"
      ]
     },
     "execution_count": 72,
     "metadata": {},
     "output_type": "execute_result"
    }
   ],
   "source": [
    "%%time\n",
    "grid_search = GridSearchCV(XGBClassifier(n_jobs=-1), param,cv=cv, n_jobs=-1)\n",
    "grid_search.fit(X_norm,y)\n",
    "(grid_search.best_params_, grid_search.best_score_)"
   ]
  },
  {
   "cell_type": "code",
   "execution_count": 73,
   "id": "1fc9d61e",
   "metadata": {},
   "outputs": [
    {
     "data": {
      "text/html": [
       "<div>\n",
       "<style scoped>\n",
       "    .dataframe tbody tr th:only-of-type {\n",
       "        vertical-align: middle;\n",
       "    }\n",
       "\n",
       "    .dataframe tbody tr th {\n",
       "        vertical-align: top;\n",
       "    }\n",
       "\n",
       "    .dataframe thead th {\n",
       "        text-align: right;\n",
       "    }\n",
       "</style>\n",
       "<table border=\"1\" class=\"dataframe\">\n",
       "  <thead>\n",
       "    <tr style=\"text-align: right;\">\n",
       "      <th></th>\n",
       "      <th>param_max_depth</th>\n",
       "      <th>param_n_estimators</th>\n",
       "      <th>params</th>\n",
       "      <th>split0_test_score</th>\n",
       "      <th>split1_test_score</th>\n",
       "      <th>split2_test_score</th>\n",
       "      <th>split3_test_score</th>\n",
       "      <th>split4_test_score</th>\n",
       "      <th>mean_test_score</th>\n",
       "      <th>std_test_score</th>\n",
       "      <th>rank_test_score</th>\n",
       "    </tr>\n",
       "  </thead>\n",
       "  <tbody>\n",
       "    <tr>\n",
       "      <th>14</th>\n",
       "      <td>24</td>\n",
       "      <td>100</td>\n",
       "      <td>{'max_depth': 24, 'n_estimators': 100}</td>\n",
       "      <td>0.639053</td>\n",
       "      <td>0.64497</td>\n",
       "      <td>0.630952</td>\n",
       "      <td>0.60119</td>\n",
       "      <td>0.583333</td>\n",
       "      <td>0.6199</td>\n",
       "      <td>0.023684</td>\n",
       "      <td>1</td>\n",
       "    </tr>\n",
       "    <tr>\n",
       "      <th>12</th>\n",
       "      <td>22</td>\n",
       "      <td>100</td>\n",
       "      <td>{'max_depth': 22, 'n_estimators': 100}</td>\n",
       "      <td>0.639053</td>\n",
       "      <td>0.64497</td>\n",
       "      <td>0.630952</td>\n",
       "      <td>0.60119</td>\n",
       "      <td>0.583333</td>\n",
       "      <td>0.6199</td>\n",
       "      <td>0.023684</td>\n",
       "      <td>1</td>\n",
       "    </tr>\n",
       "    <tr>\n",
       "      <th>30</th>\n",
       "      <td>40</td>\n",
       "      <td>100</td>\n",
       "      <td>{'max_depth': 40, 'n_estimators': 100}</td>\n",
       "      <td>0.639053</td>\n",
       "      <td>0.64497</td>\n",
       "      <td>0.630952</td>\n",
       "      <td>0.60119</td>\n",
       "      <td>0.583333</td>\n",
       "      <td>0.6199</td>\n",
       "      <td>0.023684</td>\n",
       "      <td>1</td>\n",
       "    </tr>\n",
       "    <tr>\n",
       "      <th>26</th>\n",
       "      <td>36</td>\n",
       "      <td>100</td>\n",
       "      <td>{'max_depth': 36, 'n_estimators': 100}</td>\n",
       "      <td>0.639053</td>\n",
       "      <td>0.64497</td>\n",
       "      <td>0.630952</td>\n",
       "      <td>0.60119</td>\n",
       "      <td>0.583333</td>\n",
       "      <td>0.6199</td>\n",
       "      <td>0.023684</td>\n",
       "      <td>1</td>\n",
       "    </tr>\n",
       "    <tr>\n",
       "      <th>24</th>\n",
       "      <td>34</td>\n",
       "      <td>100</td>\n",
       "      <td>{'max_depth': 34, 'n_estimators': 100}</td>\n",
       "      <td>0.639053</td>\n",
       "      <td>0.64497</td>\n",
       "      <td>0.630952</td>\n",
       "      <td>0.60119</td>\n",
       "      <td>0.583333</td>\n",
       "      <td>0.6199</td>\n",
       "      <td>0.023684</td>\n",
       "      <td>1</td>\n",
       "    </tr>\n",
       "  </tbody>\n",
       "</table>\n",
       "</div>"
      ],
      "text/plain": [
       "   param_max_depth param_n_estimators                                  params  \\\n",
       "14              24                100  {'max_depth': 24, 'n_estimators': 100}   \n",
       "12              22                100  {'max_depth': 22, 'n_estimators': 100}   \n",
       "30              40                100  {'max_depth': 40, 'n_estimators': 100}   \n",
       "26              36                100  {'max_depth': 36, 'n_estimators': 100}   \n",
       "24              34                100  {'max_depth': 34, 'n_estimators': 100}   \n",
       "\n",
       "    split0_test_score  split1_test_score  split2_test_score  \\\n",
       "14           0.639053            0.64497           0.630952   \n",
       "12           0.639053            0.64497           0.630952   \n",
       "30           0.639053            0.64497           0.630952   \n",
       "26           0.639053            0.64497           0.630952   \n",
       "24           0.639053            0.64497           0.630952   \n",
       "\n",
       "    split3_test_score  split4_test_score  mean_test_score  std_test_score  \\\n",
       "14            0.60119           0.583333           0.6199        0.023684   \n",
       "12            0.60119           0.583333           0.6199        0.023684   \n",
       "30            0.60119           0.583333           0.6199        0.023684   \n",
       "26            0.60119           0.583333           0.6199        0.023684   \n",
       "24            0.60119           0.583333           0.6199        0.023684   \n",
       "\n",
       "    rank_test_score  \n",
       "14                1  \n",
       "12                1  \n",
       "30                1  \n",
       "26                1  \n",
       "24                1  "
      ]
     },
     "execution_count": 73,
     "metadata": {},
     "output_type": "execute_result"
    }
   ],
   "source": [
    "pd.DataFrame(grid_search.cv_results_).sort_values('mean_test_score', ascending=False).iloc[:,4:].head(5)"
   ]
  },
  {
   "cell_type": "code",
   "execution_count": 74,
   "id": "44ddd61e",
   "metadata": {},
   "outputs": [
    {
     "data": {
      "text/html": [
       "<div>\n",
       "<style scoped>\n",
       "    .dataframe tbody tr th:only-of-type {\n",
       "        vertical-align: middle;\n",
       "    }\n",
       "\n",
       "    .dataframe tbody tr th {\n",
       "        vertical-align: top;\n",
       "    }\n",
       "\n",
       "    .dataframe thead th {\n",
       "        text-align: right;\n",
       "    }\n",
       "</style>\n",
       "<table border=\"1\" class=\"dataframe\">\n",
       "  <thead>\n",
       "    <tr style=\"text-align: right;\">\n",
       "      <th></th>\n",
       "      <th>split0_test_score</th>\n",
       "      <th>split1_test_score</th>\n",
       "      <th>split2_test_score</th>\n",
       "      <th>split3_test_score</th>\n",
       "      <th>split4_test_score</th>\n",
       "      <th>mean_test_score</th>\n",
       "      <th>std_test_score</th>\n",
       "    </tr>\n",
       "    <tr>\n",
       "      <th>rank_test_score</th>\n",
       "      <th></th>\n",
       "      <th></th>\n",
       "      <th></th>\n",
       "      <th></th>\n",
       "      <th></th>\n",
       "      <th></th>\n",
       "      <th></th>\n",
       "    </tr>\n",
       "  </thead>\n",
       "  <tbody>\n",
       "    <tr>\n",
       "      <th>1</th>\n",
       "      <td>0.639053</td>\n",
       "      <td>0.644970</td>\n",
       "      <td>0.630952</td>\n",
       "      <td>0.601190</td>\n",
       "      <td>0.583333</td>\n",
       "      <td>0.619900</td>\n",
       "      <td>0.023684</td>\n",
       "    </tr>\n",
       "    <tr>\n",
       "      <th>19</th>\n",
       "      <td>0.621302</td>\n",
       "      <td>0.644970</td>\n",
       "      <td>0.630952</td>\n",
       "      <td>0.589286</td>\n",
       "      <td>0.595238</td>\n",
       "      <td>0.616350</td>\n",
       "      <td>0.021143</td>\n",
       "    </tr>\n",
       "    <tr>\n",
       "      <th>20</th>\n",
       "      <td>0.615385</td>\n",
       "      <td>0.633136</td>\n",
       "      <td>0.630952</td>\n",
       "      <td>0.601190</td>\n",
       "      <td>0.595238</td>\n",
       "      <td>0.615180</td>\n",
       "      <td>0.015262</td>\n",
       "    </tr>\n",
       "    <tr>\n",
       "      <th>21</th>\n",
       "      <td>0.621302</td>\n",
       "      <td>0.621302</td>\n",
       "      <td>0.636905</td>\n",
       "      <td>0.601190</td>\n",
       "      <td>0.589286</td>\n",
       "      <td>0.613997</td>\n",
       "      <td>0.016770</td>\n",
       "    </tr>\n",
       "    <tr>\n",
       "      <th>22</th>\n",
       "      <td>0.639053</td>\n",
       "      <td>0.615385</td>\n",
       "      <td>0.630952</td>\n",
       "      <td>0.571429</td>\n",
       "      <td>0.607143</td>\n",
       "      <td>0.612792</td>\n",
       "      <td>0.023533</td>\n",
       "    </tr>\n",
       "    <tr>\n",
       "      <th>23</th>\n",
       "      <td>0.633136</td>\n",
       "      <td>0.633136</td>\n",
       "      <td>0.630952</td>\n",
       "      <td>0.589286</td>\n",
       "      <td>0.565476</td>\n",
       "      <td>0.610397</td>\n",
       "      <td>0.028001</td>\n",
       "    </tr>\n",
       "    <tr>\n",
       "      <th>41</th>\n",
       "      <td>0.627219</td>\n",
       "      <td>0.603550</td>\n",
       "      <td>0.607143</td>\n",
       "      <td>0.619048</td>\n",
       "      <td>0.571429</td>\n",
       "      <td>0.605678</td>\n",
       "      <td>0.019092</td>\n",
       "    </tr>\n",
       "    <tr>\n",
       "      <th>42</th>\n",
       "      <td>0.603550</td>\n",
       "      <td>0.615385</td>\n",
       "      <td>0.601190</td>\n",
       "      <td>0.619048</td>\n",
       "      <td>0.577381</td>\n",
       "      <td>0.603311</td>\n",
       "      <td>0.014631</td>\n",
       "    </tr>\n",
       "  </tbody>\n",
       "</table>\n",
       "</div>"
      ],
      "text/plain": [
       "                 split0_test_score  split1_test_score  split2_test_score  \\\n",
       "rank_test_score                                                            \n",
       "1                         0.639053           0.644970           0.630952   \n",
       "19                        0.621302           0.644970           0.630952   \n",
       "20                        0.615385           0.633136           0.630952   \n",
       "21                        0.621302           0.621302           0.636905   \n",
       "22                        0.639053           0.615385           0.630952   \n",
       "23                        0.633136           0.633136           0.630952   \n",
       "41                        0.627219           0.603550           0.607143   \n",
       "42                        0.603550           0.615385           0.601190   \n",
       "\n",
       "                 split3_test_score  split4_test_score  mean_test_score  \\\n",
       "rank_test_score                                                          \n",
       "1                         0.601190           0.583333         0.619900   \n",
       "19                        0.589286           0.595238         0.616350   \n",
       "20                        0.601190           0.595238         0.615180   \n",
       "21                        0.601190           0.589286         0.613997   \n",
       "22                        0.571429           0.607143         0.612792   \n",
       "23                        0.589286           0.565476         0.610397   \n",
       "41                        0.619048           0.571429         0.605678   \n",
       "42                        0.619048           0.577381         0.603311   \n",
       "\n",
       "                 std_test_score  \n",
       "rank_test_score                  \n",
       "1                      0.023684  \n",
       "19                     0.021143  \n",
       "20                     0.015262  \n",
       "21                     0.016770  \n",
       "22                     0.023533  \n",
       "23                     0.028001  \n",
       "41                     0.019092  \n",
       "42                     0.014631  "
      ]
     },
     "execution_count": 74,
     "metadata": {},
     "output_type": "execute_result"
    }
   ],
   "source": [
    "pd.DataFrame(grid_search.cv_results_).sort_values('mean_test_score', ascending=False).iloc[:,4:].groupby('rank_test_score').mean()"
   ]
  },
  {
   "cell_type": "markdown",
   "id": "c78d798b",
   "metadata": {},
   "source": [
    "Практически не улучшилось. Самое время перейти к PCA."
   ]
  },
  {
   "cell_type": "code",
   "execution_count": null,
   "id": "c159e1db",
   "metadata": {},
   "outputs": [],
   "source": []
  }
 ],
 "metadata": {
  "kernelspec": {
   "display_name": "Python 3",
   "language": "python",
   "name": "python3"
  },
  "language_info": {
   "codemirror_mode": {
    "name": "ipython",
    "version": 3
   },
   "file_extension": ".py",
   "mimetype": "text/x-python",
   "name": "python",
   "nbconvert_exporter": "python",
   "pygments_lexer": "ipython3",
   "version": "3.8.5"
  }
 },
 "nbformat": 4,
 "nbformat_minor": 5
}
