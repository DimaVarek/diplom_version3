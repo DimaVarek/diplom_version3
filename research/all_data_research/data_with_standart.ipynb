{
 "cells": [
  {
   "cell_type": "code",
   "execution_count": 1,
   "id": "800cdd2a",
   "metadata": {},
   "outputs": [],
   "source": [
    "import numpy as np\n",
    "import pandas as pd\n",
    "from sklearn.model_selection import KFold\n",
    "from sklearn.model_selection import cross_val_score\n",
    "from sklearn.model_selection import train_test_split\n",
    "from sklearn.preprocessing import LabelEncoder, RobustScaler, StandardScaler\n",
    "\n",
    "import matplotlib.pyplot as plt\n",
    "plt.rcParams['figure.figsize'] = [12, 8]\n",
    "plt.rcParams['figure.dpi'] = 100\n",
    "\n",
    "from sklearn.dummy import DummyClassifier\n",
    "from sklearn.linear_model import Perceptron\n",
    "from sklearn.svm import SVC\n",
    "from sklearn.linear_model import LogisticRegression\n",
    "from sklearn.tree import DecisionTreeClassifier\n",
    "from sklearn.ensemble import RandomForestClassifier\n",
    "from xgboost import XGBClassifier\n",
    "\n",
    "from sklearn.model_selection import GridSearchCV\n",
    "\n",
    "import warnings\n",
    "warnings.filterwarnings('ignore')"
   ]
  },
  {
   "cell_type": "markdown",
   "id": "56cdebb8",
   "metadata": {},
   "source": [
    "<h2>Предобработка данных</h2>"
   ]
  },
  {
   "cell_type": "code",
   "execution_count": 2,
   "id": "feb7e6ae",
   "metadata": {},
   "outputs": [
    {
     "name": "stdout",
     "output_type": "stream",
     "text": [
      "<class 'pandas.core.frame.DataFrame'>\n",
      "Int64Index: 842 entries, 0 to 844\n",
      "Columns: 1029 entries, version to 5_map\n",
      "dtypes: float64(339), int64(679), object(11)\n",
      "memory usage: 6.6+ MB\n"
     ]
    }
   ],
   "source": [
    "df = pd.read_csv('../data/df_games.csv')\n",
    "df = df.drop(df[(df.best_of == 5) & (df['5_map'] == 'did not play')].index.values, axis=0)\n",
    "df.info()"
   ]
  },
  {
   "cell_type": "code",
   "execution_count": 3,
   "id": "2e66062f",
   "metadata": {},
   "outputs": [
    {
     "data": {
      "text/html": [
       "<div>\n",
       "<style scoped>\n",
       "    .dataframe tbody tr th:only-of-type {\n",
       "        vertical-align: middle;\n",
       "    }\n",
       "\n",
       "    .dataframe tbody tr th {\n",
       "        vertical-align: top;\n",
       "    }\n",
       "\n",
       "    .dataframe thead th {\n",
       "        text-align: right;\n",
       "    }\n",
       "</style>\n",
       "<table border=\"1\" class=\"dataframe\">\n",
       "  <thead>\n",
       "    <tr style=\"text-align: right;\">\n",
       "      <th></th>\n",
       "      <th>team1_world_rank</th>\n",
       "      <th>team2_world_rank</th>\n",
       "      <th>1_47_top5_Times played</th>\n",
       "      <th>1_47_top5_wins</th>\n",
       "      <th>1_47_top5_draws</th>\n",
       "      <th>1_47_top5_losses</th>\n",
       "      <th>1_47_top5_Total rounds played</th>\n",
       "      <th>1_47_top5_Rounds won</th>\n",
       "      <th>1_47_top5_Win percent</th>\n",
       "      <th>1_47_top5_Pistol rounds</th>\n",
       "      <th>...</th>\n",
       "      <th>2_46_topAll_Pistol round win percent</th>\n",
       "      <th>2_46_topAll_CT round win percent</th>\n",
       "      <th>2_46_topAll_T round win percent</th>\n",
       "      <th>result</th>\n",
       "      <th>best_of</th>\n",
       "      <th>1_map</th>\n",
       "      <th>2_map</th>\n",
       "      <th>3_map</th>\n",
       "      <th>4_map</th>\n",
       "      <th>5_map</th>\n",
       "    </tr>\n",
       "  </thead>\n",
       "  <tbody>\n",
       "    <tr>\n",
       "      <th>0</th>\n",
       "      <td>28</td>\n",
       "      <td>46</td>\n",
       "      <td>0</td>\n",
       "      <td>0</td>\n",
       "      <td>0</td>\n",
       "      <td>0</td>\n",
       "      <td>0</td>\n",
       "      <td>0</td>\n",
       "      <td>0.0</td>\n",
       "      <td>0</td>\n",
       "      <td>...</td>\n",
       "      <td>0.5</td>\n",
       "      <td>0.590</td>\n",
       "      <td>0.526</td>\n",
       "      <td>-1</td>\n",
       "      <td>3</td>\n",
       "      <td>Nuke</td>\n",
       "      <td>Ancient</td>\n",
       "      <td>Inferno</td>\n",
       "      <td>did not play</td>\n",
       "      <td>did not play</td>\n",
       "    </tr>\n",
       "    <tr>\n",
       "      <th>1</th>\n",
       "      <td>1</td>\n",
       "      <td>223</td>\n",
       "      <td>2</td>\n",
       "      <td>2</td>\n",
       "      <td>0</td>\n",
       "      <td>0</td>\n",
       "      <td>54</td>\n",
       "      <td>32</td>\n",
       "      <td>1.0</td>\n",
       "      <td>4</td>\n",
       "      <td>...</td>\n",
       "      <td>0.5</td>\n",
       "      <td>0.448</td>\n",
       "      <td>0.552</td>\n",
       "      <td>1</td>\n",
       "      <td>3</td>\n",
       "      <td>Mirage</td>\n",
       "      <td>Ancient</td>\n",
       "      <td>Inferno</td>\n",
       "      <td>did not play</td>\n",
       "      <td>did not play</td>\n",
       "    </tr>\n",
       "    <tr>\n",
       "      <th>2</th>\n",
       "      <td>14</td>\n",
       "      <td>101</td>\n",
       "      <td>0</td>\n",
       "      <td>0</td>\n",
       "      <td>0</td>\n",
       "      <td>0</td>\n",
       "      <td>0</td>\n",
       "      <td>0</td>\n",
       "      <td>0.0</td>\n",
       "      <td>0</td>\n",
       "      <td>...</td>\n",
       "      <td>0.0</td>\n",
       "      <td>0.000</td>\n",
       "      <td>0.000</td>\n",
       "      <td>1</td>\n",
       "      <td>3</td>\n",
       "      <td>Overpass</td>\n",
       "      <td>Dust2</td>\n",
       "      <td>Vertigo</td>\n",
       "      <td>did not play</td>\n",
       "      <td>did not play</td>\n",
       "    </tr>\n",
       "    <tr>\n",
       "      <th>3</th>\n",
       "      <td>3</td>\n",
       "      <td>46</td>\n",
       "      <td>0</td>\n",
       "      <td>0</td>\n",
       "      <td>0</td>\n",
       "      <td>0</td>\n",
       "      <td>0</td>\n",
       "      <td>0</td>\n",
       "      <td>0.0</td>\n",
       "      <td>0</td>\n",
       "      <td>...</td>\n",
       "      <td>0.5</td>\n",
       "      <td>0.590</td>\n",
       "      <td>0.526</td>\n",
       "      <td>1</td>\n",
       "      <td>3</td>\n",
       "      <td>Dust2</td>\n",
       "      <td>Inferno</td>\n",
       "      <td>Nuke</td>\n",
       "      <td>did not play</td>\n",
       "      <td>did not play</td>\n",
       "    </tr>\n",
       "    <tr>\n",
       "      <th>4</th>\n",
       "      <td>7</td>\n",
       "      <td>1</td>\n",
       "      <td>0</td>\n",
       "      <td>0</td>\n",
       "      <td>0</td>\n",
       "      <td>0</td>\n",
       "      <td>0</td>\n",
       "      <td>0</td>\n",
       "      <td>0.0</td>\n",
       "      <td>0</td>\n",
       "      <td>...</td>\n",
       "      <td>0.0</td>\n",
       "      <td>0.000</td>\n",
       "      <td>0.000</td>\n",
       "      <td>1</td>\n",
       "      <td>3</td>\n",
       "      <td>Nuke</td>\n",
       "      <td>Overpass</td>\n",
       "      <td>Mirage</td>\n",
       "      <td>did not play</td>\n",
       "      <td>did not play</td>\n",
       "    </tr>\n",
       "  </tbody>\n",
       "</table>\n",
       "<p>5 rows × 1017 columns</p>\n",
       "</div>"
      ],
      "text/plain": [
       "   team1_world_rank  team2_world_rank  1_47_top5_Times played  1_47_top5_wins  \\\n",
       "0                28                46                       0               0   \n",
       "1                 1               223                       2               2   \n",
       "2                14               101                       0               0   \n",
       "3                 3                46                       0               0   \n",
       "4                 7                 1                       0               0   \n",
       "\n",
       "   1_47_top5_draws  1_47_top5_losses  1_47_top5_Total rounds played  \\\n",
       "0                0                 0                              0   \n",
       "1                0                 0                             54   \n",
       "2                0                 0                              0   \n",
       "3                0                 0                              0   \n",
       "4                0                 0                              0   \n",
       "\n",
       "   1_47_top5_Rounds won  1_47_top5_Win percent  1_47_top5_Pistol rounds  ...  \\\n",
       "0                     0                    0.0                        0  ...   \n",
       "1                    32                    1.0                        4  ...   \n",
       "2                     0                    0.0                        0  ...   \n",
       "3                     0                    0.0                        0  ...   \n",
       "4                     0                    0.0                        0  ...   \n",
       "\n",
       "   2_46_topAll_Pistol round win percent  2_46_topAll_CT round win percent  \\\n",
       "0                                   0.5                             0.590   \n",
       "1                                   0.5                             0.448   \n",
       "2                                   0.0                             0.000   \n",
       "3                                   0.5                             0.590   \n",
       "4                                   0.0                             0.000   \n",
       "\n",
       "   2_46_topAll_T round win percent  result  best_of     1_map     2_map  \\\n",
       "0                            0.526      -1        3      Nuke   Ancient   \n",
       "1                            0.552       1        3    Mirage   Ancient   \n",
       "2                            0.000       1        3  Overpass     Dust2   \n",
       "3                            0.526       1        3     Dust2   Inferno   \n",
       "4                            0.000       1        3      Nuke  Overpass   \n",
       "\n",
       "     3_map         4_map         5_map  \n",
       "0  Inferno  did not play  did not play  \n",
       "1  Inferno  did not play  did not play  \n",
       "2  Vertigo  did not play  did not play  \n",
       "3     Nuke  did not play  did not play  \n",
       "4   Mirage  did not play  did not play  \n",
       "\n",
       "[5 rows x 1017 columns]"
      ]
     },
     "execution_count": 3,
     "metadata": {},
     "output_type": "execute_result"
    }
   ],
   "source": [
    "df = df.drop(['version', 'url', 'number_of_confrontation', 'datetime1', 'ratio1', 'ratio2', 'name1', 'number1', 'name2', 'number2',\n",
    "         'team1_stat_url', 'team2_stat_url'], axis=1)\n",
    "df.head()"
   ]
  },
  {
   "cell_type": "code",
   "execution_count": 4,
   "id": "e460cce0",
   "metadata": {},
   "outputs": [],
   "source": [
    "maps_decoder = LabelEncoder()\n",
    "maps_decoder.fit(df['3_map'])\n",
    "for num_map in range(1,6):\n",
    "    df[f'{num_map}_map'] = maps_decoder.transform(df[f'{num_map}_map'])\n"
   ]
  },
  {
   "cell_type": "code",
   "execution_count": 5,
   "id": "3a1eb512",
   "metadata": {},
   "outputs": [],
   "source": [
    "cv = KFold(shuffle=True, random_state=1)\n",
    "X = df.drop('result', axis=1)\n",
    "y = df['result']"
   ]
  },
  {
   "cell_type": "code",
   "execution_count": 6,
   "id": "f50a7d21",
   "metadata": {},
   "outputs": [],
   "source": [
    "scaler = StandardScaler()\n",
    "X_scaled = scaler.fit_transform(X)"
   ]
  },
  {
   "cell_type": "code",
   "execution_count": 12,
   "id": "c9324d6d",
   "metadata": {},
   "outputs": [],
   "source": [
    "pd.DataFrame(X_scaled).head().iloc[:,:10].to_excel('standart.xlsx')"
   ]
  },
  {
   "cell_type": "markdown",
   "id": "90928d17",
   "metadata": {},
   "source": [
    "<h2>Обучение моделей. Сравнение результатов.</h2>"
   ]
  },
  {
   "cell_type": "code",
   "execution_count": 9,
   "id": "fef4aed2",
   "metadata": {},
   "outputs": [
    {
     "name": "stdout",
     "output_type": "stream",
     "text": [
      "name: Dummy, score: [0.59763314 0.55621302 0.5297619  0.58333333 0.56547619], mean: 0.5664835164835165\n"
     ]
    }
   ],
   "source": [
    "model_dummy = DummyClassifier(strategy=\"most_frequent\")\n",
    "result_dummy = cross_val_score(model_dummy, X_scaled, y, cv=cv)\n",
    "print(f'name: Dummy, score: {result_dummy}, mean: {result_dummy.mean()}')"
   ]
  },
  {
   "cell_type": "markdown",
   "id": "b0ff7a33",
   "metadata": {},
   "source": [
    "<h3>Ошибка перцептрона</h3> "
   ]
  },
  {
   "cell_type": "code",
   "execution_count": 10,
   "id": "b18cd635",
   "metadata": {},
   "outputs": [
    {
     "name": "stdout",
     "output_type": "stream",
     "text": [
      "name: Perceptron, score: [0.56804734 0.56804734 0.56547619 0.61309524 0.58333333], mean: 0.579599887292195\n"
     ]
    }
   ],
   "source": [
    "model_perceptron = Perceptron()\n",
    "result_perceptron = cross_val_score(model_perceptron, X_scaled, y, cv=cv)\n",
    "print(f'name: Perceptron, score: {result_perceptron}, mean: {result_perceptron.mean()}')"
   ]
  },
  {
   "cell_type": "code",
   "execution_count": 11,
   "id": "784ac125",
   "metadata": {},
   "outputs": [],
   "source": [
    "param = {'penalty': ['l2', 'l1'],\n",
    "         'alpha': [10**-6, 10**-5, 10**-4, 10**-3, 10**-2, 10**-1, 10**0, 10**1, 10**2]}"
   ]
  },
  {
   "cell_type": "code",
   "execution_count": 13,
   "id": "e7e61813",
   "metadata": {},
   "outputs": [
    {
     "name": "stdout",
     "output_type": "stream",
     "text": [
      "Wall time: 659 ms\n"
     ]
    },
    {
     "data": {
      "text/plain": [
       "({'alpha': 0.0001, 'penalty': 'l2'}, 0.5973161453930685)"
      ]
     },
     "execution_count": 13,
     "metadata": {},
     "output_type": "execute_result"
    }
   ],
   "source": [
    "%%time\n",
    "grid_search = GridSearchCV(Perceptron(), param,cv=cv, n_jobs=-1)\n",
    "grid_search.fit(X_scaled,y)\n",
    "(grid_search.best_params_, grid_search.best_score_)"
   ]
  },
  {
   "cell_type": "code",
   "execution_count": 17,
   "id": "bf564f37",
   "metadata": {},
   "outputs": [
    {
     "data": {
      "text/html": [
       "<div>\n",
       "<style scoped>\n",
       "    .dataframe tbody tr th:only-of-type {\n",
       "        vertical-align: middle;\n",
       "    }\n",
       "\n",
       "    .dataframe tbody tr th {\n",
       "        vertical-align: top;\n",
       "    }\n",
       "\n",
       "    .dataframe thead th {\n",
       "        text-align: right;\n",
       "    }\n",
       "</style>\n",
       "<table border=\"1\" class=\"dataframe\">\n",
       "  <thead>\n",
       "    <tr style=\"text-align: right;\">\n",
       "      <th></th>\n",
       "      <th>param_alpha</th>\n",
       "      <th>param_penalty</th>\n",
       "      <th>params</th>\n",
       "      <th>split0_test_score</th>\n",
       "      <th>split1_test_score</th>\n",
       "      <th>split2_test_score</th>\n",
       "      <th>split3_test_score</th>\n",
       "      <th>split4_test_score</th>\n",
       "      <th>mean_test_score</th>\n",
       "      <th>std_test_score</th>\n",
       "      <th>rank_test_score</th>\n",
       "    </tr>\n",
       "  </thead>\n",
       "  <tbody>\n",
       "    <tr>\n",
       "      <th>4</th>\n",
       "      <td>0.0001</td>\n",
       "      <td>l2</td>\n",
       "      <td>{'alpha': 0.0001, 'penalty': 'l2'}</td>\n",
       "      <td>0.615385</td>\n",
       "      <td>0.639053</td>\n",
       "      <td>0.583333</td>\n",
       "      <td>0.607143</td>\n",
       "      <td>0.541667</td>\n",
       "      <td>0.597316</td>\n",
       "      <td>0.033038</td>\n",
       "      <td>1</td>\n",
       "    </tr>\n",
       "    <tr>\n",
       "      <th>2</th>\n",
       "      <td>1e-05</td>\n",
       "      <td>l2</td>\n",
       "      <td>{'alpha': 1e-05, 'penalty': 'l2'}</td>\n",
       "      <td>0.609467</td>\n",
       "      <td>0.579882</td>\n",
       "      <td>0.625000</td>\n",
       "      <td>0.559524</td>\n",
       "      <td>0.565476</td>\n",
       "      <td>0.587870</td>\n",
       "      <td>0.025353</td>\n",
       "      <td>2</td>\n",
       "    </tr>\n",
       "    <tr>\n",
       "      <th>3</th>\n",
       "      <td>1e-05</td>\n",
       "      <td>l1</td>\n",
       "      <td>{'alpha': 1e-05, 'penalty': 'l1'}</td>\n",
       "      <td>0.621302</td>\n",
       "      <td>0.579882</td>\n",
       "      <td>0.559524</td>\n",
       "      <td>0.607143</td>\n",
       "      <td>0.571429</td>\n",
       "      <td>0.587856</td>\n",
       "      <td>0.022921</td>\n",
       "      <td>3</td>\n",
       "    </tr>\n",
       "    <tr>\n",
       "      <th>5</th>\n",
       "      <td>0.0001</td>\n",
       "      <td>l1</td>\n",
       "      <td>{'alpha': 0.0001, 'penalty': 'l1'}</td>\n",
       "      <td>0.532544</td>\n",
       "      <td>0.538462</td>\n",
       "      <td>0.619048</td>\n",
       "      <td>0.648810</td>\n",
       "      <td>0.529762</td>\n",
       "      <td>0.573725</td>\n",
       "      <td>0.050128</td>\n",
       "      <td>4</td>\n",
       "    </tr>\n",
       "    <tr>\n",
       "      <th>6</th>\n",
       "      <td>0.001</td>\n",
       "      <td>l2</td>\n",
       "      <td>{'alpha': 0.001, 'penalty': 'l2'}</td>\n",
       "      <td>0.621302</td>\n",
       "      <td>0.502959</td>\n",
       "      <td>0.577381</td>\n",
       "      <td>0.595238</td>\n",
       "      <td>0.565476</td>\n",
       "      <td>0.572471</td>\n",
       "      <td>0.039517</td>\n",
       "      <td>5</td>\n",
       "    </tr>\n",
       "  </tbody>\n",
       "</table>\n",
       "</div>"
      ],
      "text/plain": [
       "  param_alpha param_penalty                              params  \\\n",
       "4      0.0001            l2  {'alpha': 0.0001, 'penalty': 'l2'}   \n",
       "2       1e-05            l2   {'alpha': 1e-05, 'penalty': 'l2'}   \n",
       "3       1e-05            l1   {'alpha': 1e-05, 'penalty': 'l1'}   \n",
       "5      0.0001            l1  {'alpha': 0.0001, 'penalty': 'l1'}   \n",
       "6       0.001            l2   {'alpha': 0.001, 'penalty': 'l2'}   \n",
       "\n",
       "   split0_test_score  split1_test_score  split2_test_score  split3_test_score  \\\n",
       "4           0.615385           0.639053           0.583333           0.607143   \n",
       "2           0.609467           0.579882           0.625000           0.559524   \n",
       "3           0.621302           0.579882           0.559524           0.607143   \n",
       "5           0.532544           0.538462           0.619048           0.648810   \n",
       "6           0.621302           0.502959           0.577381           0.595238   \n",
       "\n",
       "   split4_test_score  mean_test_score  std_test_score  rank_test_score  \n",
       "4           0.541667         0.597316        0.033038                1  \n",
       "2           0.565476         0.587870        0.025353                2  \n",
       "3           0.571429         0.587856        0.022921                3  \n",
       "5           0.529762         0.573725        0.050128                4  \n",
       "6           0.565476         0.572471        0.039517                5  "
      ]
     },
     "execution_count": 17,
     "metadata": {},
     "output_type": "execute_result"
    }
   ],
   "source": [
    "pd.DataFrame(grid_search.cv_results_).sort_values('mean_test_score', ascending=False).iloc[:,4:].head()"
   ]
  },
  {
   "cell_type": "markdown",
   "id": "03a58549",
   "metadata": {},
   "source": [
    "Линейная модель построенная на ошибке перцептрона дала + 1%, что не может не радовать, т.к. другие модели скорее всего дадут более хорошие результаты."
   ]
  },
  {
   "cell_type": "markdown",
   "id": "ee752069",
   "metadata": {},
   "source": [
    "<h3>Метод опорных векторов</h3>"
   ]
  },
  {
   "cell_type": "code",
   "execution_count": 18,
   "id": "70cee6da",
   "metadata": {},
   "outputs": [
    {
     "name": "stdout",
     "output_type": "stream",
     "text": [
      "name: SVM, score: [0.65088757 0.60946746 0.56547619 0.61904762 0.5952381 ], mean: 0.6080233868695408\n",
      "Wall time: 305 ms\n"
     ]
    }
   ],
   "source": [
    "%%time\n",
    "model_svm = SVC()\n",
    "result_svm = cross_val_score(model_svm, X_scaled, y, cv=cv, n_jobs=-1)\n",
    "print(f'name: SVM, score: {result_svm}, mean: {result_svm.mean()}')"
   ]
  },
  {
   "cell_type": "code",
   "execution_count": 19,
   "id": "f430cf79",
   "metadata": {},
   "outputs": [],
   "source": [
    "param = {'C': [10**-3, 10**-2, 10**-1, 10**0, 10**1],\n",
    "         'kernel': ['rbf', 'poly', 'sigmoid']}"
   ]
  },
  {
   "cell_type": "code",
   "execution_count": 20,
   "id": "d3f1e6cc",
   "metadata": {},
   "outputs": [
    {
     "name": "stdout",
     "output_type": "stream",
     "text": [
      "Wall time: 8.52 s\n"
     ]
    },
    {
     "data": {
      "text/plain": [
       "({'C': 1, 'kernel': 'sigmoid'}, 0.6151451112989574)"
      ]
     },
     "execution_count": 20,
     "metadata": {},
     "output_type": "execute_result"
    }
   ],
   "source": [
    "%%time\n",
    "grid_search = GridSearchCV(SVC(), param,cv=cv, n_jobs=-1)\n",
    "grid_search.fit(X_scaled,y)\n",
    "(grid_search.best_params_, grid_search.best_score_)"
   ]
  },
  {
   "cell_type": "code",
   "execution_count": 21,
   "id": "2a854858",
   "metadata": {},
   "outputs": [
    {
     "data": {
      "text/html": [
       "<div>\n",
       "<style scoped>\n",
       "    .dataframe tbody tr th:only-of-type {\n",
       "        vertical-align: middle;\n",
       "    }\n",
       "\n",
       "    .dataframe tbody tr th {\n",
       "        vertical-align: top;\n",
       "    }\n",
       "\n",
       "    .dataframe thead th {\n",
       "        text-align: right;\n",
       "    }\n",
       "</style>\n",
       "<table border=\"1\" class=\"dataframe\">\n",
       "  <thead>\n",
       "    <tr style=\"text-align: right;\">\n",
       "      <th></th>\n",
       "      <th>param_C</th>\n",
       "      <th>param_kernel</th>\n",
       "      <th>params</th>\n",
       "      <th>split0_test_score</th>\n",
       "      <th>split1_test_score</th>\n",
       "      <th>split2_test_score</th>\n",
       "      <th>split3_test_score</th>\n",
       "      <th>split4_test_score</th>\n",
       "      <th>mean_test_score</th>\n",
       "      <th>std_test_score</th>\n",
       "      <th>rank_test_score</th>\n",
       "    </tr>\n",
       "  </thead>\n",
       "  <tbody>\n",
       "    <tr>\n",
       "      <th>11</th>\n",
       "      <td>1</td>\n",
       "      <td>sigmoid</td>\n",
       "      <td>{'C': 1, 'kernel': 'sigmoid'}</td>\n",
       "      <td>0.650888</td>\n",
       "      <td>0.627219</td>\n",
       "      <td>0.553571</td>\n",
       "      <td>0.613095</td>\n",
       "      <td>0.630952</td>\n",
       "      <td>0.615145</td>\n",
       "      <td>0.033072</td>\n",
       "      <td>1</td>\n",
       "    </tr>\n",
       "    <tr>\n",
       "      <th>9</th>\n",
       "      <td>1</td>\n",
       "      <td>rbf</td>\n",
       "      <td>{'C': 1, 'kernel': 'rbf'}</td>\n",
       "      <td>0.650888</td>\n",
       "      <td>0.609467</td>\n",
       "      <td>0.565476</td>\n",
       "      <td>0.619048</td>\n",
       "      <td>0.595238</td>\n",
       "      <td>0.608023</td>\n",
       "      <td>0.028052</td>\n",
       "      <td>2</td>\n",
       "    </tr>\n",
       "    <tr>\n",
       "      <th>12</th>\n",
       "      <td>10</td>\n",
       "      <td>rbf</td>\n",
       "      <td>{'C': 10, 'kernel': 'rbf'}</td>\n",
       "      <td>0.603550</td>\n",
       "      <td>0.603550</td>\n",
       "      <td>0.607143</td>\n",
       "      <td>0.583333</td>\n",
       "      <td>0.589286</td>\n",
       "      <td>0.597372</td>\n",
       "      <td>0.009320</td>\n",
       "      <td>3</td>\n",
       "    </tr>\n",
       "    <tr>\n",
       "      <th>8</th>\n",
       "      <td>0.1</td>\n",
       "      <td>sigmoid</td>\n",
       "      <td>{'C': 0.1, 'kernel': 'sigmoid'}</td>\n",
       "      <td>0.609467</td>\n",
       "      <td>0.591716</td>\n",
       "      <td>0.547619</td>\n",
       "      <td>0.625000</td>\n",
       "      <td>0.571429</td>\n",
       "      <td>0.589046</td>\n",
       "      <td>0.027362</td>\n",
       "      <td>4</td>\n",
       "    </tr>\n",
       "    <tr>\n",
       "      <th>10</th>\n",
       "      <td>1</td>\n",
       "      <td>poly</td>\n",
       "      <td>{'C': 1, 'kernel': 'poly'}</td>\n",
       "      <td>0.621302</td>\n",
       "      <td>0.579882</td>\n",
       "      <td>0.559524</td>\n",
       "      <td>0.601190</td>\n",
       "      <td>0.559524</td>\n",
       "      <td>0.584284</td>\n",
       "      <td>0.024090</td>\n",
       "      <td>5</td>\n",
       "    </tr>\n",
       "  </tbody>\n",
       "</table>\n",
       "</div>"
      ],
      "text/plain": [
       "   param_C param_kernel                           params  split0_test_score  \\\n",
       "11       1      sigmoid    {'C': 1, 'kernel': 'sigmoid'}           0.650888   \n",
       "9        1          rbf        {'C': 1, 'kernel': 'rbf'}           0.650888   \n",
       "12      10          rbf       {'C': 10, 'kernel': 'rbf'}           0.603550   \n",
       "8      0.1      sigmoid  {'C': 0.1, 'kernel': 'sigmoid'}           0.609467   \n",
       "10       1         poly       {'C': 1, 'kernel': 'poly'}           0.621302   \n",
       "\n",
       "    split1_test_score  split2_test_score  split3_test_score  \\\n",
       "11           0.627219           0.553571           0.613095   \n",
       "9            0.609467           0.565476           0.619048   \n",
       "12           0.603550           0.607143           0.583333   \n",
       "8            0.591716           0.547619           0.625000   \n",
       "10           0.579882           0.559524           0.601190   \n",
       "\n",
       "    split4_test_score  mean_test_score  std_test_score  rank_test_score  \n",
       "11           0.630952         0.615145        0.033072                1  \n",
       "9            0.595238         0.608023        0.028052                2  \n",
       "12           0.589286         0.597372        0.009320                3  \n",
       "8            0.571429         0.589046        0.027362                4  \n",
       "10           0.559524         0.584284        0.024090                5  "
      ]
     },
     "execution_count": 21,
     "metadata": {},
     "output_type": "execute_result"
    }
   ],
   "source": [
    "pd.DataFrame(grid_search.cv_results_).sort_values('mean_test_score', ascending=False).iloc[:,4:].head()"
   ]
  },
  {
   "cell_type": "code",
   "execution_count": 22,
   "id": "ed0a0bf5",
   "metadata": {},
   "outputs": [],
   "source": [
    "param = {'C': [1],\n",
    "         'kernel': ['poly'],\n",
    "         'degree': range(1,11)}"
   ]
  },
  {
   "cell_type": "code",
   "execution_count": 23,
   "id": "76f2d627",
   "metadata": {},
   "outputs": [
    {
     "name": "stdout",
     "output_type": "stream",
     "text": [
      "Wall time: 6.25 s\n"
     ]
    },
    {
     "data": {
      "text/plain": [
       "({'C': 1, 'degree': 1, 'kernel': 'poly'}, 0.6127712031558186)"
      ]
     },
     "execution_count": 23,
     "metadata": {},
     "output_type": "execute_result"
    }
   ],
   "source": [
    "%%time\n",
    "grid_search = GridSearchCV(SVC(), param,cv=cv, n_jobs=-1)\n",
    "grid_search.fit(X_scaled,y)\n",
    "(grid_search.best_params_, grid_search.best_score_)"
   ]
  },
  {
   "cell_type": "code",
   "execution_count": 24,
   "id": "4ff0b6b2",
   "metadata": {},
   "outputs": [
    {
     "data": {
      "text/html": [
       "<div>\n",
       "<style scoped>\n",
       "    .dataframe tbody tr th:only-of-type {\n",
       "        vertical-align: middle;\n",
       "    }\n",
       "\n",
       "    .dataframe tbody tr th {\n",
       "        vertical-align: top;\n",
       "    }\n",
       "\n",
       "    .dataframe thead th {\n",
       "        text-align: right;\n",
       "    }\n",
       "</style>\n",
       "<table border=\"1\" class=\"dataframe\">\n",
       "  <thead>\n",
       "    <tr style=\"text-align: right;\">\n",
       "      <th></th>\n",
       "      <th>param_C</th>\n",
       "      <th>param_degree</th>\n",
       "      <th>param_kernel</th>\n",
       "      <th>params</th>\n",
       "      <th>split0_test_score</th>\n",
       "      <th>split1_test_score</th>\n",
       "      <th>split2_test_score</th>\n",
       "      <th>split3_test_score</th>\n",
       "      <th>split4_test_score</th>\n",
       "      <th>mean_test_score</th>\n",
       "      <th>std_test_score</th>\n",
       "      <th>rank_test_score</th>\n",
       "    </tr>\n",
       "  </thead>\n",
       "  <tbody>\n",
       "    <tr>\n",
       "      <th>0</th>\n",
       "      <td>1</td>\n",
       "      <td>1</td>\n",
       "      <td>poly</td>\n",
       "      <td>{'C': 1, 'degree': 1, 'kernel': 'poly'}</td>\n",
       "      <td>0.662722</td>\n",
       "      <td>0.609467</td>\n",
       "      <td>0.577381</td>\n",
       "      <td>0.613095</td>\n",
       "      <td>0.601190</td>\n",
       "      <td>0.612771</td>\n",
       "      <td>0.027902</td>\n",
       "      <td>1</td>\n",
       "    </tr>\n",
       "    <tr>\n",
       "      <th>1</th>\n",
       "      <td>1</td>\n",
       "      <td>2</td>\n",
       "      <td>poly</td>\n",
       "      <td>{'C': 1, 'degree': 2, 'kernel': 'poly'}</td>\n",
       "      <td>0.609467</td>\n",
       "      <td>0.597633</td>\n",
       "      <td>0.583333</td>\n",
       "      <td>0.613095</td>\n",
       "      <td>0.571429</td>\n",
       "      <td>0.594992</td>\n",
       "      <td>0.015719</td>\n",
       "      <td>2</td>\n",
       "    </tr>\n",
       "    <tr>\n",
       "      <th>2</th>\n",
       "      <td>1</td>\n",
       "      <td>3</td>\n",
       "      <td>poly</td>\n",
       "      <td>{'C': 1, 'degree': 3, 'kernel': 'poly'}</td>\n",
       "      <td>0.621302</td>\n",
       "      <td>0.579882</td>\n",
       "      <td>0.559524</td>\n",
       "      <td>0.601190</td>\n",
       "      <td>0.559524</td>\n",
       "      <td>0.584284</td>\n",
       "      <td>0.024090</td>\n",
       "      <td>3</td>\n",
       "    </tr>\n",
       "    <tr>\n",
       "      <th>6</th>\n",
       "      <td>1</td>\n",
       "      <td>7</td>\n",
       "      <td>poly</td>\n",
       "      <td>{'C': 1, 'degree': 7, 'kernel': 'poly'}</td>\n",
       "      <td>0.603550</td>\n",
       "      <td>0.568047</td>\n",
       "      <td>0.559524</td>\n",
       "      <td>0.595238</td>\n",
       "      <td>0.571429</td>\n",
       "      <td>0.579558</td>\n",
       "      <td>0.016861</td>\n",
       "      <td>4</td>\n",
       "    </tr>\n",
       "    <tr>\n",
       "      <th>3</th>\n",
       "      <td>1</td>\n",
       "      <td>4</td>\n",
       "      <td>poly</td>\n",
       "      <td>{'C': 1, 'degree': 4, 'kernel': 'poly'}</td>\n",
       "      <td>0.603550</td>\n",
       "      <td>0.573964</td>\n",
       "      <td>0.565476</td>\n",
       "      <td>0.601190</td>\n",
       "      <td>0.553571</td>\n",
       "      <td>0.579551</td>\n",
       "      <td>0.019741</td>\n",
       "      <td>5</td>\n",
       "    </tr>\n",
       "  </tbody>\n",
       "</table>\n",
       "</div>"
      ],
      "text/plain": [
       "  param_C param_degree param_kernel                                   params  \\\n",
       "0       1            1         poly  {'C': 1, 'degree': 1, 'kernel': 'poly'}   \n",
       "1       1            2         poly  {'C': 1, 'degree': 2, 'kernel': 'poly'}   \n",
       "2       1            3         poly  {'C': 1, 'degree': 3, 'kernel': 'poly'}   \n",
       "6       1            7         poly  {'C': 1, 'degree': 7, 'kernel': 'poly'}   \n",
       "3       1            4         poly  {'C': 1, 'degree': 4, 'kernel': 'poly'}   \n",
       "\n",
       "   split0_test_score  split1_test_score  split2_test_score  split3_test_score  \\\n",
       "0           0.662722           0.609467           0.577381           0.613095   \n",
       "1           0.609467           0.597633           0.583333           0.613095   \n",
       "2           0.621302           0.579882           0.559524           0.601190   \n",
       "6           0.603550           0.568047           0.559524           0.595238   \n",
       "3           0.603550           0.573964           0.565476           0.601190   \n",
       "\n",
       "   split4_test_score  mean_test_score  std_test_score  rank_test_score  \n",
       "0           0.601190         0.612771        0.027902                1  \n",
       "1           0.571429         0.594992        0.015719                2  \n",
       "2           0.559524         0.584284        0.024090                3  \n",
       "6           0.571429         0.579558        0.016861                4  \n",
       "3           0.553571         0.579551        0.019741                5  "
      ]
     },
     "execution_count": 24,
     "metadata": {},
     "output_type": "execute_result"
    }
   ],
   "source": [
    "pd.DataFrame(grid_search.cv_results_).sort_values('mean_test_score', ascending=False).iloc[:,4:].head()"
   ]
  },
  {
   "cell_type": "markdown",
   "id": "07d34fd6",
   "metadata": {},
   "source": [
    "SVM ведет себя не плохо, но показывает большой разброс на разных сплитах, что печально."
   ]
  },
  {
   "cell_type": "markdown",
   "id": "34f35ced",
   "metadata": {},
   "source": [
    "<h3>Дерево решений.</h3>"
   ]
  },
  {
   "cell_type": "code",
   "execution_count": 27,
   "id": "9e6f3def",
   "metadata": {},
   "outputs": [
    {
     "name": "stdout",
     "output_type": "stream",
     "text": [
      "name: Tree, score: [0.56213018 0.4852071  0.55357143 0.54761905 0.54166667], mean: 0.5380388841927304\n",
      "Wall time: 264 ms\n"
     ]
    }
   ],
   "source": [
    "%%time\n",
    "model_tree = DecisionTreeClassifier()\n",
    "result_tree = cross_val_score(model_tree, X_scaled, y, cv=cv, n_jobs=-1)\n",
    "print(f'name: Tree, score: {result_tree}, mean: {result_tree.mean()}')"
   ]
  },
  {
   "cell_type": "code",
   "execution_count": 26,
   "id": "fafaf105",
   "metadata": {},
   "outputs": [],
   "source": [
    "param = {'criterion': ['gini', 'entropy'],\n",
    "         'max_depth': range(2,50)}"
   ]
  },
  {
   "cell_type": "code",
   "execution_count": 28,
   "id": "ee1b6a51",
   "metadata": {},
   "outputs": [
    {
     "name": "stdout",
     "output_type": "stream",
     "text": [
      "Wall time: 6.06 s\n"
     ]
    },
    {
     "data": {
      "text/plain": [
       "({'criterion': 'entropy', 'max_depth': 3}, 0.579613975767822)"
      ]
     },
     "execution_count": 28,
     "metadata": {},
     "output_type": "execute_result"
    }
   ],
   "source": [
    "%%time\n",
    "grid_search = GridSearchCV(DecisionTreeClassifier(), param,cv=cv, n_jobs=-1)\n",
    "grid_search.fit(X_scaled,y)\n",
    "(grid_search.best_params_, grid_search.best_score_)"
   ]
  },
  {
   "cell_type": "code",
   "execution_count": 29,
   "id": "40191b49",
   "metadata": {},
   "outputs": [
    {
     "data": {
      "text/html": [
       "<div>\n",
       "<style scoped>\n",
       "    .dataframe tbody tr th:only-of-type {\n",
       "        vertical-align: middle;\n",
       "    }\n",
       "\n",
       "    .dataframe tbody tr th {\n",
       "        vertical-align: top;\n",
       "    }\n",
       "\n",
       "    .dataframe thead th {\n",
       "        text-align: right;\n",
       "    }\n",
       "</style>\n",
       "<table border=\"1\" class=\"dataframe\">\n",
       "  <thead>\n",
       "    <tr style=\"text-align: right;\">\n",
       "      <th></th>\n",
       "      <th>param_criterion</th>\n",
       "      <th>param_max_depth</th>\n",
       "      <th>params</th>\n",
       "      <th>split0_test_score</th>\n",
       "      <th>split1_test_score</th>\n",
       "      <th>split2_test_score</th>\n",
       "      <th>split3_test_score</th>\n",
       "      <th>split4_test_score</th>\n",
       "      <th>mean_test_score</th>\n",
       "      <th>std_test_score</th>\n",
       "      <th>rank_test_score</th>\n",
       "    </tr>\n",
       "  </thead>\n",
       "  <tbody>\n",
       "    <tr>\n",
       "      <th>49</th>\n",
       "      <td>entropy</td>\n",
       "      <td>3</td>\n",
       "      <td>{'criterion': 'entropy', 'max_depth': 3}</td>\n",
       "      <td>0.579882</td>\n",
       "      <td>0.544379</td>\n",
       "      <td>0.589286</td>\n",
       "      <td>0.595238</td>\n",
       "      <td>0.589286</td>\n",
       "      <td>0.579614</td>\n",
       "      <td>0.018291</td>\n",
       "      <td>1</td>\n",
       "    </tr>\n",
       "    <tr>\n",
       "      <th>1</th>\n",
       "      <td>gini</td>\n",
       "      <td>3</td>\n",
       "      <td>{'criterion': 'gini', 'max_depth': 3}</td>\n",
       "      <td>0.597633</td>\n",
       "      <td>0.550296</td>\n",
       "      <td>0.571429</td>\n",
       "      <td>0.595238</td>\n",
       "      <td>0.583333</td>\n",
       "      <td>0.579586</td>\n",
       "      <td>0.017373</td>\n",
       "      <td>2</td>\n",
       "    </tr>\n",
       "    <tr>\n",
       "      <th>51</th>\n",
       "      <td>entropy</td>\n",
       "      <td>5</td>\n",
       "      <td>{'criterion': 'entropy', 'max_depth': 5}</td>\n",
       "      <td>0.621302</td>\n",
       "      <td>0.538462</td>\n",
       "      <td>0.553571</td>\n",
       "      <td>0.583333</td>\n",
       "      <td>0.595238</td>\n",
       "      <td>0.578381</td>\n",
       "      <td>0.029530</td>\n",
       "      <td>3</td>\n",
       "    </tr>\n",
       "    <tr>\n",
       "      <th>80</th>\n",
       "      <td>entropy</td>\n",
       "      <td>34</td>\n",
       "      <td>{'criterion': 'entropy', 'max_depth': 34}</td>\n",
       "      <td>0.597633</td>\n",
       "      <td>0.538462</td>\n",
       "      <td>0.559524</td>\n",
       "      <td>0.601190</td>\n",
       "      <td>0.583333</td>\n",
       "      <td>0.576028</td>\n",
       "      <td>0.023820</td>\n",
       "      <td>4</td>\n",
       "    </tr>\n",
       "    <tr>\n",
       "      <th>86</th>\n",
       "      <td>entropy</td>\n",
       "      <td>40</td>\n",
       "      <td>{'criterion': 'entropy', 'max_depth': 40}</td>\n",
       "      <td>0.585799</td>\n",
       "      <td>0.579882</td>\n",
       "      <td>0.559524</td>\n",
       "      <td>0.589286</td>\n",
       "      <td>0.565476</td>\n",
       "      <td>0.575993</td>\n",
       "      <td>0.011574</td>\n",
       "      <td>5</td>\n",
       "    </tr>\n",
       "  </tbody>\n",
       "</table>\n",
       "</div>"
      ],
      "text/plain": [
       "   param_criterion param_max_depth                                     params  \\\n",
       "49         entropy               3   {'criterion': 'entropy', 'max_depth': 3}   \n",
       "1             gini               3      {'criterion': 'gini', 'max_depth': 3}   \n",
       "51         entropy               5   {'criterion': 'entropy', 'max_depth': 5}   \n",
       "80         entropy              34  {'criterion': 'entropy', 'max_depth': 34}   \n",
       "86         entropy              40  {'criterion': 'entropy', 'max_depth': 40}   \n",
       "\n",
       "    split0_test_score  split1_test_score  split2_test_score  \\\n",
       "49           0.579882           0.544379           0.589286   \n",
       "1            0.597633           0.550296           0.571429   \n",
       "51           0.621302           0.538462           0.553571   \n",
       "80           0.597633           0.538462           0.559524   \n",
       "86           0.585799           0.579882           0.559524   \n",
       "\n",
       "    split3_test_score  split4_test_score  mean_test_score  std_test_score  \\\n",
       "49           0.595238           0.589286         0.579614        0.018291   \n",
       "1            0.595238           0.583333         0.579586        0.017373   \n",
       "51           0.583333           0.595238         0.578381        0.029530   \n",
       "80           0.601190           0.583333         0.576028        0.023820   \n",
       "86           0.589286           0.565476         0.575993        0.011574   \n",
       "\n",
       "    rank_test_score  \n",
       "49                1  \n",
       "1                 2  \n",
       "51                3  \n",
       "80                4  \n",
       "86                5  "
      ]
     },
     "execution_count": 29,
     "metadata": {},
     "output_type": "execute_result"
    }
   ],
   "source": [
    "pd.DataFrame(grid_search.cv_results_).sort_values('mean_test_score', ascending=False).iloc[:,4:].head()"
   ]
  },
  {
   "cell_type": "markdown",
   "id": "d711864c",
   "metadata": {},
   "source": [
    "Интересно, что здесь результаты хуже чем в прошлый раз с деревьями"
   ]
  },
  {
   "cell_type": "markdown",
   "id": "4cbe8b31",
   "metadata": {},
   "source": [
    "<h3>Логистическая регрессия</h3>"
   ]
  },
  {
   "cell_type": "code",
   "execution_count": 31,
   "id": "4b092384",
   "metadata": {},
   "outputs": [
    {
     "name": "stdout",
     "output_type": "stream",
     "text": [
      "name: LogisticRegression, score: [0.57988166 0.59171598 0.60119048 0.58333333 0.53571429], mean: 0.5783671456748379\n",
      "Wall time: 194 ms\n"
     ]
    }
   ],
   "source": [
    "%%time\n",
    "model_log = LogisticRegression()\n",
    "result_log = cross_val_score(model_log, X_scaled, y, cv=cv, n_jobs=-1)\n",
    "print(f'name: LogisticRegression, score: {result_log}, mean: {result_log.mean()}')"
   ]
  },
  {
   "cell_type": "code",
   "execution_count": 32,
   "id": "10b76a05",
   "metadata": {},
   "outputs": [],
   "source": [
    "param = {'C': [10**-3, 10**-2, 10**-1, 10**0, 10**1]}"
   ]
  },
  {
   "cell_type": "code",
   "execution_count": 34,
   "id": "4c0612c5",
   "metadata": {},
   "outputs": [
    {
     "name": "stdout",
     "output_type": "stream",
     "text": [
      "Wall time: 856 ms\n"
     ]
    },
    {
     "data": {
      "text/plain": [
       "({'C': 0.01}, 0.6222879684418146)"
      ]
     },
     "execution_count": 34,
     "metadata": {},
     "output_type": "execute_result"
    }
   ],
   "source": [
    "%%time\n",
    "grid_search = GridSearchCV(LogisticRegression(), param,cv=cv, n_jobs=-1)\n",
    "grid_search.fit(X_scaled,y)\n",
    "(grid_search.best_params_, grid_search.best_score_)"
   ]
  },
  {
   "cell_type": "code",
   "execution_count": 35,
   "id": "34264c14",
   "metadata": {},
   "outputs": [
    {
     "data": {
      "text/html": [
       "<div>\n",
       "<style scoped>\n",
       "    .dataframe tbody tr th:only-of-type {\n",
       "        vertical-align: middle;\n",
       "    }\n",
       "\n",
       "    .dataframe tbody tr th {\n",
       "        vertical-align: top;\n",
       "    }\n",
       "\n",
       "    .dataframe thead th {\n",
       "        text-align: right;\n",
       "    }\n",
       "</style>\n",
       "<table border=\"1\" class=\"dataframe\">\n",
       "  <thead>\n",
       "    <tr style=\"text-align: right;\">\n",
       "      <th></th>\n",
       "      <th>param_C</th>\n",
       "      <th>params</th>\n",
       "      <th>split0_test_score</th>\n",
       "      <th>split1_test_score</th>\n",
       "      <th>split2_test_score</th>\n",
       "      <th>split3_test_score</th>\n",
       "      <th>split4_test_score</th>\n",
       "      <th>mean_test_score</th>\n",
       "      <th>std_test_score</th>\n",
       "      <th>rank_test_score</th>\n",
       "    </tr>\n",
       "  </thead>\n",
       "  <tbody>\n",
       "    <tr>\n",
       "      <th>1</th>\n",
       "      <td>0.01</td>\n",
       "      <td>{'C': 0.01}</td>\n",
       "      <td>0.650888</td>\n",
       "      <td>0.627219</td>\n",
       "      <td>0.613095</td>\n",
       "      <td>0.625000</td>\n",
       "      <td>0.595238</td>\n",
       "      <td>0.622288</td>\n",
       "      <td>0.018253</td>\n",
       "      <td>1</td>\n",
       "    </tr>\n",
       "    <tr>\n",
       "      <th>2</th>\n",
       "      <td>0.1</td>\n",
       "      <td>{'C': 0.1}</td>\n",
       "      <td>0.627219</td>\n",
       "      <td>0.597633</td>\n",
       "      <td>0.630952</td>\n",
       "      <td>0.642857</td>\n",
       "      <td>0.577381</td>\n",
       "      <td>0.615209</td>\n",
       "      <td>0.024068</td>\n",
       "      <td>2</td>\n",
       "    </tr>\n",
       "    <tr>\n",
       "      <th>0</th>\n",
       "      <td>0.001</td>\n",
       "      <td>{'C': 0.001}</td>\n",
       "      <td>0.633136</td>\n",
       "      <td>0.615385</td>\n",
       "      <td>0.595238</td>\n",
       "      <td>0.607143</td>\n",
       "      <td>0.613095</td>\n",
       "      <td>0.612799</td>\n",
       "      <td>0.012335</td>\n",
       "      <td>3</td>\n",
       "    </tr>\n",
       "    <tr>\n",
       "      <th>3</th>\n",
       "      <td>1</td>\n",
       "      <td>{'C': 1}</td>\n",
       "      <td>0.579882</td>\n",
       "      <td>0.591716</td>\n",
       "      <td>0.601190</td>\n",
       "      <td>0.583333</td>\n",
       "      <td>0.535714</td>\n",
       "      <td>0.578367</td>\n",
       "      <td>0.022562</td>\n",
       "      <td>4</td>\n",
       "    </tr>\n",
       "    <tr>\n",
       "      <th>4</th>\n",
       "      <td>10</td>\n",
       "      <td>{'C': 10}</td>\n",
       "      <td>0.562130</td>\n",
       "      <td>0.579882</td>\n",
       "      <td>0.595238</td>\n",
       "      <td>0.571429</td>\n",
       "      <td>0.523810</td>\n",
       "      <td>0.566498</td>\n",
       "      <td>0.023962</td>\n",
       "      <td>5</td>\n",
       "    </tr>\n",
       "  </tbody>\n",
       "</table>\n",
       "</div>"
      ],
      "text/plain": [
       "  param_C        params  split0_test_score  split1_test_score  \\\n",
       "1    0.01   {'C': 0.01}           0.650888           0.627219   \n",
       "2     0.1    {'C': 0.1}           0.627219           0.597633   \n",
       "0   0.001  {'C': 0.001}           0.633136           0.615385   \n",
       "3       1      {'C': 1}           0.579882           0.591716   \n",
       "4      10     {'C': 10}           0.562130           0.579882   \n",
       "\n",
       "   split2_test_score  split3_test_score  split4_test_score  mean_test_score  \\\n",
       "1           0.613095           0.625000           0.595238         0.622288   \n",
       "2           0.630952           0.642857           0.577381         0.615209   \n",
       "0           0.595238           0.607143           0.613095         0.612799   \n",
       "3           0.601190           0.583333           0.535714         0.578367   \n",
       "4           0.595238           0.571429           0.523810         0.566498   \n",
       "\n",
       "   std_test_score  rank_test_score  \n",
       "1        0.018253                1  \n",
       "2        0.024068                2  \n",
       "0        0.012335                3  \n",
       "3        0.022562                4  \n",
       "4        0.023962                5  "
      ]
     },
     "execution_count": 35,
     "metadata": {},
     "output_type": "execute_result"
    }
   ],
   "source": [
    "pd.DataFrame(grid_search.cv_results_).sort_values('mean_test_score', ascending=False).iloc[:,4:].head(10)"
   ]
  },
  {
   "cell_type": "markdown",
   "id": "48807a81",
   "metadata": {},
   "source": [
    "На целый процент прибавили"
   ]
  },
  {
   "cell_type": "markdown",
   "id": "46975ab0",
   "metadata": {},
   "source": [
    "<h3>Случайный лес</h3>"
   ]
  },
  {
   "cell_type": "code",
   "execution_count": 36,
   "id": "41a40c9b",
   "metadata": {},
   "outputs": [
    {
     "name": "stdout",
     "output_type": "stream",
     "text": [
      "name: RandomForestClassifier, score: [0.63905325 0.60946746 0.5952381  0.625      0.58928571], mean: 0.6116089039165963\n",
      "Wall time: 479 ms\n"
     ]
    }
   ],
   "source": [
    "%%time\n",
    "model_rf = RandomForestClassifier()\n",
    "result_fr = cross_val_score(model_rf, X_scaled, y, cv=cv, n_jobs=-1)\n",
    "print(f'name: RandomForestClassifier, score: {result_fr}, mean: {result_fr.mean()}')"
   ]
  },
  {
   "cell_type": "code",
   "execution_count": 37,
   "id": "4cf24e40",
   "metadata": {},
   "outputs": [],
   "source": [
    "param = {'n_estimators': [100,200,500,1000,2000],\n",
    "         'criterion': ['gini', 'entropy'],\n",
    "         'max_depth': range(1,51,10)}"
   ]
  },
  {
   "cell_type": "code",
   "execution_count": 38,
   "id": "d6a6c8a5",
   "metadata": {},
   "outputs": [
    {
     "name": "stdout",
     "output_type": "stream",
     "text": [
      "Wall time: 1min 14s\n"
     ]
    },
    {
     "data": {
      "text/plain": [
       "({'criterion': 'gini', 'max_depth': 31, 'n_estimators': 100},\n",
       " 0.6246900535362074)"
      ]
     },
     "execution_count": 38,
     "metadata": {},
     "output_type": "execute_result"
    }
   ],
   "source": [
    "%%time\n",
    "grid_search = GridSearchCV(RandomForestClassifier(n_jobs=-1), param,cv=cv, n_jobs=-1)\n",
    "grid_search.fit(X_scaled,y)\n",
    "(grid_search.best_params_, grid_search.best_score_)"
   ]
  },
  {
   "cell_type": "code",
   "execution_count": 40,
   "id": "7d65b45e",
   "metadata": {},
   "outputs": [
    {
     "data": {
      "text/html": [
       "<div>\n",
       "<style scoped>\n",
       "    .dataframe tbody tr th:only-of-type {\n",
       "        vertical-align: middle;\n",
       "    }\n",
       "\n",
       "    .dataframe tbody tr th {\n",
       "        vertical-align: top;\n",
       "    }\n",
       "\n",
       "    .dataframe thead th {\n",
       "        text-align: right;\n",
       "    }\n",
       "</style>\n",
       "<table border=\"1\" class=\"dataframe\">\n",
       "  <thead>\n",
       "    <tr style=\"text-align: right;\">\n",
       "      <th></th>\n",
       "      <th>param_criterion</th>\n",
       "      <th>param_max_depth</th>\n",
       "      <th>param_n_estimators</th>\n",
       "      <th>params</th>\n",
       "      <th>split0_test_score</th>\n",
       "      <th>split1_test_score</th>\n",
       "      <th>split2_test_score</th>\n",
       "      <th>split3_test_score</th>\n",
       "      <th>split4_test_score</th>\n",
       "      <th>mean_test_score</th>\n",
       "      <th>std_test_score</th>\n",
       "      <th>rank_test_score</th>\n",
       "    </tr>\n",
       "  </thead>\n",
       "  <tbody>\n",
       "    <tr>\n",
       "      <th>15</th>\n",
       "      <td>gini</td>\n",
       "      <td>31</td>\n",
       "      <td>100</td>\n",
       "      <td>{'criterion': 'gini', 'max_depth': 31, 'n_esti...</td>\n",
       "      <td>0.633136</td>\n",
       "      <td>0.627219</td>\n",
       "      <td>0.642857</td>\n",
       "      <td>0.613095</td>\n",
       "      <td>0.607143</td>\n",
       "      <td>0.624690</td>\n",
       "      <td>0.013039</td>\n",
       "      <td>1</td>\n",
       "    </tr>\n",
       "    <tr>\n",
       "      <th>11</th>\n",
       "      <td>gini</td>\n",
       "      <td>21</td>\n",
       "      <td>200</td>\n",
       "      <td>{'criterion': 'gini', 'max_depth': 21, 'n_esti...</td>\n",
       "      <td>0.644970</td>\n",
       "      <td>0.644970</td>\n",
       "      <td>0.619048</td>\n",
       "      <td>0.613095</td>\n",
       "      <td>0.601190</td>\n",
       "      <td>0.624655</td>\n",
       "      <td>0.017556</td>\n",
       "      <td>2</td>\n",
       "    </tr>\n",
       "    <tr>\n",
       "      <th>36</th>\n",
       "      <td>entropy</td>\n",
       "      <td>21</td>\n",
       "      <td>200</td>\n",
       "      <td>{'criterion': 'entropy', 'max_depth': 21, 'n_e...</td>\n",
       "      <td>0.662722</td>\n",
       "      <td>0.639053</td>\n",
       "      <td>0.625000</td>\n",
       "      <td>0.601190</td>\n",
       "      <td>0.595238</td>\n",
       "      <td>0.624641</td>\n",
       "      <td>0.024789</td>\n",
       "      <td>3</td>\n",
       "    </tr>\n",
       "    <tr>\n",
       "      <th>13</th>\n",
       "      <td>gini</td>\n",
       "      <td>21</td>\n",
       "      <td>1000</td>\n",
       "      <td>{'criterion': 'gini', 'max_depth': 21, 'n_esti...</td>\n",
       "      <td>0.650888</td>\n",
       "      <td>0.639053</td>\n",
       "      <td>0.625000</td>\n",
       "      <td>0.613095</td>\n",
       "      <td>0.589286</td>\n",
       "      <td>0.623464</td>\n",
       "      <td>0.021322</td>\n",
       "      <td>4</td>\n",
       "    </tr>\n",
       "    <tr>\n",
       "      <th>46</th>\n",
       "      <td>entropy</td>\n",
       "      <td>41</td>\n",
       "      <td>200</td>\n",
       "      <td>{'criterion': 'entropy', 'max_depth': 41, 'n_e...</td>\n",
       "      <td>0.650888</td>\n",
       "      <td>0.639053</td>\n",
       "      <td>0.607143</td>\n",
       "      <td>0.630952</td>\n",
       "      <td>0.583333</td>\n",
       "      <td>0.622274</td>\n",
       "      <td>0.024170</td>\n",
       "      <td>5</td>\n",
       "    </tr>\n",
       "  </tbody>\n",
       "</table>\n",
       "</div>"
      ],
      "text/plain": [
       "   param_criterion param_max_depth param_n_estimators  \\\n",
       "15            gini              31                100   \n",
       "11            gini              21                200   \n",
       "36         entropy              21                200   \n",
       "13            gini              21               1000   \n",
       "46         entropy              41                200   \n",
       "\n",
       "                                               params  split0_test_score  \\\n",
       "15  {'criterion': 'gini', 'max_depth': 31, 'n_esti...           0.633136   \n",
       "11  {'criterion': 'gini', 'max_depth': 21, 'n_esti...           0.644970   \n",
       "36  {'criterion': 'entropy', 'max_depth': 21, 'n_e...           0.662722   \n",
       "13  {'criterion': 'gini', 'max_depth': 21, 'n_esti...           0.650888   \n",
       "46  {'criterion': 'entropy', 'max_depth': 41, 'n_e...           0.650888   \n",
       "\n",
       "    split1_test_score  split2_test_score  split3_test_score  \\\n",
       "15           0.627219           0.642857           0.613095   \n",
       "11           0.644970           0.619048           0.613095   \n",
       "36           0.639053           0.625000           0.601190   \n",
       "13           0.639053           0.625000           0.613095   \n",
       "46           0.639053           0.607143           0.630952   \n",
       "\n",
       "    split4_test_score  mean_test_score  std_test_score  rank_test_score  \n",
       "15           0.607143         0.624690        0.013039                1  \n",
       "11           0.601190         0.624655        0.017556                2  \n",
       "36           0.595238         0.624641        0.024789                3  \n",
       "13           0.589286         0.623464        0.021322                4  \n",
       "46           0.583333         0.622274        0.024170                5  "
      ]
     },
     "execution_count": 40,
     "metadata": {},
     "output_type": "execute_result"
    }
   ],
   "source": [
    "pd.DataFrame(grid_search.cv_results_).sort_values('mean_test_score', ascending=False).iloc[:,4:].head(5)"
   ]
  },
  {
   "cell_type": "markdown",
   "id": "b5bab77c",
   "metadata": {},
   "source": [
    "Присутствуют незначительные улучшения"
   ]
  },
  {
   "cell_type": "code",
   "execution_count": 41,
   "id": "5a721834",
   "metadata": {},
   "outputs": [],
   "source": [
    "param = {'n_estimators': [100,200,500,1000],\n",
    "         'criterion': ['gini'],\n",
    "         'max_depth': range(10,41,5),\n",
    "         'min_samples_split': range(2,20,2),\n",
    "         'min_samples_leaf': range(1,10,2)}"
   ]
  },
  {
   "cell_type": "code",
   "execution_count": 42,
   "id": "8aee4c64",
   "metadata": {},
   "outputs": [
    {
     "name": "stdout",
     "output_type": "stream",
     "text": [
      "Wall time: 16min 31s\n"
     ]
    },
    {
     "data": {
      "text/plain": [
       "({'criterion': 'gini',\n",
       "  'max_depth': 35,\n",
       "  'min_samples_leaf': 1,\n",
       "  'min_samples_split': 2,\n",
       "  'n_estimators': 100},\n",
       " 0.6294237813468583)"
      ]
     },
     "execution_count": 42,
     "metadata": {},
     "output_type": "execute_result"
    }
   ],
   "source": [
    "%%time\n",
    "grid_search = GridSearchCV(RandomForestClassifier(n_jobs=-1), param,cv=cv, n_jobs=-1)\n",
    "grid_search.fit(X_scaled,y)\n",
    "(grid_search.best_params_, grid_search.best_score_)"
   ]
  },
  {
   "cell_type": "code",
   "execution_count": 43,
   "id": "be519c72",
   "metadata": {},
   "outputs": [
    {
     "data": {
      "text/html": [
       "<div>\n",
       "<style scoped>\n",
       "    .dataframe tbody tr th:only-of-type {\n",
       "        vertical-align: middle;\n",
       "    }\n",
       "\n",
       "    .dataframe tbody tr th {\n",
       "        vertical-align: top;\n",
       "    }\n",
       "\n",
       "    .dataframe thead th {\n",
       "        text-align: right;\n",
       "    }\n",
       "</style>\n",
       "<table border=\"1\" class=\"dataframe\">\n",
       "  <thead>\n",
       "    <tr style=\"text-align: right;\">\n",
       "      <th></th>\n",
       "      <th>param_criterion</th>\n",
       "      <th>param_max_depth</th>\n",
       "      <th>param_min_samples_leaf</th>\n",
       "      <th>param_min_samples_split</th>\n",
       "      <th>param_n_estimators</th>\n",
       "      <th>params</th>\n",
       "      <th>split0_test_score</th>\n",
       "      <th>split1_test_score</th>\n",
       "      <th>split2_test_score</th>\n",
       "      <th>split3_test_score</th>\n",
       "      <th>split4_test_score</th>\n",
       "      <th>mean_test_score</th>\n",
       "      <th>std_test_score</th>\n",
       "      <th>rank_test_score</th>\n",
       "    </tr>\n",
       "  </thead>\n",
       "  <tbody>\n",
       "    <tr>\n",
       "      <th>900</th>\n",
       "      <td>gini</td>\n",
       "      <td>35</td>\n",
       "      <td>1</td>\n",
       "      <td>2</td>\n",
       "      <td>100</td>\n",
       "      <td>{'criterion': 'gini', 'max_depth': 35, 'min_sa...</td>\n",
       "      <td>0.650888</td>\n",
       "      <td>0.633136</td>\n",
       "      <td>0.648810</td>\n",
       "      <td>0.613095</td>\n",
       "      <td>0.601190</td>\n",
       "      <td>0.629424</td>\n",
       "      <td>0.019565</td>\n",
       "      <td>1</td>\n",
       "    </tr>\n",
       "    <tr>\n",
       "      <th>453</th>\n",
       "      <td>gini</td>\n",
       "      <td>20</td>\n",
       "      <td>5</td>\n",
       "      <td>12</td>\n",
       "      <td>200</td>\n",
       "      <td>{'criterion': 'gini', 'max_depth': 20, 'min_sa...</td>\n",
       "      <td>0.650888</td>\n",
       "      <td>0.615385</td>\n",
       "      <td>0.630952</td>\n",
       "      <td>0.630952</td>\n",
       "      <td>0.607143</td>\n",
       "      <td>0.627064</td>\n",
       "      <td>0.015040</td>\n",
       "      <td>2</td>\n",
       "    </tr>\n",
       "    <tr>\n",
       "      <th>1105</th>\n",
       "      <td>gini</td>\n",
       "      <td>40</td>\n",
       "      <td>1</td>\n",
       "      <td>14</td>\n",
       "      <td>200</td>\n",
       "      <td>{'criterion': 'gini', 'max_depth': 40, 'min_sa...</td>\n",
       "      <td>0.656805</td>\n",
       "      <td>0.639053</td>\n",
       "      <td>0.613095</td>\n",
       "      <td>0.619048</td>\n",
       "      <td>0.601190</td>\n",
       "      <td>0.625838</td>\n",
       "      <td>0.019746</td>\n",
       "      <td>3</td>\n",
       "    </tr>\n",
       "    <tr>\n",
       "      <th>736</th>\n",
       "      <td>gini</td>\n",
       "      <td>30</td>\n",
       "      <td>1</td>\n",
       "      <td>10</td>\n",
       "      <td>100</td>\n",
       "      <td>{'criterion': 'gini', 'max_depth': 30, 'min_sa...</td>\n",
       "      <td>0.650888</td>\n",
       "      <td>0.615385</td>\n",
       "      <td>0.613095</td>\n",
       "      <td>0.619048</td>\n",
       "      <td>0.625000</td>\n",
       "      <td>0.624683</td>\n",
       "      <td>0.013706</td>\n",
       "      <td>4</td>\n",
       "    </tr>\n",
       "    <tr>\n",
       "      <th>1083</th>\n",
       "      <td>gini</td>\n",
       "      <td>40</td>\n",
       "      <td>1</td>\n",
       "      <td>2</td>\n",
       "      <td>1000</td>\n",
       "      <td>{'criterion': 'gini', 'max_depth': 40, 'min_sa...</td>\n",
       "      <td>0.633136</td>\n",
       "      <td>0.639053</td>\n",
       "      <td>0.630952</td>\n",
       "      <td>0.625000</td>\n",
       "      <td>0.595238</td>\n",
       "      <td>0.624676</td>\n",
       "      <td>0.015391</td>\n",
       "      <td>5</td>\n",
       "    </tr>\n",
       "  </tbody>\n",
       "</table>\n",
       "</div>"
      ],
      "text/plain": [
       "     param_criterion param_max_depth param_min_samples_leaf  \\\n",
       "900             gini              35                      1   \n",
       "453             gini              20                      5   \n",
       "1105            gini              40                      1   \n",
       "736             gini              30                      1   \n",
       "1083            gini              40                      1   \n",
       "\n",
       "     param_min_samples_split param_n_estimators  \\\n",
       "900                        2                100   \n",
       "453                       12                200   \n",
       "1105                      14                200   \n",
       "736                       10                100   \n",
       "1083                       2               1000   \n",
       "\n",
       "                                                 params  split0_test_score  \\\n",
       "900   {'criterion': 'gini', 'max_depth': 35, 'min_sa...           0.650888   \n",
       "453   {'criterion': 'gini', 'max_depth': 20, 'min_sa...           0.650888   \n",
       "1105  {'criterion': 'gini', 'max_depth': 40, 'min_sa...           0.656805   \n",
       "736   {'criterion': 'gini', 'max_depth': 30, 'min_sa...           0.650888   \n",
       "1083  {'criterion': 'gini', 'max_depth': 40, 'min_sa...           0.633136   \n",
       "\n",
       "      split1_test_score  split2_test_score  split3_test_score  \\\n",
       "900            0.633136           0.648810           0.613095   \n",
       "453            0.615385           0.630952           0.630952   \n",
       "1105           0.639053           0.613095           0.619048   \n",
       "736            0.615385           0.613095           0.619048   \n",
       "1083           0.639053           0.630952           0.625000   \n",
       "\n",
       "      split4_test_score  mean_test_score  std_test_score  rank_test_score  \n",
       "900            0.601190         0.629424        0.019565                1  \n",
       "453            0.607143         0.627064        0.015040                2  \n",
       "1105           0.601190         0.625838        0.019746                3  \n",
       "736            0.625000         0.624683        0.013706                4  \n",
       "1083           0.595238         0.624676        0.015391                5  "
      ]
     },
     "execution_count": 43,
     "metadata": {},
     "output_type": "execute_result"
    }
   ],
   "source": [
    "pd.DataFrame(grid_search.cv_results_).sort_values('mean_test_score', ascending=False).iloc[:,4:].head(5)"
   ]
  },
  {
   "cell_type": "markdown",
   "id": "7af653c3",
   "metadata": {},
   "source": [
    "не сильно улучшилось, ну и ладно."
   ]
  },
  {
   "cell_type": "markdown",
   "id": "e758d941",
   "metadata": {},
   "source": [
    "<h3>Градиентный бустинг</h3>"
   ]
  },
  {
   "cell_type": "code",
   "execution_count": 45,
   "id": "8361bdd4",
   "metadata": {},
   "outputs": [
    {
     "name": "stdout",
     "output_type": "stream",
     "text": [
      "name: XGBClassifier, score: [0.61538462 0.63905325 0.60714286 0.63095238 0.54761905], mean: 0.6080304311073542\n",
      "Wall time: 3.69 s\n"
     ]
    }
   ],
   "source": [
    "%%time\n",
    "model_xgb = XGBClassifier()\n",
    "result_xgb = cross_val_score(model_xgb, X_scaled, y, cv=cv, n_jobs=-1)\n",
    "print(f'name: XGBClassifier, score: {result_xgb}, mean: {result_xgb.mean()}')"
   ]
  },
  {
   "cell_type": "code",
   "execution_count": 46,
   "id": "6be59eab",
   "metadata": {},
   "outputs": [],
   "source": [
    "param = {'n_estimators': [100,200],\n",
    "         'max_depth': range(10,51,2)}"
   ]
  },
  {
   "cell_type": "code",
   "execution_count": 47,
   "id": "ac44c762",
   "metadata": {},
   "outputs": [
    {
     "name": "stdout",
     "output_type": "stream",
     "text": [
      "[08:18:52] WARNING: ..\\src\\learner.cc:1115: Starting in XGBoost 1.3.0, the default evaluation metric used with the objective 'binary:logistic' was changed from 'error' to 'logloss'. Explicitly set eval_metric if you'd like to restore the old behavior.\n",
      "Wall time: 1min 53s\n"
     ]
    },
    {
     "data": {
      "text/plain": [
       "({'max_depth': 16, 'n_estimators': 100}, 0.6234643561566638)"
      ]
     },
     "execution_count": 47,
     "metadata": {},
     "output_type": "execute_result"
    }
   ],
   "source": [
    "%%time\n",
    "grid_search = GridSearchCV(XGBClassifier(n_jobs=-1), param,cv=cv, n_jobs=-1)\n",
    "grid_search.fit(X_scaled,y)\n",
    "(grid_search.best_params_, grid_search.best_score_)"
   ]
  },
  {
   "cell_type": "code",
   "execution_count": 48,
   "id": "4152d30b",
   "metadata": {},
   "outputs": [
    {
     "data": {
      "text/html": [
       "<div>\n",
       "<style scoped>\n",
       "    .dataframe tbody tr th:only-of-type {\n",
       "        vertical-align: middle;\n",
       "    }\n",
       "\n",
       "    .dataframe tbody tr th {\n",
       "        vertical-align: top;\n",
       "    }\n",
       "\n",
       "    .dataframe thead th {\n",
       "        text-align: right;\n",
       "    }\n",
       "</style>\n",
       "<table border=\"1\" class=\"dataframe\">\n",
       "  <thead>\n",
       "    <tr style=\"text-align: right;\">\n",
       "      <th></th>\n",
       "      <th>param_max_depth</th>\n",
       "      <th>param_n_estimators</th>\n",
       "      <th>params</th>\n",
       "      <th>split0_test_score</th>\n",
       "      <th>split1_test_score</th>\n",
       "      <th>split2_test_score</th>\n",
       "      <th>split3_test_score</th>\n",
       "      <th>split4_test_score</th>\n",
       "      <th>mean_test_score</th>\n",
       "      <th>std_test_score</th>\n",
       "      <th>rank_test_score</th>\n",
       "    </tr>\n",
       "  </thead>\n",
       "  <tbody>\n",
       "    <tr>\n",
       "      <th>34</th>\n",
       "      <td>44</td>\n",
       "      <td>100</td>\n",
       "      <td>{'max_depth': 44, 'n_estimators': 100}</td>\n",
       "      <td>0.64497</td>\n",
       "      <td>0.64497</td>\n",
       "      <td>0.607143</td>\n",
       "      <td>0.636905</td>\n",
       "      <td>0.583333</td>\n",
       "      <td>0.623464</td>\n",
       "      <td>0.024424</td>\n",
       "      <td>1</td>\n",
       "    </tr>\n",
       "    <tr>\n",
       "      <th>12</th>\n",
       "      <td>22</td>\n",
       "      <td>100</td>\n",
       "      <td>{'max_depth': 22, 'n_estimators': 100}</td>\n",
       "      <td>0.64497</td>\n",
       "      <td>0.64497</td>\n",
       "      <td>0.607143</td>\n",
       "      <td>0.636905</td>\n",
       "      <td>0.583333</td>\n",
       "      <td>0.623464</td>\n",
       "      <td>0.024424</td>\n",
       "      <td>1</td>\n",
       "    </tr>\n",
       "    <tr>\n",
       "      <th>28</th>\n",
       "      <td>38</td>\n",
       "      <td>100</td>\n",
       "      <td>{'max_depth': 38, 'n_estimators': 100}</td>\n",
       "      <td>0.64497</td>\n",
       "      <td>0.64497</td>\n",
       "      <td>0.607143</td>\n",
       "      <td>0.636905</td>\n",
       "      <td>0.583333</td>\n",
       "      <td>0.623464</td>\n",
       "      <td>0.024424</td>\n",
       "      <td>1</td>\n",
       "    </tr>\n",
       "    <tr>\n",
       "      <th>24</th>\n",
       "      <td>34</td>\n",
       "      <td>100</td>\n",
       "      <td>{'max_depth': 34, 'n_estimators': 100}</td>\n",
       "      <td>0.64497</td>\n",
       "      <td>0.64497</td>\n",
       "      <td>0.607143</td>\n",
       "      <td>0.636905</td>\n",
       "      <td>0.583333</td>\n",
       "      <td>0.623464</td>\n",
       "      <td>0.024424</td>\n",
       "      <td>1</td>\n",
       "    </tr>\n",
       "    <tr>\n",
       "      <th>22</th>\n",
       "      <td>32</td>\n",
       "      <td>100</td>\n",
       "      <td>{'max_depth': 32, 'n_estimators': 100}</td>\n",
       "      <td>0.64497</td>\n",
       "      <td>0.64497</td>\n",
       "      <td>0.607143</td>\n",
       "      <td>0.636905</td>\n",
       "      <td>0.583333</td>\n",
       "      <td>0.623464</td>\n",
       "      <td>0.024424</td>\n",
       "      <td>1</td>\n",
       "    </tr>\n",
       "  </tbody>\n",
       "</table>\n",
       "</div>"
      ],
      "text/plain": [
       "   param_max_depth param_n_estimators                                  params  \\\n",
       "34              44                100  {'max_depth': 44, 'n_estimators': 100}   \n",
       "12              22                100  {'max_depth': 22, 'n_estimators': 100}   \n",
       "28              38                100  {'max_depth': 38, 'n_estimators': 100}   \n",
       "24              34                100  {'max_depth': 34, 'n_estimators': 100}   \n",
       "22              32                100  {'max_depth': 32, 'n_estimators': 100}   \n",
       "\n",
       "    split0_test_score  split1_test_score  split2_test_score  \\\n",
       "34            0.64497            0.64497           0.607143   \n",
       "12            0.64497            0.64497           0.607143   \n",
       "28            0.64497            0.64497           0.607143   \n",
       "24            0.64497            0.64497           0.607143   \n",
       "22            0.64497            0.64497           0.607143   \n",
       "\n",
       "    split3_test_score  split4_test_score  mean_test_score  std_test_score  \\\n",
       "34           0.636905           0.583333         0.623464        0.024424   \n",
       "12           0.636905           0.583333         0.623464        0.024424   \n",
       "28           0.636905           0.583333         0.623464        0.024424   \n",
       "24           0.636905           0.583333         0.623464        0.024424   \n",
       "22           0.636905           0.583333         0.623464        0.024424   \n",
       "\n",
       "    rank_test_score  \n",
       "34                1  \n",
       "12                1  \n",
       "28                1  \n",
       "24                1  \n",
       "22                1  "
      ]
     },
     "execution_count": 48,
     "metadata": {},
     "output_type": "execute_result"
    }
   ],
   "source": [
    "pd.DataFrame(grid_search.cv_results_).sort_values('mean_test_score', ascending=False).iloc[:,4:].head(5)"
   ]
  },
  {
   "cell_type": "markdown",
   "id": "43baad22",
   "metadata": {},
   "source": [
    "тоже не улучшилось. Вывод - стандартизация данных помогает только линейным методам, а деревянные скорее ухудшает."
   ]
  },
  {
   "cell_type": "code",
   "execution_count": null,
   "id": "a47418dc",
   "metadata": {},
   "outputs": [],
   "source": []
  }
 ],
 "metadata": {
  "kernelspec": {
   "display_name": "Python 3",
   "language": "python",
   "name": "python3"
  },
  "language_info": {
   "codemirror_mode": {
    "name": "ipython",
    "version": 3
   },
   "file_extension": ".py",
   "mimetype": "text/x-python",
   "name": "python",
   "nbconvert_exporter": "python",
   "pygments_lexer": "ipython3",
   "version": "3.8.5"
  }
 },
 "nbformat": 4,
 "nbformat_minor": 5
}
