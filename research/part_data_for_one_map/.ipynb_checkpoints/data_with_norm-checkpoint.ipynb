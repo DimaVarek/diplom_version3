{
 "cells": [
  {
   "cell_type": "code",
   "execution_count": 1,
   "id": "f6e06682",
   "metadata": {},
   "outputs": [],
   "source": [
    "import numpy as np\n",
    "import pandas as pd\n",
    "from sklearn.model_selection import KFold\n",
    "from sklearn.model_selection import cross_val_score\n",
    "from sklearn.model_selection import train_test_split\n",
    "from sklearn.preprocessing import LabelEncoder, RobustScaler, StandardScaler\n",
    "from sklearn.preprocessing import PowerTransformer\n",
    "\n",
    "import matplotlib.pyplot as plt\n",
    "plt.rcParams['figure.figsize'] = [12, 8]\n",
    "plt.rcParams['figure.dpi'] = 100\n",
    "\n",
    "from sklearn.dummy import DummyClassifier\n",
    "from sklearn.linear_model import Perceptron\n",
    "from sklearn.svm import SVC\n",
    "from sklearn.linear_model import LogisticRegression\n",
    "from sklearn.tree import DecisionTreeClassifier\n",
    "from sklearn.ensemble import RandomForestClassifier\n",
    "from xgboost import XGBClassifier\n",
    "\n",
    "from sklearn.model_selection import GridSearchCV\n",
    "\n",
    "import warnings\n",
    "warnings.filterwarnings('ignore')"
   ]
  },
  {
   "cell_type": "markdown",
   "id": "3ad5a778",
   "metadata": {},
   "source": [
    "<h2>Предобработка данных</h2>"
   ]
  },
  {
   "cell_type": "code",
   "execution_count": 2,
   "id": "5c27304e",
   "metadata": {},
   "outputs": [
    {
     "data": {
      "text/html": [
       "<div>\n",
       "<style scoped>\n",
       "    .dataframe tbody tr th:only-of-type {\n",
       "        vertical-align: middle;\n",
       "    }\n",
       "\n",
       "    .dataframe tbody tr th {\n",
       "        vertical-align: top;\n",
       "    }\n",
       "\n",
       "    .dataframe thead th {\n",
       "        text-align: right;\n",
       "    }\n",
       "</style>\n",
       "<table border=\"1\" class=\"dataframe\">\n",
       "  <thead>\n",
       "    <tr style=\"text-align: right;\">\n",
       "      <th></th>\n",
       "      <th>map</th>\n",
       "      <th>result</th>\n",
       "      <th>team1_world_rank</th>\n",
       "      <th>team2_world_rank</th>\n",
       "      <th>1_top_Times played</th>\n",
       "      <th>1_top_wins</th>\n",
       "      <th>1_top_draws</th>\n",
       "      <th>1_top_losses</th>\n",
       "      <th>1_top_Total rounds played</th>\n",
       "      <th>1_top_Rounds won</th>\n",
       "      <th>...</th>\n",
       "      <th>2_All_draws</th>\n",
       "      <th>2_All_losses</th>\n",
       "      <th>2_All_Total rounds played</th>\n",
       "      <th>2_All_Rounds won</th>\n",
       "      <th>2_All_Win percent</th>\n",
       "      <th>2_All_Pistol rounds</th>\n",
       "      <th>2_All_Pistol rounds won</th>\n",
       "      <th>2_All_Pistol round win percent</th>\n",
       "      <th>2_All_CT round win percent</th>\n",
       "      <th>2_All_T round win percent</th>\n",
       "    </tr>\n",
       "  </thead>\n",
       "  <tbody>\n",
       "    <tr>\n",
       "      <th>0</th>\n",
       "      <td>Nuke</td>\n",
       "      <td>-1</td>\n",
       "      <td>28</td>\n",
       "      <td>46</td>\n",
       "      <td>3</td>\n",
       "      <td>0</td>\n",
       "      <td>0</td>\n",
       "      <td>3</td>\n",
       "      <td>80</td>\n",
       "      <td>32</td>\n",
       "      <td>...</td>\n",
       "      <td>0</td>\n",
       "      <td>2</td>\n",
       "      <td>140</td>\n",
       "      <td>82</td>\n",
       "      <td>0.667</td>\n",
       "      <td>12</td>\n",
       "      <td>7</td>\n",
       "      <td>0.583</td>\n",
       "      <td>0.774</td>\n",
       "      <td>0.436</td>\n",
       "    </tr>\n",
       "    <tr>\n",
       "      <th>1</th>\n",
       "      <td>Ancient</td>\n",
       "      <td>-1</td>\n",
       "      <td>28</td>\n",
       "      <td>46</td>\n",
       "      <td>1</td>\n",
       "      <td>0</td>\n",
       "      <td>0</td>\n",
       "      <td>1</td>\n",
       "      <td>27</td>\n",
       "      <td>11</td>\n",
       "      <td>...</td>\n",
       "      <td>0</td>\n",
       "      <td>2</td>\n",
       "      <td>135</td>\n",
       "      <td>86</td>\n",
       "      <td>0.667</td>\n",
       "      <td>12</td>\n",
       "      <td>8</td>\n",
       "      <td>0.667</td>\n",
       "      <td>0.756</td>\n",
       "      <td>0.578</td>\n",
       "    </tr>\n",
       "    <tr>\n",
       "      <th>2</th>\n",
       "      <td>Mirage</td>\n",
       "      <td>1</td>\n",
       "      <td>1</td>\n",
       "      <td>223</td>\n",
       "      <td>7</td>\n",
       "      <td>4</td>\n",
       "      <td>0</td>\n",
       "      <td>3</td>\n",
       "      <td>182</td>\n",
       "      <td>106</td>\n",
       "      <td>...</td>\n",
       "      <td>0</td>\n",
       "      <td>2</td>\n",
       "      <td>151</td>\n",
       "      <td>80</td>\n",
       "      <td>0.667</td>\n",
       "      <td>12</td>\n",
       "      <td>7</td>\n",
       "      <td>0.583</td>\n",
       "      <td>0.556</td>\n",
       "      <td>0.511</td>\n",
       "    </tr>\n",
       "    <tr>\n",
       "      <th>3</th>\n",
       "      <td>Ancient</td>\n",
       "      <td>1</td>\n",
       "      <td>1</td>\n",
       "      <td>223</td>\n",
       "      <td>2</td>\n",
       "      <td>2</td>\n",
       "      <td>0</td>\n",
       "      <td>0</td>\n",
       "      <td>54</td>\n",
       "      <td>32</td>\n",
       "      <td>...</td>\n",
       "      <td>0</td>\n",
       "      <td>0</td>\n",
       "      <td>0</td>\n",
       "      <td>0</td>\n",
       "      <td>0.000</td>\n",
       "      <td>0</td>\n",
       "      <td>0</td>\n",
       "      <td>0.000</td>\n",
       "      <td>0.000</td>\n",
       "      <td>0.000</td>\n",
       "    </tr>\n",
       "    <tr>\n",
       "      <th>4</th>\n",
       "      <td>Overpass</td>\n",
       "      <td>-1</td>\n",
       "      <td>14</td>\n",
       "      <td>101</td>\n",
       "      <td>4</td>\n",
       "      <td>2</td>\n",
       "      <td>0</td>\n",
       "      <td>2</td>\n",
       "      <td>106</td>\n",
       "      <td>60</td>\n",
       "      <td>...</td>\n",
       "      <td>0</td>\n",
       "      <td>0</td>\n",
       "      <td>0</td>\n",
       "      <td>0</td>\n",
       "      <td>0.000</td>\n",
       "      <td>0</td>\n",
       "      <td>0</td>\n",
       "      <td>0.000</td>\n",
       "      <td>0.000</td>\n",
       "      <td>0.000</td>\n",
       "    </tr>\n",
       "  </tbody>\n",
       "</table>\n",
       "<p>5 rows × 52 columns</p>\n",
       "</div>"
      ],
      "text/plain": [
       "        map  result  team1_world_rank  team2_world_rank  1_top_Times played  \\\n",
       "0      Nuke      -1                28                46                   3   \n",
       "1   Ancient      -1                28                46                   1   \n",
       "2    Mirage       1                 1               223                   7   \n",
       "3   Ancient       1                 1               223                   2   \n",
       "4  Overpass      -1                14               101                   4   \n",
       "\n",
       "   1_top_wins  1_top_draws  1_top_losses  1_top_Total rounds played  \\\n",
       "0           0            0             3                         80   \n",
       "1           0            0             1                         27   \n",
       "2           4            0             3                        182   \n",
       "3           2            0             0                         54   \n",
       "4           2            0             2                        106   \n",
       "\n",
       "   1_top_Rounds won  ...  2_All_draws  2_All_losses  \\\n",
       "0                32  ...            0             2   \n",
       "1                11  ...            0             2   \n",
       "2               106  ...            0             2   \n",
       "3                32  ...            0             0   \n",
       "4                60  ...            0             0   \n",
       "\n",
       "   2_All_Total rounds played  2_All_Rounds won  2_All_Win percent  \\\n",
       "0                        140                82              0.667   \n",
       "1                        135                86              0.667   \n",
       "2                        151                80              0.667   \n",
       "3                          0                 0              0.000   \n",
       "4                          0                 0              0.000   \n",
       "\n",
       "   2_All_Pistol rounds  2_All_Pistol rounds won  \\\n",
       "0                   12                        7   \n",
       "1                   12                        8   \n",
       "2                   12                        7   \n",
       "3                    0                        0   \n",
       "4                    0                        0   \n",
       "\n",
       "   2_All_Pistol round win percent  2_All_CT round win percent  \\\n",
       "0                           0.583                       0.774   \n",
       "1                           0.667                       0.756   \n",
       "2                           0.583                       0.556   \n",
       "3                           0.000                       0.000   \n",
       "4                           0.000                       0.000   \n",
       "\n",
       "   2_All_T round win percent  \n",
       "0                      0.436  \n",
       "1                      0.578  \n",
       "2                      0.511  \n",
       "3                      0.000  \n",
       "4                      0.000  \n",
       "\n",
       "[5 rows x 52 columns]"
      ]
     },
     "execution_count": 2,
     "metadata": {},
     "output_type": "execute_result"
    }
   ],
   "source": [
    "df = pd.read_csv('../data/df_split_by_map_part_info.csv')\n",
    "df.head()"
   ]
  },
  {
   "cell_type": "code",
   "execution_count": 3,
   "id": "9b7d2d55",
   "metadata": {},
   "outputs": [],
   "source": [
    "maps_decoder = LabelEncoder()\n",
    "df['map'] = maps_decoder.fit_transform(df['map'])\n",
    "cv = KFold(shuffle=True, random_state=1)\n",
    "X = df.drop('result', axis=1)\n",
    "y = df['result']"
   ]
  },
  {
   "cell_type": "code",
   "execution_count": 4,
   "id": "7a28ab68",
   "metadata": {},
   "outputs": [
    {
     "data": {
      "text/html": [
       "<div>\n",
       "<style scoped>\n",
       "    .dataframe tbody tr th:only-of-type {\n",
       "        vertical-align: middle;\n",
       "    }\n",
       "\n",
       "    .dataframe tbody tr th {\n",
       "        vertical-align: top;\n",
       "    }\n",
       "\n",
       "    .dataframe thead th {\n",
       "        text-align: right;\n",
       "    }\n",
       "</style>\n",
       "<table border=\"1\" class=\"dataframe\">\n",
       "  <thead>\n",
       "    <tr style=\"text-align: right;\">\n",
       "      <th></th>\n",
       "      <th>map</th>\n",
       "      <th>team1_world_rank</th>\n",
       "      <th>team2_world_rank</th>\n",
       "      <th>1_top_Times played</th>\n",
       "      <th>1_top_wins</th>\n",
       "      <th>1_top_draws</th>\n",
       "      <th>1_top_losses</th>\n",
       "      <th>1_top_Total rounds played</th>\n",
       "      <th>1_top_Rounds won</th>\n",
       "      <th>1_top_Win percent</th>\n",
       "      <th>...</th>\n",
       "      <th>2_All_draws</th>\n",
       "      <th>2_All_losses</th>\n",
       "      <th>2_All_Total rounds played</th>\n",
       "      <th>2_All_Rounds won</th>\n",
       "      <th>2_All_Win percent</th>\n",
       "      <th>2_All_Pistol rounds</th>\n",
       "      <th>2_All_Pistol rounds won</th>\n",
       "      <th>2_All_Pistol round win percent</th>\n",
       "      <th>2_All_CT round win percent</th>\n",
       "      <th>2_All_T round win percent</th>\n",
       "    </tr>\n",
       "  </thead>\n",
       "  <tbody>\n",
       "    <tr>\n",
       "      <th>0</th>\n",
       "      <td>0.546561</td>\n",
       "      <td>-0.461564</td>\n",
       "      <td>-0.325356</td>\n",
       "      <td>-0.329416</td>\n",
       "      <td>-1.372699</td>\n",
       "      <td>0.0</td>\n",
       "      <td>0.461334</td>\n",
       "      <td>-0.227559</td>\n",
       "      <td>-0.390533</td>\n",
       "      <td>-1.401007</td>\n",
       "      <td>...</td>\n",
       "      <td>0.0</td>\n",
       "      <td>-0.168699</td>\n",
       "      <td>-0.015431</td>\n",
       "      <td>0.131736</td>\n",
       "      <td>0.628533</td>\n",
       "      <td>0.106223</td>\n",
       "      <td>0.289221</td>\n",
       "      <td>0.509074</td>\n",
       "      <td>2.046168</td>\n",
       "      <td>0.021071</td>\n",
       "    </tr>\n",
       "    <tr>\n",
       "      <th>1</th>\n",
       "      <td>-1.697826</td>\n",
       "      <td>-0.461564</td>\n",
       "      <td>-0.325356</td>\n",
       "      <td>-1.014705</td>\n",
       "      <td>-1.372699</td>\n",
       "      <td>0.0</td>\n",
       "      <td>-0.511795</td>\n",
       "      <td>-0.857022</td>\n",
       "      <td>-0.954480</td>\n",
       "      <td>-1.401007</td>\n",
       "      <td>...</td>\n",
       "      <td>0.0</td>\n",
       "      <td>-0.168699</td>\n",
       "      <td>-0.051636</td>\n",
       "      <td>0.182263</td>\n",
       "      <td>0.628533</td>\n",
       "      <td>0.106223</td>\n",
       "      <td>0.448382</td>\n",
       "      <td>0.927165</td>\n",
       "      <td>1.854781</td>\n",
       "      <td>1.103045</td>\n",
       "    </tr>\n",
       "    <tr>\n",
       "      <th>2</th>\n",
       "      <td>0.048231</td>\n",
       "      <td>-2.183894</td>\n",
       "      <td>1.700456</td>\n",
       "      <td>0.505794</td>\n",
       "      <td>0.617370</td>\n",
       "      <td>0.0</td>\n",
       "      <td>0.461334</td>\n",
       "      <td>0.478438</td>\n",
       "      <td>0.616456</td>\n",
       "      <td>0.441944</td>\n",
       "      <td>...</td>\n",
       "      <td>0.0</td>\n",
       "      <td>-0.168699</td>\n",
       "      <td>0.061945</td>\n",
       "      <td>0.105980</td>\n",
       "      <td>0.628533</td>\n",
       "      <td>0.106223</td>\n",
       "      <td>0.289221</td>\n",
       "      <td>0.509074</td>\n",
       "      <td>0.121955</td>\n",
       "      <td>0.562669</td>\n",
       "    </tr>\n",
       "    <tr>\n",
       "      <th>3</th>\n",
       "      <td>-1.697826</td>\n",
       "      <td>-2.183894</td>\n",
       "      <td>1.700456</td>\n",
       "      <td>-0.630374</td>\n",
       "      <td>-0.017951</td>\n",
       "      <td>0.0</td>\n",
       "      <td>-1.416822</td>\n",
       "      <td>-0.489042</td>\n",
       "      <td>-0.390533</td>\n",
       "      <td>1.769659</td>\n",
       "      <td>...</td>\n",
       "      <td>0.0</td>\n",
       "      <td>-1.556556</td>\n",
       "      <td>-1.922741</td>\n",
       "      <td>-1.871938</td>\n",
       "      <td>-1.544899</td>\n",
       "      <td>-1.789572</td>\n",
       "      <td>-1.678101</td>\n",
       "      <td>-1.858974</td>\n",
       "      <td>-2.047743</td>\n",
       "      <td>-2.024563</td>\n",
       "    </tr>\n",
       "    <tr>\n",
       "      <th>4</th>\n",
       "      <td>1.022167</td>\n",
       "      <td>-0.992090</td>\n",
       "      <td>0.552079</td>\n",
       "      <td>-0.078349</td>\n",
       "      <td>-0.017951</td>\n",
       "      <td>0.0</td>\n",
       "      <td>0.048862</td>\n",
       "      <td>-0.012298</td>\n",
       "      <td>0.077822</td>\n",
       "      <td>0.218090</td>\n",
       "      <td>...</td>\n",
       "      <td>0.0</td>\n",
       "      <td>-1.556556</td>\n",
       "      <td>-1.922741</td>\n",
       "      <td>-1.871938</td>\n",
       "      <td>-1.544899</td>\n",
       "      <td>-1.789572</td>\n",
       "      <td>-1.678101</td>\n",
       "      <td>-1.858974</td>\n",
       "      <td>-2.047743</td>\n",
       "      <td>-2.024563</td>\n",
       "    </tr>\n",
       "  </tbody>\n",
       "</table>\n",
       "<p>5 rows × 51 columns</p>\n",
       "</div>"
      ],
      "text/plain": [
       "        map  team1_world_rank  team2_world_rank  1_top_Times played  \\\n",
       "0  0.546561         -0.461564         -0.325356           -0.329416   \n",
       "1 -1.697826         -0.461564         -0.325356           -1.014705   \n",
       "2  0.048231         -2.183894          1.700456            0.505794   \n",
       "3 -1.697826         -2.183894          1.700456           -0.630374   \n",
       "4  1.022167         -0.992090          0.552079           -0.078349   \n",
       "\n",
       "   1_top_wins  1_top_draws  1_top_losses  1_top_Total rounds played  \\\n",
       "0   -1.372699          0.0      0.461334                  -0.227559   \n",
       "1   -1.372699          0.0     -0.511795                  -0.857022   \n",
       "2    0.617370          0.0      0.461334                   0.478438   \n",
       "3   -0.017951          0.0     -1.416822                  -0.489042   \n",
       "4   -0.017951          0.0      0.048862                  -0.012298   \n",
       "\n",
       "   1_top_Rounds won  1_top_Win percent  ...  2_All_draws  2_All_losses  \\\n",
       "0         -0.390533          -1.401007  ...          0.0     -0.168699   \n",
       "1         -0.954480          -1.401007  ...          0.0     -0.168699   \n",
       "2          0.616456           0.441944  ...          0.0     -0.168699   \n",
       "3         -0.390533           1.769659  ...          0.0     -1.556556   \n",
       "4          0.077822           0.218090  ...          0.0     -1.556556   \n",
       "\n",
       "   2_All_Total rounds played  2_All_Rounds won  2_All_Win percent  \\\n",
       "0                  -0.015431          0.131736           0.628533   \n",
       "1                  -0.051636          0.182263           0.628533   \n",
       "2                   0.061945          0.105980           0.628533   \n",
       "3                  -1.922741         -1.871938          -1.544899   \n",
       "4                  -1.922741         -1.871938          -1.544899   \n",
       "\n",
       "   2_All_Pistol rounds  2_All_Pistol rounds won  \\\n",
       "0             0.106223                 0.289221   \n",
       "1             0.106223                 0.448382   \n",
       "2             0.106223                 0.289221   \n",
       "3            -1.789572                -1.678101   \n",
       "4            -1.789572                -1.678101   \n",
       "\n",
       "   2_All_Pistol round win percent  2_All_CT round win percent  \\\n",
       "0                        0.509074                    2.046168   \n",
       "1                        0.927165                    1.854781   \n",
       "2                        0.509074                    0.121955   \n",
       "3                       -1.858974                   -2.047743   \n",
       "4                       -1.858974                   -2.047743   \n",
       "\n",
       "   2_All_T round win percent  \n",
       "0                   0.021071  \n",
       "1                   1.103045  \n",
       "2                   0.562669  \n",
       "3                  -2.024563  \n",
       "4                  -2.024563  \n",
       "\n",
       "[5 rows x 51 columns]"
      ]
     },
     "execution_count": 4,
     "metadata": {},
     "output_type": "execute_result"
    }
   ],
   "source": [
    "X_norm = pd.DataFrame()\n",
    "transform = PowerTransformer()\n",
    "for i in X.columns:\n",
    "    X_norm[i] = transform.fit_transform(np.array(X[i]).reshape(-1, 1)).reshape(1, -1)[0]\n",
    "X_norm.head()"
   ]
  },
  {
   "cell_type": "markdown",
   "id": "04259463",
   "metadata": {},
   "source": [
    "<h2>Обучение моделей. Сравнение результатов.</h2>"
   ]
  },
  {
   "cell_type": "code",
   "execution_count": 5,
   "id": "f76cc03a",
   "metadata": {},
   "outputs": [
    {
     "name": "stdout",
     "output_type": "stream",
     "text": [
      "name: Dummy, score: [0.56473829 0.5785124  0.56749311 0.50552486 0.53314917], mean: 0.5498835669604129\n"
     ]
    }
   ],
   "source": [
    "model_dummy = DummyClassifier(strategy=\"most_frequent\")\n",
    "result_dummy = cross_val_score(model_dummy, X_norm, y, cv=cv)\n",
    "print(f'name: Dummy, score: {result_dummy}, mean: {result_dummy.mean()}')"
   ]
  },
  {
   "cell_type": "markdown",
   "id": "6f1bbebd",
   "metadata": {},
   "source": [
    "<h3>Ошибка перцептрона</h3> "
   ]
  },
  {
   "cell_type": "code",
   "execution_count": 6,
   "id": "1083fb71",
   "metadata": {},
   "outputs": [
    {
     "name": "stdout",
     "output_type": "stream",
     "text": [
      "name: Perceptron, score: [0.57575758 0.44352617 0.53443526 0.56629834 0.52486188], mean: 0.5289758458517877\n"
     ]
    }
   ],
   "source": [
    "model_perceptron = Perceptron()\n",
    "result_perceptron = cross_val_score(model_perceptron, X_norm, y, cv=cv)\n",
    "print(f'name: Perceptron, score: {result_perceptron}, mean: {result_perceptron.mean()}')"
   ]
  },
  {
   "cell_type": "code",
   "execution_count": 7,
   "id": "c988d936",
   "metadata": {},
   "outputs": [],
   "source": [
    "param = {'penalty': ['l2', 'l1','none'],\n",
    "         'alpha': [10**-6, 10**-5, 10**-4, 10**-3, 10**-2, 10**-1, 10**0, 10**1, 10**2]}"
   ]
  },
  {
   "cell_type": "code",
   "execution_count": 8,
   "id": "4b10e2bd",
   "metadata": {},
   "outputs": [
    {
     "name": "stdout",
     "output_type": "stream",
     "text": [
      "Wall time: 1.65 s\n"
     ]
    },
    {
     "data": {
      "text/plain": [
       "({'alpha': 0.001, 'penalty': 'l1'}, 0.5763937719738824, 0.0094157717855229)"
      ]
     },
     "execution_count": 8,
     "metadata": {},
     "output_type": "execute_result"
    }
   ],
   "source": [
    "%%time\n",
    "grid_search = GridSearchCV(Perceptron(), param,cv=cv, n_jobs=-1)\n",
    "grid_search.fit(X_norm,y)\n",
    "(grid_search.best_params_, grid_search.best_score_,\n",
    "pd.DataFrame(grid_search.cv_results_).sort_values('mean_test_score', ascending=False)['std_test_score'].values[0])"
   ]
  },
  {
   "cell_type": "markdown",
   "id": "52f236f4",
   "metadata": {},
   "source": [
    "+2.5%"
   ]
  },
  {
   "cell_type": "markdown",
   "id": "dd45952e",
   "metadata": {},
   "source": [
    "<h3>Метод опорных векторов</h3>"
   ]
  },
  {
   "cell_type": "code",
   "execution_count": 9,
   "id": "94a5b2d0",
   "metadata": {},
   "outputs": [
    {
     "name": "stdout",
     "output_type": "stream",
     "text": [
      "name: SVM, score: [0.61432507 0.60881543 0.58953168 0.56353591 0.55524862], mean: 0.586291341339056\n",
      "Wall time: 178 ms\n"
     ]
    }
   ],
   "source": [
    "%%time\n",
    "model_svm = SVC()\n",
    "result_svm = cross_val_score(model_svm, X_norm, y, cv=cv, n_jobs=-1)\n",
    "print(f'name: SVM, score: {result_svm}, mean: {result_svm.mean()}')"
   ]
  },
  {
   "cell_type": "code",
   "execution_count": 10,
   "id": "b8279d45",
   "metadata": {},
   "outputs": [],
   "source": [
    "param = {'C': [10**-3, 10**-2, 10**-1, 10**0, 10**1],\n",
    "         'kernel': ['rbf', 'poly', 'sigmoid']}"
   ]
  },
  {
   "cell_type": "code",
   "execution_count": 11,
   "id": "32d83e02",
   "metadata": {},
   "outputs": [
    {
     "name": "stdout",
     "output_type": "stream",
     "text": [
      "Wall time: 1.52 s\n"
     ]
    },
    {
     "data": {
      "text/plain": [
       "({'C': 1, 'kernel': 'rbf'}, 0.586291341339056, 0.023601628408420876)"
      ]
     },
     "execution_count": 11,
     "metadata": {},
     "output_type": "execute_result"
    }
   ],
   "source": [
    "%%time\n",
    "grid_search = GridSearchCV(SVC(), param,cv=cv, n_jobs=-1)\n",
    "grid_search.fit(X_norm,y)\n",
    "(grid_search.best_params_, grid_search.best_score_,\n",
    "pd.DataFrame(grid_search.cv_results_).sort_values('mean_test_score', ascending=False)['std_test_score'].values[0])"
   ]
  },
  {
   "cell_type": "code",
   "execution_count": 12,
   "id": "c67ff5ca",
   "metadata": {},
   "outputs": [],
   "source": [
    "param = {'C': [1],\n",
    "         'kernel': ['poly'],\n",
    "         'degree': range(1,11)}"
   ]
  },
  {
   "cell_type": "code",
   "execution_count": 13,
   "id": "abce5aed",
   "metadata": {},
   "outputs": [
    {
     "name": "stdout",
     "output_type": "stream",
     "text": [
      "Wall time: 1.19 s\n"
     ]
    },
    {
     "data": {
      "text/plain": [
       "({'C': 1, 'degree': 3, 'kernel': 'poly'},\n",
       " 0.5785900187206063,\n",
       " 0.009197126108774066)"
      ]
     },
     "execution_count": 13,
     "metadata": {},
     "output_type": "execute_result"
    }
   ],
   "source": [
    "%%time\n",
    "grid_search = GridSearchCV(SVC(), param,cv=cv, n_jobs=-1)\n",
    "grid_search.fit(X_norm,y)\n",
    "(grid_search.best_params_, grid_search.best_score_,\n",
    "pd.DataFrame(grid_search.cv_results_).sort_values('mean_test_score', ascending=False)['std_test_score'].values[0])"
   ]
  },
  {
   "cell_type": "markdown",
   "id": "ed9ba167",
   "metadata": {},
   "source": [
    "+3.5%"
   ]
  },
  {
   "cell_type": "markdown",
   "id": "5758158f",
   "metadata": {},
   "source": [
    "<h3>Логистическая регрессия</h3>"
   ]
  },
  {
   "cell_type": "code",
   "execution_count": 14,
   "id": "05191c64",
   "metadata": {},
   "outputs": [
    {
     "name": "stdout",
     "output_type": "stream",
     "text": [
      "name: LogisticRegression, score: [0.60881543 0.61707989 0.5922865  0.58563536 0.56353591], mean: 0.5934706177800101\n",
      "Wall time: 43.6 ms\n"
     ]
    }
   ],
   "source": [
    "%%time\n",
    "model_log = LogisticRegression()\n",
    "result_log = cross_val_score(model_log, X_norm, y, cv=cv, n_jobs=-1)\n",
    "print(f'name: LogisticRegression, score: {result_log}, mean: {result_log.mean()}')"
   ]
  },
  {
   "cell_type": "code",
   "execution_count": 15,
   "id": "21945cfb",
   "metadata": {},
   "outputs": [],
   "source": [
    "param = {'C': [10**-3, 10**-2, 10**-1, 10**0, 10**1]}"
   ]
  },
  {
   "cell_type": "code",
   "execution_count": 16,
   "id": "08c0e0e7",
   "metadata": {},
   "outputs": [
    {
     "name": "stdout",
     "output_type": "stream",
     "text": [
      "Wall time: 118 ms\n"
     ]
    },
    {
     "data": {
      "text/plain": [
       "({'C': 0.1}, 0.5973395430954446, 0.019435847683895772)"
      ]
     },
     "execution_count": 16,
     "metadata": {},
     "output_type": "execute_result"
    }
   ],
   "source": [
    "%%time\n",
    "grid_search = GridSearchCV(LogisticRegression(), param,cv=cv, n_jobs=-1)\n",
    "grid_search.fit(X_norm,y)\n",
    "(grid_search.best_params_, grid_search.best_score_,\n",
    "pd.DataFrame(grid_search.cv_results_).sort_values('mean_test_score', ascending=False)['std_test_score'].values[0])"
   ]
  },
  {
   "cell_type": "markdown",
   "id": "831e21a2",
   "metadata": {},
   "source": [
    "не плохо"
   ]
  },
  {
   "cell_type": "markdown",
   "id": "eda0041a",
   "metadata": {},
   "source": [
    "<h3>Дерево решений.</h3>"
   ]
  },
  {
   "cell_type": "code",
   "execution_count": 18,
   "id": "3a7555cf",
   "metadata": {},
   "outputs": [
    {
     "name": "stdout",
     "output_type": "stream",
     "text": [
      "name: Tree, score: [0.52341598 0.54820937 0.5261708  0.5359116  0.53867403], mean: 0.534476355721961\n",
      "Wall time: 67.1 ms\n"
     ]
    }
   ],
   "source": [
    "%%time\n",
    "model_tree = DecisionTreeClassifier()\n",
    "result_tree = cross_val_score(model_tree, X_norm, y, cv=cv, n_jobs=-1)\n",
    "print(f'name: Tree, score: {result_tree}, mean: {result_tree.mean()}')"
   ]
  },
  {
   "cell_type": "code",
   "execution_count": 19,
   "id": "5fa0e264",
   "metadata": {},
   "outputs": [],
   "source": [
    "param = {'criterion': ['gini', 'entropy'],\n",
    "         'max_depth': range(2,50)}"
   ]
  },
  {
   "cell_type": "code",
   "execution_count": 20,
   "id": "59be7e86",
   "metadata": {},
   "outputs": [
    {
     "name": "stdout",
     "output_type": "stream",
     "text": [
      "Wall time: 1.91 s\n"
     ]
    },
    {
     "data": {
      "text/plain": [
       "({'criterion': 'gini', 'max_depth': 2},\n",
       " 0.5907386268511331,\n",
       " 0.030794618679773296)"
      ]
     },
     "execution_count": 20,
     "metadata": {},
     "output_type": "execute_result"
    }
   ],
   "source": [
    "%%time\n",
    "grid_search = GridSearchCV(DecisionTreeClassifier(), param,cv=cv, n_jobs=-1)\n",
    "grid_search.fit(X_norm,y)\n",
    "(grid_search.best_params_, grid_search.best_score_,\n",
    "pd.DataFrame(grid_search.cv_results_).sort_values('mean_test_score', ascending=False)['std_test_score'].values[0])"
   ]
  },
  {
   "cell_type": "code",
   "execution_count": 21,
   "id": "4b6c115b",
   "metadata": {},
   "outputs": [],
   "source": [
    "param = {'criterion': ['gini', 'entropy'],\n",
    "         'max_depth': range(2,50,3),\n",
    "         'min_samples_split': range(2,20,2),\n",
    "         'min_samples_leaf': range(1,12,2)}"
   ]
  },
  {
   "cell_type": "code",
   "execution_count": 23,
   "id": "09f59b2f",
   "metadata": {},
   "outputs": [
    {
     "name": "stdout",
     "output_type": "stream",
     "text": [
      "Wall time: 26.1 s\n"
     ]
    },
    {
     "data": {
      "text/plain": [
       "({'criterion': 'gini',\n",
       "  'max_depth': 2,\n",
       "  'min_samples_leaf': 1,\n",
       "  'min_samples_split': 2},\n",
       " 0.5907386268511331)"
      ]
     },
     "execution_count": 23,
     "metadata": {},
     "output_type": "execute_result"
    }
   ],
   "source": [
    "%%time\n",
    "grid_search = GridSearchCV(DecisionTreeClassifier(), param,cv=cv, n_jobs=-1)\n",
    "grid_search.fit(X_norm,y)\n",
    "(grid_search.best_params_, grid_search.best_score_)"
   ]
  },
  {
   "cell_type": "markdown",
   "id": "e02550ab",
   "metadata": {},
   "source": [
    "Это все печально"
   ]
  },
  {
   "cell_type": "markdown",
   "id": "9e0b2bd2",
   "metadata": {},
   "source": [
    "<h3>Случайный лес</h3>"
   ]
  },
  {
   "cell_type": "code",
   "execution_count": 24,
   "id": "ae245861",
   "metadata": {},
   "outputs": [
    {
     "name": "stdout",
     "output_type": "stream",
     "text": [
      "name: RandomForestClassifier, score: [0.56473829 0.59779614 0.54269972 0.59392265 0.54696133], mean: 0.5692236275360334\n",
      "Wall time: 405 ms\n"
     ]
    }
   ],
   "source": [
    "%%time\n",
    "model_rf = RandomForestClassifier()\n",
    "result_fr = cross_val_score(model_rf, X_norm, y, cv=cv, n_jobs=-1)\n",
    "print(f'name: RandomForestClassifier, score: {result_fr}, mean: {result_fr.mean()}')"
   ]
  },
  {
   "cell_type": "code",
   "execution_count": 25,
   "id": "cd8c5741",
   "metadata": {},
   "outputs": [],
   "source": [
    "param = {'n_estimators': [100,200,500,1000,2000],\n",
    "         'criterion': ['gini', 'entropy'],\n",
    "         'max_depth': range(1,51,10)}"
   ]
  },
  {
   "cell_type": "code",
   "execution_count": 27,
   "id": "d359f887",
   "metadata": {},
   "outputs": [
    {
     "name": "stdout",
     "output_type": "stream",
     "text": [
      "Wall time: 1min 23s\n"
     ]
    },
    {
     "data": {
      "text/plain": [
       "({'criterion': 'entropy', 'max_depth': 11, 'n_estimators': 1000},\n",
       " 0.5857510311553507,\n",
       " 0.018978187768778926)"
      ]
     },
     "execution_count": 27,
     "metadata": {},
     "output_type": "execute_result"
    }
   ],
   "source": [
    "%%time\n",
    "grid_search = GridSearchCV(RandomForestClassifier(n_jobs=-1), param,cv=cv, n_jobs=-1)\n",
    "grid_search.fit(X_norm,y)\n",
    "(grid_search.best_params_, grid_search.best_score_,\n",
    "pd.DataFrame(grid_search.cv_results_).sort_values('mean_test_score', ascending=False)['std_test_score'].values[0])"
   ]
  },
  {
   "cell_type": "markdown",
   "id": "7907d741",
   "metadata": {},
   "source": [
    "Еле еле душа в теле, короче так не работает"
   ]
  },
  {
   "cell_type": "markdown",
   "id": "7b0654cf",
   "metadata": {},
   "source": [
    "<h3>Градиентный бустинг</h3>"
   ]
  },
  {
   "cell_type": "code",
   "execution_count": 28,
   "id": "1fc3c67b",
   "metadata": {},
   "outputs": [
    {
     "name": "stdout",
     "output_type": "stream",
     "text": [
      "name: XGBClassifier, score: [0.58677686 0.58677686 0.57024793 0.56629834 0.52486188], mean: 0.5669923747774075\n",
      "Wall time: 945 ms\n"
     ]
    }
   ],
   "source": [
    "%%time\n",
    "model_xgb = XGBClassifier()\n",
    "result_xgb = cross_val_score(model_xgb, X_norm, y, cv=cv, n_jobs=-1)\n",
    "print(f'name: XGBClassifier, score: {result_xgb}, mean: {result_xgb.mean()}')"
   ]
  },
  {
   "cell_type": "code",
   "execution_count": 29,
   "id": "ee9957fd",
   "metadata": {},
   "outputs": [],
   "source": [
    "param = {'n_estimators': [100,200],\n",
    "         'max_depth': range(10,51,2)}"
   ]
  },
  {
   "cell_type": "code",
   "execution_count": 31,
   "id": "3b55ee31",
   "metadata": {},
   "outputs": [
    {
     "name": "stdout",
     "output_type": "stream",
     "text": [
      "[20:25:37] WARNING: ..\\src\\learner.cc:1115: Starting in XGBoost 1.3.0, the default evaluation metric used with the objective 'binary:logistic' was changed from 'error' to 'logloss'. Explicitly set eval_metric if you'd like to restore the old behavior.\n",
      "Wall time: 37.9 s\n"
     ]
    },
    {
     "data": {
      "text/plain": [
       "({'max_depth': 16, 'n_estimators': 100},\n",
       " 0.5830053422218164,\n",
       " 0.01047082000614565)"
      ]
     },
     "execution_count": 31,
     "metadata": {},
     "output_type": "execute_result"
    }
   ],
   "source": [
    "%%time\n",
    "grid_search = GridSearchCV(XGBClassifier(n_jobs=-1), param,cv=cv, n_jobs=-1)\n",
    "grid_search.fit(X_norm,y)\n",
    "(grid_search.best_params_, grid_search.best_score_,\n",
    "pd.DataFrame(grid_search.cv_results_).sort_values('mean_test_score', ascending=False)['std_test_score'].values[0])"
   ]
  },
  {
   "cell_type": "code",
   "execution_count": 32,
   "id": "41f04a20",
   "metadata": {},
   "outputs": [
    {
     "name": "stdout",
     "output_type": "stream",
     "text": [
      "name: XGBClassifier, score: [0.57024793 0.58677686 0.59504132 0.6160221  0.52762431], mean: 0.5791425049084516\n"
     ]
    }
   ],
   "source": [
    "model_xgb = XGBClassifier(max_depth=16, n_estimators=2000)\n",
    "result_xgb = cross_val_score(model_xgb, X_norm, y, cv=cv, n_jobs=-1)\n",
    "print(f'name: XGBClassifier, score: {result_xgb}, mean: {result_xgb.mean()}')"
   ]
  },
  {
   "cell_type": "code",
   "execution_count": null,
   "id": "62616441",
   "metadata": {},
   "outputs": [],
   "source": []
  }
 ],
 "metadata": {
  "kernelspec": {
   "display_name": "Python 3",
   "language": "python",
   "name": "python3"
  },
  "language_info": {
   "codemirror_mode": {
    "name": "ipython",
    "version": 3
   },
   "file_extension": ".py",
   "mimetype": "text/x-python",
   "name": "python",
   "nbconvert_exporter": "python",
   "pygments_lexer": "ipython3",
   "version": "3.8.5"
  }
 },
 "nbformat": 4,
 "nbformat_minor": 5
}
