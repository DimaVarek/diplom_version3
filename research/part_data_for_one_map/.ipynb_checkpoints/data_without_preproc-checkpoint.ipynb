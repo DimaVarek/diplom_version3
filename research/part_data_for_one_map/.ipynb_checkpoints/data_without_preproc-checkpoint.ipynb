{
 "cells": [
  {
   "cell_type": "code",
   "execution_count": 1,
   "id": "ebb4d284",
   "metadata": {},
   "outputs": [],
   "source": [
    "import numpy as np\n",
    "import pandas as pd\n",
    "from sklearn.model_selection import KFold\n",
    "from sklearn.model_selection import cross_val_score\n",
    "from sklearn.model_selection import train_test_split\n",
    "from sklearn.preprocessing import LabelEncoder, RobustScaler\n",
    "\n",
    "import matplotlib.pyplot as plt\n",
    "plt.rcParams['figure.figsize'] = [12, 8]\n",
    "plt.rcParams['figure.dpi'] = 100\n",
    "\n",
    "from sklearn.dummy import DummyClassifier\n",
    "from sklearn.linear_model import Perceptron\n",
    "from sklearn.svm import SVC\n",
    "from sklearn.linear_model import LogisticRegression\n",
    "from sklearn.tree import DecisionTreeClassifier\n",
    "from sklearn.ensemble import RandomForestClassifier\n",
    "from xgboost import XGBClassifier\n",
    "\n",
    "from sklearn.model_selection import GridSearchCV\n",
    "\n",
    "import warnings\n",
    "warnings.filterwarnings('ignore')"
   ]
  },
  {
   "cell_type": "markdown",
   "id": "0c4d2c2f",
   "metadata": {},
   "source": [
    "<h2>Предобработка данных</h2>"
   ]
  },
  {
   "cell_type": "code",
   "execution_count": 6,
   "id": "2619fd7b",
   "metadata": {},
   "outputs": [
    {
     "data": {
      "text/html": [
       "<div>\n",
       "<style scoped>\n",
       "    .dataframe tbody tr th:only-of-type {\n",
       "        vertical-align: middle;\n",
       "    }\n",
       "\n",
       "    .dataframe tbody tr th {\n",
       "        vertical-align: top;\n",
       "    }\n",
       "\n",
       "    .dataframe thead th {\n",
       "        text-align: right;\n",
       "    }\n",
       "</style>\n",
       "<table border=\"1\" class=\"dataframe\">\n",
       "  <thead>\n",
       "    <tr style=\"text-align: right;\">\n",
       "      <th></th>\n",
       "      <th>map</th>\n",
       "      <th>result</th>\n",
       "      <th>team1_world_rank</th>\n",
       "      <th>team2_world_rank</th>\n",
       "      <th>1_top_Times played</th>\n",
       "      <th>1_top_wins</th>\n",
       "      <th>1_top_draws</th>\n",
       "      <th>1_top_losses</th>\n",
       "      <th>1_top_Total rounds played</th>\n",
       "      <th>1_top_Rounds won</th>\n",
       "      <th>...</th>\n",
       "      <th>2_All_draws</th>\n",
       "      <th>2_All_losses</th>\n",
       "      <th>2_All_Total rounds played</th>\n",
       "      <th>2_All_Rounds won</th>\n",
       "      <th>2_All_Win percent</th>\n",
       "      <th>2_All_Pistol rounds</th>\n",
       "      <th>2_All_Pistol rounds won</th>\n",
       "      <th>2_All_Pistol round win percent</th>\n",
       "      <th>2_All_CT round win percent</th>\n",
       "      <th>2_All_T round win percent</th>\n",
       "    </tr>\n",
       "  </thead>\n",
       "  <tbody>\n",
       "    <tr>\n",
       "      <th>0</th>\n",
       "      <td>Nuke</td>\n",
       "      <td>-1</td>\n",
       "      <td>28</td>\n",
       "      <td>46</td>\n",
       "      <td>3</td>\n",
       "      <td>0</td>\n",
       "      <td>0</td>\n",
       "      <td>3</td>\n",
       "      <td>80</td>\n",
       "      <td>32</td>\n",
       "      <td>...</td>\n",
       "      <td>0</td>\n",
       "      <td>2</td>\n",
       "      <td>140</td>\n",
       "      <td>82</td>\n",
       "      <td>0.667</td>\n",
       "      <td>12</td>\n",
       "      <td>7</td>\n",
       "      <td>0.583</td>\n",
       "      <td>0.774</td>\n",
       "      <td>0.436</td>\n",
       "    </tr>\n",
       "    <tr>\n",
       "      <th>1</th>\n",
       "      <td>Ancient</td>\n",
       "      <td>-1</td>\n",
       "      <td>28</td>\n",
       "      <td>46</td>\n",
       "      <td>1</td>\n",
       "      <td>0</td>\n",
       "      <td>0</td>\n",
       "      <td>1</td>\n",
       "      <td>27</td>\n",
       "      <td>11</td>\n",
       "      <td>...</td>\n",
       "      <td>0</td>\n",
       "      <td>2</td>\n",
       "      <td>135</td>\n",
       "      <td>86</td>\n",
       "      <td>0.667</td>\n",
       "      <td>12</td>\n",
       "      <td>8</td>\n",
       "      <td>0.667</td>\n",
       "      <td>0.756</td>\n",
       "      <td>0.578</td>\n",
       "    </tr>\n",
       "    <tr>\n",
       "      <th>2</th>\n",
       "      <td>Mirage</td>\n",
       "      <td>1</td>\n",
       "      <td>1</td>\n",
       "      <td>223</td>\n",
       "      <td>7</td>\n",
       "      <td>4</td>\n",
       "      <td>0</td>\n",
       "      <td>3</td>\n",
       "      <td>182</td>\n",
       "      <td>106</td>\n",
       "      <td>...</td>\n",
       "      <td>0</td>\n",
       "      <td>2</td>\n",
       "      <td>151</td>\n",
       "      <td>80</td>\n",
       "      <td>0.667</td>\n",
       "      <td>12</td>\n",
       "      <td>7</td>\n",
       "      <td>0.583</td>\n",
       "      <td>0.556</td>\n",
       "      <td>0.511</td>\n",
       "    </tr>\n",
       "    <tr>\n",
       "      <th>3</th>\n",
       "      <td>Ancient</td>\n",
       "      <td>1</td>\n",
       "      <td>1</td>\n",
       "      <td>223</td>\n",
       "      <td>2</td>\n",
       "      <td>2</td>\n",
       "      <td>0</td>\n",
       "      <td>0</td>\n",
       "      <td>54</td>\n",
       "      <td>32</td>\n",
       "      <td>...</td>\n",
       "      <td>0</td>\n",
       "      <td>0</td>\n",
       "      <td>0</td>\n",
       "      <td>0</td>\n",
       "      <td>0.000</td>\n",
       "      <td>0</td>\n",
       "      <td>0</td>\n",
       "      <td>0.000</td>\n",
       "      <td>0.000</td>\n",
       "      <td>0.000</td>\n",
       "    </tr>\n",
       "    <tr>\n",
       "      <th>4</th>\n",
       "      <td>Overpass</td>\n",
       "      <td>-1</td>\n",
       "      <td>14</td>\n",
       "      <td>101</td>\n",
       "      <td>4</td>\n",
       "      <td>2</td>\n",
       "      <td>0</td>\n",
       "      <td>2</td>\n",
       "      <td>106</td>\n",
       "      <td>60</td>\n",
       "      <td>...</td>\n",
       "      <td>0</td>\n",
       "      <td>0</td>\n",
       "      <td>0</td>\n",
       "      <td>0</td>\n",
       "      <td>0.000</td>\n",
       "      <td>0</td>\n",
       "      <td>0</td>\n",
       "      <td>0.000</td>\n",
       "      <td>0.000</td>\n",
       "      <td>0.000</td>\n",
       "    </tr>\n",
       "  </tbody>\n",
       "</table>\n",
       "<p>5 rows × 52 columns</p>\n",
       "</div>"
      ],
      "text/plain": [
       "        map  result  team1_world_rank  team2_world_rank  1_top_Times played  \\\n",
       "0      Nuke      -1                28                46                   3   \n",
       "1   Ancient      -1                28                46                   1   \n",
       "2    Mirage       1                 1               223                   7   \n",
       "3   Ancient       1                 1               223                   2   \n",
       "4  Overpass      -1                14               101                   4   \n",
       "\n",
       "   1_top_wins  1_top_draws  1_top_losses  1_top_Total rounds played  \\\n",
       "0           0            0             3                         80   \n",
       "1           0            0             1                         27   \n",
       "2           4            0             3                        182   \n",
       "3           2            0             0                         54   \n",
       "4           2            0             2                        106   \n",
       "\n",
       "   1_top_Rounds won  ...  2_All_draws  2_All_losses  \\\n",
       "0                32  ...            0             2   \n",
       "1                11  ...            0             2   \n",
       "2               106  ...            0             2   \n",
       "3                32  ...            0             0   \n",
       "4                60  ...            0             0   \n",
       "\n",
       "   2_All_Total rounds played  2_All_Rounds won  2_All_Win percent  \\\n",
       "0                        140                82              0.667   \n",
       "1                        135                86              0.667   \n",
       "2                        151                80              0.667   \n",
       "3                          0                 0              0.000   \n",
       "4                          0                 0              0.000   \n",
       "\n",
       "   2_All_Pistol rounds  2_All_Pistol rounds won  \\\n",
       "0                   12                        7   \n",
       "1                   12                        8   \n",
       "2                   12                        7   \n",
       "3                    0                        0   \n",
       "4                    0                        0   \n",
       "\n",
       "   2_All_Pistol round win percent  2_All_CT round win percent  \\\n",
       "0                           0.583                       0.774   \n",
       "1                           0.667                       0.756   \n",
       "2                           0.583                       0.556   \n",
       "3                           0.000                       0.000   \n",
       "4                           0.000                       0.000   \n",
       "\n",
       "   2_All_T round win percent  \n",
       "0                      0.436  \n",
       "1                      0.578  \n",
       "2                      0.511  \n",
       "3                      0.000  \n",
       "4                      0.000  \n",
       "\n",
       "[5 rows x 52 columns]"
      ]
     },
     "execution_count": 6,
     "metadata": {},
     "output_type": "execute_result"
    }
   ],
   "source": [
    "df = pd.read_csv('../data/df_split_by_map_part_info.csv')\n",
    "df.head()"
   ]
  },
  {
   "cell_type": "code",
   "execution_count": 7,
   "id": "b0c25f82",
   "metadata": {},
   "outputs": [
    {
     "name": "stdout",
     "output_type": "stream",
     "text": [
      "<class 'pandas.core.frame.DataFrame'>\n",
      "RangeIndex: 1813 entries, 0 to 1812\n",
      "Data columns (total 52 columns):\n",
      " #   Column                          Non-Null Count  Dtype  \n",
      "---  ------                          --------------  -----  \n",
      " 0   map                             1813 non-null   object \n",
      " 1   result                          1813 non-null   int64  \n",
      " 2   team1_world_rank                1813 non-null   int64  \n",
      " 3   team2_world_rank                1813 non-null   int64  \n",
      " 4   1_top_Times played              1813 non-null   int64  \n",
      " 5   1_top_wins                      1813 non-null   int64  \n",
      " 6   1_top_draws                     1813 non-null   int64  \n",
      " 7   1_top_losses                    1813 non-null   int64  \n",
      " 8   1_top_Total rounds played       1813 non-null   int64  \n",
      " 9   1_top_Rounds won                1813 non-null   int64  \n",
      " 10  1_top_Win percent               1813 non-null   float64\n",
      " 11  1_top_Pistol rounds             1813 non-null   int64  \n",
      " 12  1_top_Pistol rounds won         1813 non-null   int64  \n",
      " 13  1_top_Pistol round win percent  1813 non-null   float64\n",
      " 14  1_top_CT round win percent      1813 non-null   float64\n",
      " 15  1_top_T round win percent       1813 non-null   float64\n",
      " 16  1_All_Times played              1813 non-null   int64  \n",
      " 17  1_All_wins                      1813 non-null   int64  \n",
      " 18  1_All_draws                     1813 non-null   int64  \n",
      " 19  1_All_losses                    1813 non-null   int64  \n",
      " 20  1_All_Total rounds played       1813 non-null   int64  \n",
      " 21  1_All_Rounds won                1813 non-null   int64  \n",
      " 22  1_All_Win percent               1813 non-null   float64\n",
      " 23  1_All_Pistol rounds             1813 non-null   int64  \n",
      " 24  1_All_Pistol rounds won         1813 non-null   int64  \n",
      " 25  1_All_Pistol round win percent  1813 non-null   float64\n",
      " 26  1_All_CT round win percent      1813 non-null   float64\n",
      " 27  1_All_T round win percent       1813 non-null   float64\n",
      " 28  2_top_Times played              1813 non-null   int64  \n",
      " 29  2_top_wins                      1813 non-null   int64  \n",
      " 30  2_top_draws                     1813 non-null   int64  \n",
      " 31  2_top_losses                    1813 non-null   int64  \n",
      " 32  2_top_Total rounds played       1813 non-null   int64  \n",
      " 33  2_top_Rounds won                1813 non-null   int64  \n",
      " 34  2_top_Win percent               1813 non-null   float64\n",
      " 35  2_top_Pistol rounds             1813 non-null   int64  \n",
      " 36  2_top_Pistol rounds won         1813 non-null   int64  \n",
      " 37  2_top_Pistol round win percent  1813 non-null   float64\n",
      " 38  2_top_CT round win percent      1813 non-null   float64\n",
      " 39  2_top_T round win percent       1813 non-null   float64\n",
      " 40  2_All_Times played              1813 non-null   int64  \n",
      " 41  2_All_wins                      1813 non-null   int64  \n",
      " 42  2_All_draws                     1813 non-null   int64  \n",
      " 43  2_All_losses                    1813 non-null   int64  \n",
      " 44  2_All_Total rounds played       1813 non-null   int64  \n",
      " 45  2_All_Rounds won                1813 non-null   int64  \n",
      " 46  2_All_Win percent               1813 non-null   float64\n",
      " 47  2_All_Pistol rounds             1813 non-null   int64  \n",
      " 48  2_All_Pistol rounds won         1813 non-null   int64  \n",
      " 49  2_All_Pistol round win percent  1813 non-null   float64\n",
      " 50  2_All_CT round win percent      1813 non-null   float64\n",
      " 51  2_All_T round win percent       1813 non-null   float64\n",
      "dtypes: float64(16), int64(35), object(1)\n",
      "memory usage: 736.7+ KB\n"
     ]
    }
   ],
   "source": [
    "df.info()"
   ]
  },
  {
   "cell_type": "code",
   "execution_count": 8,
   "id": "d2958581",
   "metadata": {},
   "outputs": [],
   "source": [
    "maps_decoder = LabelEncoder()\n",
    "df['map'] = maps_decoder.fit_transform(df['map'])"
   ]
  },
  {
   "cell_type": "code",
   "execution_count": 9,
   "id": "80796ab5",
   "metadata": {},
   "outputs": [],
   "source": [
    "cv = KFold(shuffle=True, random_state=1)\n",
    "X = df.drop('result', axis=1)\n",
    "y = df['result']"
   ]
  },
  {
   "cell_type": "markdown",
   "id": "4162879a",
   "metadata": {},
   "source": [
    "<h2>Обучение моделей. Сравнение результатов.</h2>"
   ]
  },
  {
   "cell_type": "code",
   "execution_count": 10,
   "id": "aaf6327d",
   "metadata": {},
   "outputs": [
    {
     "name": "stdout",
     "output_type": "stream",
     "text": [
      "name: Dummy, score: [0.56473829 0.5785124  0.56749311 0.50552486 0.53314917], mean: 0.5498835669604129\n"
     ]
    }
   ],
   "source": [
    "model_dummy = DummyClassifier(strategy=\"most_frequent\")\n",
    "result_dummy = cross_val_score(model_dummy, X, y, cv=cv)\n",
    "print(f'name: Dummy, score: {result_dummy}, mean: {result_dummy.mean()}')"
   ]
  },
  {
   "cell_type": "markdown",
   "id": "10f61c1e",
   "metadata": {},
   "source": [
    "<h3>Ошибка перцептрона</h3> "
   ]
  },
  {
   "cell_type": "code",
   "execution_count": 11,
   "id": "2aa89f50",
   "metadata": {},
   "outputs": [
    {
     "name": "stdout",
     "output_type": "stream",
     "text": [
      "name: Perceptron, score: [0.56749311 0.46280992 0.42975207 0.58839779 0.54143646], mean: 0.5179778701124759\n"
     ]
    }
   ],
   "source": [
    "model_perceptron = Perceptron()\n",
    "result_perceptron = cross_val_score(model_perceptron, X, y, cv=cv)\n",
    "print(f'name: Perceptron, score: {result_perceptron}, mean: {result_perceptron.mean()}')"
   ]
  },
  {
   "cell_type": "code",
   "execution_count": 12,
   "id": "831a834e",
   "metadata": {},
   "outputs": [],
   "source": [
    "param = {'penalty': ['l2', 'l1'],\n",
    "         'alpha': [10**-6, 10**-5, 10**-4, 10**-3, 10**-2, 10**-1, 10**0, 10**1, 10**2]}"
   ]
  },
  {
   "cell_type": "code",
   "execution_count": 13,
   "id": "a40d855d",
   "metadata": {},
   "outputs": [
    {
     "name": "stdout",
     "output_type": "stream",
     "text": [
      "Wall time: 1.65 s\n"
     ]
    },
    {
     "data": {
      "text/plain": [
       "({'alpha': 0.1, 'penalty': 'l1'}, 0.5499048749676575)"
      ]
     },
     "execution_count": 13,
     "metadata": {},
     "output_type": "execute_result"
    }
   ],
   "source": [
    "%%time\n",
    "grid_search = GridSearchCV(Perceptron(), param,cv=cv, n_jobs=-1)\n",
    "grid_search.fit(X,y)\n",
    "(grid_search.best_params_, grid_search.best_score_)"
   ]
  },
  {
   "cell_type": "markdown",
   "id": "a013cbeb",
   "metadata": {},
   "source": [
    "Еле-еле перешагнули порог"
   ]
  },
  {
   "cell_type": "markdown",
   "id": "6d34406d",
   "metadata": {},
   "source": [
    "<h3>Метод опорных векторов</h3>"
   ]
  },
  {
   "cell_type": "code",
   "execution_count": 14,
   "id": "2781281e",
   "metadata": {},
   "outputs": [
    {
     "name": "stdout",
     "output_type": "stream",
     "text": [
      "name: SVM, score: [0.63636364 0.57300275 0.58402204 0.55801105 0.56629834], mean: 0.583539564403452\n",
      "Wall time: 187 ms\n"
     ]
    }
   ],
   "source": [
    "%%time\n",
    "model_svm = SVC()\n",
    "result_svm = cross_val_score(model_svm, X, y, cv=cv, n_jobs=-1)\n",
    "print(f'name: SVM, score: {result_svm}, mean: {result_svm.mean()}')"
   ]
  },
  {
   "cell_type": "markdown",
   "id": "68858bd8",
   "metadata": {},
   "source": [
    "И сразу хорошо"
   ]
  },
  {
   "cell_type": "code",
   "execution_count": 15,
   "id": "3e673999",
   "metadata": {},
   "outputs": [],
   "source": [
    "param = {'C': [10**-3, 10**-2, 10**-1, 10**0, 10**1],\n",
    "         'kernel': ['rbf', 'poly', 'sigmoid']}"
   ]
  },
  {
   "cell_type": "code",
   "execution_count": 16,
   "id": "f7cc95c1",
   "metadata": {},
   "outputs": [
    {
     "name": "stdout",
     "output_type": "stream",
     "text": [
      "Wall time: 1.72 s\n"
     ]
    },
    {
     "data": {
      "text/plain": [
       "({'C': 10, 'kernel': 'rbf'}, 0.5835502184070742)"
      ]
     },
     "execution_count": 16,
     "metadata": {},
     "output_type": "execute_result"
    }
   ],
   "source": [
    "%%time\n",
    "grid_search = GridSearchCV(SVC(), param,cv=cv, n_jobs=-1)\n",
    "grid_search.fit(X,y)\n",
    "(grid_search.best_params_, grid_search.best_score_)"
   ]
  },
  {
   "cell_type": "code",
   "execution_count": 17,
   "id": "0f1bb514",
   "metadata": {},
   "outputs": [],
   "source": [
    "param = {'C': [1],\n",
    "         'kernel': ['poly'],\n",
    "         'degree': range(1,11)}"
   ]
  },
  {
   "cell_type": "code",
   "execution_count": 18,
   "id": "ffa90403",
   "metadata": {},
   "outputs": [
    {
     "name": "stdout",
     "output_type": "stream",
     "text": [
      "Wall time: 20.7 s\n"
     ]
    },
    {
     "data": {
      "text/plain": [
       "({'C': 1, 'degree': 1, 'kernel': 'poly'}, 0.5857373331506932)"
      ]
     },
     "execution_count": 18,
     "metadata": {},
     "output_type": "execute_result"
    }
   ],
   "source": [
    "%%time\n",
    "grid_search = GridSearchCV(SVC(), param,cv=cv, n_jobs=-1)\n",
    "grid_search.fit(X,y)\n",
    "(grid_search.best_params_, grid_search.best_score_)"
   ]
  },
  {
   "cell_type": "code",
   "execution_count": 19,
   "id": "afe538d6",
   "metadata": {},
   "outputs": [
    {
     "data": {
      "text/html": [
       "<div>\n",
       "<style scoped>\n",
       "    .dataframe tbody tr th:only-of-type {\n",
       "        vertical-align: middle;\n",
       "    }\n",
       "\n",
       "    .dataframe tbody tr th {\n",
       "        vertical-align: top;\n",
       "    }\n",
       "\n",
       "    .dataframe thead th {\n",
       "        text-align: right;\n",
       "    }\n",
       "</style>\n",
       "<table border=\"1\" class=\"dataframe\">\n",
       "  <thead>\n",
       "    <tr style=\"text-align: right;\">\n",
       "      <th></th>\n",
       "      <th>param_C</th>\n",
       "      <th>param_degree</th>\n",
       "      <th>param_kernel</th>\n",
       "      <th>params</th>\n",
       "      <th>split0_test_score</th>\n",
       "      <th>split1_test_score</th>\n",
       "      <th>split2_test_score</th>\n",
       "      <th>split3_test_score</th>\n",
       "      <th>split4_test_score</th>\n",
       "      <th>mean_test_score</th>\n",
       "      <th>std_test_score</th>\n",
       "      <th>rank_test_score</th>\n",
       "    </tr>\n",
       "  </thead>\n",
       "  <tbody>\n",
       "    <tr>\n",
       "      <th>0</th>\n",
       "      <td>1</td>\n",
       "      <td>1</td>\n",
       "      <td>poly</td>\n",
       "      <td>{'C': 1, 'degree': 1, 'kernel': 'poly'}</td>\n",
       "      <td>0.611570</td>\n",
       "      <td>0.611570</td>\n",
       "      <td>0.592287</td>\n",
       "      <td>0.549724</td>\n",
       "      <td>0.563536</td>\n",
       "      <td>0.585737</td>\n",
       "      <td>0.025169</td>\n",
       "      <td>1</td>\n",
       "    </tr>\n",
       "    <tr>\n",
       "      <th>1</th>\n",
       "      <td>1</td>\n",
       "      <td>2</td>\n",
       "      <td>poly</td>\n",
       "      <td>{'C': 1, 'degree': 2, 'kernel': 'poly'}</td>\n",
       "      <td>0.589532</td>\n",
       "      <td>0.600551</td>\n",
       "      <td>0.595041</td>\n",
       "      <td>0.524862</td>\n",
       "      <td>0.552486</td>\n",
       "      <td>0.572494</td>\n",
       "      <td>0.029172</td>\n",
       "      <td>2</td>\n",
       "    </tr>\n",
       "    <tr>\n",
       "      <th>2</th>\n",
       "      <td>1</td>\n",
       "      <td>3</td>\n",
       "      <td>poly</td>\n",
       "      <td>{'C': 1, 'degree': 3, 'kernel': 'poly'}</td>\n",
       "      <td>0.573003</td>\n",
       "      <td>0.586777</td>\n",
       "      <td>0.573003</td>\n",
       "      <td>0.519337</td>\n",
       "      <td>0.549724</td>\n",
       "      <td>0.560369</td>\n",
       "      <td>0.023721</td>\n",
       "      <td>3</td>\n",
       "    </tr>\n",
       "    <tr>\n",
       "      <th>3</th>\n",
       "      <td>1</td>\n",
       "      <td>4</td>\n",
       "      <td>poly</td>\n",
       "      <td>{'C': 1, 'degree': 4, 'kernel': 'poly'}</td>\n",
       "      <td>0.567493</td>\n",
       "      <td>0.592287</td>\n",
       "      <td>0.570248</td>\n",
       "      <td>0.513812</td>\n",
       "      <td>0.549724</td>\n",
       "      <td>0.558713</td>\n",
       "      <td>0.026208</td>\n",
       "      <td>4</td>\n",
       "    </tr>\n",
       "    <tr>\n",
       "      <th>9</th>\n",
       "      <td>1</td>\n",
       "      <td>10</td>\n",
       "      <td>poly</td>\n",
       "      <td>{'C': 1, 'degree': 10, 'kernel': 'poly'}</td>\n",
       "      <td>0.573003</td>\n",
       "      <td>0.597796</td>\n",
       "      <td>0.575758</td>\n",
       "      <td>0.497238</td>\n",
       "      <td>0.546961</td>\n",
       "      <td>0.558151</td>\n",
       "      <td>0.034461</td>\n",
       "      <td>5</td>\n",
       "    </tr>\n",
       "  </tbody>\n",
       "</table>\n",
       "</div>"
      ],
      "text/plain": [
       "  param_C param_degree param_kernel                                    params  \\\n",
       "0       1            1         poly   {'C': 1, 'degree': 1, 'kernel': 'poly'}   \n",
       "1       1            2         poly   {'C': 1, 'degree': 2, 'kernel': 'poly'}   \n",
       "2       1            3         poly   {'C': 1, 'degree': 3, 'kernel': 'poly'}   \n",
       "3       1            4         poly   {'C': 1, 'degree': 4, 'kernel': 'poly'}   \n",
       "9       1           10         poly  {'C': 1, 'degree': 10, 'kernel': 'poly'}   \n",
       "\n",
       "   split0_test_score  split1_test_score  split2_test_score  split3_test_score  \\\n",
       "0           0.611570           0.611570           0.592287           0.549724   \n",
       "1           0.589532           0.600551           0.595041           0.524862   \n",
       "2           0.573003           0.586777           0.573003           0.519337   \n",
       "3           0.567493           0.592287           0.570248           0.513812   \n",
       "9           0.573003           0.597796           0.575758           0.497238   \n",
       "\n",
       "   split4_test_score  mean_test_score  std_test_score  rank_test_score  \n",
       "0           0.563536         0.585737        0.025169                1  \n",
       "1           0.552486         0.572494        0.029172                2  \n",
       "2           0.549724         0.560369        0.023721                3  \n",
       "3           0.549724         0.558713        0.026208                4  \n",
       "9           0.546961         0.558151        0.034461                5  "
      ]
     },
     "execution_count": 19,
     "metadata": {},
     "output_type": "execute_result"
    }
   ],
   "source": [
    "pd.DataFrame(grid_search.cv_results_).sort_values('mean_test_score', ascending=False).iloc[:,4:].head()"
   ]
  },
  {
   "cell_type": "markdown",
   "id": "7affacdb",
   "metadata": {},
   "source": [
    "Пока что не очень хорошо"
   ]
  },
  {
   "cell_type": "markdown",
   "id": "8d017d48",
   "metadata": {},
   "source": [
    "<h3>Логистическая регрессия</h3>"
   ]
  },
  {
   "cell_type": "code",
   "execution_count": 20,
   "id": "3122c877",
   "metadata": {},
   "outputs": [
    {
     "name": "stdout",
     "output_type": "stream",
     "text": [
      "name: LogisticRegression, score: [0.63636364 0.6446281  0.5922865  0.56629834 0.58563536], mean: 0.6050423877144118\n",
      "Wall time: 45.6 ms\n"
     ]
    }
   ],
   "source": [
    "%%time\n",
    "model_log = LogisticRegression()\n",
    "result_log = cross_val_score(model_log, X, y, cv=cv, n_jobs=-1)\n",
    "print(f'name: LogisticRegression, score: {result_log}, mean: {result_log.mean()}')"
   ]
  },
  {
   "cell_type": "markdown",
   "id": "a4f822be",
   "metadata": {},
   "source": [
    "Супер быстро и не плохой счет"
   ]
  },
  {
   "cell_type": "code",
   "execution_count": 21,
   "id": "20584469",
   "metadata": {},
   "outputs": [],
   "source": [
    "param = {'C': [10**-3, 10**-2, 10**-1, 10**0, 10**1]}"
   ]
  },
  {
   "cell_type": "code",
   "execution_count": 24,
   "id": "53e4f570",
   "metadata": {},
   "outputs": [
    {
     "name": "stdout",
     "output_type": "stream",
     "text": [
      "Wall time: 167 ms\n"
     ]
    },
    {
     "data": {
      "text/plain": [
       "({'C': 1}, 0.6050423877144118)"
      ]
     },
     "execution_count": 24,
     "metadata": {},
     "output_type": "execute_result"
    }
   ],
   "source": [
    "%%time\n",
    "grid_search = GridSearchCV(LogisticRegression(), param,cv=cv, n_jobs=-1)\n",
    "grid_search.fit(X,y)\n",
    "(grid_search.best_params_, grid_search.best_score_)"
   ]
  },
  {
   "cell_type": "markdown",
   "id": "b43bac1d",
   "metadata": {},
   "source": [
    "Как жаль, что тут нечего больше улучшать"
   ]
  },
  {
   "cell_type": "markdown",
   "id": "4a0b9d05",
   "metadata": {},
   "source": [
    "<h3>Дерево решений.</h3>"
   ]
  },
  {
   "cell_type": "code",
   "execution_count": 25,
   "id": "7dc9e9d8",
   "metadata": {},
   "outputs": [
    {
     "name": "stdout",
     "output_type": "stream",
     "text": [
      "name: Tree, score: [0.51515152 0.54269972 0.5399449  0.55524862 0.50552486], mean: 0.5317139247827345\n",
      "Wall time: 76.6 ms\n"
     ]
    }
   ],
   "source": [
    "%%time\n",
    "model_tree = DecisionTreeClassifier()\n",
    "result_tree = cross_val_score(model_tree, X, y, cv=cv, n_jobs=-1)\n",
    "print(f'name: Tree, score: {result_tree}, mean: {result_tree.mean()}')"
   ]
  },
  {
   "cell_type": "markdown",
   "id": "40185ea1",
   "metadata": {},
   "source": [
    "Плохо, но зато быстро считается, что радует"
   ]
  },
  {
   "cell_type": "code",
   "execution_count": 27,
   "id": "32fe208b",
   "metadata": {},
   "outputs": [],
   "source": [
    "param = {'criterion': ['gini', 'entropy'],\n",
    "         'max_depth': range(2,50)}"
   ]
  },
  {
   "cell_type": "code",
   "execution_count": 28,
   "id": "5334f5f0",
   "metadata": {},
   "outputs": [
    {
     "name": "stdout",
     "output_type": "stream",
     "text": [
      "Wall time: 1.91 s\n"
     ]
    },
    {
     "data": {
      "text/plain": [
       "({'criterion': 'gini', 'max_depth': 2}, 0.5912895910384609)"
      ]
     },
     "execution_count": 28,
     "metadata": {},
     "output_type": "execute_result"
    }
   ],
   "source": [
    "%%time\n",
    "grid_search = GridSearchCV(DecisionTreeClassifier(), param,cv=cv, n_jobs=-1)\n",
    "grid_search.fit(X,y)\n",
    "(grid_search.best_params_, grid_search.best_score_)"
   ]
  },
  {
   "cell_type": "markdown",
   "id": "43e3cd94",
   "metadata": {},
   "source": [
    "уже лучше, как мы видим важна малая глубина => будут хорошо работать асамблеи из деревьев"
   ]
  },
  {
   "cell_type": "code",
   "execution_count": 30,
   "id": "47360435",
   "metadata": {},
   "outputs": [],
   "source": [
    "param = {'criterion': ['gini', 'entropy'],\n",
    "         'max_depth': range(2,50),\n",
    "         'min_samples_split': range(2,20),\n",
    "         'min_samples_leaf': range(1,10)}"
   ]
  },
  {
   "cell_type": "code",
   "execution_count": 31,
   "id": "8a23f563",
   "metadata": {},
   "outputs": [
    {
     "name": "stdout",
     "output_type": "stream",
     "text": [
      "Wall time: 4min 12s\n"
     ]
    },
    {
     "data": {
      "text/plain": [
       "({'criterion': 'gini',\n",
       "  'max_depth': 2,\n",
       "  'min_samples_leaf': 1,\n",
       "  'min_samples_split': 2},\n",
       " 0.5912895910384609)"
      ]
     },
     "execution_count": 31,
     "metadata": {},
     "output_type": "execute_result"
    }
   ],
   "source": [
    "%%time\n",
    "grid_search = GridSearchCV(DecisionTreeClassifier(), param,cv=cv, n_jobs=-1)\n",
    "grid_search.fit(X,y)\n",
    "(grid_search.best_params_, grid_search.best_score_)"
   ]
  },
  {
   "cell_type": "markdown",
   "id": "46c6d3ad",
   "metadata": {},
   "source": [
    "Все равно не очень хорошо"
   ]
  },
  {
   "cell_type": "markdown",
   "id": "4ec6ff77",
   "metadata": {},
   "source": [
    "<h3>Случайный лес</h3>"
   ]
  },
  {
   "cell_type": "code",
   "execution_count": 32,
   "id": "759e88c7",
   "metadata": {},
   "outputs": [
    {
     "name": "stdout",
     "output_type": "stream",
     "text": [
      "name: RandomForestClassifier, score: [0.56473829 0.58126722 0.55922865 0.59392265 0.50828729], mean: 0.5614888209061991\n",
      "Wall time: 1.64 s\n"
     ]
    }
   ],
   "source": [
    "%%time\n",
    "model_rf = RandomForestClassifier()\n",
    "result_fr = cross_val_score(model_rf, X, y, cv=cv, n_jobs=-1)\n",
    "print(f'name: RandomForestClassifier, score: {result_fr}, mean: {result_fr.mean()}')"
   ]
  },
  {
   "cell_type": "code",
   "execution_count": 35,
   "id": "e3249525",
   "metadata": {},
   "outputs": [],
   "source": [
    "param = {'n_estimators': [100,200,500,1000,2000],\n",
    "         'criterion': ['gini', 'entropy'],\n",
    "         'max_depth': range(1,51,10)}"
   ]
  },
  {
   "cell_type": "code",
   "execution_count": 36,
   "id": "de66765f",
   "metadata": {},
   "outputs": [
    {
     "name": "stdout",
     "output_type": "stream",
     "text": [
      "Wall time: 1min 26s\n"
     ]
    },
    {
     "data": {
      "text/plain": [
       "({'criterion': 'entropy', 'max_depth': 11, 'n_estimators': 200},\n",
       " 0.5857540751563856)"
      ]
     },
     "execution_count": 36,
     "metadata": {},
     "output_type": "execute_result"
    }
   ],
   "source": [
    "%%time\n",
    "grid_search = GridSearchCV(RandomForestClassifier(), param,cv=cv, n_jobs=-1)\n",
    "grid_search.fit(X,y)\n",
    "(grid_search.best_params_, grid_search.best_score_)"
   ]
  },
  {
   "cell_type": "code",
   "execution_count": 37,
   "id": "0eac272c",
   "metadata": {},
   "outputs": [
    {
     "data": {
      "text/html": [
       "<div>\n",
       "<style scoped>\n",
       "    .dataframe tbody tr th:only-of-type {\n",
       "        vertical-align: middle;\n",
       "    }\n",
       "\n",
       "    .dataframe tbody tr th {\n",
       "        vertical-align: top;\n",
       "    }\n",
       "\n",
       "    .dataframe thead th {\n",
       "        text-align: right;\n",
       "    }\n",
       "</style>\n",
       "<table border=\"1\" class=\"dataframe\">\n",
       "  <thead>\n",
       "    <tr style=\"text-align: right;\">\n",
       "      <th></th>\n",
       "      <th>param_criterion</th>\n",
       "      <th>param_max_depth</th>\n",
       "      <th>param_n_estimators</th>\n",
       "      <th>params</th>\n",
       "      <th>split0_test_score</th>\n",
       "      <th>split1_test_score</th>\n",
       "      <th>split2_test_score</th>\n",
       "      <th>split3_test_score</th>\n",
       "      <th>split4_test_score</th>\n",
       "      <th>mean_test_score</th>\n",
       "      <th>std_test_score</th>\n",
       "      <th>rank_test_score</th>\n",
       "    </tr>\n",
       "  </thead>\n",
       "  <tbody>\n",
       "    <tr>\n",
       "      <th>31</th>\n",
       "      <td>entropy</td>\n",
       "      <td>11</td>\n",
       "      <td>200</td>\n",
       "      <td>{'criterion': 'entropy', 'max_depth': 11, 'n_e...</td>\n",
       "      <td>0.595041</td>\n",
       "      <td>0.603306</td>\n",
       "      <td>0.586777</td>\n",
       "      <td>0.588398</td>\n",
       "      <td>0.555249</td>\n",
       "      <td>0.585754</td>\n",
       "      <td>0.016327</td>\n",
       "      <td>1</td>\n",
       "    </tr>\n",
       "    <tr>\n",
       "      <th>32</th>\n",
       "      <td>entropy</td>\n",
       "      <td>11</td>\n",
       "      <td>500</td>\n",
       "      <td>{'criterion': 'entropy', 'max_depth': 11, 'n_e...</td>\n",
       "      <td>0.603306</td>\n",
       "      <td>0.597796</td>\n",
       "      <td>0.592287</td>\n",
       "      <td>0.571823</td>\n",
       "      <td>0.552486</td>\n",
       "      <td>0.583540</td>\n",
       "      <td>0.018826</td>\n",
       "      <td>2</td>\n",
       "    </tr>\n",
       "    <tr>\n",
       "      <th>34</th>\n",
       "      <td>entropy</td>\n",
       "      <td>11</td>\n",
       "      <td>2000</td>\n",
       "      <td>{'criterion': 'entropy', 'max_depth': 11, 'n_e...</td>\n",
       "      <td>0.589532</td>\n",
       "      <td>0.608815</td>\n",
       "      <td>0.581267</td>\n",
       "      <td>0.582873</td>\n",
       "      <td>0.552486</td>\n",
       "      <td>0.582995</td>\n",
       "      <td>0.018128</td>\n",
       "      <td>3</td>\n",
       "    </tr>\n",
       "    <tr>\n",
       "      <th>7</th>\n",
       "      <td>gini</td>\n",
       "      <td>11</td>\n",
       "      <td>500</td>\n",
       "      <td>{'criterion': 'gini', 'max_depth': 11, 'n_esti...</td>\n",
       "      <td>0.600551</td>\n",
       "      <td>0.608815</td>\n",
       "      <td>0.578512</td>\n",
       "      <td>0.571823</td>\n",
       "      <td>0.549724</td>\n",
       "      <td>0.581885</td>\n",
       "      <td>0.021074</td>\n",
       "      <td>4</td>\n",
       "    </tr>\n",
       "    <tr>\n",
       "      <th>40</th>\n",
       "      <td>entropy</td>\n",
       "      <td>31</td>\n",
       "      <td>100</td>\n",
       "      <td>{'criterion': 'entropy', 'max_depth': 31, 'n_e...</td>\n",
       "      <td>0.614325</td>\n",
       "      <td>0.611570</td>\n",
       "      <td>0.537190</td>\n",
       "      <td>0.602210</td>\n",
       "      <td>0.538674</td>\n",
       "      <td>0.580794</td>\n",
       "      <td>0.035229</td>\n",
       "      <td>5</td>\n",
       "    </tr>\n",
       "    <tr>\n",
       "      <th>38</th>\n",
       "      <td>entropy</td>\n",
       "      <td>21</td>\n",
       "      <td>1000</td>\n",
       "      <td>{'criterion': 'entropy', 'max_depth': 21, 'n_e...</td>\n",
       "      <td>0.589532</td>\n",
       "      <td>0.608815</td>\n",
       "      <td>0.570248</td>\n",
       "      <td>0.591160</td>\n",
       "      <td>0.533149</td>\n",
       "      <td>0.578581</td>\n",
       "      <td>0.025791</td>\n",
       "      <td>6</td>\n",
       "    </tr>\n",
       "    <tr>\n",
       "      <th>0</th>\n",
       "      <td>gini</td>\n",
       "      <td>1</td>\n",
       "      <td>100</td>\n",
       "      <td>{'criterion': 'gini', 'max_depth': 1, 'n_estim...</td>\n",
       "      <td>0.600551</td>\n",
       "      <td>0.611570</td>\n",
       "      <td>0.550964</td>\n",
       "      <td>0.574586</td>\n",
       "      <td>0.552486</td>\n",
       "      <td>0.578031</td>\n",
       "      <td>0.024613</td>\n",
       "      <td>7</td>\n",
       "    </tr>\n",
       "    <tr>\n",
       "      <th>6</th>\n",
       "      <td>gini</td>\n",
       "      <td>11</td>\n",
       "      <td>200</td>\n",
       "      <td>{'criterion': 'gini', 'max_depth': 11, 'n_esti...</td>\n",
       "      <td>0.581267</td>\n",
       "      <td>0.595041</td>\n",
       "      <td>0.592287</td>\n",
       "      <td>0.566298</td>\n",
       "      <td>0.555249</td>\n",
       "      <td>0.578028</td>\n",
       "      <td>0.015230</td>\n",
       "      <td>8</td>\n",
       "    </tr>\n",
       "    <tr>\n",
       "      <th>9</th>\n",
       "      <td>gini</td>\n",
       "      <td>11</td>\n",
       "      <td>2000</td>\n",
       "      <td>{'criterion': 'gini', 'max_depth': 11, 'n_esti...</td>\n",
       "      <td>0.586777</td>\n",
       "      <td>0.603306</td>\n",
       "      <td>0.575758</td>\n",
       "      <td>0.577348</td>\n",
       "      <td>0.541436</td>\n",
       "      <td>0.576925</td>\n",
       "      <td>0.020268</td>\n",
       "      <td>9</td>\n",
       "    </tr>\n",
       "    <tr>\n",
       "      <th>8</th>\n",
       "      <td>gini</td>\n",
       "      <td>11</td>\n",
       "      <td>1000</td>\n",
       "      <td>{'criterion': 'gini', 'max_depth': 11, 'n_esti...</td>\n",
       "      <td>0.586777</td>\n",
       "      <td>0.606061</td>\n",
       "      <td>0.581267</td>\n",
       "      <td>0.569061</td>\n",
       "      <td>0.541436</td>\n",
       "      <td>0.576920</td>\n",
       "      <td>0.021383</td>\n",
       "      <td>10</td>\n",
       "    </tr>\n",
       "    <tr>\n",
       "      <th>33</th>\n",
       "      <td>entropy</td>\n",
       "      <td>11</td>\n",
       "      <td>1000</td>\n",
       "      <td>{'criterion': 'entropy', 'max_depth': 11, 'n_e...</td>\n",
       "      <td>0.589532</td>\n",
       "      <td>0.608815</td>\n",
       "      <td>0.581267</td>\n",
       "      <td>0.569061</td>\n",
       "      <td>0.535912</td>\n",
       "      <td>0.576917</td>\n",
       "      <td>0.024243</td>\n",
       "      <td>11</td>\n",
       "    </tr>\n",
       "    <tr>\n",
       "      <th>21</th>\n",
       "      <td>gini</td>\n",
       "      <td>41</td>\n",
       "      <td>200</td>\n",
       "      <td>{'criterion': 'gini', 'max_depth': 41, 'n_esti...</td>\n",
       "      <td>0.559229</td>\n",
       "      <td>0.603306</td>\n",
       "      <td>0.584022</td>\n",
       "      <td>0.591160</td>\n",
       "      <td>0.541436</td>\n",
       "      <td>0.575831</td>\n",
       "      <td>0.022430</td>\n",
       "      <td>12</td>\n",
       "    </tr>\n",
       "    <tr>\n",
       "      <th>5</th>\n",
       "      <td>gini</td>\n",
       "      <td>11</td>\n",
       "      <td>100</td>\n",
       "      <td>{'criterion': 'gini', 'max_depth': 11, 'n_esti...</td>\n",
       "      <td>0.570248</td>\n",
       "      <td>0.595041</td>\n",
       "      <td>0.581267</td>\n",
       "      <td>0.577348</td>\n",
       "      <td>0.552486</td>\n",
       "      <td>0.575278</td>\n",
       "      <td>0.013968</td>\n",
       "      <td>13</td>\n",
       "    </tr>\n",
       "    <tr>\n",
       "      <th>39</th>\n",
       "      <td>entropy</td>\n",
       "      <td>21</td>\n",
       "      <td>2000</td>\n",
       "      <td>{'criterion': 'entropy', 'max_depth': 21, 'n_e...</td>\n",
       "      <td>0.589532</td>\n",
       "      <td>0.597796</td>\n",
       "      <td>0.573003</td>\n",
       "      <td>0.582873</td>\n",
       "      <td>0.533149</td>\n",
       "      <td>0.575271</td>\n",
       "      <td>0.022574</td>\n",
       "      <td>14</td>\n",
       "    </tr>\n",
       "    <tr>\n",
       "      <th>26</th>\n",
       "      <td>entropy</td>\n",
       "      <td>1</td>\n",
       "      <td>200</td>\n",
       "      <td>{'criterion': 'entropy', 'max_depth': 1, 'n_es...</td>\n",
       "      <td>0.600551</td>\n",
       "      <td>0.614325</td>\n",
       "      <td>0.545455</td>\n",
       "      <td>0.555249</td>\n",
       "      <td>0.560773</td>\n",
       "      <td>0.575271</td>\n",
       "      <td>0.027072</td>\n",
       "      <td>15</td>\n",
       "    </tr>\n",
       "    <tr>\n",
       "      <th>25</th>\n",
       "      <td>entropy</td>\n",
       "      <td>1</td>\n",
       "      <td>100</td>\n",
       "      <td>{'criterion': 'entropy', 'max_depth': 1, 'n_es...</td>\n",
       "      <td>0.619835</td>\n",
       "      <td>0.603306</td>\n",
       "      <td>0.537190</td>\n",
       "      <td>0.558011</td>\n",
       "      <td>0.558011</td>\n",
       "      <td>0.575271</td>\n",
       "      <td>0.031041</td>\n",
       "      <td>15</td>\n",
       "    </tr>\n",
       "    <tr>\n",
       "      <th>30</th>\n",
       "      <td>entropy</td>\n",
       "      <td>11</td>\n",
       "      <td>100</td>\n",
       "      <td>{'criterion': 'entropy', 'max_depth': 11, 'n_e...</td>\n",
       "      <td>0.595041</td>\n",
       "      <td>0.606061</td>\n",
       "      <td>0.567493</td>\n",
       "      <td>0.569061</td>\n",
       "      <td>0.538674</td>\n",
       "      <td>0.575266</td>\n",
       "      <td>0.023568</td>\n",
       "      <td>17</td>\n",
       "    </tr>\n",
       "    <tr>\n",
       "      <th>20</th>\n",
       "      <td>gini</td>\n",
       "      <td>41</td>\n",
       "      <td>100</td>\n",
       "      <td>{'criterion': 'gini', 'max_depth': 41, 'n_esti...</td>\n",
       "      <td>0.584022</td>\n",
       "      <td>0.600551</td>\n",
       "      <td>0.556474</td>\n",
       "      <td>0.596685</td>\n",
       "      <td>0.535912</td>\n",
       "      <td>0.574729</td>\n",
       "      <td>0.024800</td>\n",
       "      <td>18</td>\n",
       "    </tr>\n",
       "    <tr>\n",
       "      <th>49</th>\n",
       "      <td>entropy</td>\n",
       "      <td>41</td>\n",
       "      <td>2000</td>\n",
       "      <td>{'criterion': 'entropy', 'max_depth': 41, 'n_e...</td>\n",
       "      <td>0.573003</td>\n",
       "      <td>0.597796</td>\n",
       "      <td>0.581267</td>\n",
       "      <td>0.591160</td>\n",
       "      <td>0.530387</td>\n",
       "      <td>0.574723</td>\n",
       "      <td>0.023724</td>\n",
       "      <td>19</td>\n",
       "    </tr>\n",
       "    <tr>\n",
       "      <th>15</th>\n",
       "      <td>gini</td>\n",
       "      <td>31</td>\n",
       "      <td>100</td>\n",
       "      <td>{'criterion': 'gini', 'max_depth': 31, 'n_esti...</td>\n",
       "      <td>0.578512</td>\n",
       "      <td>0.586777</td>\n",
       "      <td>0.573003</td>\n",
       "      <td>0.588398</td>\n",
       "      <td>0.535912</td>\n",
       "      <td>0.572520</td>\n",
       "      <td>0.019140</td>\n",
       "      <td>20</td>\n",
       "    </tr>\n",
       "  </tbody>\n",
       "</table>\n",
       "</div>"
      ],
      "text/plain": [
       "   param_criterion param_max_depth param_n_estimators  \\\n",
       "31         entropy              11                200   \n",
       "32         entropy              11                500   \n",
       "34         entropy              11               2000   \n",
       "7             gini              11                500   \n",
       "40         entropy              31                100   \n",
       "38         entropy              21               1000   \n",
       "0             gini               1                100   \n",
       "6             gini              11                200   \n",
       "9             gini              11               2000   \n",
       "8             gini              11               1000   \n",
       "33         entropy              11               1000   \n",
       "21            gini              41                200   \n",
       "5             gini              11                100   \n",
       "39         entropy              21               2000   \n",
       "26         entropy               1                200   \n",
       "25         entropy               1                100   \n",
       "30         entropy              11                100   \n",
       "20            gini              41                100   \n",
       "49         entropy              41               2000   \n",
       "15            gini              31                100   \n",
       "\n",
       "                                               params  split0_test_score  \\\n",
       "31  {'criterion': 'entropy', 'max_depth': 11, 'n_e...           0.595041   \n",
       "32  {'criterion': 'entropy', 'max_depth': 11, 'n_e...           0.603306   \n",
       "34  {'criterion': 'entropy', 'max_depth': 11, 'n_e...           0.589532   \n",
       "7   {'criterion': 'gini', 'max_depth': 11, 'n_esti...           0.600551   \n",
       "40  {'criterion': 'entropy', 'max_depth': 31, 'n_e...           0.614325   \n",
       "38  {'criterion': 'entropy', 'max_depth': 21, 'n_e...           0.589532   \n",
       "0   {'criterion': 'gini', 'max_depth': 1, 'n_estim...           0.600551   \n",
       "6   {'criterion': 'gini', 'max_depth': 11, 'n_esti...           0.581267   \n",
       "9   {'criterion': 'gini', 'max_depth': 11, 'n_esti...           0.586777   \n",
       "8   {'criterion': 'gini', 'max_depth': 11, 'n_esti...           0.586777   \n",
       "33  {'criterion': 'entropy', 'max_depth': 11, 'n_e...           0.589532   \n",
       "21  {'criterion': 'gini', 'max_depth': 41, 'n_esti...           0.559229   \n",
       "5   {'criterion': 'gini', 'max_depth': 11, 'n_esti...           0.570248   \n",
       "39  {'criterion': 'entropy', 'max_depth': 21, 'n_e...           0.589532   \n",
       "26  {'criterion': 'entropy', 'max_depth': 1, 'n_es...           0.600551   \n",
       "25  {'criterion': 'entropy', 'max_depth': 1, 'n_es...           0.619835   \n",
       "30  {'criterion': 'entropy', 'max_depth': 11, 'n_e...           0.595041   \n",
       "20  {'criterion': 'gini', 'max_depth': 41, 'n_esti...           0.584022   \n",
       "49  {'criterion': 'entropy', 'max_depth': 41, 'n_e...           0.573003   \n",
       "15  {'criterion': 'gini', 'max_depth': 31, 'n_esti...           0.578512   \n",
       "\n",
       "    split1_test_score  split2_test_score  split3_test_score  \\\n",
       "31           0.603306           0.586777           0.588398   \n",
       "32           0.597796           0.592287           0.571823   \n",
       "34           0.608815           0.581267           0.582873   \n",
       "7            0.608815           0.578512           0.571823   \n",
       "40           0.611570           0.537190           0.602210   \n",
       "38           0.608815           0.570248           0.591160   \n",
       "0            0.611570           0.550964           0.574586   \n",
       "6            0.595041           0.592287           0.566298   \n",
       "9            0.603306           0.575758           0.577348   \n",
       "8            0.606061           0.581267           0.569061   \n",
       "33           0.608815           0.581267           0.569061   \n",
       "21           0.603306           0.584022           0.591160   \n",
       "5            0.595041           0.581267           0.577348   \n",
       "39           0.597796           0.573003           0.582873   \n",
       "26           0.614325           0.545455           0.555249   \n",
       "25           0.603306           0.537190           0.558011   \n",
       "30           0.606061           0.567493           0.569061   \n",
       "20           0.600551           0.556474           0.596685   \n",
       "49           0.597796           0.581267           0.591160   \n",
       "15           0.586777           0.573003           0.588398   \n",
       "\n",
       "    split4_test_score  mean_test_score  std_test_score  rank_test_score  \n",
       "31           0.555249         0.585754        0.016327                1  \n",
       "32           0.552486         0.583540        0.018826                2  \n",
       "34           0.552486         0.582995        0.018128                3  \n",
       "7            0.549724         0.581885        0.021074                4  \n",
       "40           0.538674         0.580794        0.035229                5  \n",
       "38           0.533149         0.578581        0.025791                6  \n",
       "0            0.552486         0.578031        0.024613                7  \n",
       "6            0.555249         0.578028        0.015230                8  \n",
       "9            0.541436         0.576925        0.020268                9  \n",
       "8            0.541436         0.576920        0.021383               10  \n",
       "33           0.535912         0.576917        0.024243               11  \n",
       "21           0.541436         0.575831        0.022430               12  \n",
       "5            0.552486         0.575278        0.013968               13  \n",
       "39           0.533149         0.575271        0.022574               14  \n",
       "26           0.560773         0.575271        0.027072               15  \n",
       "25           0.558011         0.575271        0.031041               15  \n",
       "30           0.538674         0.575266        0.023568               17  \n",
       "20           0.535912         0.574729        0.024800               18  \n",
       "49           0.530387         0.574723        0.023724               19  \n",
       "15           0.535912         0.572520        0.019140               20  "
      ]
     },
     "execution_count": 37,
     "metadata": {},
     "output_type": "execute_result"
    }
   ],
   "source": [
    "pd.DataFrame(grid_search.cv_results_).sort_values('mean_test_score', ascending=False).iloc[:,4:].head(20)"
   ]
  },
  {
   "cell_type": "markdown",
   "id": "0facc919",
   "metadata": {},
   "source": [
    "Все не очень хорошо"
   ]
  },
  {
   "cell_type": "markdown",
   "id": "707dd015",
   "metadata": {},
   "source": [
    "<h3>Градиентный бустинг</h3>"
   ]
  },
  {
   "cell_type": "code",
   "execution_count": 38,
   "id": "b38bc9e1",
   "metadata": {},
   "outputs": [
    {
     "name": "stdout",
     "output_type": "stream",
     "text": [
      "name: XGBClassifier, score: [0.58402204 0.58402204 0.57024793 0.56629834 0.52486188], mean: 0.5658904464027519\n",
      "Wall time: 940 ms\n"
     ]
    }
   ],
   "source": [
    "%%time\n",
    "model_xgb = XGBClassifier()\n",
    "result_xgb = cross_val_score(model_xgb, X, y, cv=cv, n_jobs=-1)\n",
    "print(f'name: XGBClassifier, score: {result_xgb}, mean: {result_xgb.mean()}')"
   ]
  },
  {
   "cell_type": "code",
   "execution_count": 39,
   "id": "f8f5298f",
   "metadata": {},
   "outputs": [],
   "source": [
    "param = {'n_estimators': [100,200],\n",
    "         'max_depth': range(10,21)}"
   ]
  },
  {
   "cell_type": "code",
   "execution_count": 40,
   "id": "62936308",
   "metadata": {},
   "outputs": [
    {
     "name": "stdout",
     "output_type": "stream",
     "text": [
      "[21:13:29] WARNING: ..\\src\\learner.cc:1115: Starting in XGBoost 1.3.0, the default evaluation metric used with the objective 'binary:logistic' was changed from 'error' to 'logloss'. Explicitly set eval_metric if you'd like to restore the old behavior.\n",
      "Wall time: 20.8 s\n"
     ]
    },
    {
     "data": {
      "text/plain": [
       "({'max_depth': 13, 'n_estimators': 200}, 0.585761685158973)"
      ]
     },
     "execution_count": 40,
     "metadata": {},
     "output_type": "execute_result"
    }
   ],
   "source": [
    "%%time\n",
    "grid_search = GridSearchCV(XGBClassifier(n_jobs=-1), param,cv=cv, n_jobs=-1)\n",
    "grid_search.fit(X,y)\n",
    "(grid_search.best_params_, grid_search.best_score_)"
   ]
  },
  {
   "cell_type": "markdown",
   "id": "b3af8186",
   "metadata": {},
   "source": [
    "все грустно и печально, придется переходить к следующей обработке данных"
   ]
  },
  {
   "cell_type": "code",
   "execution_count": null,
   "id": "575c32d6",
   "metadata": {},
   "outputs": [],
   "source": []
  }
 ],
 "metadata": {
  "kernelspec": {
   "display_name": "Python 3",
   "language": "python",
   "name": "python3"
  },
  "language_info": {
   "codemirror_mode": {
    "name": "ipython",
    "version": 3
   },
   "file_extension": ".py",
   "mimetype": "text/x-python",
   "name": "python",
   "nbconvert_exporter": "python",
   "pygments_lexer": "ipython3",
   "version": "3.8.5"
  }
 },
 "nbformat": 4,
 "nbformat_minor": 5
}
