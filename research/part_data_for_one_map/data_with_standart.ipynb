{
 "cells": [
  {
   "cell_type": "code",
   "execution_count": 1,
   "id": "3b267ade",
   "metadata": {},
   "outputs": [],
   "source": [
    "import numpy as np\n",
    "import pandas as pd\n",
    "from sklearn.model_selection import KFold\n",
    "from sklearn.model_selection import cross_val_score\n",
    "from sklearn.model_selection import train_test_split\n",
    "from sklearn.preprocessing import LabelEncoder, RobustScaler, StandardScaler\n",
    "\n",
    "import matplotlib.pyplot as plt\n",
    "plt.rcParams['figure.figsize'] = [12, 8]\n",
    "plt.rcParams['figure.dpi'] = 100\n",
    "\n",
    "from sklearn.dummy import DummyClassifier\n",
    "from sklearn.linear_model import Perceptron\n",
    "from sklearn.svm import SVC\n",
    "from sklearn.linear_model import LogisticRegression\n",
    "from sklearn.tree import DecisionTreeClassifier\n",
    "from sklearn.ensemble import RandomForestClassifier\n",
    "from xgboost import XGBClassifier\n",
    "\n",
    "from sklearn.model_selection import GridSearchCV\n",
    "from sklearn.metrics import accuracy_score\n",
    "\n",
    "import warnings\n",
    "warnings.filterwarnings('ignore')"
   ]
  },
  {
   "cell_type": "markdown",
   "id": "4027806d",
   "metadata": {},
   "source": [
    "<h2>Предобработка данных</h2>"
   ]
  },
  {
   "cell_type": "code",
   "execution_count": 2,
   "id": "f19a137b",
   "metadata": {},
   "outputs": [
    {
     "data": {
      "text/html": [
       "<div>\n",
       "<style scoped>\n",
       "    .dataframe tbody tr th:only-of-type {\n",
       "        vertical-align: middle;\n",
       "    }\n",
       "\n",
       "    .dataframe tbody tr th {\n",
       "        vertical-align: top;\n",
       "    }\n",
       "\n",
       "    .dataframe thead th {\n",
       "        text-align: right;\n",
       "    }\n",
       "</style>\n",
       "<table border=\"1\" class=\"dataframe\">\n",
       "  <thead>\n",
       "    <tr style=\"text-align: right;\">\n",
       "      <th></th>\n",
       "      <th>map</th>\n",
       "      <th>result</th>\n",
       "      <th>team1_world_rank</th>\n",
       "      <th>team2_world_rank</th>\n",
       "      <th>1_top_Times played</th>\n",
       "      <th>1_top_wins</th>\n",
       "      <th>1_top_draws</th>\n",
       "      <th>1_top_losses</th>\n",
       "      <th>1_top_Total rounds played</th>\n",
       "      <th>1_top_Rounds won</th>\n",
       "      <th>...</th>\n",
       "      <th>2_All_draws</th>\n",
       "      <th>2_All_losses</th>\n",
       "      <th>2_All_Total rounds played</th>\n",
       "      <th>2_All_Rounds won</th>\n",
       "      <th>2_All_Win percent</th>\n",
       "      <th>2_All_Pistol rounds</th>\n",
       "      <th>2_All_Pistol rounds won</th>\n",
       "      <th>2_All_Pistol round win percent</th>\n",
       "      <th>2_All_CT round win percent</th>\n",
       "      <th>2_All_T round win percent</th>\n",
       "    </tr>\n",
       "  </thead>\n",
       "  <tbody>\n",
       "    <tr>\n",
       "      <th>0</th>\n",
       "      <td>Nuke</td>\n",
       "      <td>-1</td>\n",
       "      <td>28</td>\n",
       "      <td>46</td>\n",
       "      <td>3</td>\n",
       "      <td>0</td>\n",
       "      <td>0</td>\n",
       "      <td>3</td>\n",
       "      <td>80</td>\n",
       "      <td>32</td>\n",
       "      <td>...</td>\n",
       "      <td>0</td>\n",
       "      <td>2</td>\n",
       "      <td>140</td>\n",
       "      <td>82</td>\n",
       "      <td>0.667</td>\n",
       "      <td>12</td>\n",
       "      <td>7</td>\n",
       "      <td>0.583</td>\n",
       "      <td>0.774</td>\n",
       "      <td>0.436</td>\n",
       "    </tr>\n",
       "    <tr>\n",
       "      <th>1</th>\n",
       "      <td>Ancient</td>\n",
       "      <td>-1</td>\n",
       "      <td>28</td>\n",
       "      <td>46</td>\n",
       "      <td>1</td>\n",
       "      <td>0</td>\n",
       "      <td>0</td>\n",
       "      <td>1</td>\n",
       "      <td>27</td>\n",
       "      <td>11</td>\n",
       "      <td>...</td>\n",
       "      <td>0</td>\n",
       "      <td>2</td>\n",
       "      <td>135</td>\n",
       "      <td>86</td>\n",
       "      <td>0.667</td>\n",
       "      <td>12</td>\n",
       "      <td>8</td>\n",
       "      <td>0.667</td>\n",
       "      <td>0.756</td>\n",
       "      <td>0.578</td>\n",
       "    </tr>\n",
       "    <tr>\n",
       "      <th>2</th>\n",
       "      <td>Mirage</td>\n",
       "      <td>1</td>\n",
       "      <td>1</td>\n",
       "      <td>223</td>\n",
       "      <td>7</td>\n",
       "      <td>4</td>\n",
       "      <td>0</td>\n",
       "      <td>3</td>\n",
       "      <td>182</td>\n",
       "      <td>106</td>\n",
       "      <td>...</td>\n",
       "      <td>0</td>\n",
       "      <td>2</td>\n",
       "      <td>151</td>\n",
       "      <td>80</td>\n",
       "      <td>0.667</td>\n",
       "      <td>12</td>\n",
       "      <td>7</td>\n",
       "      <td>0.583</td>\n",
       "      <td>0.556</td>\n",
       "      <td>0.511</td>\n",
       "    </tr>\n",
       "    <tr>\n",
       "      <th>3</th>\n",
       "      <td>Ancient</td>\n",
       "      <td>1</td>\n",
       "      <td>1</td>\n",
       "      <td>223</td>\n",
       "      <td>2</td>\n",
       "      <td>2</td>\n",
       "      <td>0</td>\n",
       "      <td>0</td>\n",
       "      <td>54</td>\n",
       "      <td>32</td>\n",
       "      <td>...</td>\n",
       "      <td>0</td>\n",
       "      <td>0</td>\n",
       "      <td>0</td>\n",
       "      <td>0</td>\n",
       "      <td>0.000</td>\n",
       "      <td>0</td>\n",
       "      <td>0</td>\n",
       "      <td>0.000</td>\n",
       "      <td>0.000</td>\n",
       "      <td>0.000</td>\n",
       "    </tr>\n",
       "    <tr>\n",
       "      <th>4</th>\n",
       "      <td>Overpass</td>\n",
       "      <td>-1</td>\n",
       "      <td>14</td>\n",
       "      <td>101</td>\n",
       "      <td>4</td>\n",
       "      <td>2</td>\n",
       "      <td>0</td>\n",
       "      <td>2</td>\n",
       "      <td>106</td>\n",
       "      <td>60</td>\n",
       "      <td>...</td>\n",
       "      <td>0</td>\n",
       "      <td>0</td>\n",
       "      <td>0</td>\n",
       "      <td>0</td>\n",
       "      <td>0.000</td>\n",
       "      <td>0</td>\n",
       "      <td>0</td>\n",
       "      <td>0.000</td>\n",
       "      <td>0.000</td>\n",
       "      <td>0.000</td>\n",
       "    </tr>\n",
       "  </tbody>\n",
       "</table>\n",
       "<p>5 rows × 52 columns</p>\n",
       "</div>"
      ],
      "text/plain": [
       "        map  result  team1_world_rank  team2_world_rank  1_top_Times played  \\\n",
       "0      Nuke      -1                28                46                   3   \n",
       "1   Ancient      -1                28                46                   1   \n",
       "2    Mirage       1                 1               223                   7   \n",
       "3   Ancient       1                 1               223                   2   \n",
       "4  Overpass      -1                14               101                   4   \n",
       "\n",
       "   1_top_wins  1_top_draws  1_top_losses  1_top_Total rounds played  \\\n",
       "0           0            0             3                         80   \n",
       "1           0            0             1                         27   \n",
       "2           4            0             3                        182   \n",
       "3           2            0             0                         54   \n",
       "4           2            0             2                        106   \n",
       "\n",
       "   1_top_Rounds won  ...  2_All_draws  2_All_losses  \\\n",
       "0                32  ...            0             2   \n",
       "1                11  ...            0             2   \n",
       "2               106  ...            0             2   \n",
       "3                32  ...            0             0   \n",
       "4                60  ...            0             0   \n",
       "\n",
       "   2_All_Total rounds played  2_All_Rounds won  2_All_Win percent  \\\n",
       "0                        140                82              0.667   \n",
       "1                        135                86              0.667   \n",
       "2                        151                80              0.667   \n",
       "3                          0                 0              0.000   \n",
       "4                          0                 0              0.000   \n",
       "\n",
       "   2_All_Pistol rounds  2_All_Pistol rounds won  \\\n",
       "0                   12                        7   \n",
       "1                   12                        8   \n",
       "2                   12                        7   \n",
       "3                    0                        0   \n",
       "4                    0                        0   \n",
       "\n",
       "   2_All_Pistol round win percent  2_All_CT round win percent  \\\n",
       "0                           0.583                       0.774   \n",
       "1                           0.667                       0.756   \n",
       "2                           0.583                       0.556   \n",
       "3                           0.000                       0.000   \n",
       "4                           0.000                       0.000   \n",
       "\n",
       "   2_All_T round win percent  \n",
       "0                      0.436  \n",
       "1                      0.578  \n",
       "2                      0.511  \n",
       "3                      0.000  \n",
       "4                      0.000  \n",
       "\n",
       "[5 rows x 52 columns]"
      ]
     },
     "execution_count": 2,
     "metadata": {},
     "output_type": "execute_result"
    }
   ],
   "source": [
    "df = pd.read_csv('../data/df_split_by_map_part_info.csv')\n",
    "df.head()"
   ]
  },
  {
   "cell_type": "code",
   "execution_count": 3,
   "id": "494472b5",
   "metadata": {},
   "outputs": [],
   "source": [
    "maps_decoder = LabelEncoder()\n",
    "df['map'] = maps_decoder.fit_transform(df['map'])"
   ]
  },
  {
   "cell_type": "code",
   "execution_count": 4,
   "id": "6a1c4e69",
   "metadata": {},
   "outputs": [],
   "source": [
    "cv = KFold(shuffle=True, random_state=1)\n",
    "X = df.drop('result', axis=1)\n",
    "y = df['result']"
   ]
  },
  {
   "cell_type": "code",
   "execution_count": 5,
   "id": "8cb56e4f",
   "metadata": {},
   "outputs": [],
   "source": [
    "scaler = StandardScaler()\n",
    "X_scaled = scaler.fit_transform(X)"
   ]
  },
  {
   "cell_type": "code",
   "execution_count": 6,
   "id": "71311f53",
   "metadata": {},
   "outputs": [],
   "source": [
    "X_train, X_test, y_train, y_test = train_test_split(X_scaled, y, test_size=0.2, random_state=42)"
   ]
  },
  {
   "cell_type": "code",
   "execution_count": 8,
   "id": "ccdc41cb",
   "metadata": {},
   "outputs": [],
   "source": [
    "pd.DataFrame(X_scaled).head().iloc[:,:10].to_excel('standart.xlsx')"
   ]
  },
  {
   "cell_type": "markdown",
   "id": "24976b25",
   "metadata": {},
   "source": [
    "<h2>Обучение моделей. Сравнение результатов.</h2>"
   ]
  },
  {
   "cell_type": "code",
   "execution_count": 16,
   "id": "39565dc8",
   "metadata": {},
   "outputs": [
    {
     "name": "stdout",
     "output_type": "stream",
     "text": [
      "name: Dummy, score: [0.56473829 0.5785124  0.56749311 0.50552486 0.53314917], mean: 0.5498835669604129\n"
     ]
    }
   ],
   "source": [
    "model_dummy = DummyClassifier(strategy=\"most_frequent\")\n",
    "result_dummy = cross_val_score(model_dummy, X_scaled, y, cv=cv)\n",
    "print(f'name: Dummy, score: {result_dummy}, mean: {result_dummy.mean()}')"
   ]
  },
  {
   "cell_type": "markdown",
   "id": "c8825213",
   "metadata": {},
   "source": [
    "<h3>Ошибка перцептрона</h3> "
   ]
  },
  {
   "cell_type": "code",
   "execution_count": 7,
   "id": "bac6bd44",
   "metadata": {
    "scrolled": true
   },
   "outputs": [
    {
     "name": "stdout",
     "output_type": "stream",
     "text": [
      "name: Perceptron, score: [0.57300275 0.44077135 0.53168044 0.59944751 0.54143646], mean: 0.5372677046710196\n"
     ]
    }
   ],
   "source": [
    "model_perceptron = Perceptron()\n",
    "result_perceptron = cross_val_score(model_perceptron, X_scaled, y, cv=cv)\n",
    "print(f'name: Perceptron, score: {result_perceptron}, mean: {result_perceptron.mean()}')"
   ]
  },
  {
   "cell_type": "code",
   "execution_count": 8,
   "id": "bc768ff6",
   "metadata": {},
   "outputs": [],
   "source": [
    "param = {'penalty': ['l2', 'l1'],\n",
    "         'alpha': [10**-6, 10**-5, 10**-4, 10**-3, 10**-2, 10**-1, 10**0, 10**1, 10**2]}"
   ]
  },
  {
   "cell_type": "code",
   "execution_count": 12,
   "id": "68907287",
   "metadata": {},
   "outputs": [
    {
     "name": "stdout",
     "output_type": "stream",
     "text": [
      "Wall time: 131 ms\n"
     ]
    },
    {
     "data": {
      "text/plain": [
       "({'alpha': 0.0001, 'penalty': 'l1'}, 0.5603884145320609, 0.035134331034612706)"
      ]
     },
     "execution_count": 12,
     "metadata": {},
     "output_type": "execute_result"
    }
   ],
   "source": [
    "%%time\n",
    "grid_search = GridSearchCV(Perceptron(), param,cv=cv, n_jobs=-1)\n",
    "grid_search.fit(X_scaled,y)\n",
    "(grid_search.best_params_, grid_search.best_score_,\n",
    "pd.DataFrame(grid_search.cv_results_).sort_values('mean_test_score', ascending=False)['std_test_score'].values[0])"
   ]
  },
  {
   "cell_type": "markdown",
   "id": "35e8f5e2",
   "metadata": {},
   "source": [
    "+2.5%"
   ]
  },
  {
   "cell_type": "code",
   "execution_count": 13,
   "id": "9f58327f",
   "metadata": {},
   "outputs": [
    {
     "data": {
      "text/html": [
       "<div>\n",
       "<style scoped>\n",
       "    .dataframe tbody tr th:only-of-type {\n",
       "        vertical-align: middle;\n",
       "    }\n",
       "\n",
       "    .dataframe tbody tr th {\n",
       "        vertical-align: top;\n",
       "    }\n",
       "\n",
       "    .dataframe thead th {\n",
       "        text-align: right;\n",
       "    }\n",
       "</style>\n",
       "<table border=\"1\" class=\"dataframe\">\n",
       "  <thead>\n",
       "    <tr style=\"text-align: right;\">\n",
       "      <th></th>\n",
       "      <th>param_alpha</th>\n",
       "      <th>param_penalty</th>\n",
       "      <th>params</th>\n",
       "      <th>split0_test_score</th>\n",
       "      <th>split1_test_score</th>\n",
       "      <th>split2_test_score</th>\n",
       "      <th>split3_test_score</th>\n",
       "      <th>split4_test_score</th>\n",
       "      <th>mean_test_score</th>\n",
       "      <th>std_test_score</th>\n",
       "      <th>rank_test_score</th>\n",
       "    </tr>\n",
       "  </thead>\n",
       "  <tbody>\n",
       "    <tr>\n",
       "      <th>5</th>\n",
       "      <td>0.0001</td>\n",
       "      <td>l1</td>\n",
       "      <td>{'alpha': 0.0001, 'penalty': 'l1'}</td>\n",
       "      <td>0.597796</td>\n",
       "      <td>0.548209</td>\n",
       "      <td>0.550964</td>\n",
       "      <td>0.599448</td>\n",
       "      <td>0.505525</td>\n",
       "      <td>0.560388</td>\n",
       "      <td>0.035134</td>\n",
       "      <td>1</td>\n",
       "    </tr>\n",
       "    <tr>\n",
       "      <th>10</th>\n",
       "      <td>0.1</td>\n",
       "      <td>l2</td>\n",
       "      <td>{'alpha': 0.1, 'penalty': 'l2'}</td>\n",
       "      <td>0.550964</td>\n",
       "      <td>0.589532</td>\n",
       "      <td>0.509642</td>\n",
       "      <td>0.566298</td>\n",
       "      <td>0.494475</td>\n",
       "      <td>0.542182</td>\n",
       "      <td>0.035314</td>\n",
       "      <td>2</td>\n",
       "    </tr>\n",
       "    <tr>\n",
       "      <th>9</th>\n",
       "      <td>0.01</td>\n",
       "      <td>l1</td>\n",
       "      <td>{'alpha': 0.01, 'penalty': 'l1'}</td>\n",
       "      <td>0.564738</td>\n",
       "      <td>0.550964</td>\n",
       "      <td>0.534435</td>\n",
       "      <td>0.494475</td>\n",
       "      <td>0.555249</td>\n",
       "      <td>0.539972</td>\n",
       "      <td>0.024772</td>\n",
       "      <td>3</td>\n",
       "    </tr>\n",
       "    <tr>\n",
       "      <th>6</th>\n",
       "      <td>0.001</td>\n",
       "      <td>l2</td>\n",
       "      <td>{'alpha': 0.001, 'penalty': 'l2'}</td>\n",
       "      <td>0.537190</td>\n",
       "      <td>0.415978</td>\n",
       "      <td>0.550964</td>\n",
       "      <td>0.588398</td>\n",
       "      <td>0.558011</td>\n",
       "      <td>0.530108</td>\n",
       "      <td>0.059476</td>\n",
       "      <td>4</td>\n",
       "    </tr>\n",
       "    <tr>\n",
       "      <th>0</th>\n",
       "      <td>1e-06</td>\n",
       "      <td>l2</td>\n",
       "      <td>{'alpha': 1e-06, 'penalty': 'l2'}</td>\n",
       "      <td>0.479339</td>\n",
       "      <td>0.460055</td>\n",
       "      <td>0.539945</td>\n",
       "      <td>0.593923</td>\n",
       "      <td>0.552486</td>\n",
       "      <td>0.525150</td>\n",
       "      <td>0.049055</td>\n",
       "      <td>5</td>\n",
       "    </tr>\n",
       "  </tbody>\n",
       "</table>\n",
       "</div>"
      ],
      "text/plain": [
       "   param_alpha param_penalty                              params  \\\n",
       "5       0.0001            l1  {'alpha': 0.0001, 'penalty': 'l1'}   \n",
       "10         0.1            l2     {'alpha': 0.1, 'penalty': 'l2'}   \n",
       "9         0.01            l1    {'alpha': 0.01, 'penalty': 'l1'}   \n",
       "6        0.001            l2   {'alpha': 0.001, 'penalty': 'l2'}   \n",
       "0        1e-06            l2   {'alpha': 1e-06, 'penalty': 'l2'}   \n",
       "\n",
       "    split0_test_score  split1_test_score  split2_test_score  \\\n",
       "5            0.597796           0.548209           0.550964   \n",
       "10           0.550964           0.589532           0.509642   \n",
       "9            0.564738           0.550964           0.534435   \n",
       "6            0.537190           0.415978           0.550964   \n",
       "0            0.479339           0.460055           0.539945   \n",
       "\n",
       "    split3_test_score  split4_test_score  mean_test_score  std_test_score  \\\n",
       "5            0.599448           0.505525         0.560388        0.035134   \n",
       "10           0.566298           0.494475         0.542182        0.035314   \n",
       "9            0.494475           0.555249         0.539972        0.024772   \n",
       "6            0.588398           0.558011         0.530108        0.059476   \n",
       "0            0.593923           0.552486         0.525150        0.049055   \n",
       "\n",
       "    rank_test_score  \n",
       "5                 1  \n",
       "10                2  \n",
       "9                 3  \n",
       "6                 4  \n",
       "0                 5  "
      ]
     },
     "execution_count": 13,
     "metadata": {},
     "output_type": "execute_result"
    }
   ],
   "source": [
    "pd.DataFrame(grid_search.cv_results_).sort_values('mean_test_score', ascending=False).iloc[:,4:].head()"
   ]
  },
  {
   "cell_type": "markdown",
   "id": "9402f5f4",
   "metadata": {},
   "source": [
    "<h3>Метод опорных векторов</h3>"
   ]
  },
  {
   "cell_type": "code",
   "execution_count": 14,
   "id": "aaf66f6e",
   "metadata": {},
   "outputs": [
    {
     "name": "stdout",
     "output_type": "stream",
     "text": [
      "name: SVM, score: [0.62809917 0.58953168 0.58126722 0.56353591 0.56353591], mean: 0.5851939789659528\n",
      "Wall time: 174 ms\n"
     ]
    }
   ],
   "source": [
    "%%time\n",
    "model_svm = SVC()\n",
    "result_svm = cross_val_score(model_svm, X_scaled, y, cv=cv, n_jobs=-1)\n",
    "print(f'name: SVM, score: {result_svm}, mean: {result_svm.mean()}')"
   ]
  },
  {
   "cell_type": "markdown",
   "id": "45c29df5",
   "metadata": {},
   "source": [
    "+3.5%"
   ]
  },
  {
   "cell_type": "code",
   "execution_count": 15,
   "id": "3961d404",
   "metadata": {},
   "outputs": [],
   "source": [
    "param = {'C': [10**-3, 10**-2, 10**-1, 10**0, 10**1],\n",
    "         'kernel': ['rbf', 'poly', 'sigmoid']}"
   ]
  },
  {
   "cell_type": "code",
   "execution_count": 17,
   "id": "1ce31c0a",
   "metadata": {},
   "outputs": [
    {
     "name": "stdout",
     "output_type": "stream",
     "text": [
      "Wall time: 1.54 s\n"
     ]
    },
    {
     "data": {
      "text/plain": [
       "({'C': 0.1, 'kernel': 'rbf'}, 0.5890461622756952, 0.0259228870675407)"
      ]
     },
     "execution_count": 17,
     "metadata": {},
     "output_type": "execute_result"
    }
   ],
   "source": [
    "%%time\n",
    "grid_search = GridSearchCV(SVC(), param,cv=cv, n_jobs=-1)\n",
    "grid_search.fit(X_scaled,y)\n",
    "(grid_search.best_params_, grid_search.best_score_,\n",
    "pd.DataFrame(grid_search.cv_results_).sort_values('mean_test_score', ascending=False)['std_test_score'].values[0])"
   ]
  },
  {
   "cell_type": "code",
   "execution_count": 18,
   "id": "980a2d9b",
   "metadata": {},
   "outputs": [],
   "source": [
    "param = {'C': [1],\n",
    "         'kernel': ['poly'],\n",
    "         'degree': range(1,11)}"
   ]
  },
  {
   "cell_type": "code",
   "execution_count": 20,
   "id": "20621e2d",
   "metadata": {},
   "outputs": [
    {
     "name": "stdout",
     "output_type": "stream",
     "text": [
      "Wall time: 1.1 s\n"
     ]
    },
    {
     "data": {
      "text/plain": [
       "({'C': 1, 'degree': 2, 'kernel': 'poly'},\n",
       " 0.5818836278404336,\n",
       " 0.020885142658681428)"
      ]
     },
     "execution_count": 20,
     "metadata": {},
     "output_type": "execute_result"
    }
   ],
   "source": [
    "%%time\n",
    "grid_search = GridSearchCV(SVC(), param,cv=cv, n_jobs=-1)\n",
    "grid_search.fit(X_scaled,y)\n",
    "(grid_search.best_params_, grid_search.best_score_,\n",
    "pd.DataFrame(grid_search.cv_results_).sort_values('mean_test_score', ascending=False)['std_test_score'].values[0])"
   ]
  },
  {
   "cell_type": "markdown",
   "id": "abe920af",
   "metadata": {},
   "source": [
    "Дисперсия поменьше, а так хуже"
   ]
  },
  {
   "cell_type": "markdown",
   "id": "bab1028f",
   "metadata": {},
   "source": [
    "<h3>Логистическая регрессия</h3>"
   ]
  },
  {
   "cell_type": "code",
   "execution_count": 17,
   "id": "262da736",
   "metadata": {},
   "outputs": [
    {
     "name": "stdout",
     "output_type": "stream",
     "text": [
      "name: LogisticRegression, score: [0.58677686 0.62809917 0.57300275 0.5801105  0.5718232 ], mean: 0.5879624979072493\n",
      "Wall time: 1.15 s\n"
     ]
    }
   ],
   "source": [
    "%%time\n",
    "model_log = LogisticRegression()\n",
    "result_log = cross_val_score(model_log, X_scaled, y, cv=cv, n_jobs=-1)\n",
    "print(f'name: LogisticRegression, score: {result_log}, mean: {result_log.mean()}')"
   ]
  },
  {
   "cell_type": "code",
   "execution_count": 18,
   "id": "ed49d7e9",
   "metadata": {},
   "outputs": [
    {
     "data": {
      "text/html": [
       "<div>\n",
       "<style scoped>\n",
       "    .dataframe tbody tr th:only-of-type {\n",
       "        vertical-align: middle;\n",
       "    }\n",
       "\n",
       "    .dataframe tbody tr th {\n",
       "        vertical-align: top;\n",
       "    }\n",
       "\n",
       "    .dataframe thead th {\n",
       "        text-align: right;\n",
       "    }\n",
       "</style>\n",
       "<table border=\"1\" class=\"dataframe\">\n",
       "  <thead>\n",
       "    <tr style=\"text-align: right;\">\n",
       "      <th></th>\n",
       "      <th>true</th>\n",
       "      <th>pred_proba</th>\n",
       "    </tr>\n",
       "  </thead>\n",
       "  <tbody>\n",
       "    <tr>\n",
       "      <th>990</th>\n",
       "      <td>1</td>\n",
       "      <td>0.436720</td>\n",
       "    </tr>\n",
       "    <tr>\n",
       "      <th>1084</th>\n",
       "      <td>1</td>\n",
       "      <td>0.788263</td>\n",
       "    </tr>\n",
       "    <tr>\n",
       "      <th>1523</th>\n",
       "      <td>1</td>\n",
       "      <td>0.469795</td>\n",
       "    </tr>\n",
       "    <tr>\n",
       "      <th>1137</th>\n",
       "      <td>-1</td>\n",
       "      <td>0.327167</td>\n",
       "    </tr>\n",
       "    <tr>\n",
       "      <th>1389</th>\n",
       "      <td>-1</td>\n",
       "      <td>0.595839</td>\n",
       "    </tr>\n",
       "  </tbody>\n",
       "</table>\n",
       "</div>"
      ],
      "text/plain": [
       "      true  pred_proba\n",
       "990      1    0.436720\n",
       "1084     1    0.788263\n",
       "1523     1    0.469795\n",
       "1137    -1    0.327167\n",
       "1389    -1    0.595839"
      ]
     },
     "execution_count": 18,
     "metadata": {},
     "output_type": "execute_result"
    }
   ],
   "source": [
    "model_log.fit(X_train,y_train)\n",
    "y_pred_proba = model_log.predict_proba(X_test)\n",
    "log_df_res = pd.DataFrame({'true': y_test, 'pred_proba': y_pred_proba[:,1]})\n",
    "log_df_res.head()"
   ]
  },
  {
   "cell_type": "code",
   "execution_count": 28,
   "id": "9bec8efa",
   "metadata": {},
   "outputs": [],
   "source": [
    "def limit(x):\n",
    "    _limit = 0.40\n",
    "    if x > _limit:\n",
    "        return 1\n",
    "    else:\n",
    "        return -1\n"
   ]
  },
  {
   "cell_type": "code",
   "execution_count": 29,
   "id": "07e93e8e",
   "metadata": {},
   "outputs": [
    {
     "data": {
      "text/html": [
       "<div>\n",
       "<style scoped>\n",
       "    .dataframe tbody tr th:only-of-type {\n",
       "        vertical-align: middle;\n",
       "    }\n",
       "\n",
       "    .dataframe tbody tr th {\n",
       "        vertical-align: top;\n",
       "    }\n",
       "\n",
       "    .dataframe thead th {\n",
       "        text-align: right;\n",
       "    }\n",
       "</style>\n",
       "<table border=\"1\" class=\"dataframe\">\n",
       "  <thead>\n",
       "    <tr style=\"text-align: right;\">\n",
       "      <th></th>\n",
       "      <th>true</th>\n",
       "      <th>pred_proba</th>\n",
       "      <th>pred_limit</th>\n",
       "    </tr>\n",
       "  </thead>\n",
       "  <tbody>\n",
       "    <tr>\n",
       "      <th>990</th>\n",
       "      <td>1</td>\n",
       "      <td>0.436720</td>\n",
       "      <td>1</td>\n",
       "    </tr>\n",
       "    <tr>\n",
       "      <th>1084</th>\n",
       "      <td>1</td>\n",
       "      <td>0.788263</td>\n",
       "      <td>1</td>\n",
       "    </tr>\n",
       "    <tr>\n",
       "      <th>1523</th>\n",
       "      <td>1</td>\n",
       "      <td>0.469795</td>\n",
       "      <td>1</td>\n",
       "    </tr>\n",
       "    <tr>\n",
       "      <th>1137</th>\n",
       "      <td>-1</td>\n",
       "      <td>0.327167</td>\n",
       "      <td>-1</td>\n",
       "    </tr>\n",
       "    <tr>\n",
       "      <th>1389</th>\n",
       "      <td>-1</td>\n",
       "      <td>0.595839</td>\n",
       "      <td>1</td>\n",
       "    </tr>\n",
       "  </tbody>\n",
       "</table>\n",
       "</div>"
      ],
      "text/plain": [
       "      true  pred_proba  pred_limit\n",
       "990      1    0.436720           1\n",
       "1084     1    0.788263           1\n",
       "1523     1    0.469795           1\n",
       "1137    -1    0.327167          -1\n",
       "1389    -1    0.595839           1"
      ]
     },
     "execution_count": 29,
     "metadata": {},
     "output_type": "execute_result"
    }
   ],
   "source": [
    "log_df_res['pred_limit'] = log_df_res.pred_proba.map(limit)\n",
    "log_df_res.head()"
   ]
  },
  {
   "cell_type": "code",
   "execution_count": 30,
   "id": "a7075d72",
   "metadata": {},
   "outputs": [
    {
     "data": {
      "text/plain": [
       "0.5895316804407713"
      ]
     },
     "execution_count": 30,
     "metadata": {},
     "output_type": "execute_result"
    }
   ],
   "source": [
    "accuracy_score(log_df_res.true, log_df_res.pred_limit)"
   ]
  },
  {
   "cell_type": "code",
   "execution_count": 75,
   "id": "c48f3903",
   "metadata": {},
   "outputs": [],
   "source": [
    "param = {'C': [10**-3, 10**-2, 10**-1, 10**0, 10**1]}"
   ]
  },
  {
   "cell_type": "code",
   "execution_count": 77,
   "id": "4e678db6",
   "metadata": {},
   "outputs": [
    {
     "name": "stdout",
     "output_type": "stream",
     "text": [
      "Wall time: 87.2 ms\n"
     ]
    },
    {
     "data": {
      "text/plain": [
       "({'C': 0.01}, 0.5923702114058719, 0.017279058112525184)"
      ]
     },
     "execution_count": 77,
     "metadata": {},
     "output_type": "execute_result"
    }
   ],
   "source": [
    "%%time\n",
    "grid_search = GridSearchCV(LogisticRegression(), param,cv=cv, n_jobs=-1)\n",
    "grid_search.fit(X_scaled,y)\n",
    "(grid_search.best_params_, grid_search.best_score_,\n",
    "pd.DataFrame(grid_search.cv_results_).sort_values('mean_test_score', ascending=False)['std_test_score'].values[0])"
   ]
  },
  {
   "cell_type": "markdown",
   "id": "9a1dff2b",
   "metadata": {},
   "source": [
    "+4% и диспирсея маленькая"
   ]
  },
  {
   "cell_type": "markdown",
   "id": "1369d48c",
   "metadata": {},
   "source": [
    "<h3>Дерево решений.</h3>"
   ]
  },
  {
   "cell_type": "code",
   "execution_count": 79,
   "id": "9ac6e99c",
   "metadata": {},
   "outputs": [
    {
     "name": "stdout",
     "output_type": "stream",
     "text": [
      "name: Tree, score: [0.52066116 0.5399449  0.54545455 0.53314917 0.53867403], mean: 0.5355767620960992\n",
      "Wall time: 72.5 ms\n"
     ]
    }
   ],
   "source": [
    "%%time\n",
    "model_tree = DecisionTreeClassifier()\n",
    "result_tree = cross_val_score(model_tree, X_scaled, y, cv=cv, n_jobs=-1)\n",
    "print(f'name: Tree, score: {result_tree}, mean: {result_tree.mean()}')"
   ]
  },
  {
   "cell_type": "code",
   "execution_count": 80,
   "id": "09ffa973",
   "metadata": {},
   "outputs": [],
   "source": [
    "param = {'criterion': ['gini', 'entropy'],\n",
    "         'max_depth': range(2,50)}"
   ]
  },
  {
   "cell_type": "code",
   "execution_count": 82,
   "id": "bfecce03",
   "metadata": {},
   "outputs": [
    {
     "name": "stdout",
     "output_type": "stream",
     "text": [
      "Wall time: 1.68 s\n"
     ]
    },
    {
     "data": {
      "text/plain": [
       "({'criterion': 'gini', 'max_depth': 2},\n",
       " 0.5912895910384609,\n",
       " 0.030395853243852557)"
      ]
     },
     "execution_count": 82,
     "metadata": {},
     "output_type": "execute_result"
    }
   ],
   "source": [
    "%%time\n",
    "grid_search = GridSearchCV(DecisionTreeClassifier(), param,cv=cv, n_jobs=-1)\n",
    "grid_search.fit(X_scaled,y)\n",
    "(grid_search.best_params_, grid_search.best_score_,\n",
    "pd.DataFrame(grid_search.cv_results_).sort_values('mean_test_score', ascending=False)['std_test_score'].values[0])"
   ]
  },
  {
   "cell_type": "markdown",
   "id": "357b2998",
   "metadata": {},
   "source": [
    "не плохо, но дисперсия слишком большая"
   ]
  },
  {
   "cell_type": "code",
   "execution_count": 83,
   "id": "f6bbc9cb",
   "metadata": {},
   "outputs": [
    {
     "data": {
      "text/html": [
       "<div>\n",
       "<style scoped>\n",
       "    .dataframe tbody tr th:only-of-type {\n",
       "        vertical-align: middle;\n",
       "    }\n",
       "\n",
       "    .dataframe tbody tr th {\n",
       "        vertical-align: top;\n",
       "    }\n",
       "\n",
       "    .dataframe thead th {\n",
       "        text-align: right;\n",
       "    }\n",
       "</style>\n",
       "<table border=\"1\" class=\"dataframe\">\n",
       "  <thead>\n",
       "    <tr style=\"text-align: right;\">\n",
       "      <th></th>\n",
       "      <th>param_criterion</th>\n",
       "      <th>param_max_depth</th>\n",
       "      <th>params</th>\n",
       "      <th>split0_test_score</th>\n",
       "      <th>split1_test_score</th>\n",
       "      <th>split2_test_score</th>\n",
       "      <th>split3_test_score</th>\n",
       "      <th>split4_test_score</th>\n",
       "      <th>mean_test_score</th>\n",
       "      <th>std_test_score</th>\n",
       "      <th>rank_test_score</th>\n",
       "    </tr>\n",
       "  </thead>\n",
       "  <tbody>\n",
       "    <tr>\n",
       "      <th>0</th>\n",
       "      <td>gini</td>\n",
       "      <td>2</td>\n",
       "      <td>{'criterion': 'gini', 'max_depth': 2}</td>\n",
       "      <td>0.556474</td>\n",
       "      <td>0.639118</td>\n",
       "      <td>0.570248</td>\n",
       "      <td>0.613260</td>\n",
       "      <td>0.577348</td>\n",
       "      <td>0.591290</td>\n",
       "      <td>0.030396</td>\n",
       "      <td>1</td>\n",
       "    </tr>\n",
       "    <tr>\n",
       "      <th>48</th>\n",
       "      <td>entropy</td>\n",
       "      <td>2</td>\n",
       "      <td>{'criterion': 'entropy', 'max_depth': 2}</td>\n",
       "      <td>0.556474</td>\n",
       "      <td>0.639118</td>\n",
       "      <td>0.570248</td>\n",
       "      <td>0.613260</td>\n",
       "      <td>0.577348</td>\n",
       "      <td>0.591290</td>\n",
       "      <td>0.030396</td>\n",
       "      <td>1</td>\n",
       "    </tr>\n",
       "    <tr>\n",
       "      <th>1</th>\n",
       "      <td>gini</td>\n",
       "      <td>3</td>\n",
       "      <td>{'criterion': 'gini', 'max_depth': 3}</td>\n",
       "      <td>0.584022</td>\n",
       "      <td>0.630854</td>\n",
       "      <td>0.545455</td>\n",
       "      <td>0.596685</td>\n",
       "      <td>0.588398</td>\n",
       "      <td>0.589083</td>\n",
       "      <td>0.027321</td>\n",
       "      <td>3</td>\n",
       "    </tr>\n",
       "    <tr>\n",
       "      <th>49</th>\n",
       "      <td>entropy</td>\n",
       "      <td>3</td>\n",
       "      <td>{'criterion': 'entropy', 'max_depth': 3}</td>\n",
       "      <td>0.584022</td>\n",
       "      <td>0.633609</td>\n",
       "      <td>0.542700</td>\n",
       "      <td>0.596685</td>\n",
       "      <td>0.585635</td>\n",
       "      <td>0.588530</td>\n",
       "      <td>0.029078</td>\n",
       "      <td>4</td>\n",
       "    </tr>\n",
       "    <tr>\n",
       "      <th>50</th>\n",
       "      <td>entropy</td>\n",
       "      <td>4</td>\n",
       "      <td>{'criterion': 'entropy', 'max_depth': 4}</td>\n",
       "      <td>0.575758</td>\n",
       "      <td>0.619835</td>\n",
       "      <td>0.564738</td>\n",
       "      <td>0.549724</td>\n",
       "      <td>0.585635</td>\n",
       "      <td>0.579138</td>\n",
       "      <td>0.023590</td>\n",
       "      <td>5</td>\n",
       "    </tr>\n",
       "  </tbody>\n",
       "</table>\n",
       "</div>"
      ],
      "text/plain": [
       "   param_criterion param_max_depth                                    params  \\\n",
       "0             gini               2     {'criterion': 'gini', 'max_depth': 2}   \n",
       "48         entropy               2  {'criterion': 'entropy', 'max_depth': 2}   \n",
       "1             gini               3     {'criterion': 'gini', 'max_depth': 3}   \n",
       "49         entropy               3  {'criterion': 'entropy', 'max_depth': 3}   \n",
       "50         entropy               4  {'criterion': 'entropy', 'max_depth': 4}   \n",
       "\n",
       "    split0_test_score  split1_test_score  split2_test_score  \\\n",
       "0            0.556474           0.639118           0.570248   \n",
       "48           0.556474           0.639118           0.570248   \n",
       "1            0.584022           0.630854           0.545455   \n",
       "49           0.584022           0.633609           0.542700   \n",
       "50           0.575758           0.619835           0.564738   \n",
       "\n",
       "    split3_test_score  split4_test_score  mean_test_score  std_test_score  \\\n",
       "0            0.613260           0.577348         0.591290        0.030396   \n",
       "48           0.613260           0.577348         0.591290        0.030396   \n",
       "1            0.596685           0.588398         0.589083        0.027321   \n",
       "49           0.596685           0.585635         0.588530        0.029078   \n",
       "50           0.549724           0.585635         0.579138        0.023590   \n",
       "\n",
       "    rank_test_score  \n",
       "0                 1  \n",
       "48                1  \n",
       "1                 3  \n",
       "49                4  \n",
       "50                5  "
      ]
     },
     "execution_count": 83,
     "metadata": {},
     "output_type": "execute_result"
    }
   ],
   "source": [
    "pd.DataFrame(grid_search.cv_results_).sort_values('mean_test_score', ascending=False).iloc[:,4:].head()"
   ]
  },
  {
   "cell_type": "markdown",
   "id": "8bdf859f",
   "metadata": {},
   "source": [
    "везде очень большая дисперсия"
   ]
  },
  {
   "cell_type": "code",
   "execution_count": 7,
   "id": "8874cdf8",
   "metadata": {},
   "outputs": [],
   "source": [
    "param = {'criterion': ['gini', 'entropy'],\n",
    "         'max_depth': range(2,50,3),\n",
    "         'min_samples_split': range(2,20,2),\n",
    "         'min_samples_leaf': range(1,12,2)}"
   ]
  },
  {
   "cell_type": "code",
   "execution_count": 8,
   "id": "2647d85f",
   "metadata": {},
   "outputs": [
    {
     "name": "stdout",
     "output_type": "stream",
     "text": [
      "Wall time: 25.2 s\n"
     ]
    },
    {
     "data": {
      "text/plain": [
       "({'criterion': 'gini',\n",
       "  'max_depth': 2,\n",
       "  'min_samples_leaf': 1,\n",
       "  'min_samples_split': 2},\n",
       " 0.5912895910384609)"
      ]
     },
     "execution_count": 8,
     "metadata": {},
     "output_type": "execute_result"
    }
   ],
   "source": [
    "%%time\n",
    "grid_search = GridSearchCV(DecisionTreeClassifier(), param,cv=cv, n_jobs=-1)\n",
    "grid_search.fit(X_scaled,y)\n",
    "(grid_search.best_params_, grid_search.best_score_)"
   ]
  },
  {
   "cell_type": "code",
   "execution_count": 93,
   "id": "ee395883",
   "metadata": {},
   "outputs": [
    {
     "data": {
      "text/html": [
       "<div>\n",
       "<style scoped>\n",
       "    .dataframe tbody tr th:only-of-type {\n",
       "        vertical-align: middle;\n",
       "    }\n",
       "\n",
       "    .dataframe tbody tr th {\n",
       "        vertical-align: top;\n",
       "    }\n",
       "\n",
       "    .dataframe thead th {\n",
       "        text-align: right;\n",
       "    }\n",
       "</style>\n",
       "<table border=\"1\" class=\"dataframe\">\n",
       "  <thead>\n",
       "    <tr style=\"text-align: right;\">\n",
       "      <th></th>\n",
       "      <th>param_criterion</th>\n",
       "      <th>param_max_depth</th>\n",
       "      <th>param_min_samples_leaf</th>\n",
       "      <th>param_min_samples_split</th>\n",
       "      <th>params</th>\n",
       "      <th>split0_test_score</th>\n",
       "      <th>split1_test_score</th>\n",
       "      <th>split2_test_score</th>\n",
       "      <th>split3_test_score</th>\n",
       "      <th>split4_test_score</th>\n",
       "      <th>mean_test_score</th>\n",
       "      <th>std_test_score</th>\n",
       "      <th>rank_test_score</th>\n",
       "    </tr>\n",
       "  </thead>\n",
       "  <tbody>\n",
       "    <tr>\n",
       "      <th>0</th>\n",
       "      <td>gini</td>\n",
       "      <td>2</td>\n",
       "      <td>1</td>\n",
       "      <td>2</td>\n",
       "      <td>{'criterion': 'gini', 'max_depth': 2, 'min_sam...</td>\n",
       "      <td>0.556474</td>\n",
       "      <td>0.639118</td>\n",
       "      <td>0.570248</td>\n",
       "      <td>0.61326</td>\n",
       "      <td>0.577348</td>\n",
       "      <td>0.59129</td>\n",
       "      <td>0.030396</td>\n",
       "      <td>1</td>\n",
       "    </tr>\n",
       "    <tr>\n",
       "      <th>878</th>\n",
       "      <td>entropy</td>\n",
       "      <td>2</td>\n",
       "      <td>3</td>\n",
       "      <td>12</td>\n",
       "      <td>{'criterion': 'entropy', 'max_depth': 2, 'min_...</td>\n",
       "      <td>0.556474</td>\n",
       "      <td>0.639118</td>\n",
       "      <td>0.570248</td>\n",
       "      <td>0.61326</td>\n",
       "      <td>0.577348</td>\n",
       "      <td>0.59129</td>\n",
       "      <td>0.030396</td>\n",
       "      <td>1</td>\n",
       "    </tr>\n",
       "    <tr>\n",
       "      <th>889</th>\n",
       "      <td>entropy</td>\n",
       "      <td>2</td>\n",
       "      <td>5</td>\n",
       "      <td>16</td>\n",
       "      <td>{'criterion': 'entropy', 'max_depth': 2, 'min_...</td>\n",
       "      <td>0.556474</td>\n",
       "      <td>0.639118</td>\n",
       "      <td>0.570248</td>\n",
       "      <td>0.61326</td>\n",
       "      <td>0.577348</td>\n",
       "      <td>0.59129</td>\n",
       "      <td>0.030396</td>\n",
       "      <td>1</td>\n",
       "    </tr>\n",
       "    <tr>\n",
       "      <th>888</th>\n",
       "      <td>entropy</td>\n",
       "      <td>2</td>\n",
       "      <td>5</td>\n",
       "      <td>14</td>\n",
       "      <td>{'criterion': 'entropy', 'max_depth': 2, 'min_...</td>\n",
       "      <td>0.556474</td>\n",
       "      <td>0.639118</td>\n",
       "      <td>0.570248</td>\n",
       "      <td>0.61326</td>\n",
       "      <td>0.577348</td>\n",
       "      <td>0.59129</td>\n",
       "      <td>0.030396</td>\n",
       "      <td>1</td>\n",
       "    </tr>\n",
       "    <tr>\n",
       "      <th>887</th>\n",
       "      <td>entropy</td>\n",
       "      <td>2</td>\n",
       "      <td>5</td>\n",
       "      <td>12</td>\n",
       "      <td>{'criterion': 'entropy', 'max_depth': 2, 'min_...</td>\n",
       "      <td>0.556474</td>\n",
       "      <td>0.639118</td>\n",
       "      <td>0.570248</td>\n",
       "      <td>0.61326</td>\n",
       "      <td>0.577348</td>\n",
       "      <td>0.59129</td>\n",
       "      <td>0.030396</td>\n",
       "      <td>1</td>\n",
       "    </tr>\n",
       "  </tbody>\n",
       "</table>\n",
       "</div>"
      ],
      "text/plain": [
       "    param_criterion param_max_depth param_min_samples_leaf  \\\n",
       "0              gini               2                      1   \n",
       "878         entropy               2                      3   \n",
       "889         entropy               2                      5   \n",
       "888         entropy               2                      5   \n",
       "887         entropy               2                      5   \n",
       "\n",
       "    param_min_samples_split  \\\n",
       "0                         2   \n",
       "878                      12   \n",
       "889                      16   \n",
       "888                      14   \n",
       "887                      12   \n",
       "\n",
       "                                                params  split0_test_score  \\\n",
       "0    {'criterion': 'gini', 'max_depth': 2, 'min_sam...           0.556474   \n",
       "878  {'criterion': 'entropy', 'max_depth': 2, 'min_...           0.556474   \n",
       "889  {'criterion': 'entropy', 'max_depth': 2, 'min_...           0.556474   \n",
       "888  {'criterion': 'entropy', 'max_depth': 2, 'min_...           0.556474   \n",
       "887  {'criterion': 'entropy', 'max_depth': 2, 'min_...           0.556474   \n",
       "\n",
       "     split1_test_score  split2_test_score  split3_test_score  \\\n",
       "0             0.639118           0.570248            0.61326   \n",
       "878           0.639118           0.570248            0.61326   \n",
       "889           0.639118           0.570248            0.61326   \n",
       "888           0.639118           0.570248            0.61326   \n",
       "887           0.639118           0.570248            0.61326   \n",
       "\n",
       "     split4_test_score  mean_test_score  std_test_score  rank_test_score  \n",
       "0             0.577348          0.59129        0.030396                1  \n",
       "878           0.577348          0.59129        0.030396                1  \n",
       "889           0.577348          0.59129        0.030396                1  \n",
       "888           0.577348          0.59129        0.030396                1  \n",
       "887           0.577348          0.59129        0.030396                1  "
      ]
     },
     "execution_count": 93,
     "metadata": {},
     "output_type": "execute_result"
    }
   ],
   "source": [
    "pd.DataFrame(grid_search.cv_results_).sort_values('mean_test_score', ascending=False).iloc[:,4:].head()"
   ]
  },
  {
   "cell_type": "markdown",
   "id": "61756db7",
   "metadata": {},
   "source": [
    "Все такое себе"
   ]
  },
  {
   "cell_type": "markdown",
   "id": "f354cd7d",
   "metadata": {},
   "source": [
    "<h3>Случайный лес</h3>"
   ]
  },
  {
   "cell_type": "code",
   "execution_count": 94,
   "id": "2154feaf",
   "metadata": {},
   "outputs": [
    {
     "name": "stdout",
     "output_type": "stream",
     "text": [
      "name: RandomForestClassifier, score: [0.58953168 0.58953168 0.56198347 0.55801105 0.5       ], mean: 0.5598115763359359\n",
      "Wall time: 1.46 s\n"
     ]
    }
   ],
   "source": [
    "%%time\n",
    "model_rf = RandomForestClassifier()\n",
    "result_fr = cross_val_score(model_rf, X_scaled, y, cv=cv, n_jobs=-1)\n",
    "print(f'name: RandomForestClassifier, score: {result_fr}, mean: {result_fr.mean()}')"
   ]
  },
  {
   "cell_type": "code",
   "execution_count": 95,
   "id": "dd3c1fcf",
   "metadata": {},
   "outputs": [],
   "source": [
    "param = {'n_estimators': [100,200,500,1000,2000],\n",
    "         'criterion': ['gini', 'entropy'],\n",
    "         'max_depth': range(1,51,10)}"
   ]
  },
  {
   "cell_type": "code",
   "execution_count": 96,
   "id": "65a844e1",
   "metadata": {},
   "outputs": [
    {
     "name": "stdout",
     "output_type": "stream",
     "text": [
      "Wall time: 1min 22s\n"
     ]
    },
    {
     "data": {
      "text/plain": [
       "({'criterion': 'entropy', 'max_depth': 11, 'n_estimators': 100},\n",
       " 0.5956836065324261,\n",
       " 0.022476699168774976)"
      ]
     },
     "execution_count": 96,
     "metadata": {},
     "output_type": "execute_result"
    }
   ],
   "source": [
    "%%time\n",
    "grid_search = GridSearchCV(RandomForestClassifier(n_jobs=-1), param,cv=cv, n_jobs=-1)\n",
    "grid_search.fit(X_scaled,y)\n",
    "(grid_search.best_params_, grid_search.best_score_,\n",
    "pd.DataFrame(grid_search.cv_results_).sort_values('mean_test_score', ascending=False)['std_test_score'].values[0])"
   ]
  },
  {
   "cell_type": "code",
   "execution_count": 97,
   "id": "87fc17c6",
   "metadata": {},
   "outputs": [
    {
     "data": {
      "text/html": [
       "<div>\n",
       "<style scoped>\n",
       "    .dataframe tbody tr th:only-of-type {\n",
       "        vertical-align: middle;\n",
       "    }\n",
       "\n",
       "    .dataframe tbody tr th {\n",
       "        vertical-align: top;\n",
       "    }\n",
       "\n",
       "    .dataframe thead th {\n",
       "        text-align: right;\n",
       "    }\n",
       "</style>\n",
       "<table border=\"1\" class=\"dataframe\">\n",
       "  <thead>\n",
       "    <tr style=\"text-align: right;\">\n",
       "      <th></th>\n",
       "      <th>param_criterion</th>\n",
       "      <th>param_max_depth</th>\n",
       "      <th>param_n_estimators</th>\n",
       "      <th>params</th>\n",
       "      <th>split0_test_score</th>\n",
       "      <th>split1_test_score</th>\n",
       "      <th>split2_test_score</th>\n",
       "      <th>split3_test_score</th>\n",
       "      <th>split4_test_score</th>\n",
       "      <th>mean_test_score</th>\n",
       "      <th>std_test_score</th>\n",
       "      <th>rank_test_score</th>\n",
       "    </tr>\n",
       "  </thead>\n",
       "  <tbody>\n",
       "    <tr>\n",
       "      <th>30</th>\n",
       "      <td>entropy</td>\n",
       "      <td>11</td>\n",
       "      <td>100</td>\n",
       "      <td>{'criterion': 'entropy', 'max_depth': 11, 'n_e...</td>\n",
       "      <td>0.589532</td>\n",
       "      <td>0.639118</td>\n",
       "      <td>0.584022</td>\n",
       "      <td>0.591160</td>\n",
       "      <td>0.574586</td>\n",
       "      <td>0.595684</td>\n",
       "      <td>0.022477</td>\n",
       "      <td>1</td>\n",
       "    </tr>\n",
       "    <tr>\n",
       "      <th>6</th>\n",
       "      <td>gini</td>\n",
       "      <td>11</td>\n",
       "      <td>200</td>\n",
       "      <td>{'criterion': 'gini', 'max_depth': 11, 'n_esti...</td>\n",
       "      <td>0.578512</td>\n",
       "      <td>0.614325</td>\n",
       "      <td>0.592287</td>\n",
       "      <td>0.580110</td>\n",
       "      <td>0.558011</td>\n",
       "      <td>0.584649</td>\n",
       "      <td>0.018476</td>\n",
       "      <td>2</td>\n",
       "    </tr>\n",
       "    <tr>\n",
       "      <th>31</th>\n",
       "      <td>entropy</td>\n",
       "      <td>11</td>\n",
       "      <td>200</td>\n",
       "      <td>{'criterion': 'entropy', 'max_depth': 11, 'n_e...</td>\n",
       "      <td>0.597796</td>\n",
       "      <td>0.617080</td>\n",
       "      <td>0.573003</td>\n",
       "      <td>0.580110</td>\n",
       "      <td>0.555249</td>\n",
       "      <td>0.584648</td>\n",
       "      <td>0.021191</td>\n",
       "      <td>3</td>\n",
       "    </tr>\n",
       "    <tr>\n",
       "      <th>34</th>\n",
       "      <td>entropy</td>\n",
       "      <td>11</td>\n",
       "      <td>2000</td>\n",
       "      <td>{'criterion': 'entropy', 'max_depth': 11, 'n_e...</td>\n",
       "      <td>0.592287</td>\n",
       "      <td>0.617080</td>\n",
       "      <td>0.584022</td>\n",
       "      <td>0.585635</td>\n",
       "      <td>0.541436</td>\n",
       "      <td>0.584092</td>\n",
       "      <td>0.024402</td>\n",
       "      <td>4</td>\n",
       "    </tr>\n",
       "    <tr>\n",
       "      <th>40</th>\n",
       "      <td>entropy</td>\n",
       "      <td>31</td>\n",
       "      <td>100</td>\n",
       "      <td>{'criterion': 'entropy', 'max_depth': 31, 'n_e...</td>\n",
       "      <td>0.592287</td>\n",
       "      <td>0.570248</td>\n",
       "      <td>0.567493</td>\n",
       "      <td>0.616022</td>\n",
       "      <td>0.560773</td>\n",
       "      <td>0.581365</td>\n",
       "      <td>0.020300</td>\n",
       "      <td>5</td>\n",
       "    </tr>\n",
       "  </tbody>\n",
       "</table>\n",
       "</div>"
      ],
      "text/plain": [
       "   param_criterion param_max_depth param_n_estimators  \\\n",
       "30         entropy              11                100   \n",
       "6             gini              11                200   \n",
       "31         entropy              11                200   \n",
       "34         entropy              11               2000   \n",
       "40         entropy              31                100   \n",
       "\n",
       "                                               params  split0_test_score  \\\n",
       "30  {'criterion': 'entropy', 'max_depth': 11, 'n_e...           0.589532   \n",
       "6   {'criterion': 'gini', 'max_depth': 11, 'n_esti...           0.578512   \n",
       "31  {'criterion': 'entropy', 'max_depth': 11, 'n_e...           0.597796   \n",
       "34  {'criterion': 'entropy', 'max_depth': 11, 'n_e...           0.592287   \n",
       "40  {'criterion': 'entropy', 'max_depth': 31, 'n_e...           0.592287   \n",
       "\n",
       "    split1_test_score  split2_test_score  split3_test_score  \\\n",
       "30           0.639118           0.584022           0.591160   \n",
       "6            0.614325           0.592287           0.580110   \n",
       "31           0.617080           0.573003           0.580110   \n",
       "34           0.617080           0.584022           0.585635   \n",
       "40           0.570248           0.567493           0.616022   \n",
       "\n",
       "    split4_test_score  mean_test_score  std_test_score  rank_test_score  \n",
       "30           0.574586         0.595684        0.022477                1  \n",
       "6            0.558011         0.584649        0.018476                2  \n",
       "31           0.555249         0.584648        0.021191                3  \n",
       "34           0.541436         0.584092        0.024402                4  \n",
       "40           0.560773         0.581365        0.020300                5  "
      ]
     },
     "execution_count": 97,
     "metadata": {},
     "output_type": "execute_result"
    }
   ],
   "source": [
    "pd.DataFrame(grid_search.cv_results_).sort_values('mean_test_score', ascending=False).iloc[:,4:].head()"
   ]
  },
  {
   "cell_type": "markdown",
   "id": "31ece740",
   "metadata": {},
   "source": [
    "+4.5 Процента к случайному угадыванию"
   ]
  },
  {
   "cell_type": "code",
   "execution_count": 100,
   "id": "5dd62966",
   "metadata": {},
   "outputs": [],
   "source": [
    "param = {'n_estimators': [100,200,500],\n",
    "         'criterion': ['gini','entropy'],\n",
    "         'max_depth': range(10,41,5),\n",
    "         'min_samples_split': range(2,20,2),\n",
    "         'min_samples_leaf': range(1,10,2)}"
   ]
  },
  {
   "cell_type": "code",
   "execution_count": 101,
   "id": "dd6c2016",
   "metadata": {},
   "outputs": [
    {
     "name": "stdout",
     "output_type": "stream",
     "text": [
      "Wall time: 18min 3s\n"
     ]
    },
    {
     "data": {
      "text/plain": [
       "({'criterion': 'gini',\n",
       "  'max_depth': 10,\n",
       "  'min_samples_leaf': 5,\n",
       "  'min_samples_split': 18,\n",
       "  'n_estimators': 100},\n",
       " 0.5978844192807025)"
      ]
     },
     "execution_count": 101,
     "metadata": {},
     "output_type": "execute_result"
    }
   ],
   "source": [
    "%%time\n",
    "grid_search = GridSearchCV(RandomForestClassifier(n_jobs=-1), param,cv=cv, n_jobs=-1)\n",
    "grid_search.fit(X_scaled,y)\n",
    "(grid_search.best_params_, grid_search.best_score_)"
   ]
  },
  {
   "cell_type": "code",
   "execution_count": 102,
   "id": "284f2c6d",
   "metadata": {},
   "outputs": [
    {
     "data": {
      "text/html": [
       "<div>\n",
       "<style scoped>\n",
       "    .dataframe tbody tr th:only-of-type {\n",
       "        vertical-align: middle;\n",
       "    }\n",
       "\n",
       "    .dataframe tbody tr th {\n",
       "        vertical-align: top;\n",
       "    }\n",
       "\n",
       "    .dataframe thead th {\n",
       "        text-align: right;\n",
       "    }\n",
       "</style>\n",
       "<table border=\"1\" class=\"dataframe\">\n",
       "  <thead>\n",
       "    <tr style=\"text-align: right;\">\n",
       "      <th></th>\n",
       "      <th>param_criterion</th>\n",
       "      <th>param_max_depth</th>\n",
       "      <th>param_min_samples_leaf</th>\n",
       "      <th>param_min_samples_split</th>\n",
       "      <th>param_n_estimators</th>\n",
       "      <th>params</th>\n",
       "      <th>split0_test_score</th>\n",
       "      <th>split1_test_score</th>\n",
       "      <th>split2_test_score</th>\n",
       "      <th>split3_test_score</th>\n",
       "      <th>split4_test_score</th>\n",
       "      <th>mean_test_score</th>\n",
       "      <th>std_test_score</th>\n",
       "      <th>rank_test_score</th>\n",
       "    </tr>\n",
       "  </thead>\n",
       "  <tbody>\n",
       "    <tr>\n",
       "      <th>78</th>\n",
       "      <td>gini</td>\n",
       "      <td>10</td>\n",
       "      <td>5</td>\n",
       "      <td>18</td>\n",
       "      <td>100</td>\n",
       "      <td>{'criterion': 'gini', 'max_depth': 10, 'min_sa...</td>\n",
       "      <td>0.628099</td>\n",
       "      <td>0.608815</td>\n",
       "      <td>0.592287</td>\n",
       "      <td>0.585635</td>\n",
       "      <td>0.574586</td>\n",
       "      <td>0.597884</td>\n",
       "      <td>0.018744</td>\n",
       "      <td>1</td>\n",
       "    </tr>\n",
       "    <tr>\n",
       "      <th>1215</th>\n",
       "      <td>entropy</td>\n",
       "      <td>20</td>\n",
       "      <td>1</td>\n",
       "      <td>2</td>\n",
       "      <td>100</td>\n",
       "      <td>{'criterion': 'entropy', 'max_depth': 20, 'min...</td>\n",
       "      <td>0.614325</td>\n",
       "      <td>0.622590</td>\n",
       "      <td>0.575758</td>\n",
       "      <td>0.602210</td>\n",
       "      <td>0.571823</td>\n",
       "      <td>0.597341</td>\n",
       "      <td>0.020331</td>\n",
       "      <td>2</td>\n",
       "    </tr>\n",
       "    <tr>\n",
       "      <th>42</th>\n",
       "      <td>gini</td>\n",
       "      <td>10</td>\n",
       "      <td>3</td>\n",
       "      <td>12</td>\n",
       "      <td>100</td>\n",
       "      <td>{'criterion': 'gini', 'max_depth': 10, 'min_sa...</td>\n",
       "      <td>0.606061</td>\n",
       "      <td>0.617080</td>\n",
       "      <td>0.611570</td>\n",
       "      <td>0.585635</td>\n",
       "      <td>0.563536</td>\n",
       "      <td>0.596776</td>\n",
       "      <td>0.019730</td>\n",
       "      <td>3</td>\n",
       "    </tr>\n",
       "    <tr>\n",
       "      <th>645</th>\n",
       "      <td>gini</td>\n",
       "      <td>30</td>\n",
       "      <td>7</td>\n",
       "      <td>18</td>\n",
       "      <td>100</td>\n",
       "      <td>{'criterion': 'gini', 'max_depth': 30, 'min_sa...</td>\n",
       "      <td>0.608815</td>\n",
       "      <td>0.617080</td>\n",
       "      <td>0.573003</td>\n",
       "      <td>0.607735</td>\n",
       "      <td>0.566298</td>\n",
       "      <td>0.594586</td>\n",
       "      <td>0.020724</td>\n",
       "      <td>4</td>\n",
       "    </tr>\n",
       "    <tr>\n",
       "      <th>1025</th>\n",
       "      <td>entropy</td>\n",
       "      <td>10</td>\n",
       "      <td>5</td>\n",
       "      <td>18</td>\n",
       "      <td>500</td>\n",
       "      <td>{'criterion': 'entropy', 'max_depth': 10, 'min...</td>\n",
       "      <td>0.628099</td>\n",
       "      <td>0.608815</td>\n",
       "      <td>0.581267</td>\n",
       "      <td>0.588398</td>\n",
       "      <td>0.566298</td>\n",
       "      <td>0.594576</td>\n",
       "      <td>0.021640</td>\n",
       "      <td>5</td>\n",
       "    </tr>\n",
       "  </tbody>\n",
       "</table>\n",
       "</div>"
      ],
      "text/plain": [
       "     param_criterion param_max_depth param_min_samples_leaf  \\\n",
       "78              gini              10                      5   \n",
       "1215         entropy              20                      1   \n",
       "42              gini              10                      3   \n",
       "645             gini              30                      7   \n",
       "1025         entropy              10                      5   \n",
       "\n",
       "     param_min_samples_split param_n_estimators  \\\n",
       "78                        18                100   \n",
       "1215                       2                100   \n",
       "42                        12                100   \n",
       "645                       18                100   \n",
       "1025                      18                500   \n",
       "\n",
       "                                                 params  split0_test_score  \\\n",
       "78    {'criterion': 'gini', 'max_depth': 10, 'min_sa...           0.628099   \n",
       "1215  {'criterion': 'entropy', 'max_depth': 20, 'min...           0.614325   \n",
       "42    {'criterion': 'gini', 'max_depth': 10, 'min_sa...           0.606061   \n",
       "645   {'criterion': 'gini', 'max_depth': 30, 'min_sa...           0.608815   \n",
       "1025  {'criterion': 'entropy', 'max_depth': 10, 'min...           0.628099   \n",
       "\n",
       "      split1_test_score  split2_test_score  split3_test_score  \\\n",
       "78             0.608815           0.592287           0.585635   \n",
       "1215           0.622590           0.575758           0.602210   \n",
       "42             0.617080           0.611570           0.585635   \n",
       "645            0.617080           0.573003           0.607735   \n",
       "1025           0.608815           0.581267           0.588398   \n",
       "\n",
       "      split4_test_score  mean_test_score  std_test_score  rank_test_score  \n",
       "78             0.574586         0.597884        0.018744                1  \n",
       "1215           0.571823         0.597341        0.020331                2  \n",
       "42             0.563536         0.596776        0.019730                3  \n",
       "645            0.566298         0.594586        0.020724                4  \n",
       "1025           0.566298         0.594576        0.021640                5  "
      ]
     },
     "execution_count": 102,
     "metadata": {},
     "output_type": "execute_result"
    }
   ],
   "source": [
    "pd.DataFrame(grid_search.cv_results_).sort_values('mean_test_score', ascending=False).iloc[:,4:].head()"
   ]
  },
  {
   "cell_type": "markdown",
   "id": "418ab49b",
   "metadata": {},
   "source": [
    "Почти +5%"
   ]
  },
  {
   "cell_type": "markdown",
   "id": "0f5b3fb5",
   "metadata": {},
   "source": [
    "<h3>Градиентный бустинг</h3>"
   ]
  },
  {
   "cell_type": "code",
   "execution_count": 103,
   "id": "57044e66",
   "metadata": {},
   "outputs": [
    {
     "name": "stdout",
     "output_type": "stream",
     "text": [
      "name: XGBClassifier, score: [0.58402204 0.58402204 0.57024793 0.56353591 0.52486188], mean: 0.5653379602149065\n",
      "Wall time: 2.04 s\n"
     ]
    }
   ],
   "source": [
    "%%time\n",
    "model_xgb = XGBClassifier()\n",
    "result_xgb = cross_val_score(model_xgb, X_scaled, y, cv=cv, n_jobs=-1)\n",
    "print(f'name: XGBClassifier, score: {result_xgb}, mean: {result_xgb.mean()}')"
   ]
  },
  {
   "cell_type": "code",
   "execution_count": 104,
   "id": "5fd86613",
   "metadata": {},
   "outputs": [],
   "source": [
    "param = {'n_estimators': [100,200],\n",
    "         'max_depth': range(10,51,2)}"
   ]
  },
  {
   "cell_type": "code",
   "execution_count": 106,
   "id": "7cdbc8fa",
   "metadata": {},
   "outputs": [
    {
     "name": "stdout",
     "output_type": "stream",
     "text": [
      "[17:22:06] WARNING: ..\\src\\learner.cc:1115: Starting in XGBoost 1.3.0, the default evaluation metric used with the objective 'binary:logistic' was changed from 'error' to 'logloss'. Explicitly set eval_metric if you'd like to restore the old behavior.\n",
      "Wall time: 38.4 s\n"
     ]
    },
    {
     "data": {
      "text/plain": [
       "({'max_depth': 16, 'n_estimators': 100},\n",
       " 0.5819034138471608,\n",
       " 0.010311853521001522)"
      ]
     },
     "execution_count": 106,
     "metadata": {},
     "output_type": "execute_result"
    }
   ],
   "source": [
    "%%time\n",
    "grid_search = GridSearchCV(XGBClassifier(n_jobs=-1), param,cv=cv, n_jobs=-1)\n",
    "grid_search.fit(X_scaled,y)\n",
    "(grid_search.best_params_, grid_search.best_score_,\n",
    "pd.DataFrame(grid_search.cv_results_).sort_values('mean_test_score', ascending=False)['std_test_score'].values[0])"
   ]
  },
  {
   "cell_type": "markdown",
   "id": "8287410d",
   "metadata": {},
   "source": [
    "Печально это придется походу всюду нейронки сувать, но это мое личное мнение."
   ]
  },
  {
   "cell_type": "code",
   "execution_count": null,
   "id": "ca8cbc19",
   "metadata": {},
   "outputs": [],
   "source": []
  }
 ],
 "metadata": {
  "kernelspec": {
   "display_name": "Python 3",
   "language": "python",
   "name": "python3"
  },
  "language_info": {
   "codemirror_mode": {
    "name": "ipython",
    "version": 3
   },
   "file_extension": ".py",
   "mimetype": "text/x-python",
   "name": "python",
   "nbconvert_exporter": "python",
   "pygments_lexer": "ipython3",
   "version": "3.8.5"
  }
 },
 "nbformat": 4,
 "nbformat_minor": 5
}
