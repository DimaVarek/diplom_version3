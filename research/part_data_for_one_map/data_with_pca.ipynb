{
 "cells": [
  {
   "cell_type": "code",
   "execution_count": 1,
   "id": "4c4ab45e",
   "metadata": {},
   "outputs": [],
   "source": [
    "import numpy as np\n",
    "import pandas as pd\n",
    "from sklearn.model_selection import KFold\n",
    "from sklearn.model_selection import cross_val_score\n",
    "from sklearn.model_selection import train_test_split\n",
    "from sklearn.preprocessing import LabelEncoder, RobustScaler, StandardScaler\n",
    "from sklearn.decomposition import PCA\n",
    "\n",
    "import matplotlib.pyplot as plt\n",
    "plt.rcParams['figure.figsize'] = [12, 8]\n",
    "plt.rcParams['figure.dpi'] = 100\n",
    "\n",
    "from sklearn.dummy import DummyClassifier\n",
    "from sklearn.linear_model import Perceptron\n",
    "from sklearn.svm import SVC\n",
    "from sklearn.linear_model import LogisticRegression\n",
    "from sklearn.tree import DecisionTreeClassifier\n",
    "from sklearn.ensemble import RandomForestClassifier\n",
    "from xgboost import XGBClassifier\n",
    "\n",
    "from sklearn.model_selection import GridSearchCV\n",
    "from sklearn.metrics import accuracy_score\n",
    "\n",
    "import warnings\n",
    "warnings.filterwarnings('ignore')"
   ]
  },
  {
   "cell_type": "markdown",
   "id": "737bae27",
   "metadata": {},
   "source": [
    "<h2>Предобработка данных</h2>"
   ]
  },
  {
   "cell_type": "code",
   "execution_count": 2,
   "id": "252014b5",
   "metadata": {},
   "outputs": [
    {
     "data": {
      "text/html": [
       "<div>\n",
       "<style scoped>\n",
       "    .dataframe tbody tr th:only-of-type {\n",
       "        vertical-align: middle;\n",
       "    }\n",
       "\n",
       "    .dataframe tbody tr th {\n",
       "        vertical-align: top;\n",
       "    }\n",
       "\n",
       "    .dataframe thead th {\n",
       "        text-align: right;\n",
       "    }\n",
       "</style>\n",
       "<table border=\"1\" class=\"dataframe\">\n",
       "  <thead>\n",
       "    <tr style=\"text-align: right;\">\n",
       "      <th></th>\n",
       "      <th>map</th>\n",
       "      <th>result</th>\n",
       "      <th>team1_world_rank</th>\n",
       "      <th>team2_world_rank</th>\n",
       "      <th>1_top_Times played</th>\n",
       "      <th>1_top_wins</th>\n",
       "      <th>1_top_draws</th>\n",
       "      <th>1_top_losses</th>\n",
       "      <th>1_top_Total rounds played</th>\n",
       "      <th>1_top_Rounds won</th>\n",
       "      <th>...</th>\n",
       "      <th>2_All_draws</th>\n",
       "      <th>2_All_losses</th>\n",
       "      <th>2_All_Total rounds played</th>\n",
       "      <th>2_All_Rounds won</th>\n",
       "      <th>2_All_Win percent</th>\n",
       "      <th>2_All_Pistol rounds</th>\n",
       "      <th>2_All_Pistol rounds won</th>\n",
       "      <th>2_All_Pistol round win percent</th>\n",
       "      <th>2_All_CT round win percent</th>\n",
       "      <th>2_All_T round win percent</th>\n",
       "    </tr>\n",
       "  </thead>\n",
       "  <tbody>\n",
       "    <tr>\n",
       "      <th>0</th>\n",
       "      <td>4</td>\n",
       "      <td>-1</td>\n",
       "      <td>28</td>\n",
       "      <td>46</td>\n",
       "      <td>3</td>\n",
       "      <td>0</td>\n",
       "      <td>0</td>\n",
       "      <td>3</td>\n",
       "      <td>80</td>\n",
       "      <td>32</td>\n",
       "      <td>...</td>\n",
       "      <td>0</td>\n",
       "      <td>2</td>\n",
       "      <td>140</td>\n",
       "      <td>82</td>\n",
       "      <td>0.667</td>\n",
       "      <td>12</td>\n",
       "      <td>7</td>\n",
       "      <td>0.583</td>\n",
       "      <td>0.774</td>\n",
       "      <td>0.436</td>\n",
       "    </tr>\n",
       "    <tr>\n",
       "      <th>1</th>\n",
       "      <td>0</td>\n",
       "      <td>-1</td>\n",
       "      <td>28</td>\n",
       "      <td>46</td>\n",
       "      <td>1</td>\n",
       "      <td>0</td>\n",
       "      <td>0</td>\n",
       "      <td>1</td>\n",
       "      <td>27</td>\n",
       "      <td>11</td>\n",
       "      <td>...</td>\n",
       "      <td>0</td>\n",
       "      <td>2</td>\n",
       "      <td>135</td>\n",
       "      <td>86</td>\n",
       "      <td>0.667</td>\n",
       "      <td>12</td>\n",
       "      <td>8</td>\n",
       "      <td>0.667</td>\n",
       "      <td>0.756</td>\n",
       "      <td>0.578</td>\n",
       "    </tr>\n",
       "    <tr>\n",
       "      <th>2</th>\n",
       "      <td>3</td>\n",
       "      <td>1</td>\n",
       "      <td>1</td>\n",
       "      <td>223</td>\n",
       "      <td>7</td>\n",
       "      <td>4</td>\n",
       "      <td>0</td>\n",
       "      <td>3</td>\n",
       "      <td>182</td>\n",
       "      <td>106</td>\n",
       "      <td>...</td>\n",
       "      <td>0</td>\n",
       "      <td>2</td>\n",
       "      <td>151</td>\n",
       "      <td>80</td>\n",
       "      <td>0.667</td>\n",
       "      <td>12</td>\n",
       "      <td>7</td>\n",
       "      <td>0.583</td>\n",
       "      <td>0.556</td>\n",
       "      <td>0.511</td>\n",
       "    </tr>\n",
       "    <tr>\n",
       "      <th>3</th>\n",
       "      <td>0</td>\n",
       "      <td>1</td>\n",
       "      <td>1</td>\n",
       "      <td>223</td>\n",
       "      <td>2</td>\n",
       "      <td>2</td>\n",
       "      <td>0</td>\n",
       "      <td>0</td>\n",
       "      <td>54</td>\n",
       "      <td>32</td>\n",
       "      <td>...</td>\n",
       "      <td>0</td>\n",
       "      <td>0</td>\n",
       "      <td>0</td>\n",
       "      <td>0</td>\n",
       "      <td>0.000</td>\n",
       "      <td>0</td>\n",
       "      <td>0</td>\n",
       "      <td>0.000</td>\n",
       "      <td>0.000</td>\n",
       "      <td>0.000</td>\n",
       "    </tr>\n",
       "    <tr>\n",
       "      <th>4</th>\n",
       "      <td>5</td>\n",
       "      <td>-1</td>\n",
       "      <td>14</td>\n",
       "      <td>101</td>\n",
       "      <td>4</td>\n",
       "      <td>2</td>\n",
       "      <td>0</td>\n",
       "      <td>2</td>\n",
       "      <td>106</td>\n",
       "      <td>60</td>\n",
       "      <td>...</td>\n",
       "      <td>0</td>\n",
       "      <td>0</td>\n",
       "      <td>0</td>\n",
       "      <td>0</td>\n",
       "      <td>0.000</td>\n",
       "      <td>0</td>\n",
       "      <td>0</td>\n",
       "      <td>0.000</td>\n",
       "      <td>0.000</td>\n",
       "      <td>0.000</td>\n",
       "    </tr>\n",
       "  </tbody>\n",
       "</table>\n",
       "<p>5 rows × 52 columns</p>\n",
       "</div>"
      ],
      "text/plain": [
       "   map  result  team1_world_rank  team2_world_rank  1_top_Times played  \\\n",
       "0    4      -1                28                46                   3   \n",
       "1    0      -1                28                46                   1   \n",
       "2    3       1                 1               223                   7   \n",
       "3    0       1                 1               223                   2   \n",
       "4    5      -1                14               101                   4   \n",
       "\n",
       "   1_top_wins  1_top_draws  1_top_losses  1_top_Total rounds played  \\\n",
       "0           0            0             3                         80   \n",
       "1           0            0             1                         27   \n",
       "2           4            0             3                        182   \n",
       "3           2            0             0                         54   \n",
       "4           2            0             2                        106   \n",
       "\n",
       "   1_top_Rounds won  ...  2_All_draws  2_All_losses  \\\n",
       "0                32  ...            0             2   \n",
       "1                11  ...            0             2   \n",
       "2               106  ...            0             2   \n",
       "3                32  ...            0             0   \n",
       "4                60  ...            0             0   \n",
       "\n",
       "   2_All_Total rounds played  2_All_Rounds won  2_All_Win percent  \\\n",
       "0                        140                82              0.667   \n",
       "1                        135                86              0.667   \n",
       "2                        151                80              0.667   \n",
       "3                          0                 0              0.000   \n",
       "4                          0                 0              0.000   \n",
       "\n",
       "   2_All_Pistol rounds  2_All_Pistol rounds won  \\\n",
       "0                   12                        7   \n",
       "1                   12                        8   \n",
       "2                   12                        7   \n",
       "3                    0                        0   \n",
       "4                    0                        0   \n",
       "\n",
       "   2_All_Pistol round win percent  2_All_CT round win percent  \\\n",
       "0                           0.583                       0.774   \n",
       "1                           0.667                       0.756   \n",
       "2                           0.583                       0.556   \n",
       "3                           0.000                       0.000   \n",
       "4                           0.000                       0.000   \n",
       "\n",
       "   2_All_T round win percent  \n",
       "0                      0.436  \n",
       "1                      0.578  \n",
       "2                      0.511  \n",
       "3                      0.000  \n",
       "4                      0.000  \n",
       "\n",
       "[5 rows x 52 columns]"
      ]
     },
     "execution_count": 2,
     "metadata": {},
     "output_type": "execute_result"
    }
   ],
   "source": [
    "df = pd.read_csv('../data/df_split_by_map_part_info.csv')\n",
    "maps_decoder = LabelEncoder()\n",
    "df['map'] = maps_decoder.fit_transform(df['map'])\n",
    "df.head()"
   ]
  },
  {
   "cell_type": "code",
   "execution_count": 3,
   "id": "2baae423",
   "metadata": {},
   "outputs": [],
   "source": [
    "cv = KFold(shuffle=True, random_state=1)\n",
    "X = df.drop('result', axis=1)\n",
    "y = df['result']"
   ]
  },
  {
   "cell_type": "code",
   "execution_count": 4,
   "id": "11636bfb",
   "metadata": {},
   "outputs": [
    {
     "data": {
      "text/plain": [
       "0.9984858559604698"
      ]
     },
     "execution_count": 4,
     "metadata": {},
     "output_type": "execute_result"
    }
   ],
   "source": [
    "transform = PCA(n_components=7)\n",
    "X_pca = pd.DataFrame(transform.fit_transform(X))\n",
    "transform.explained_variance_ratio_.sum()"
   ]
  },
  {
   "cell_type": "code",
   "execution_count": 5,
   "id": "2595cf44",
   "metadata": {},
   "outputs": [
    {
     "data": {
      "text/html": [
       "<div>\n",
       "<style scoped>\n",
       "    .dataframe tbody tr th:only-of-type {\n",
       "        vertical-align: middle;\n",
       "    }\n",
       "\n",
       "    .dataframe tbody tr th {\n",
       "        vertical-align: top;\n",
       "    }\n",
       "\n",
       "    .dataframe thead th {\n",
       "        text-align: right;\n",
       "    }\n",
       "</style>\n",
       "<table border=\"1\" class=\"dataframe\">\n",
       "  <thead>\n",
       "    <tr style=\"text-align: right;\">\n",
       "      <th></th>\n",
       "      <th>count</th>\n",
       "      <th>mean</th>\n",
       "      <th>std</th>\n",
       "      <th>min</th>\n",
       "      <th>25%</th>\n",
       "      <th>50%</th>\n",
       "      <th>75%</th>\n",
       "      <th>max</th>\n",
       "    </tr>\n",
       "  </thead>\n",
       "  <tbody>\n",
       "    <tr>\n",
       "      <th>0</th>\n",
       "      <td>1813.0</td>\n",
       "      <td>-4.554058e-15</td>\n",
       "      <td>216.876379</td>\n",
       "      <td>-353.239265</td>\n",
       "      <td>-160.919944</td>\n",
       "      <td>-23.895762</td>\n",
       "      <td>128.153592</td>\n",
       "      <td>817.622956</td>\n",
       "    </tr>\n",
       "    <tr>\n",
       "      <th>1</th>\n",
       "      <td>1813.0</td>\n",
       "      <td>9.719504e-15</td>\n",
       "      <td>192.329384</td>\n",
       "      <td>-395.430820</td>\n",
       "      <td>-148.087887</td>\n",
       "      <td>-32.408880</td>\n",
       "      <td>106.859297</td>\n",
       "      <td>730.467192</td>\n",
       "    </tr>\n",
       "    <tr>\n",
       "      <th>2</th>\n",
       "      <td>1813.0</td>\n",
       "      <td>-1.187112e-14</td>\n",
       "      <td>89.752206</td>\n",
       "      <td>-265.860488</td>\n",
       "      <td>-62.157475</td>\n",
       "      <td>-18.374940</td>\n",
       "      <td>48.644190</td>\n",
       "      <td>347.776248</td>\n",
       "    </tr>\n",
       "    <tr>\n",
       "      <th>3</th>\n",
       "      <td>1813.0</td>\n",
       "      <td>1.521906e-14</td>\n",
       "      <td>69.411648</td>\n",
       "      <td>-223.226782</td>\n",
       "      <td>-46.947616</td>\n",
       "      <td>-9.132695</td>\n",
       "      <td>38.831643</td>\n",
       "      <td>327.249998</td>\n",
       "    </tr>\n",
       "    <tr>\n",
       "      <th>4</th>\n",
       "      <td>1813.0</td>\n",
       "      <td>1.840631e-14</td>\n",
       "      <td>53.390029</td>\n",
       "      <td>-113.898587</td>\n",
       "      <td>-34.590452</td>\n",
       "      <td>-7.481863</td>\n",
       "      <td>30.990469</td>\n",
       "      <td>292.355667</td>\n",
       "    </tr>\n",
       "    <tr>\n",
       "      <th>5</th>\n",
       "      <td>1813.0</td>\n",
       "      <td>1.084822e-14</td>\n",
       "      <td>30.228456</td>\n",
       "      <td>-137.503874</td>\n",
       "      <td>-14.194324</td>\n",
       "      <td>-0.979217</td>\n",
       "      <td>13.420253</td>\n",
       "      <td>143.039846</td>\n",
       "    </tr>\n",
       "    <tr>\n",
       "      <th>6</th>\n",
       "      <td>1813.0</td>\n",
       "      <td>1.663191e-15</td>\n",
       "      <td>11.775510</td>\n",
       "      <td>-47.627658</td>\n",
       "      <td>-6.179987</td>\n",
       "      <td>-0.947828</td>\n",
       "      <td>5.937188</td>\n",
       "      <td>59.045546</td>\n",
       "    </tr>\n",
       "  </tbody>\n",
       "</table>\n",
       "</div>"
      ],
      "text/plain": [
       "    count          mean         std         min         25%        50%  \\\n",
       "0  1813.0 -4.554058e-15  216.876379 -353.239265 -160.919944 -23.895762   \n",
       "1  1813.0  9.719504e-15  192.329384 -395.430820 -148.087887 -32.408880   \n",
       "2  1813.0 -1.187112e-14   89.752206 -265.860488  -62.157475 -18.374940   \n",
       "3  1813.0  1.521906e-14   69.411648 -223.226782  -46.947616  -9.132695   \n",
       "4  1813.0  1.840631e-14   53.390029 -113.898587  -34.590452  -7.481863   \n",
       "5  1813.0  1.084822e-14   30.228456 -137.503874  -14.194324  -0.979217   \n",
       "6  1813.0  1.663191e-15   11.775510  -47.627658   -6.179987  -0.947828   \n",
       "\n",
       "          75%         max  \n",
       "0  128.153592  817.622956  \n",
       "1  106.859297  730.467192  \n",
       "2   48.644190  347.776248  \n",
       "3   38.831643  327.249998  \n",
       "4   30.990469  292.355667  \n",
       "5   13.420253  143.039846  \n",
       "6    5.937188   59.045546  "
      ]
     },
     "execution_count": 5,
     "metadata": {},
     "output_type": "execute_result"
    }
   ],
   "source": [
    "X_pca.describe().T"
   ]
  },
  {
   "cell_type": "code",
   "execution_count": 6,
   "id": "b66e283a",
   "metadata": {},
   "outputs": [],
   "source": [
    "X_pca.head().iloc[:,:10].to_excel('pca.xlsx')"
   ]
  },
  {
   "cell_type": "markdown",
   "id": "4e1fd1ef",
   "metadata": {},
   "source": [
    "<h2>Обучение моделей. Сравнение результатов.</h2>"
   ]
  },
  {
   "cell_type": "code",
   "execution_count": 10,
   "id": "3671d21c",
   "metadata": {},
   "outputs": [
    {
     "name": "stdout",
     "output_type": "stream",
     "text": [
      "name: Dummy, score: [0.56473829 0.5785124  0.56749311 0.50552486 0.53314917], mean: 0.5498835669604129\n"
     ]
    }
   ],
   "source": [
    "model_dummy = DummyClassifier(strategy=\"most_frequent\")\n",
    "result_dummy = cross_val_score(model_dummy, X_pca, y, cv=cv)\n",
    "print(f'name: Dummy, score: {result_dummy}, mean: {result_dummy.mean()}')"
   ]
  },
  {
   "cell_type": "markdown",
   "id": "f7ac97ef",
   "metadata": {},
   "source": [
    "<h3>Ошибка перцептрона</h3> \n"
   ]
  },
  {
   "cell_type": "code",
   "execution_count": 12,
   "id": "dabc5eb7",
   "metadata": {},
   "outputs": [
    {
     "name": "stdout",
     "output_type": "stream",
     "text": [
      "name: Perceptron, score: [0.60330579 0.5399449  0.54820937 0.54696133 0.55524862], mean: 0.55873399996956\n"
     ]
    }
   ],
   "source": [
    "model_perceptron = Perceptron()\n",
    "result_perceptron = cross_val_score(model_perceptron, X_pca, y, cv=cv)\n",
    "print(f'name: Perceptron, score: {result_perceptron}, mean: {result_perceptron.mean()}')"
   ]
  },
  {
   "cell_type": "code",
   "execution_count": 13,
   "id": "2b524769",
   "metadata": {},
   "outputs": [],
   "source": [
    "param = {'penalty': ['l2', 'l1', 'none'],\n",
    "         'alpha': [10**-6, 10**-5, 10**-4, 10**-3, 10**-2, 10**-1, 10**0, 10**1, 10**2]}"
   ]
  },
  {
   "cell_type": "code",
   "execution_count": 14,
   "id": "afcd9ef8",
   "metadata": {},
   "outputs": [
    {
     "name": "stdout",
     "output_type": "stream",
     "text": [
      "Wall time: 1.57 s\n"
     ]
    },
    {
     "data": {
      "text/plain": [
       "({'alpha': 1e-06, 'penalty': 'l1'}, 0.5631538894723225, 0.023823703697290505)"
      ]
     },
     "execution_count": 14,
     "metadata": {},
     "output_type": "execute_result"
    }
   ],
   "source": [
    "%%time\n",
    "grid_search = GridSearchCV(Perceptron(), param,cv=cv, n_jobs=-1)\n",
    "grid_search.fit(X_pca,y)\n",
    "(grid_search.best_params_, grid_search.best_score_,\n",
    "pd.DataFrame(grid_search.cv_results_).sort_values('mean_test_score', ascending=False)['std_test_score'].values[0])"
   ]
  },
  {
   "cell_type": "markdown",
   "id": "303cfcbc",
   "metadata": {},
   "source": [
    "<h3>Метод опорных векторов</h3>"
   ]
  },
  {
   "cell_type": "code",
   "execution_count": 15,
   "id": "b9e03ddb",
   "metadata": {},
   "outputs": [
    {
     "name": "stdout",
     "output_type": "stream",
     "text": [
      "name: SVM, score: [0.61432507 0.58126722 0.59504132 0.56077348 0.5718232 ], mean: 0.58464605877966\n",
      "Wall time: 661 ms\n"
     ]
    }
   ],
   "source": [
    "%%time\n",
    "model_svm = SVC()\n",
    "result_svm = cross_val_score(model_svm, X_pca, y, cv=cv, n_jobs=-1)\n",
    "print(f'name: SVM, score: {result_svm}, mean: {result_svm.mean()}')"
   ]
  },
  {
   "cell_type": "code",
   "execution_count": 16,
   "id": "2dcf6e56",
   "metadata": {},
   "outputs": [],
   "source": [
    "param = {'C': [10**-3, 10**-2, 10**-1, 10**0, 10**1],\n",
    "         'kernel': ['rbf', 'poly', 'sigmoid']}"
   ]
  },
  {
   "cell_type": "code",
   "execution_count": 17,
   "id": "767891dd",
   "metadata": {},
   "outputs": [
    {
     "name": "stdout",
     "output_type": "stream",
     "text": [
      "Wall time: 1.95 s\n"
     ]
    },
    {
     "data": {
      "text/plain": [
       "({'C': 1, 'kernel': 'rbf'}, 0.58464605877966, 0.018626042474452584)"
      ]
     },
     "execution_count": 17,
     "metadata": {},
     "output_type": "execute_result"
    }
   ],
   "source": [
    "%%time\n",
    "grid_search = GridSearchCV(SVC(), param,cv=cv, n_jobs=-1)\n",
    "grid_search.fit(X_pca,y)\n",
    "(grid_search.best_params_, grid_search.best_score_,\n",
    "pd.DataFrame(grid_search.cv_results_).sort_values('mean_test_score', ascending=False)['std_test_score'].values[0])"
   ]
  },
  {
   "cell_type": "code",
   "execution_count": 18,
   "id": "05ef59d4",
   "metadata": {},
   "outputs": [],
   "source": [
    "param = {'C': [1],\n",
    "         'kernel': ['poly'],\n",
    "         'degree': range(1,11)}"
   ]
  },
  {
   "cell_type": "code",
   "execution_count": 19,
   "id": "b4272d88",
   "metadata": {},
   "outputs": [
    {
     "name": "stdout",
     "output_type": "stream",
     "text": [
      "Wall time: 6.85 s\n"
     ]
    },
    {
     "data": {
      "text/plain": [
       "({'C': 1, 'degree': 1, 'kernel': 'poly'},\n",
       " 0.5862898193385385,\n",
       " 0.024883772901611846)"
      ]
     },
     "execution_count": 19,
     "metadata": {},
     "output_type": "execute_result"
    }
   ],
   "source": [
    "%%time\n",
    "grid_search = GridSearchCV(SVC(), param,cv=cv, n_jobs=-1)\n",
    "grid_search.fit(X_pca,y)\n",
    "(grid_search.best_params_, grid_search.best_score_,\n",
    "pd.DataFrame(grid_search.cv_results_).sort_values('mean_test_score', ascending=False)['std_test_score'].values[0])"
   ]
  },
  {
   "cell_type": "markdown",
   "id": "f207bb2f",
   "metadata": {},
   "source": [
    "Почти не отличаются"
   ]
  },
  {
   "cell_type": "markdown",
   "id": "f1567dfc",
   "metadata": {},
   "source": [
    "<h3>Логистическая регрессия</h3>"
   ]
  },
  {
   "cell_type": "code",
   "execution_count": 20,
   "id": "ab5bf0f2",
   "metadata": {},
   "outputs": [
    {
     "name": "stdout",
     "output_type": "stream",
     "text": [
      "name: LogisticRegression, score: [0.61432507 0.60055096 0.61707989 0.58563536 0.58839779], mean: 0.6011978144072568\n",
      "Wall time: 22 ms\n"
     ]
    }
   ],
   "source": [
    "%%time\n",
    "model_log = LogisticRegression()\n",
    "result_log = cross_val_score(model_log, X_pca, y, cv=cv, n_jobs=-1)\n",
    "print(f'name: LogisticRegression, score: {result_log}, mean: {result_log.mean()}')"
   ]
  },
  {
   "cell_type": "code",
   "execution_count": 21,
   "id": "019f07ac",
   "metadata": {},
   "outputs": [],
   "source": [
    "param = {'C': [10**-3, 10**-2, 10**-1, 10**0, 10**1]}"
   ]
  },
  {
   "cell_type": "code",
   "execution_count": 23,
   "id": "68bfdf95",
   "metadata": {},
   "outputs": [
    {
     "name": "stdout",
     "output_type": "stream",
     "text": [
      "Wall time: 76.1 ms\n"
     ]
    },
    {
     "data": {
      "text/plain": [
       "({'C': 0.001}, 0.6022997427819126, 0.014141796538373476)"
      ]
     },
     "execution_count": 23,
     "metadata": {},
     "output_type": "execute_result"
    }
   ],
   "source": [
    "%%time\n",
    "grid_search = GridSearchCV(LogisticRegression(), param,cv=cv, n_jobs=-1)\n",
    "grid_search.fit(X_pca,y)\n",
    "(grid_search.best_params_, grid_search.best_score_,\n",
    "pd.DataFrame(grid_search.cv_results_).sort_values('mean_test_score', ascending=False)['std_test_score'].values[0])"
   ]
  },
  {
   "cell_type": "markdown",
   "id": "45819864",
   "metadata": {},
   "source": [
    "<h3>Дерево решений.</h3>"
   ]
  },
  {
   "cell_type": "code",
   "execution_count": 24,
   "id": "592412c3",
   "metadata": {},
   "outputs": [
    {
     "name": "stdout",
     "output_type": "stream",
     "text": [
      "name: Tree, score: [0.52892562 0.53168044 0.5399449  0.53314917 0.53867403], mean: 0.5344748337214436\n",
      "Wall time: 49.8 ms\n"
     ]
    }
   ],
   "source": [
    "%%time\n",
    "model_tree = DecisionTreeClassifier()\n",
    "result_tree = cross_val_score(model_tree, X_pca, y, cv=cv, n_jobs=-1)\n",
    "print(f'name: Tree, score: {result_tree}, mean: {result_tree.mean()}')"
   ]
  },
  {
   "cell_type": "code",
   "execution_count": 25,
   "id": "e7b89c59",
   "metadata": {},
   "outputs": [],
   "source": [
    "param = {'criterion': ['gini', 'entropy'],\n",
    "         'max_depth': range(2,50)}"
   ]
  },
  {
   "cell_type": "code",
   "execution_count": 26,
   "id": "fdcae194",
   "metadata": {},
   "outputs": [
    {
     "name": "stdout",
     "output_type": "stream",
     "text": [
      "Wall time: 825 ms\n"
     ]
    },
    {
     "data": {
      "text/plain": [
       "({'criterion': 'entropy', 'max_depth': 2},\n",
       " 0.5658980564053391,\n",
       " 0.020826670795880027)"
      ]
     },
     "execution_count": 26,
     "metadata": {},
     "output_type": "execute_result"
    }
   ],
   "source": [
    "%%time\n",
    "grid_search = GridSearchCV(DecisionTreeClassifier(), param,cv=cv, n_jobs=-1)\n",
    "grid_search.fit(X_pca,y)\n",
    "(grid_search.best_params_, grid_search.best_score_,\n",
    "pd.DataFrame(grid_search.cv_results_).sort_values('mean_test_score', ascending=False)['std_test_score'].values[0])"
   ]
  },
  {
   "cell_type": "code",
   "execution_count": 27,
   "id": "74199367",
   "metadata": {},
   "outputs": [],
   "source": [
    "param = {'criterion': ['gini', 'entropy'],\n",
    "         'max_depth': range(2,50,3),\n",
    "         'min_samples_split': range(2,20,2),\n",
    "         'min_samples_leaf': range(1,12,2)}"
   ]
  },
  {
   "cell_type": "code",
   "execution_count": 28,
   "id": "cae7a88d",
   "metadata": {},
   "outputs": [
    {
     "name": "stdout",
     "output_type": "stream",
     "text": [
      "Wall time: 11.7 s\n"
     ]
    },
    {
     "data": {
      "text/plain": [
       "({'criterion': 'entropy',\n",
       "  'max_depth': 2,\n",
       "  'min_samples_leaf': 1,\n",
       "  'min_samples_split': 2},\n",
       " 0.5658980564053391)"
      ]
     },
     "execution_count": 28,
     "metadata": {},
     "output_type": "execute_result"
    }
   ],
   "source": [
    "%%time\n",
    "grid_search = GridSearchCV(DecisionTreeClassifier(), param,cv=cv, n_jobs=-1)\n",
    "grid_search.fit(X_pca,y)\n",
    "(grid_search.best_params_, grid_search.best_score_)"
   ]
  },
  {
   "cell_type": "markdown",
   "id": "41374067",
   "metadata": {},
   "source": [
    "Все грустно"
   ]
  },
  {
   "cell_type": "markdown",
   "id": "93a2c3b5",
   "metadata": {},
   "source": [
    "<h3>Случайный лес</h3>\n"
   ]
  },
  {
   "cell_type": "code",
   "execution_count": 31,
   "id": "0040f0b5",
   "metadata": {},
   "outputs": [
    {
     "name": "stdout",
     "output_type": "stream",
     "text": [
      "name: RandomForestClassifier, score: [0.58402204 0.5785124  0.57024793 0.54696133 0.58287293], mean: 0.5725233246579304\n",
      "Wall time: 311 ms\n"
     ]
    }
   ],
   "source": [
    "%%time\n",
    "model_rf = RandomForestClassifier()\n",
    "result_fr = cross_val_score(model_rf, X_pca, y, cv=cv, n_jobs=-1)\n",
    "print(f'name: RandomForestClassifier, score: {result_fr}, mean: {result_fr.mean()}')"
   ]
  },
  {
   "cell_type": "code",
   "execution_count": 32,
   "id": "c120c91e",
   "metadata": {},
   "outputs": [],
   "source": [
    "param = {'n_estimators': [100,200,500,1000,2000],\n",
    "         'criterion': ['gini', 'entropy'],\n",
    "         'max_depth': range(1,51,10)}"
   ]
  },
  {
   "cell_type": "code",
   "execution_count": 34,
   "id": "cc44c2bd",
   "metadata": {},
   "outputs": [
    {
     "name": "stdout",
     "output_type": "stream",
     "text": [
      "Wall time: 1min 11s\n"
     ]
    },
    {
     "data": {
      "text/plain": [
       "({'criterion': 'gini', 'max_depth': 11, 'n_estimators': 1000},\n",
       " 0.5874176217219913,\n",
       " 0.011859176055623718)"
      ]
     },
     "execution_count": 34,
     "metadata": {},
     "output_type": "execute_result"
    }
   ],
   "source": [
    "%%time\n",
    "grid_search = GridSearchCV(RandomForestClassifier(n_jobs=-1), param,cv=cv, n_jobs=-1)\n",
    "grid_search.fit(X_pca,y)\n",
    "(grid_search.best_params_, grid_search.best_score_,\n",
    "pd.DataFrame(grid_search.cv_results_).sort_values('mean_test_score', ascending=False)['std_test_score'].values[0])"
   ]
  },
  {
   "cell_type": "markdown",
   "id": "78e1a439",
   "metadata": {},
   "source": [
    "Я хочу плакать, все очень плохо."
   ]
  },
  {
   "cell_type": "markdown",
   "id": "aeb48621",
   "metadata": {},
   "source": [
    "<h3>Градиентный бустинг</h3>"
   ]
  },
  {
   "cell_type": "code",
   "execution_count": 36,
   "id": "1366fe8e",
   "metadata": {},
   "outputs": [
    {
     "name": "stdout",
     "output_type": "stream",
     "text": [
      "name: XGBClassifier, score: [0.56198347 0.58953168 0.58402204 0.56077348 0.59392265], mean: 0.578046664535866\n",
      "Wall time: 769 ms\n"
     ]
    }
   ],
   "source": [
    "%%time\n",
    "model_xgb = XGBClassifier()\n",
    "result_xgb = cross_val_score(model_xgb, X_pca, y, cv=cv, n_jobs=-1)\n",
    "print(f'name: XGBClassifier, score: {result_xgb}, mean: {result_xgb.mean()}')"
   ]
  },
  {
   "cell_type": "code",
   "execution_count": 37,
   "id": "d12f5aa5",
   "metadata": {},
   "outputs": [],
   "source": [
    "param = {'n_estimators': [100,200],\n",
    "         'max_depth': range(10,51,2)}"
   ]
  },
  {
   "cell_type": "code",
   "execution_count": 38,
   "id": "70b11b39",
   "metadata": {},
   "outputs": [
    {
     "name": "stdout",
     "output_type": "stream",
     "text": [
      "[20:40:39] WARNING: ..\\src\\learner.cc:1115: Starting in XGBoost 1.3.0, the default evaluation metric used with the objective 'binary:logistic' was changed from 'error' to 'logloss'. Explicitly set eval_metric if you'd like to restore the old behavior.\n",
      "Wall time: 23.6 s\n"
     ]
    },
    {
     "data": {
      "text/plain": [
       "({'max_depth': 24, 'n_estimators': 200},\n",
       " 0.5752735795930171,\n",
       " 0.024863465671416386)"
      ]
     },
     "execution_count": 38,
     "metadata": {},
     "output_type": "execute_result"
    }
   ],
   "source": [
    "%%time\n",
    "grid_search = GridSearchCV(XGBClassifier(n_jobs=-1), param,cv=cv, n_jobs=-1)\n",
    "grid_search.fit(X_pca,y)\n",
    "(grid_search.best_params_, grid_search.best_score_,\n",
    "pd.DataFrame(grid_search.cv_results_).sort_values('mean_test_score', ascending=False)['std_test_score'].values[0])"
   ]
  },
  {
   "cell_type": "code",
   "execution_count": null,
   "id": "bb9c0cb8",
   "metadata": {},
   "outputs": [],
   "source": []
  }
 ],
 "metadata": {
  "kernelspec": {
   "display_name": "Python 3",
   "language": "python",
   "name": "python3"
  },
  "language_info": {
   "codemirror_mode": {
    "name": "ipython",
    "version": 3
   },
   "file_extension": ".py",
   "mimetype": "text/x-python",
   "name": "python",
   "nbconvert_exporter": "python",
   "pygments_lexer": "ipython3",
   "version": "3.8.5"
  }
 },
 "nbformat": 4,
 "nbformat_minor": 5
}
