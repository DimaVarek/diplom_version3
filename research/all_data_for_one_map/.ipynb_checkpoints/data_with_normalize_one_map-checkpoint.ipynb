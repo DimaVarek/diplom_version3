{
 "cells": [
  {
   "cell_type": "code",
   "execution_count": 1,
   "id": "17a47f53",
   "metadata": {},
   "outputs": [],
   "source": [
    "import numpy as np\n",
    "import pandas as pd\n",
    "from sklearn.model_selection import KFold\n",
    "from sklearn.model_selection import cross_val_score\n",
    "from sklearn.model_selection import train_test_split\n",
    "from sklearn.preprocessing import LabelEncoder, RobustScaler, StandardScaler\n",
    "from sklearn.preprocessing import PowerTransformer\n",
    "\n",
    "import matplotlib.pyplot as plt\n",
    "plt.rcParams['figure.figsize'] = [12, 8]\n",
    "plt.rcParams['figure.dpi'] = 100\n",
    "\n",
    "from sklearn.dummy import DummyClassifier\n",
    "from sklearn.linear_model import Perceptron\n",
    "from sklearn.svm import SVC\n",
    "from sklearn.linear_model import LogisticRegression\n",
    "from sklearn.tree import DecisionTreeClassifier\n",
    "from sklearn.ensemble import RandomForestClassifier\n",
    "from xgboost import XGBClassifier\n",
    "\n",
    "from sklearn.model_selection import GridSearchCV\n",
    "\n",
    "import warnings\n",
    "warnings.filterwarnings('ignore')"
   ]
  },
  {
   "cell_type": "markdown",
   "id": "027efc29",
   "metadata": {},
   "source": [
    "<h2>Предобработка данных</h2>"
   ]
  },
  {
   "cell_type": "code",
   "execution_count": 2,
   "id": "fabae579",
   "metadata": {},
   "outputs": [
    {
     "name": "stdout",
     "output_type": "stream",
     "text": [
      "<class 'pandas.core.frame.DataFrame'>\n",
      "RangeIndex: 1813 entries, 0 to 1812\n",
      "Columns: 1025 entries, version to map\n",
      "dtypes: float64(339), int64(679), object(7)\n",
      "memory usage: 14.2+ MB\n"
     ]
    }
   ],
   "source": [
    "df = pd.read_csv('../data/df_split_by_map_all_info.csv')\n",
    "df.info()"
   ]
  },
  {
   "cell_type": "code",
   "execution_count": 3,
   "id": "ef7e5a67",
   "metadata": {},
   "outputs": [
    {
     "data": {
      "text/html": [
       "<div>\n",
       "<style scoped>\n",
       "    .dataframe tbody tr th:only-of-type {\n",
       "        vertical-align: middle;\n",
       "    }\n",
       "\n",
       "    .dataframe tbody tr th {\n",
       "        vertical-align: top;\n",
       "    }\n",
       "\n",
       "    .dataframe thead th {\n",
       "        text-align: right;\n",
       "    }\n",
       "</style>\n",
       "<table border=\"1\" class=\"dataframe\">\n",
       "  <thead>\n",
       "    <tr style=\"text-align: right;\">\n",
       "      <th></th>\n",
       "      <th>team1_world_rank</th>\n",
       "      <th>team2_world_rank</th>\n",
       "      <th>1_47_top5_Times played</th>\n",
       "      <th>1_47_top5_wins</th>\n",
       "      <th>1_47_top5_draws</th>\n",
       "      <th>1_47_top5_losses</th>\n",
       "      <th>1_47_top5_Total rounds played</th>\n",
       "      <th>1_47_top5_Rounds won</th>\n",
       "      <th>1_47_top5_Win percent</th>\n",
       "      <th>1_47_top5_Pistol rounds</th>\n",
       "      <th>...</th>\n",
       "      <th>2_46_topAll_Rounds won</th>\n",
       "      <th>2_46_topAll_Win percent</th>\n",
       "      <th>2_46_topAll_Pistol rounds</th>\n",
       "      <th>2_46_topAll_Pistol rounds won</th>\n",
       "      <th>2_46_topAll_Pistol round win percent</th>\n",
       "      <th>2_46_topAll_CT round win percent</th>\n",
       "      <th>2_46_topAll_T round win percent</th>\n",
       "      <th>result</th>\n",
       "      <th>best_of</th>\n",
       "      <th>map</th>\n",
       "    </tr>\n",
       "  </thead>\n",
       "  <tbody>\n",
       "    <tr>\n",
       "      <th>0</th>\n",
       "      <td>28</td>\n",
       "      <td>46</td>\n",
       "      <td>0</td>\n",
       "      <td>0</td>\n",
       "      <td>0</td>\n",
       "      <td>0</td>\n",
       "      <td>0</td>\n",
       "      <td>0</td>\n",
       "      <td>0.0</td>\n",
       "      <td>0</td>\n",
       "      <td>...</td>\n",
       "      <td>53</td>\n",
       "      <td>0.75</td>\n",
       "      <td>8</td>\n",
       "      <td>4</td>\n",
       "      <td>0.5</td>\n",
       "      <td>0.590</td>\n",
       "      <td>0.526</td>\n",
       "      <td>-1</td>\n",
       "      <td>3</td>\n",
       "      <td>Nuke</td>\n",
       "    </tr>\n",
       "    <tr>\n",
       "      <th>1</th>\n",
       "      <td>28</td>\n",
       "      <td>46</td>\n",
       "      <td>0</td>\n",
       "      <td>0</td>\n",
       "      <td>0</td>\n",
       "      <td>0</td>\n",
       "      <td>0</td>\n",
       "      <td>0</td>\n",
       "      <td>0.0</td>\n",
       "      <td>0</td>\n",
       "      <td>...</td>\n",
       "      <td>53</td>\n",
       "      <td>0.75</td>\n",
       "      <td>8</td>\n",
       "      <td>4</td>\n",
       "      <td>0.5</td>\n",
       "      <td>0.590</td>\n",
       "      <td>0.526</td>\n",
       "      <td>-1</td>\n",
       "      <td>3</td>\n",
       "      <td>Ancient</td>\n",
       "    </tr>\n",
       "    <tr>\n",
       "      <th>2</th>\n",
       "      <td>1</td>\n",
       "      <td>223</td>\n",
       "      <td>2</td>\n",
       "      <td>2</td>\n",
       "      <td>0</td>\n",
       "      <td>0</td>\n",
       "      <td>54</td>\n",
       "      <td>32</td>\n",
       "      <td>1.0</td>\n",
       "      <td>4</td>\n",
       "      <td>...</td>\n",
       "      <td>29</td>\n",
       "      <td>0.50</td>\n",
       "      <td>4</td>\n",
       "      <td>2</td>\n",
       "      <td>0.5</td>\n",
       "      <td>0.448</td>\n",
       "      <td>0.552</td>\n",
       "      <td>1</td>\n",
       "      <td>3</td>\n",
       "      <td>Mirage</td>\n",
       "    </tr>\n",
       "    <tr>\n",
       "      <th>3</th>\n",
       "      <td>1</td>\n",
       "      <td>223</td>\n",
       "      <td>2</td>\n",
       "      <td>2</td>\n",
       "      <td>0</td>\n",
       "      <td>0</td>\n",
       "      <td>54</td>\n",
       "      <td>32</td>\n",
       "      <td>1.0</td>\n",
       "      <td>4</td>\n",
       "      <td>...</td>\n",
       "      <td>29</td>\n",
       "      <td>0.50</td>\n",
       "      <td>4</td>\n",
       "      <td>2</td>\n",
       "      <td>0.5</td>\n",
       "      <td>0.448</td>\n",
       "      <td>0.552</td>\n",
       "      <td>1</td>\n",
       "      <td>3</td>\n",
       "      <td>Ancient</td>\n",
       "    </tr>\n",
       "    <tr>\n",
       "      <th>4</th>\n",
       "      <td>14</td>\n",
       "      <td>101</td>\n",
       "      <td>0</td>\n",
       "      <td>0</td>\n",
       "      <td>0</td>\n",
       "      <td>0</td>\n",
       "      <td>0</td>\n",
       "      <td>0</td>\n",
       "      <td>0.0</td>\n",
       "      <td>0</td>\n",
       "      <td>...</td>\n",
       "      <td>0</td>\n",
       "      <td>0.00</td>\n",
       "      <td>0</td>\n",
       "      <td>0</td>\n",
       "      <td>0.0</td>\n",
       "      <td>0.000</td>\n",
       "      <td>0.000</td>\n",
       "      <td>-1</td>\n",
       "      <td>3</td>\n",
       "      <td>Overpass</td>\n",
       "    </tr>\n",
       "  </tbody>\n",
       "</table>\n",
       "<p>5 rows × 1013 columns</p>\n",
       "</div>"
      ],
      "text/plain": [
       "   team1_world_rank  team2_world_rank  1_47_top5_Times played  1_47_top5_wins  \\\n",
       "0                28                46                       0               0   \n",
       "1                28                46                       0               0   \n",
       "2                 1               223                       2               2   \n",
       "3                 1               223                       2               2   \n",
       "4                14               101                       0               0   \n",
       "\n",
       "   1_47_top5_draws  1_47_top5_losses  1_47_top5_Total rounds played  \\\n",
       "0                0                 0                              0   \n",
       "1                0                 0                              0   \n",
       "2                0                 0                             54   \n",
       "3                0                 0                             54   \n",
       "4                0                 0                              0   \n",
       "\n",
       "   1_47_top5_Rounds won  1_47_top5_Win percent  1_47_top5_Pistol rounds  ...  \\\n",
       "0                     0                    0.0                        0  ...   \n",
       "1                     0                    0.0                        0  ...   \n",
       "2                    32                    1.0                        4  ...   \n",
       "3                    32                    1.0                        4  ...   \n",
       "4                     0                    0.0                        0  ...   \n",
       "\n",
       "   2_46_topAll_Rounds won  2_46_topAll_Win percent  2_46_topAll_Pistol rounds  \\\n",
       "0                      53                     0.75                          8   \n",
       "1                      53                     0.75                          8   \n",
       "2                      29                     0.50                          4   \n",
       "3                      29                     0.50                          4   \n",
       "4                       0                     0.00                          0   \n",
       "\n",
       "   2_46_topAll_Pistol rounds won  2_46_topAll_Pistol round win percent  \\\n",
       "0                              4                                   0.5   \n",
       "1                              4                                   0.5   \n",
       "2                              2                                   0.5   \n",
       "3                              2                                   0.5   \n",
       "4                              0                                   0.0   \n",
       "\n",
       "   2_46_topAll_CT round win percent  2_46_topAll_T round win percent  result  \\\n",
       "0                             0.590                            0.526      -1   \n",
       "1                             0.590                            0.526      -1   \n",
       "2                             0.448                            0.552       1   \n",
       "3                             0.448                            0.552       1   \n",
       "4                             0.000                            0.000      -1   \n",
       "\n",
       "   best_of       map  \n",
       "0        3      Nuke  \n",
       "1        3   Ancient  \n",
       "2        3    Mirage  \n",
       "3        3   Ancient  \n",
       "4        3  Overpass  \n",
       "\n",
       "[5 rows x 1013 columns]"
      ]
     },
     "execution_count": 3,
     "metadata": {},
     "output_type": "execute_result"
    }
   ],
   "source": [
    "df = df.drop(['version', 'url', 'number_of_confrontation', 'datetime1', 'ratio1', 'ratio2', 'name1', 'number1', 'name2', 'number2',\n",
    "         'team1_stat_url', 'team2_stat_url'], axis=1)\n",
    "df.head()"
   ]
  },
  {
   "cell_type": "code",
   "execution_count": 4,
   "id": "cee11427",
   "metadata": {},
   "outputs": [],
   "source": [
    "maps_decoder = LabelEncoder()\n",
    "df['map'] = maps_decoder.fit_transform(df['map'])"
   ]
  },
  {
   "cell_type": "code",
   "execution_count": 5,
   "id": "b44b1828",
   "metadata": {},
   "outputs": [],
   "source": [
    "cv = KFold(shuffle=True, random_state=1)\n",
    "X = df.drop('result', axis=1)\n",
    "y = df['result']"
   ]
  },
  {
   "cell_type": "code",
   "execution_count": 6,
   "id": "ec4ac808",
   "metadata": {},
   "outputs": [
    {
     "data": {
      "text/html": [
       "<div>\n",
       "<style scoped>\n",
       "    .dataframe tbody tr th:only-of-type {\n",
       "        vertical-align: middle;\n",
       "    }\n",
       "\n",
       "    .dataframe tbody tr th {\n",
       "        vertical-align: top;\n",
       "    }\n",
       "\n",
       "    .dataframe thead th {\n",
       "        text-align: right;\n",
       "    }\n",
       "</style>\n",
       "<table border=\"1\" class=\"dataframe\">\n",
       "  <thead>\n",
       "    <tr style=\"text-align: right;\">\n",
       "      <th></th>\n",
       "      <th>team1_world_rank</th>\n",
       "      <th>team2_world_rank</th>\n",
       "      <th>1_47_top5_Times played</th>\n",
       "      <th>1_47_top5_wins</th>\n",
       "      <th>1_47_top5_draws</th>\n",
       "      <th>1_47_top5_losses</th>\n",
       "      <th>1_47_top5_Total rounds played</th>\n",
       "      <th>1_47_top5_Rounds won</th>\n",
       "      <th>1_47_top5_Win percent</th>\n",
       "      <th>1_47_top5_Pistol rounds</th>\n",
       "      <th>...</th>\n",
       "      <th>2_46_topAll_Total rounds played</th>\n",
       "      <th>2_46_topAll_Rounds won</th>\n",
       "      <th>2_46_topAll_Win percent</th>\n",
       "      <th>2_46_topAll_Pistol rounds</th>\n",
       "      <th>2_46_topAll_Pistol rounds won</th>\n",
       "      <th>2_46_topAll_Pistol round win percent</th>\n",
       "      <th>2_46_topAll_CT round win percent</th>\n",
       "      <th>2_46_topAll_T round win percent</th>\n",
       "      <th>best_of</th>\n",
       "      <th>map</th>\n",
       "    </tr>\n",
       "  </thead>\n",
       "  <tbody>\n",
       "    <tr>\n",
       "      <th>0</th>\n",
       "      <td>-0.461564</td>\n",
       "      <td>-0.325356</td>\n",
       "      <td>-0.207733</td>\n",
       "      <td>-0.155865</td>\n",
       "      <td>0.0</td>\n",
       "      <td>-0.148271</td>\n",
       "      <td>-0.207733</td>\n",
       "      <td>-0.207733</td>\n",
       "      <td>-0.155865</td>\n",
       "      <td>-0.207733</td>\n",
       "      <td>...</td>\n",
       "      <td>0.165586</td>\n",
       "      <td>0.233425</td>\n",
       "      <td>1.012128</td>\n",
       "      <td>0.220085</td>\n",
       "      <td>0.232322</td>\n",
       "      <td>0.324424</td>\n",
       "      <td>0.727462</td>\n",
       "      <td>0.621513</td>\n",
       "      <td>0.153232</td>\n",
       "      <td>0.546561</td>\n",
       "    </tr>\n",
       "    <tr>\n",
       "      <th>1</th>\n",
       "      <td>-0.461564</td>\n",
       "      <td>-0.325356</td>\n",
       "      <td>-0.207733</td>\n",
       "      <td>-0.155865</td>\n",
       "      <td>0.0</td>\n",
       "      <td>-0.148271</td>\n",
       "      <td>-0.207733</td>\n",
       "      <td>-0.207733</td>\n",
       "      <td>-0.155865</td>\n",
       "      <td>-0.207733</td>\n",
       "      <td>...</td>\n",
       "      <td>0.165586</td>\n",
       "      <td>0.233425</td>\n",
       "      <td>1.012128</td>\n",
       "      <td>0.220085</td>\n",
       "      <td>0.232322</td>\n",
       "      <td>0.324424</td>\n",
       "      <td>0.727462</td>\n",
       "      <td>0.621513</td>\n",
       "      <td>0.153232</td>\n",
       "      <td>-1.697826</td>\n",
       "    </tr>\n",
       "    <tr>\n",
       "      <th>2</th>\n",
       "      <td>-2.183894</td>\n",
       "      <td>1.700456</td>\n",
       "      <td>4.813869</td>\n",
       "      <td>6.415823</td>\n",
       "      <td>0.0</td>\n",
       "      <td>-0.148271</td>\n",
       "      <td>4.813869</td>\n",
       "      <td>4.813869</td>\n",
       "      <td>6.415823</td>\n",
       "      <td>4.813869</td>\n",
       "      <td>...</td>\n",
       "      <td>-0.174182</td>\n",
       "      <td>-0.178526</td>\n",
       "      <td>0.357520</td>\n",
       "      <td>-0.324118</td>\n",
       "      <td>-0.305798</td>\n",
       "      <td>0.324424</td>\n",
       "      <td>-0.040182</td>\n",
       "      <td>0.779787</td>\n",
       "      <td>0.153232</td>\n",
       "      <td>0.048231</td>\n",
       "    </tr>\n",
       "    <tr>\n",
       "      <th>3</th>\n",
       "      <td>-2.183894</td>\n",
       "      <td>1.700456</td>\n",
       "      <td>4.813869</td>\n",
       "      <td>6.415823</td>\n",
       "      <td>0.0</td>\n",
       "      <td>-0.148271</td>\n",
       "      <td>4.813869</td>\n",
       "      <td>4.813869</td>\n",
       "      <td>6.415823</td>\n",
       "      <td>4.813869</td>\n",
       "      <td>...</td>\n",
       "      <td>-0.174182</td>\n",
       "      <td>-0.178526</td>\n",
       "      <td>0.357520</td>\n",
       "      <td>-0.324118</td>\n",
       "      <td>-0.305798</td>\n",
       "      <td>0.324424</td>\n",
       "      <td>-0.040182</td>\n",
       "      <td>0.779787</td>\n",
       "      <td>0.153232</td>\n",
       "      <td>-1.697826</td>\n",
       "    </tr>\n",
       "    <tr>\n",
       "      <th>4</th>\n",
       "      <td>-0.992090</td>\n",
       "      <td>0.552079</td>\n",
       "      <td>-0.207733</td>\n",
       "      <td>-0.155865</td>\n",
       "      <td>0.0</td>\n",
       "      <td>-0.148271</td>\n",
       "      <td>-0.207733</td>\n",
       "      <td>-0.207733</td>\n",
       "      <td>-0.155865</td>\n",
       "      <td>-0.207733</td>\n",
       "      <td>...</td>\n",
       "      <td>-1.581713</td>\n",
       "      <td>-1.542577</td>\n",
       "      <td>-1.231794</td>\n",
       "      <td>-1.485094</td>\n",
       "      <td>-1.381708</td>\n",
       "      <td>-1.454777</td>\n",
       "      <td>-1.576809</td>\n",
       "      <td>-1.568558</td>\n",
       "      <td>0.153232</td>\n",
       "      <td>1.022167</td>\n",
       "    </tr>\n",
       "  </tbody>\n",
       "</table>\n",
       "<p>5 rows × 1012 columns</p>\n",
       "</div>"
      ],
      "text/plain": [
       "   team1_world_rank  team2_world_rank  1_47_top5_Times played  1_47_top5_wins  \\\n",
       "0         -0.461564         -0.325356               -0.207733       -0.155865   \n",
       "1         -0.461564         -0.325356               -0.207733       -0.155865   \n",
       "2         -2.183894          1.700456                4.813869        6.415823   \n",
       "3         -2.183894          1.700456                4.813869        6.415823   \n",
       "4         -0.992090          0.552079               -0.207733       -0.155865   \n",
       "\n",
       "   1_47_top5_draws  1_47_top5_losses  1_47_top5_Total rounds played  \\\n",
       "0              0.0         -0.148271                      -0.207733   \n",
       "1              0.0         -0.148271                      -0.207733   \n",
       "2              0.0         -0.148271                       4.813869   \n",
       "3              0.0         -0.148271                       4.813869   \n",
       "4              0.0         -0.148271                      -0.207733   \n",
       "\n",
       "   1_47_top5_Rounds won  1_47_top5_Win percent  1_47_top5_Pistol rounds  ...  \\\n",
       "0             -0.207733              -0.155865                -0.207733  ...   \n",
       "1             -0.207733              -0.155865                -0.207733  ...   \n",
       "2              4.813869               6.415823                 4.813869  ...   \n",
       "3              4.813869               6.415823                 4.813869  ...   \n",
       "4             -0.207733              -0.155865                -0.207733  ...   \n",
       "\n",
       "   2_46_topAll_Total rounds played  2_46_topAll_Rounds won  \\\n",
       "0                         0.165586                0.233425   \n",
       "1                         0.165586                0.233425   \n",
       "2                        -0.174182               -0.178526   \n",
       "3                        -0.174182               -0.178526   \n",
       "4                        -1.581713               -1.542577   \n",
       "\n",
       "   2_46_topAll_Win percent  2_46_topAll_Pistol rounds  \\\n",
       "0                 1.012128                   0.220085   \n",
       "1                 1.012128                   0.220085   \n",
       "2                 0.357520                  -0.324118   \n",
       "3                 0.357520                  -0.324118   \n",
       "4                -1.231794                  -1.485094   \n",
       "\n",
       "   2_46_topAll_Pistol rounds won  2_46_topAll_Pistol round win percent  \\\n",
       "0                       0.232322                              0.324424   \n",
       "1                       0.232322                              0.324424   \n",
       "2                      -0.305798                              0.324424   \n",
       "3                      -0.305798                              0.324424   \n",
       "4                      -1.381708                             -1.454777   \n",
       "\n",
       "   2_46_topAll_CT round win percent  2_46_topAll_T round win percent  \\\n",
       "0                          0.727462                         0.621513   \n",
       "1                          0.727462                         0.621513   \n",
       "2                         -0.040182                         0.779787   \n",
       "3                         -0.040182                         0.779787   \n",
       "4                         -1.576809                        -1.568558   \n",
       "\n",
       "    best_of       map  \n",
       "0  0.153232  0.546561  \n",
       "1  0.153232 -1.697826  \n",
       "2  0.153232  0.048231  \n",
       "3  0.153232 -1.697826  \n",
       "4  0.153232  1.022167  \n",
       "\n",
       "[5 rows x 1012 columns]"
      ]
     },
     "execution_count": 6,
     "metadata": {},
     "output_type": "execute_result"
    }
   ],
   "source": [
    "X_norm = pd.DataFrame()\n",
    "transform = PowerTransformer()\n",
    "for i in X.columns:\n",
    "    X_norm[i] = transform.fit_transform(np.array(X[i]).reshape(-1, 1)).reshape(1, -1)[0]\n",
    "X_norm.head()"
   ]
  },
  {
   "cell_type": "code",
   "execution_count": 7,
   "id": "d5c42511",
   "metadata": {},
   "outputs": [],
   "source": [
    "X_norm.head().iloc[:,:10].to_excel('norm.xlsx')"
   ]
  },
  {
   "cell_type": "markdown",
   "id": "1a0bfddb",
   "metadata": {},
   "source": [
    "<h2>Обучение моделей. Сравнение результатов.</h2>"
   ]
  },
  {
   "cell_type": "code",
   "execution_count": 8,
   "id": "ddd36292",
   "metadata": {},
   "outputs": [
    {
     "name": "stdout",
     "output_type": "stream",
     "text": [
      "name: Dummy, score: [0.56473829 0.5785124  0.56749311 0.50552486 0.53314917], mean: 0.5498835669604129\n"
     ]
    }
   ],
   "source": [
    "model_dummy = DummyClassifier(strategy=\"most_frequent\")\n",
    "result_dummy = cross_val_score(model_dummy, X_norm, y, cv=cv)\n",
    "print(f'name: Dummy, score: {result_dummy}, mean: {result_dummy.mean()}')"
   ]
  },
  {
   "cell_type": "markdown",
   "id": "97472ed9",
   "metadata": {},
   "source": [
    "<h3>Ошибка перцептрона</h3> "
   ]
  },
  {
   "cell_type": "code",
   "execution_count": 9,
   "id": "eb7f0803",
   "metadata": {},
   "outputs": [
    {
     "name": "stdout",
     "output_type": "stream",
     "text": [
      "name: Perceptron, score: [0.57300275 0.52066116 0.54269972 0.54696133 0.54972376], mean: 0.546609743847313\n"
     ]
    }
   ],
   "source": [
    "model_perceptron = Perceptron()\n",
    "result_perceptron = cross_val_score(model_perceptron, X_norm, y, cv=cv)\n",
    "print(f'name: Perceptron, score: {result_perceptron}, mean: {result_perceptron.mean()}')"
   ]
  },
  {
   "cell_type": "code",
   "execution_count": 10,
   "id": "d5852a75",
   "metadata": {},
   "outputs": [],
   "source": [
    "param = {'penalty': ['l2', 'l1','none'],\n",
    "         'alpha': [10**-6, 10**-5, 10**-4, 10**-3, 10**-2, 10**-1, 10**0, 10**1, 10**2]}"
   ]
  },
  {
   "cell_type": "code",
   "execution_count": 11,
   "id": "03d58ae6",
   "metadata": {},
   "outputs": [
    {
     "name": "stdout",
     "output_type": "stream",
     "text": [
      "Wall time: 3.53 s\n"
     ]
    },
    {
     "data": {
      "text/plain": [
       "({'alpha': 0.0001, 'penalty': 'l2'}, 0.5548772506582652)"
      ]
     },
     "execution_count": 11,
     "metadata": {},
     "output_type": "execute_result"
    }
   ],
   "source": [
    "%%time\n",
    "grid_search = GridSearchCV(Perceptron(), param,cv=cv, n_jobs=-1)\n",
    "grid_search.fit(X_norm,y)\n",
    "(grid_search.best_params_, grid_search.best_score_)"
   ]
  },
  {
   "cell_type": "code",
   "execution_count": 12,
   "id": "051a6873",
   "metadata": {},
   "outputs": [
    {
     "data": {
      "text/html": [
       "<div>\n",
       "<style scoped>\n",
       "    .dataframe tbody tr th:only-of-type {\n",
       "        vertical-align: middle;\n",
       "    }\n",
       "\n",
       "    .dataframe tbody tr th {\n",
       "        vertical-align: top;\n",
       "    }\n",
       "\n",
       "    .dataframe thead th {\n",
       "        text-align: right;\n",
       "    }\n",
       "</style>\n",
       "<table border=\"1\" class=\"dataframe\">\n",
       "  <thead>\n",
       "    <tr style=\"text-align: right;\">\n",
       "      <th></th>\n",
       "      <th>param_alpha</th>\n",
       "      <th>param_penalty</th>\n",
       "      <th>params</th>\n",
       "      <th>split0_test_score</th>\n",
       "      <th>split1_test_score</th>\n",
       "      <th>split2_test_score</th>\n",
       "      <th>split3_test_score</th>\n",
       "      <th>split4_test_score</th>\n",
       "      <th>mean_test_score</th>\n",
       "      <th>std_test_score</th>\n",
       "      <th>rank_test_score</th>\n",
       "    </tr>\n",
       "  </thead>\n",
       "  <tbody>\n",
       "    <tr>\n",
       "      <th>6</th>\n",
       "      <td>0.0001</td>\n",
       "      <td>l2</td>\n",
       "      <td>{'alpha': 0.0001, 'penalty': 'l2'}</td>\n",
       "      <td>0.515152</td>\n",
       "      <td>0.611570</td>\n",
       "      <td>0.545455</td>\n",
       "      <td>0.546961</td>\n",
       "      <td>0.555249</td>\n",
       "      <td>0.554877</td>\n",
       "      <td>0.031445</td>\n",
       "      <td>1</td>\n",
       "    </tr>\n",
       "    <tr>\n",
       "      <th>4</th>\n",
       "      <td>1e-05</td>\n",
       "      <td>l1</td>\n",
       "      <td>{'alpha': 1e-05, 'penalty': 'l1'}</td>\n",
       "      <td>0.515152</td>\n",
       "      <td>0.636364</td>\n",
       "      <td>0.548209</td>\n",
       "      <td>0.502762</td>\n",
       "      <td>0.569061</td>\n",
       "      <td>0.554310</td>\n",
       "      <td>0.047282</td>\n",
       "      <td>2</td>\n",
       "    </tr>\n",
       "    <tr>\n",
       "      <th>9</th>\n",
       "      <td>0.001</td>\n",
       "      <td>l2</td>\n",
       "      <td>{'alpha': 0.001, 'penalty': 'l2'}</td>\n",
       "      <td>0.581267</td>\n",
       "      <td>0.578512</td>\n",
       "      <td>0.548209</td>\n",
       "      <td>0.524862</td>\n",
       "      <td>0.522099</td>\n",
       "      <td>0.550990</td>\n",
       "      <td>0.025295</td>\n",
       "      <td>3</td>\n",
       "    </tr>\n",
       "    <tr>\n",
       "      <th>7</th>\n",
       "      <td>0.0001</td>\n",
       "      <td>l1</td>\n",
       "      <td>{'alpha': 0.0001, 'penalty': 'l1'}</td>\n",
       "      <td>0.526171</td>\n",
       "      <td>0.570248</td>\n",
       "      <td>0.539945</td>\n",
       "      <td>0.524862</td>\n",
       "      <td>0.580110</td>\n",
       "      <td>0.548267</td>\n",
       "      <td>0.022814</td>\n",
       "      <td>4</td>\n",
       "    </tr>\n",
       "    <tr>\n",
       "      <th>1</th>\n",
       "      <td>1e-06</td>\n",
       "      <td>l1</td>\n",
       "      <td>{'alpha': 1e-06, 'penalty': 'l1'}</td>\n",
       "      <td>0.570248</td>\n",
       "      <td>0.515152</td>\n",
       "      <td>0.586777</td>\n",
       "      <td>0.516575</td>\n",
       "      <td>0.549724</td>\n",
       "      <td>0.547695</td>\n",
       "      <td>0.028523</td>\n",
       "      <td>5</td>\n",
       "    </tr>\n",
       "  </tbody>\n",
       "</table>\n",
       "</div>"
      ],
      "text/plain": [
       "  param_alpha param_penalty                              params  \\\n",
       "6      0.0001            l2  {'alpha': 0.0001, 'penalty': 'l2'}   \n",
       "4       1e-05            l1   {'alpha': 1e-05, 'penalty': 'l1'}   \n",
       "9       0.001            l2   {'alpha': 0.001, 'penalty': 'l2'}   \n",
       "7      0.0001            l1  {'alpha': 0.0001, 'penalty': 'l1'}   \n",
       "1       1e-06            l1   {'alpha': 1e-06, 'penalty': 'l1'}   \n",
       "\n",
       "   split0_test_score  split1_test_score  split2_test_score  split3_test_score  \\\n",
       "6           0.515152           0.611570           0.545455           0.546961   \n",
       "4           0.515152           0.636364           0.548209           0.502762   \n",
       "9           0.581267           0.578512           0.548209           0.524862   \n",
       "7           0.526171           0.570248           0.539945           0.524862   \n",
       "1           0.570248           0.515152           0.586777           0.516575   \n",
       "\n",
       "   split4_test_score  mean_test_score  std_test_score  rank_test_score  \n",
       "6           0.555249         0.554877        0.031445                1  \n",
       "4           0.569061         0.554310        0.047282                2  \n",
       "9           0.522099         0.550990        0.025295                3  \n",
       "7           0.580110         0.548267        0.022814                4  \n",
       "1           0.549724         0.547695        0.028523                5  "
      ]
     },
     "execution_count": 12,
     "metadata": {},
     "output_type": "execute_result"
    }
   ],
   "source": [
    "pd.DataFrame(grid_search.cv_results_).sort_values('mean_test_score', ascending=False).iloc[:,4:].head()"
   ]
  },
  {
   "cell_type": "markdown",
   "id": "b7c808df",
   "metadata": {},
   "source": [
    "Как мы видим лучше всего без регурялизации, а так очень хорошо для перцептрона."
   ]
  },
  {
   "cell_type": "markdown",
   "id": "6ac9024d",
   "metadata": {},
   "source": [
    "<h3>Метод опорных векторов</h3>"
   ]
  },
  {
   "cell_type": "code",
   "execution_count": 13,
   "id": "134ae898",
   "metadata": {},
   "outputs": [
    {
     "name": "stdout",
     "output_type": "stream",
     "text": [
      "name: SVM, score: [0.62258953 0.62534435 0.63360882 0.52486188 0.5801105 ], mean: 0.5973030150830251\n",
      "Wall time: 2.38 s\n"
     ]
    }
   ],
   "source": [
    "%%time\n",
    "model_svm = SVC()\n",
    "result_svm = cross_val_score(model_svm, X_norm, y, cv=cv, n_jobs=-1)\n",
    "print(f'name: SVM, score: {result_svm}, mean: {result_svm.mean()}')"
   ]
  },
  {
   "cell_type": "markdown",
   "id": "6c4d6fe6",
   "metadata": {},
   "source": [
    "Очень не плохо. Попробуем пообучать"
   ]
  },
  {
   "cell_type": "code",
   "execution_count": 14,
   "id": "4fb14457",
   "metadata": {},
   "outputs": [],
   "source": [
    "param = {'C': [10**-3, 10**-2, 10**-1, 10**0, 10**1],\n",
    "         'kernel': ['rbf', 'poly', 'sigmoid']}"
   ]
  },
  {
   "cell_type": "code",
   "execution_count": 15,
   "id": "3d0017e5",
   "metadata": {},
   "outputs": [
    {
     "name": "stdout",
     "output_type": "stream",
     "text": [
      "Wall time: 49.8 s\n"
     ]
    },
    {
     "data": {
      "text/plain": [
       "({'C': 10, 'kernel': 'rbf'}, 0.6061290960838926)"
      ]
     },
     "execution_count": 15,
     "metadata": {},
     "output_type": "execute_result"
    }
   ],
   "source": [
    "%%time\n",
    "grid_search = GridSearchCV(SVC(), param,cv=cv, n_jobs=-1)\n",
    "grid_search.fit(X_norm,y)\n",
    "(grid_search.best_params_, grid_search.best_score_)"
   ]
  },
  {
   "cell_type": "code",
   "execution_count": 16,
   "id": "cad7fa20",
   "metadata": {},
   "outputs": [],
   "source": [
    "param = {'C': [1],\n",
    "         'kernel': ['poly'],\n",
    "         'degree': range(1,11)}"
   ]
  },
  {
   "cell_type": "code",
   "execution_count": 17,
   "id": "26e8cd92",
   "metadata": {},
   "outputs": [
    {
     "name": "stdout",
     "output_type": "stream",
     "text": [
      "Wall time: 34.7 s\n"
     ]
    },
    {
     "data": {
      "text/plain": [
       "({'C': 1, 'degree': 1, 'kernel': 'poly'}, 0.5885073740925072)"
      ]
     },
     "execution_count": 17,
     "metadata": {},
     "output_type": "execute_result"
    }
   ],
   "source": [
    "%%time\n",
    "grid_search = GridSearchCV(SVC(), param,cv=cv, n_jobs=-1)\n",
    "grid_search.fit(X_norm,y)\n",
    "(grid_search.best_params_, grid_search.best_score_)"
   ]
  },
  {
   "cell_type": "markdown",
   "id": "bbceb0a9",
   "metadata": {},
   "source": [
    "<h3>Дерево решений.</h3>"
   ]
  },
  {
   "cell_type": "code",
   "execution_count": 18,
   "id": "4693b872",
   "metadata": {},
   "outputs": [
    {
     "name": "stdout",
     "output_type": "stream",
     "text": [
      "name: Tree, score: [0.57300275 0.59504132 0.60881543 0.53867403 0.59668508], mean: 0.5824437240308662\n",
      "Wall time: 547 ms\n"
     ]
    }
   ],
   "source": [
    "%%time\n",
    "model_tree = DecisionTreeClassifier()\n",
    "result_tree = cross_val_score(model_tree, X_norm, y, cv=cv, n_jobs=-1)\n",
    "print(f'name: Tree, score: {result_tree}, mean: {result_tree.mean()}')"
   ]
  },
  {
   "cell_type": "code",
   "execution_count": 19,
   "id": "48b94b5b",
   "metadata": {},
   "outputs": [],
   "source": [
    "param = {'criterion': ['gini', 'entropy'],\n",
    "         'max_depth': range(2,50)}"
   ]
  },
  {
   "cell_type": "code",
   "execution_count": 20,
   "id": "4a724170",
   "metadata": {},
   "outputs": [
    {
     "name": "stdout",
     "output_type": "stream",
     "text": [
      "Wall time: 15.2 s\n"
     ]
    },
    {
     "data": {
      "text/plain": [
       "({'criterion': 'entropy', 'max_depth': 20}, 0.5984475594721703)"
      ]
     },
     "execution_count": 20,
     "metadata": {},
     "output_type": "execute_result"
    }
   ],
   "source": [
    "%%time\n",
    "grid_search = GridSearchCV(DecisionTreeClassifier(), param,cv=cv, n_jobs=-1)\n",
    "grid_search.fit(X_norm,y)\n",
    "(grid_search.best_params_, grid_search.best_score_)"
   ]
  },
  {
   "cell_type": "markdown",
   "id": "4a4e6230",
   "metadata": {},
   "source": [
    "Ну, как и предполагалось, дерево решений не становится лучше от таких манипуляций с данными."
   ]
  },
  {
   "cell_type": "markdown",
   "id": "85b6b0b7",
   "metadata": {},
   "source": [
    "<h3>Логистическая регрессия</h3>"
   ]
  },
  {
   "cell_type": "code",
   "execution_count": 21,
   "id": "f182b255",
   "metadata": {},
   "outputs": [
    {
     "name": "stdout",
     "output_type": "stream",
     "text": [
      "name: LogisticRegression, score: [0.61157025 0.61432507 0.58402204 0.52209945 0.58839779], mean: 0.5840829185881923\n",
      "Wall time: 702 ms\n"
     ]
    }
   ],
   "source": [
    "%%time\n",
    "model_log = LogisticRegression()\n",
    "result_log = cross_val_score(model_log, X_norm, y, cv=cv, n_jobs=-1)\n",
    "print(f'name: LogisticRegression, score: {result_log}, mean: {result_log.mean()}')"
   ]
  },
  {
   "cell_type": "code",
   "execution_count": 22,
   "id": "6710526a",
   "metadata": {},
   "outputs": [],
   "source": [
    "param = {'C': [10**-3, 10**-2, 10**-1, 10**0, 10**1]}"
   ]
  },
  {
   "cell_type": "code",
   "execution_count": 23,
   "id": "12d3d33c",
   "metadata": {},
   "outputs": [
    {
     "name": "stdout",
     "output_type": "stream",
     "text": [
      "Wall time: 2.5 s\n"
     ]
    },
    {
     "data": {
      "text/plain": [
       "({'C': 0.1}, 0.6039358933382037)"
      ]
     },
     "execution_count": 23,
     "metadata": {},
     "output_type": "execute_result"
    }
   ],
   "source": [
    "%%time\n",
    "grid_search = GridSearchCV(LogisticRegression(), param,cv=cv, n_jobs=-1)\n",
    "grid_search.fit(X_norm,y)\n",
    "(grid_search.best_params_, grid_search.best_score_)"
   ]
  },
  {
   "cell_type": "code",
   "execution_count": 24,
   "id": "c4ea1465",
   "metadata": {},
   "outputs": [
    {
     "data": {
      "text/html": [
       "<div>\n",
       "<style scoped>\n",
       "    .dataframe tbody tr th:only-of-type {\n",
       "        vertical-align: middle;\n",
       "    }\n",
       "\n",
       "    .dataframe tbody tr th {\n",
       "        vertical-align: top;\n",
       "    }\n",
       "\n",
       "    .dataframe thead th {\n",
       "        text-align: right;\n",
       "    }\n",
       "</style>\n",
       "<table border=\"1\" class=\"dataframe\">\n",
       "  <thead>\n",
       "    <tr style=\"text-align: right;\">\n",
       "      <th></th>\n",
       "      <th>param_C</th>\n",
       "      <th>params</th>\n",
       "      <th>split0_test_score</th>\n",
       "      <th>split1_test_score</th>\n",
       "      <th>split2_test_score</th>\n",
       "      <th>split3_test_score</th>\n",
       "      <th>split4_test_score</th>\n",
       "      <th>mean_test_score</th>\n",
       "      <th>std_test_score</th>\n",
       "      <th>rank_test_score</th>\n",
       "    </tr>\n",
       "  </thead>\n",
       "  <tbody>\n",
       "    <tr>\n",
       "      <th>2</th>\n",
       "      <td>0.1</td>\n",
       "      <td>{'C': 0.1}</td>\n",
       "      <td>0.611570</td>\n",
       "      <td>0.625344</td>\n",
       "      <td>0.639118</td>\n",
       "      <td>0.541436</td>\n",
       "      <td>0.602210</td>\n",
       "      <td>0.603936</td>\n",
       "      <td>0.033656</td>\n",
       "      <td>1</td>\n",
       "    </tr>\n",
       "    <tr>\n",
       "      <th>1</th>\n",
       "      <td>0.01</td>\n",
       "      <td>{'C': 0.01}</td>\n",
       "      <td>0.595041</td>\n",
       "      <td>0.611570</td>\n",
       "      <td>0.611570</td>\n",
       "      <td>0.530387</td>\n",
       "      <td>0.602210</td>\n",
       "      <td>0.590156</td>\n",
       "      <td>0.030524</td>\n",
       "      <td>2</td>\n",
       "    </tr>\n",
       "    <tr>\n",
       "      <th>0</th>\n",
       "      <td>0.001</td>\n",
       "      <td>{'C': 0.001}</td>\n",
       "      <td>0.600551</td>\n",
       "      <td>0.614325</td>\n",
       "      <td>0.603306</td>\n",
       "      <td>0.533149</td>\n",
       "      <td>0.593923</td>\n",
       "      <td>0.589051</td>\n",
       "      <td>0.028716</td>\n",
       "      <td>3</td>\n",
       "    </tr>\n",
       "    <tr>\n",
       "      <th>3</th>\n",
       "      <td>1</td>\n",
       "      <td>{'C': 1}</td>\n",
       "      <td>0.611570</td>\n",
       "      <td>0.614325</td>\n",
       "      <td>0.584022</td>\n",
       "      <td>0.522099</td>\n",
       "      <td>0.588398</td>\n",
       "      <td>0.584083</td>\n",
       "      <td>0.033259</td>\n",
       "      <td>4</td>\n",
       "    </tr>\n",
       "    <tr>\n",
       "      <th>4</th>\n",
       "      <td>10</td>\n",
       "      <td>{'C': 10}</td>\n",
       "      <td>0.584022</td>\n",
       "      <td>0.611570</td>\n",
       "      <td>0.589532</td>\n",
       "      <td>0.522099</td>\n",
       "      <td>0.593923</td>\n",
       "      <td>0.580229</td>\n",
       "      <td>0.030495</td>\n",
       "      <td>5</td>\n",
       "    </tr>\n",
       "  </tbody>\n",
       "</table>\n",
       "</div>"
      ],
      "text/plain": [
       "  param_C        params  split0_test_score  split1_test_score  \\\n",
       "2     0.1    {'C': 0.1}           0.611570           0.625344   \n",
       "1    0.01   {'C': 0.01}           0.595041           0.611570   \n",
       "0   0.001  {'C': 0.001}           0.600551           0.614325   \n",
       "3       1      {'C': 1}           0.611570           0.614325   \n",
       "4      10     {'C': 10}           0.584022           0.611570   \n",
       "\n",
       "   split2_test_score  split3_test_score  split4_test_score  mean_test_score  \\\n",
       "2           0.639118           0.541436           0.602210         0.603936   \n",
       "1           0.611570           0.530387           0.602210         0.590156   \n",
       "0           0.603306           0.533149           0.593923         0.589051   \n",
       "3           0.584022           0.522099           0.588398         0.584083   \n",
       "4           0.589532           0.522099           0.593923         0.580229   \n",
       "\n",
       "   std_test_score  rank_test_score  \n",
       "2        0.033656                1  \n",
       "1        0.030524                2  \n",
       "0        0.028716                3  \n",
       "3        0.033259                4  \n",
       "4        0.030495                5  "
      ]
     },
     "execution_count": 24,
     "metadata": {},
     "output_type": "execute_result"
    }
   ],
   "source": [
    "pd.DataFrame(grid_search.cv_results_).sort_values('mean_test_score', ascending=False).iloc[:,4:].head(10)"
   ]
  },
  {
   "cell_type": "markdown",
   "id": "a568269d",
   "metadata": {},
   "source": [
    "Нет никаких заметных улучшений, что печально."
   ]
  },
  {
   "cell_type": "markdown",
   "id": "dadc1280",
   "metadata": {},
   "source": [
    "<h3>Случайный лес</h3>"
   ]
  },
  {
   "cell_type": "code",
   "execution_count": 25,
   "id": "0d77011d",
   "metadata": {},
   "outputs": [
    {
     "name": "stdout",
     "output_type": "stream",
     "text": [
      "name: RandomForestClassifier, score: [0.61707989 0.61707989 0.62809917 0.56629834 0.60220994], mean: 0.6061534480921724\n",
      "Wall time: 1.28 s\n"
     ]
    }
   ],
   "source": [
    "%%time\n",
    "model_rf = RandomForestClassifier()\n",
    "result_fr = cross_val_score(model_rf, X_norm, y, cv=cv, n_jobs=-1)\n",
    "print(f'name: RandomForestClassifier, score: {result_fr}, mean: {result_fr.mean()}')"
   ]
  },
  {
   "cell_type": "markdown",
   "id": "ed8cae5b",
   "metadata": {},
   "source": [
    "Из коробки уже хорошо"
   ]
  },
  {
   "cell_type": "code",
   "execution_count": 26,
   "id": "9a283df2",
   "metadata": {},
   "outputs": [],
   "source": [
    "param = {'n_estimators': [100,200,500,1000,2000],\n",
    "         'criterion': ['gini', 'entropy'],\n",
    "         'max_depth': range(1,51,10)}"
   ]
  },
  {
   "cell_type": "code",
   "execution_count": 27,
   "id": "fa085421",
   "metadata": {},
   "outputs": [
    {
     "name": "stdout",
     "output_type": "stream",
     "text": [
      "Wall time: 2min 51s\n"
     ]
    },
    {
     "data": {
      "text/plain": [
       "({'criterion': 'entropy', 'max_depth': 11, 'n_estimators': 200},\n",
       " 0.6331659132764106)"
      ]
     },
     "execution_count": 27,
     "metadata": {},
     "output_type": "execute_result"
    }
   ],
   "source": [
    "%%time\n",
    "grid_search = GridSearchCV(RandomForestClassifier(n_jobs=-1), param,cv=cv, n_jobs=-1)\n",
    "grid_search.fit(X_norm,y)\n",
    "(grid_search.best_params_, grid_search.best_score_)"
   ]
  },
  {
   "cell_type": "code",
   "execution_count": 28,
   "id": "ac0b033f",
   "metadata": {},
   "outputs": [
    {
     "data": {
      "text/html": [
       "<div>\n",
       "<style scoped>\n",
       "    .dataframe tbody tr th:only-of-type {\n",
       "        vertical-align: middle;\n",
       "    }\n",
       "\n",
       "    .dataframe tbody tr th {\n",
       "        vertical-align: top;\n",
       "    }\n",
       "\n",
       "    .dataframe thead th {\n",
       "        text-align: right;\n",
       "    }\n",
       "</style>\n",
       "<table border=\"1\" class=\"dataframe\">\n",
       "  <thead>\n",
       "    <tr style=\"text-align: right;\">\n",
       "      <th></th>\n",
       "      <th>param_criterion</th>\n",
       "      <th>param_max_depth</th>\n",
       "      <th>param_n_estimators</th>\n",
       "      <th>params</th>\n",
       "      <th>split0_test_score</th>\n",
       "      <th>split1_test_score</th>\n",
       "      <th>split2_test_score</th>\n",
       "      <th>split3_test_score</th>\n",
       "      <th>split4_test_score</th>\n",
       "      <th>mean_test_score</th>\n",
       "      <th>std_test_score</th>\n",
       "      <th>rank_test_score</th>\n",
       "    </tr>\n",
       "  </thead>\n",
       "  <tbody>\n",
       "    <tr>\n",
       "      <th>31</th>\n",
       "      <td>entropy</td>\n",
       "      <td>11</td>\n",
       "      <td>200</td>\n",
       "      <td>{'criterion': 'entropy', 'max_depth': 11, 'n_e...</td>\n",
       "      <td>0.644628</td>\n",
       "      <td>0.677686</td>\n",
       "      <td>0.647383</td>\n",
       "      <td>0.571823</td>\n",
       "      <td>0.624309</td>\n",
       "      <td>0.633166</td>\n",
       "      <td>0.035091</td>\n",
       "      <td>1</td>\n",
       "    </tr>\n",
       "    <tr>\n",
       "      <th>34</th>\n",
       "      <td>entropy</td>\n",
       "      <td>11</td>\n",
       "      <td>2000</td>\n",
       "      <td>{'criterion': 'entropy', 'max_depth': 11, 'n_e...</td>\n",
       "      <td>0.647383</td>\n",
       "      <td>0.677686</td>\n",
       "      <td>0.639118</td>\n",
       "      <td>0.569061</td>\n",
       "      <td>0.616022</td>\n",
       "      <td>0.629854</td>\n",
       "      <td>0.036244</td>\n",
       "      <td>2</td>\n",
       "    </tr>\n",
       "    <tr>\n",
       "      <th>33</th>\n",
       "      <td>entropy</td>\n",
       "      <td>11</td>\n",
       "      <td>1000</td>\n",
       "      <td>{'criterion': 'entropy', 'max_depth': 11, 'n_e...</td>\n",
       "      <td>0.644628</td>\n",
       "      <td>0.680441</td>\n",
       "      <td>0.628099</td>\n",
       "      <td>0.566298</td>\n",
       "      <td>0.624309</td>\n",
       "      <td>0.628755</td>\n",
       "      <td>0.036998</td>\n",
       "      <td>3</td>\n",
       "    </tr>\n",
       "    <tr>\n",
       "      <th>32</th>\n",
       "      <td>entropy</td>\n",
       "      <td>11</td>\n",
       "      <td>500</td>\n",
       "      <td>{'criterion': 'entropy', 'max_depth': 11, 'n_e...</td>\n",
       "      <td>0.639118</td>\n",
       "      <td>0.683196</td>\n",
       "      <td>0.641873</td>\n",
       "      <td>0.560773</td>\n",
       "      <td>0.616022</td>\n",
       "      <td>0.628197</td>\n",
       "      <td>0.040063</td>\n",
       "      <td>4</td>\n",
       "    </tr>\n",
       "    <tr>\n",
       "      <th>30</th>\n",
       "      <td>entropy</td>\n",
       "      <td>11</td>\n",
       "      <td>100</td>\n",
       "      <td>{'criterion': 'entropy', 'max_depth': 11, 'n_e...</td>\n",
       "      <td>0.658402</td>\n",
       "      <td>0.663912</td>\n",
       "      <td>0.628099</td>\n",
       "      <td>0.566298</td>\n",
       "      <td>0.613260</td>\n",
       "      <td>0.625994</td>\n",
       "      <td>0.035265</td>\n",
       "      <td>5</td>\n",
       "    </tr>\n",
       "  </tbody>\n",
       "</table>\n",
       "</div>"
      ],
      "text/plain": [
       "   param_criterion param_max_depth param_n_estimators  \\\n",
       "31         entropy              11                200   \n",
       "34         entropy              11               2000   \n",
       "33         entropy              11               1000   \n",
       "32         entropy              11                500   \n",
       "30         entropy              11                100   \n",
       "\n",
       "                                               params  split0_test_score  \\\n",
       "31  {'criterion': 'entropy', 'max_depth': 11, 'n_e...           0.644628   \n",
       "34  {'criterion': 'entropy', 'max_depth': 11, 'n_e...           0.647383   \n",
       "33  {'criterion': 'entropy', 'max_depth': 11, 'n_e...           0.644628   \n",
       "32  {'criterion': 'entropy', 'max_depth': 11, 'n_e...           0.639118   \n",
       "30  {'criterion': 'entropy', 'max_depth': 11, 'n_e...           0.658402   \n",
       "\n",
       "    split1_test_score  split2_test_score  split3_test_score  \\\n",
       "31           0.677686           0.647383           0.571823   \n",
       "34           0.677686           0.639118           0.569061   \n",
       "33           0.680441           0.628099           0.566298   \n",
       "32           0.683196           0.641873           0.560773   \n",
       "30           0.663912           0.628099           0.566298   \n",
       "\n",
       "    split4_test_score  mean_test_score  std_test_score  rank_test_score  \n",
       "31           0.624309         0.633166        0.035091                1  \n",
       "34           0.616022         0.629854        0.036244                2  \n",
       "33           0.624309         0.628755        0.036998                3  \n",
       "32           0.616022         0.628197        0.040063                4  \n",
       "30           0.613260         0.625994        0.035265                5  "
      ]
     },
     "execution_count": 28,
     "metadata": {},
     "output_type": "execute_result"
    }
   ],
   "source": [
    "pd.DataFrame(grid_search.cv_results_).sort_values('mean_test_score', ascending=False).iloc[:,4:].head(5)"
   ]
  },
  {
   "cell_type": "markdown",
   "id": "4b7167dd",
   "metadata": {},
   "source": [
    "<h3>Градиентный бустинг</h3>"
   ]
  },
  {
   "cell_type": "code",
   "execution_count": 29,
   "id": "082497e0",
   "metadata": {},
   "outputs": [
    {
     "name": "stdout",
     "output_type": "stream",
     "text": [
      "name: XGBClassifier, score: [0.61432507 0.63636364 0.61707989 0.55248619 0.59392265], mean: 0.6028354869640655\n",
      "Wall time: 5.38 s\n"
     ]
    }
   ],
   "source": [
    "%%time\n",
    "model_xgb = XGBClassifier()\n",
    "result_xgb = cross_val_score(model_xgb, X_norm, y, cv=cv, n_jobs=-1)\n",
    "print(f'name: XGBClassifier, score: {result_xgb}, mean: {result_xgb.mean()}')"
   ]
  },
  {
   "cell_type": "code",
   "execution_count": 30,
   "id": "144bebd0",
   "metadata": {},
   "outputs": [],
   "source": [
    "param = {'n_estimators': [100,200],\n",
    "         'max_depth': range(10,51,2)}"
   ]
  },
  {
   "cell_type": "code",
   "execution_count": 31,
   "id": "b69a7e47",
   "metadata": {},
   "outputs": [
    {
     "name": "stdout",
     "output_type": "stream",
     "text": [
      "[23:15:36] WARNING: ..\\src\\learner.cc:1115: Starting in XGBoost 1.3.0, the default evaluation metric used with the objective 'binary:logistic' was changed from 'error' to 'logloss'. Explicitly set eval_metric if you'd like to restore the old behavior.\n",
      "Wall time: 6min 18s\n"
     ]
    },
    {
     "data": {
      "text/plain": [
       "({'max_depth': 12, 'n_estimators': 100}, 0.6061412720880325)"
      ]
     },
     "execution_count": 31,
     "metadata": {},
     "output_type": "execute_result"
    }
   ],
   "source": [
    "%%time\n",
    "grid_search = GridSearchCV(XGBClassifier(n_jobs=-1), param,cv=cv, n_jobs=-1)\n",
    "grid_search.fit(X_norm,y)\n",
    "(grid_search.best_params_, grid_search.best_score_)"
   ]
  },
  {
   "cell_type": "code",
   "execution_count": 32,
   "id": "040e4794",
   "metadata": {},
   "outputs": [
    {
     "data": {
      "text/html": [
       "<div>\n",
       "<style scoped>\n",
       "    .dataframe tbody tr th:only-of-type {\n",
       "        vertical-align: middle;\n",
       "    }\n",
       "\n",
       "    .dataframe tbody tr th {\n",
       "        vertical-align: top;\n",
       "    }\n",
       "\n",
       "    .dataframe thead th {\n",
       "        text-align: right;\n",
       "    }\n",
       "</style>\n",
       "<table border=\"1\" class=\"dataframe\">\n",
       "  <thead>\n",
       "    <tr style=\"text-align: right;\">\n",
       "      <th></th>\n",
       "      <th>param_max_depth</th>\n",
       "      <th>param_n_estimators</th>\n",
       "      <th>params</th>\n",
       "      <th>split0_test_score</th>\n",
       "      <th>split1_test_score</th>\n",
       "      <th>split2_test_score</th>\n",
       "      <th>split3_test_score</th>\n",
       "      <th>split4_test_score</th>\n",
       "      <th>mean_test_score</th>\n",
       "      <th>std_test_score</th>\n",
       "      <th>rank_test_score</th>\n",
       "    </tr>\n",
       "  </thead>\n",
       "  <tbody>\n",
       "    <tr>\n",
       "      <th>2</th>\n",
       "      <td>12</td>\n",
       "      <td>100</td>\n",
       "      <td>{'max_depth': 12, 'n_estimators': 100}</td>\n",
       "      <td>0.633609</td>\n",
       "      <td>0.625344</td>\n",
       "      <td>0.625344</td>\n",
       "      <td>0.558011</td>\n",
       "      <td>0.588398</td>\n",
       "      <td>0.606141</td>\n",
       "      <td>0.028717</td>\n",
       "      <td>1</td>\n",
       "    </tr>\n",
       "    <tr>\n",
       "      <th>3</th>\n",
       "      <td>12</td>\n",
       "      <td>200</td>\n",
       "      <td>{'max_depth': 12, 'n_estimators': 200}</td>\n",
       "      <td>0.636364</td>\n",
       "      <td>0.617080</td>\n",
       "      <td>0.625344</td>\n",
       "      <td>0.552486</td>\n",
       "      <td>0.588398</td>\n",
       "      <td>0.603934</td>\n",
       "      <td>0.030236</td>\n",
       "      <td>2</td>\n",
       "    </tr>\n",
       "    <tr>\n",
       "      <th>1</th>\n",
       "      <td>10</td>\n",
       "      <td>200</td>\n",
       "      <td>{'max_depth': 10, 'n_estimators': 200}</td>\n",
       "      <td>0.636364</td>\n",
       "      <td>0.603306</td>\n",
       "      <td>0.622590</td>\n",
       "      <td>0.544199</td>\n",
       "      <td>0.607735</td>\n",
       "      <td>0.602839</td>\n",
       "      <td>0.031549</td>\n",
       "      <td>3</td>\n",
       "    </tr>\n",
       "    <tr>\n",
       "      <th>0</th>\n",
       "      <td>10</td>\n",
       "      <td>100</td>\n",
       "      <td>{'max_depth': 10, 'n_estimators': 100}</td>\n",
       "      <td>0.630854</td>\n",
       "      <td>0.619835</td>\n",
       "      <td>0.628099</td>\n",
       "      <td>0.535912</td>\n",
       "      <td>0.599448</td>\n",
       "      <td>0.602829</td>\n",
       "      <td>0.035221</td>\n",
       "      <td>4</td>\n",
       "    </tr>\n",
       "    <tr>\n",
       "      <th>6</th>\n",
       "      <td>16</td>\n",
       "      <td>100</td>\n",
       "      <td>{'max_depth': 16, 'n_estimators': 100}</td>\n",
       "      <td>0.628099</td>\n",
       "      <td>0.625344</td>\n",
       "      <td>0.603306</td>\n",
       "      <td>0.571823</td>\n",
       "      <td>0.574586</td>\n",
       "      <td>0.600632</td>\n",
       "      <td>0.024003</td>\n",
       "      <td>5</td>\n",
       "    </tr>\n",
       "  </tbody>\n",
       "</table>\n",
       "</div>"
      ],
      "text/plain": [
       "  param_max_depth param_n_estimators                                  params  \\\n",
       "2              12                100  {'max_depth': 12, 'n_estimators': 100}   \n",
       "3              12                200  {'max_depth': 12, 'n_estimators': 200}   \n",
       "1              10                200  {'max_depth': 10, 'n_estimators': 200}   \n",
       "0              10                100  {'max_depth': 10, 'n_estimators': 100}   \n",
       "6              16                100  {'max_depth': 16, 'n_estimators': 100}   \n",
       "\n",
       "   split0_test_score  split1_test_score  split2_test_score  split3_test_score  \\\n",
       "2           0.633609           0.625344           0.625344           0.558011   \n",
       "3           0.636364           0.617080           0.625344           0.552486   \n",
       "1           0.636364           0.603306           0.622590           0.544199   \n",
       "0           0.630854           0.619835           0.628099           0.535912   \n",
       "6           0.628099           0.625344           0.603306           0.571823   \n",
       "\n",
       "   split4_test_score  mean_test_score  std_test_score  rank_test_score  \n",
       "2           0.588398         0.606141        0.028717                1  \n",
       "3           0.588398         0.603934        0.030236                2  \n",
       "1           0.607735         0.602839        0.031549                3  \n",
       "0           0.599448         0.602829        0.035221                4  \n",
       "6           0.574586         0.600632        0.024003                5  "
      ]
     },
     "execution_count": 32,
     "metadata": {},
     "output_type": "execute_result"
    }
   ],
   "source": [
    "pd.DataFrame(grid_search.cv_results_).sort_values('mean_test_score', ascending=False).iloc[:,4:].head(5)"
   ]
  },
  {
   "cell_type": "markdown",
   "id": "9a16c7b6",
   "metadata": {},
   "source": [
    "Практически не улучшилось. Самое время перейти к PCA."
   ]
  },
  {
   "cell_type": "code",
   "execution_count": null,
   "id": "fb2bbd25",
   "metadata": {},
   "outputs": [],
   "source": []
  }
 ],
 "metadata": {
  "kernelspec": {
   "display_name": "Python 3",
   "language": "python",
   "name": "python3"
  },
  "language_info": {
   "codemirror_mode": {
    "name": "ipython",
    "version": 3
   },
   "file_extension": ".py",
   "mimetype": "text/x-python",
   "name": "python",
   "nbconvert_exporter": "python",
   "pygments_lexer": "ipython3",
   "version": "3.8.5"
  }
 },
 "nbformat": 4,
 "nbformat_minor": 5
}
