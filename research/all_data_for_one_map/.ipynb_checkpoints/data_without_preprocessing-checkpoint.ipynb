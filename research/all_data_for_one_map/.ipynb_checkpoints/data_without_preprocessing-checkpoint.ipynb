{
 "cells": [
  {
   "cell_type": "code",
   "execution_count": 45,
   "id": "0b97e4de",
   "metadata": {},
   "outputs": [],
   "source": [
    "import numpy as np\n",
    "import pandas as pd\n",
    "from sklearn.model_selection import KFold\n",
    "from sklearn.model_selection import cross_val_score\n",
    "from sklearn.model_selection import train_test_split\n",
    "from sklearn.preprocessing import LabelEncoder, RobustScaler\n",
    "\n",
    "import matplotlib.pyplot as plt\n",
    "plt.rcParams['figure.figsize'] = [12, 8]\n",
    "plt.rcParams['figure.dpi'] = 100\n",
    "\n",
    "from sklearn.dummy import DummyClassifier\n",
    "from sklearn.linear_model import Perceptron\n",
    "from sklearn.svm import SVC\n",
    "from sklearn.linear_model import LogisticRegression\n",
    "from sklearn.tree import DecisionTreeClassifier\n",
    "from sklearn.ensemble import RandomForestClassifier\n",
    "from xgboost import XGBClassifier\n",
    "\n",
    "from sklearn.model_selection import GridSearchCV\n",
    "\n",
    "import warnings\n",
    "warnings.filterwarnings('ignore')"
   ]
  },
  {
   "cell_type": "markdown",
   "id": "72280474",
   "metadata": {},
   "source": [
    "<h2>Предобработка данных</h2>"
   ]
  },
  {
   "cell_type": "code",
   "execution_count": 46,
   "id": "18db5d49",
   "metadata": {},
   "outputs": [
    {
     "name": "stdout",
     "output_type": "stream",
     "text": [
      "<class 'pandas.core.frame.DataFrame'>\n",
      "RangeIndex: 1813 entries, 0 to 1812\n",
      "Columns: 1025 entries, version to map\n",
      "dtypes: float64(339), int64(679), object(7)\n",
      "memory usage: 14.2+ MB\n"
     ]
    }
   ],
   "source": [
    "df = pd.read_csv('../data/df_split_by_map_all_info.csv')\n",
    "df.info()"
   ]
  },
  {
   "cell_type": "code",
   "execution_count": 47,
   "id": "f687b9f2",
   "metadata": {},
   "outputs": [
    {
     "data": {
      "text/html": [
       "<div>\n",
       "<style scoped>\n",
       "    .dataframe tbody tr th:only-of-type {\n",
       "        vertical-align: middle;\n",
       "    }\n",
       "\n",
       "    .dataframe tbody tr th {\n",
       "        vertical-align: top;\n",
       "    }\n",
       "\n",
       "    .dataframe thead th {\n",
       "        text-align: right;\n",
       "    }\n",
       "</style>\n",
       "<table border=\"1\" class=\"dataframe\">\n",
       "  <thead>\n",
       "    <tr style=\"text-align: right;\">\n",
       "      <th></th>\n",
       "      <th>team1_world_rank</th>\n",
       "      <th>team2_world_rank</th>\n",
       "      <th>1_47_top5_Times played</th>\n",
       "      <th>1_47_top5_wins</th>\n",
       "      <th>1_47_top5_draws</th>\n",
       "      <th>1_47_top5_losses</th>\n",
       "      <th>1_47_top5_Total rounds played</th>\n",
       "      <th>1_47_top5_Rounds won</th>\n",
       "      <th>1_47_top5_Win percent</th>\n",
       "      <th>1_47_top5_Pistol rounds</th>\n",
       "      <th>...</th>\n",
       "      <th>2_46_topAll_Rounds won</th>\n",
       "      <th>2_46_topAll_Win percent</th>\n",
       "      <th>2_46_topAll_Pistol rounds</th>\n",
       "      <th>2_46_topAll_Pistol rounds won</th>\n",
       "      <th>2_46_topAll_Pistol round win percent</th>\n",
       "      <th>2_46_topAll_CT round win percent</th>\n",
       "      <th>2_46_topAll_T round win percent</th>\n",
       "      <th>result</th>\n",
       "      <th>best_of</th>\n",
       "      <th>map</th>\n",
       "    </tr>\n",
       "  </thead>\n",
       "  <tbody>\n",
       "    <tr>\n",
       "      <th>0</th>\n",
       "      <td>28</td>\n",
       "      <td>46</td>\n",
       "      <td>0</td>\n",
       "      <td>0</td>\n",
       "      <td>0</td>\n",
       "      <td>0</td>\n",
       "      <td>0</td>\n",
       "      <td>0</td>\n",
       "      <td>0.0</td>\n",
       "      <td>0</td>\n",
       "      <td>...</td>\n",
       "      <td>53</td>\n",
       "      <td>0.75</td>\n",
       "      <td>8</td>\n",
       "      <td>4</td>\n",
       "      <td>0.5</td>\n",
       "      <td>0.590</td>\n",
       "      <td>0.526</td>\n",
       "      <td>-1</td>\n",
       "      <td>3</td>\n",
       "      <td>Nuke</td>\n",
       "    </tr>\n",
       "    <tr>\n",
       "      <th>1</th>\n",
       "      <td>28</td>\n",
       "      <td>46</td>\n",
       "      <td>0</td>\n",
       "      <td>0</td>\n",
       "      <td>0</td>\n",
       "      <td>0</td>\n",
       "      <td>0</td>\n",
       "      <td>0</td>\n",
       "      <td>0.0</td>\n",
       "      <td>0</td>\n",
       "      <td>...</td>\n",
       "      <td>53</td>\n",
       "      <td>0.75</td>\n",
       "      <td>8</td>\n",
       "      <td>4</td>\n",
       "      <td>0.5</td>\n",
       "      <td>0.590</td>\n",
       "      <td>0.526</td>\n",
       "      <td>-1</td>\n",
       "      <td>3</td>\n",
       "      <td>Ancient</td>\n",
       "    </tr>\n",
       "    <tr>\n",
       "      <th>2</th>\n",
       "      <td>1</td>\n",
       "      <td>223</td>\n",
       "      <td>2</td>\n",
       "      <td>2</td>\n",
       "      <td>0</td>\n",
       "      <td>0</td>\n",
       "      <td>54</td>\n",
       "      <td>32</td>\n",
       "      <td>1.0</td>\n",
       "      <td>4</td>\n",
       "      <td>...</td>\n",
       "      <td>29</td>\n",
       "      <td>0.50</td>\n",
       "      <td>4</td>\n",
       "      <td>2</td>\n",
       "      <td>0.5</td>\n",
       "      <td>0.448</td>\n",
       "      <td>0.552</td>\n",
       "      <td>1</td>\n",
       "      <td>3</td>\n",
       "      <td>Mirage</td>\n",
       "    </tr>\n",
       "    <tr>\n",
       "      <th>3</th>\n",
       "      <td>1</td>\n",
       "      <td>223</td>\n",
       "      <td>2</td>\n",
       "      <td>2</td>\n",
       "      <td>0</td>\n",
       "      <td>0</td>\n",
       "      <td>54</td>\n",
       "      <td>32</td>\n",
       "      <td>1.0</td>\n",
       "      <td>4</td>\n",
       "      <td>...</td>\n",
       "      <td>29</td>\n",
       "      <td>0.50</td>\n",
       "      <td>4</td>\n",
       "      <td>2</td>\n",
       "      <td>0.5</td>\n",
       "      <td>0.448</td>\n",
       "      <td>0.552</td>\n",
       "      <td>1</td>\n",
       "      <td>3</td>\n",
       "      <td>Ancient</td>\n",
       "    </tr>\n",
       "    <tr>\n",
       "      <th>4</th>\n",
       "      <td>14</td>\n",
       "      <td>101</td>\n",
       "      <td>0</td>\n",
       "      <td>0</td>\n",
       "      <td>0</td>\n",
       "      <td>0</td>\n",
       "      <td>0</td>\n",
       "      <td>0</td>\n",
       "      <td>0.0</td>\n",
       "      <td>0</td>\n",
       "      <td>...</td>\n",
       "      <td>0</td>\n",
       "      <td>0.00</td>\n",
       "      <td>0</td>\n",
       "      <td>0</td>\n",
       "      <td>0.0</td>\n",
       "      <td>0.000</td>\n",
       "      <td>0.000</td>\n",
       "      <td>-1</td>\n",
       "      <td>3</td>\n",
       "      <td>Overpass</td>\n",
       "    </tr>\n",
       "  </tbody>\n",
       "</table>\n",
       "<p>5 rows × 1013 columns</p>\n",
       "</div>"
      ],
      "text/plain": [
       "   team1_world_rank  team2_world_rank  1_47_top5_Times played  1_47_top5_wins  \\\n",
       "0                28                46                       0               0   \n",
       "1                28                46                       0               0   \n",
       "2                 1               223                       2               2   \n",
       "3                 1               223                       2               2   \n",
       "4                14               101                       0               0   \n",
       "\n",
       "   1_47_top5_draws  1_47_top5_losses  1_47_top5_Total rounds played  \\\n",
       "0                0                 0                              0   \n",
       "1                0                 0                              0   \n",
       "2                0                 0                             54   \n",
       "3                0                 0                             54   \n",
       "4                0                 0                              0   \n",
       "\n",
       "   1_47_top5_Rounds won  1_47_top5_Win percent  1_47_top5_Pistol rounds  ...  \\\n",
       "0                     0                    0.0                        0  ...   \n",
       "1                     0                    0.0                        0  ...   \n",
       "2                    32                    1.0                        4  ...   \n",
       "3                    32                    1.0                        4  ...   \n",
       "4                     0                    0.0                        0  ...   \n",
       "\n",
       "   2_46_topAll_Rounds won  2_46_topAll_Win percent  2_46_topAll_Pistol rounds  \\\n",
       "0                      53                     0.75                          8   \n",
       "1                      53                     0.75                          8   \n",
       "2                      29                     0.50                          4   \n",
       "3                      29                     0.50                          4   \n",
       "4                       0                     0.00                          0   \n",
       "\n",
       "   2_46_topAll_Pistol rounds won  2_46_topAll_Pistol round win percent  \\\n",
       "0                              4                                   0.5   \n",
       "1                              4                                   0.5   \n",
       "2                              2                                   0.5   \n",
       "3                              2                                   0.5   \n",
       "4                              0                                   0.0   \n",
       "\n",
       "   2_46_topAll_CT round win percent  2_46_topAll_T round win percent  result  \\\n",
       "0                             0.590                            0.526      -1   \n",
       "1                             0.590                            0.526      -1   \n",
       "2                             0.448                            0.552       1   \n",
       "3                             0.448                            0.552       1   \n",
       "4                             0.000                            0.000      -1   \n",
       "\n",
       "   best_of       map  \n",
       "0        3      Nuke  \n",
       "1        3   Ancient  \n",
       "2        3    Mirage  \n",
       "3        3   Ancient  \n",
       "4        3  Overpass  \n",
       "\n",
       "[5 rows x 1013 columns]"
      ]
     },
     "execution_count": 47,
     "metadata": {},
     "output_type": "execute_result"
    }
   ],
   "source": [
    "df = df.drop(['version', 'url', 'number_of_confrontation', 'datetime1', 'ratio1', 'ratio2', 'name1', 'number1', 'name2', 'number2',\n",
    "         'team1_stat_url', 'team2_stat_url'], axis=1)\n",
    "df.head()"
   ]
  },
  {
   "cell_type": "code",
   "execution_count": 48,
   "id": "bf1bc65f",
   "metadata": {},
   "outputs": [],
   "source": [
    "maps_decoder = LabelEncoder()\n",
    "df['map'] = maps_decoder.fit_transform(df['map'])"
   ]
  },
  {
   "cell_type": "code",
   "execution_count": 49,
   "id": "da9059cd",
   "metadata": {},
   "outputs": [
    {
     "data": {
      "text/plain": [
       "0    4\n",
       "1    0\n",
       "2    3\n",
       "3    0\n",
       "4    5\n",
       "Name: map, dtype: int32"
      ]
     },
     "execution_count": 49,
     "metadata": {},
     "output_type": "execute_result"
    }
   ],
   "source": [
    "df['map'][:5]"
   ]
  },
  {
   "cell_type": "code",
   "execution_count": 50,
   "id": "738adb34",
   "metadata": {},
   "outputs": [],
   "source": [
    "cv = KFold(shuffle=True, random_state=1)\n",
    "X = df.drop('result', axis=1)\n",
    "y = df['result']"
   ]
  },
  {
   "cell_type": "code",
   "execution_count": 56,
   "id": "f45ca1a1",
   "metadata": {},
   "outputs": [],
   "source": [
    "pd.DataFrame(X).head().iloc[:,:10].to_excel('without.xlsx')"
   ]
  },
  {
   "cell_type": "code",
   "execution_count": null,
   "id": "56568f8a",
   "metadata": {},
   "outputs": [],
   "source": []
  },
  {
   "cell_type": "markdown",
   "id": "2c9270ec",
   "metadata": {},
   "source": [
    "<h2>Обучение моделей. Сравнение результатов.</h2>"
   ]
  },
  {
   "cell_type": "code",
   "execution_count": 51,
   "id": "26075451",
   "metadata": {},
   "outputs": [
    {
     "name": "stdout",
     "output_type": "stream",
     "text": [
      "name: Dummy, score: [0.56473829 0.5785124  0.56749311 0.50552486 0.53314917], mean: 0.5498835669604129\n"
     ]
    }
   ],
   "source": [
    "model_dummy = DummyClassifier(strategy=\"most_frequent\")\n",
    "result_dummy = cross_val_score(model_dummy, X, y, cv=cv)\n",
    "print(f'name: Dummy, score: {result_dummy}, mean: {result_dummy.mean()}')"
   ]
  },
  {
   "cell_type": "markdown",
   "id": "bf1043c3",
   "metadata": {},
   "source": [
    "<h3>Ошибка перцептрона</h3> "
   ]
  },
  {
   "cell_type": "code",
   "execution_count": 52,
   "id": "56993b62",
   "metadata": {},
   "outputs": [
    {
     "name": "stdout",
     "output_type": "stream",
     "text": [
      "name: Perceptron, score: [0.49035813 0.5922865  0.58677686 0.54972376 0.53867403], mean: 0.5515638555317108\n"
     ]
    }
   ],
   "source": [
    "model_perceptron = Perceptron()\n",
    "result_perceptron = cross_val_score(model_perceptron, X, y, cv=cv)\n",
    "print(f'name: Perceptron, score: {result_perceptron}, mean: {result_perceptron.mean()}')"
   ]
  },
  {
   "cell_type": "code",
   "execution_count": 53,
   "id": "ebf1c9c1",
   "metadata": {},
   "outputs": [],
   "source": [
    "param = {'penalty': ['l2', 'l1'],\n",
    "         'alpha': [10**-6, 10**-5, 10**-4, 10**-3, 10**-2, 10**-1, 10**0, 10**1, 10**2]}"
   ]
  },
  {
   "cell_type": "code",
   "execution_count": 54,
   "id": "9b0ab5e8",
   "metadata": {},
   "outputs": [
    {
     "name": "stdout",
     "output_type": "stream",
     "text": [
      "Wall time: 3.13 s\n"
     ]
    },
    {
     "data": {
      "text/plain": [
       "({'alpha': 0.1, 'penalty': 'l1'}, 0.5675311629605954)"
      ]
     },
     "execution_count": 54,
     "metadata": {},
     "output_type": "execute_result"
    }
   ],
   "source": [
    "%%time\n",
    "grid_search = GridSearchCV(Perceptron(), param,cv=cv, n_jobs=-1)\n",
    "grid_search.fit(X,y)\n",
    "(grid_search.best_params_, grid_search.best_score_)"
   ]
  },
  {
   "cell_type": "markdown",
   "id": "45817c6d",
   "metadata": {},
   "source": [
    "Вообще не понимает перцептрон"
   ]
  },
  {
   "cell_type": "markdown",
   "id": "c466b177",
   "metadata": {},
   "source": [
    "<h3>Метод опорных векторов</h3>"
   ]
  },
  {
   "cell_type": "code",
   "execution_count": 55,
   "id": "6d6b29d9",
   "metadata": {},
   "outputs": [
    {
     "name": "stdout",
     "output_type": "stream",
     "text": [
      "name: SVM, score: [0.63636364 0.61983471 0.5922865  0.53867403 0.56629834], mean: 0.5906914448350913\n",
      "Wall time: 2.45 s\n"
     ]
    }
   ],
   "source": [
    "%%time\n",
    "model_svm = SVC()\n",
    "result_svm = cross_val_score(model_svm, X, y, cv=cv, n_jobs=-1)\n",
    "print(f'name: SVM, score: {result_svm}, mean: {result_svm.mean()}')"
   ]
  },
  {
   "cell_type": "code",
   "execution_count": 12,
   "id": "c38a18e5",
   "metadata": {},
   "outputs": [],
   "source": [
    "param = {'C': [10**-3, 10**-2, 10**-1, 10**0, 10**1],\n",
    "         'kernel': ['rbf', 'poly', 'sigmoid']}"
   ]
  },
  {
   "cell_type": "code",
   "execution_count": 13,
   "id": "3057f6eb",
   "metadata": {},
   "outputs": [
    {
     "name": "stdout",
     "output_type": "stream",
     "text": [
      "Wall time: 49 s\n"
     ]
    },
    {
     "data": {
      "text/plain": [
       "({'C': 1, 'kernel': 'rbf'}, 0.5906914448350913)"
      ]
     },
     "execution_count": 13,
     "metadata": {},
     "output_type": "execute_result"
    }
   ],
   "source": [
    "%%time\n",
    "grid_search = GridSearchCV(SVC(), param,cv=cv, n_jobs=-1)\n",
    "grid_search.fit(X,y)\n",
    "(grid_search.best_params_, grid_search.best_score_)"
   ]
  },
  {
   "cell_type": "markdown",
   "id": "1937b6a8",
   "metadata": {},
   "source": [
    "нет улучшений"
   ]
  },
  {
   "cell_type": "code",
   "execution_count": 14,
   "id": "0ac88209",
   "metadata": {},
   "outputs": [],
   "source": [
    "param = {'C': [1],\n",
    "         'kernel': ['poly'],\n",
    "         'degree': range(1,11)}"
   ]
  },
  {
   "cell_type": "code",
   "execution_count": 15,
   "id": "97c90259",
   "metadata": {},
   "outputs": [
    {
     "name": "stdout",
     "output_type": "stream",
     "text": [
      "Wall time: 32.4 s\n"
     ]
    },
    {
     "data": {
      "text/plain": [
       "({'C': 1, 'degree': 3, 'kernel': 'poly'}, 0.5796752050895698)"
      ]
     },
     "execution_count": 15,
     "metadata": {},
     "output_type": "execute_result"
    }
   ],
   "source": [
    "%%time\n",
    "grid_search = GridSearchCV(SVC(), param,cv=cv, n_jobs=-1)\n",
    "grid_search.fit(X,y)\n",
    "(grid_search.best_params_, grid_search.best_score_)"
   ]
  },
  {
   "cell_type": "markdown",
   "id": "d3c31f10",
   "metadata": {},
   "source": [
    "Все плохо, обычные линейные методы показали себя не лучшим образом"
   ]
  },
  {
   "cell_type": "markdown",
   "id": "b67b7486",
   "metadata": {},
   "source": [
    "<h3>Логистическая регрессия</h3>"
   ]
  },
  {
   "cell_type": "code",
   "execution_count": 16,
   "id": "0f5c3108",
   "metadata": {},
   "outputs": [
    {
     "name": "stdout",
     "output_type": "stream",
     "text": [
      "name: LogisticRegression, score: [0.56473829 0.59504132 0.56749311 0.53867403 0.5718232 ], mean: 0.5675539929683576\n",
      "Wall time: 432 ms\n"
     ]
    }
   ],
   "source": [
    "%%time\n",
    "model_log = LogisticRegression()\n",
    "result_log = cross_val_score(model_log, X, y, cv=cv, n_jobs=-1)\n",
    "print(f'name: LogisticRegression, score: {result_log}, mean: {result_log.mean()}')"
   ]
  },
  {
   "cell_type": "code",
   "execution_count": 17,
   "id": "29980d0a",
   "metadata": {},
   "outputs": [],
   "source": [
    "param = {'C': [10**-3, 10**-2, 10**-1, 10**0, 10**1]}"
   ]
  },
  {
   "cell_type": "code",
   "execution_count": 18,
   "id": "21bb38f7",
   "metadata": {},
   "outputs": [
    {
     "name": "stdout",
     "output_type": "stream",
     "text": [
      "Wall time: 2.71 s\n"
     ]
    },
    {
     "data": {
      "text/plain": [
       "({'C': 0.001}, 0.5774789583428459)"
      ]
     },
     "execution_count": 18,
     "metadata": {},
     "output_type": "execute_result"
    }
   ],
   "source": [
    "%%time\n",
    "grid_search = GridSearchCV(LogisticRegression(), param,cv=cv, n_jobs=-1)\n",
    "grid_search.fit(X,y)\n",
    "(grid_search.best_params_, grid_search.best_score_)"
   ]
  },
  {
   "cell_type": "markdown",
   "id": "d23a7cab",
   "metadata": {},
   "source": [
    "Понимает плохо"
   ]
  },
  {
   "cell_type": "markdown",
   "id": "ea5cc3be",
   "metadata": {},
   "source": [
    "<h3>Дерево решений.</h3>"
   ]
  },
  {
   "cell_type": "code",
   "execution_count": 19,
   "id": "6ec3d2f4",
   "metadata": {},
   "outputs": [
    {
     "name": "stdout",
     "output_type": "stream",
     "text": [
      "name: Tree, score: [0.58126722 0.59779614 0.61983471 0.53314917 0.59116022], mean: 0.5846414927781075\n",
      "Wall time: 435 ms\n"
     ]
    }
   ],
   "source": [
    "%%time\n",
    "model_tree = DecisionTreeClassifier()\n",
    "result_tree = cross_val_score(model_tree, X, y, cv=cv, n_jobs=-1)\n",
    "print(f'name: Tree, score: {result_tree}, mean: {result_tree.mean()}')"
   ]
  },
  {
   "cell_type": "markdown",
   "id": "f76c4b79",
   "metadata": {},
   "source": [
    "На старте дерево решений дает хороший результат"
   ]
  },
  {
   "cell_type": "code",
   "execution_count": 20,
   "id": "26f2aa3c",
   "metadata": {},
   "outputs": [],
   "source": [
    "param = {'criterion': ['gini', 'entropy'],\n",
    "         'max_depth': range(2,50)}"
   ]
  },
  {
   "cell_type": "code",
   "execution_count": 21,
   "id": "c2a4690c",
   "metadata": {},
   "outputs": [
    {
     "name": "stdout",
     "output_type": "stream",
     "text": [
      "Wall time: 15.6 s\n"
     ]
    },
    {
     "data": {
      "text/plain": [
       "({'criterion': 'entropy', 'max_depth': 46}, 0.5945755901557007)"
      ]
     },
     "execution_count": 21,
     "metadata": {},
     "output_type": "execute_result"
    }
   ],
   "source": [
    "%%time\n",
    "grid_search = GridSearchCV(DecisionTreeClassifier(), param,cv=cv, n_jobs=-1)\n",
    "grid_search.fit(X,y)\n",
    "(grid_search.best_params_, grid_search.best_score_)"
   ]
  },
  {
   "cell_type": "markdown",
   "id": "3eca0687",
   "metadata": {},
   "source": [
    "не плохо, но не очень хорошо"
   ]
  },
  {
   "cell_type": "code",
   "execution_count": 23,
   "id": "81a586f1",
   "metadata": {},
   "outputs": [],
   "source": [
    "param = {'criterion': ['gini', 'entropy'],\n",
    "         'max_depth': range(2,51,2),\n",
    "         'min_samples_split': range(2,20,2),\n",
    "         'min_samples_leaf': range(1,10)}"
   ]
  },
  {
   "cell_type": "code",
   "execution_count": 24,
   "id": "aaa31b3a",
   "metadata": {},
   "outputs": [
    {
     "name": "stdout",
     "output_type": "stream",
     "text": [
      "Wall time: 10min 34s\n"
     ]
    },
    {
     "data": {
      "text/plain": [
       "({'criterion': 'entropy',\n",
       "  'max_depth': 50,\n",
       "  'min_samples_leaf': 6,\n",
       "  'min_samples_split': 12},\n",
       " 0.6006164102095795)"
      ]
     },
     "execution_count": 24,
     "metadata": {},
     "output_type": "execute_result"
    }
   ],
   "source": [
    "%%time\n",
    "grid_search = GridSearchCV(DecisionTreeClassifier(), param,cv=cv, n_jobs=10)\n",
    "grid_search.fit(X,y)\n",
    "(grid_search.best_params_, grid_search.best_score_)"
   ]
  },
  {
   "cell_type": "markdown",
   "id": "a8b0cf3e",
   "metadata": {},
   "source": [
    "<h3>Случайный лес</h3>"
   ]
  },
  {
   "cell_type": "code",
   "execution_count": 25,
   "id": "28827e68",
   "metadata": {},
   "outputs": [
    {
     "name": "stdout",
     "output_type": "stream",
     "text": [
      "name: RandomForestClassifier, score: [0.62534435 0.61432507 0.63636364 0.56077348 0.59668508], mean: 0.6066983242774302\n",
      "Wall time: 1.26 s\n"
     ]
    }
   ],
   "source": [
    "%%time\n",
    "model_rf = RandomForestClassifier()\n",
    "result_fr = cross_val_score(model_rf, X, y, cv=cv, n_jobs=-1)\n",
    "print(f'name: RandomForestClassifier, score: {result_fr}, mean: {result_fr.mean()}')"
   ]
  },
  {
   "cell_type": "code",
   "execution_count": 26,
   "id": "51acef3a",
   "metadata": {},
   "outputs": [],
   "source": [
    "param = {'n_estimators': [100,200,500,1000,2000],\n",
    "         'criterion': ['gini', 'entropy'],\n",
    "         'max_depth': range(1,51,10)}"
   ]
  },
  {
   "cell_type": "code",
   "execution_count": 27,
   "id": "7b3ac8dd",
   "metadata": {},
   "outputs": [
    {
     "name": "stdout",
     "output_type": "stream",
     "text": [
      "Wall time: 3min 51s\n"
     ]
    },
    {
     "data": {
      "text/plain": [
       "({'criterion': 'entropy', 'max_depth': 11, 'n_estimators': 500},\n",
       " 0.6309590125260642)"
      ]
     },
     "execution_count": 27,
     "metadata": {},
     "output_type": "execute_result"
    }
   ],
   "source": [
    "%%time\n",
    "grid_search = GridSearchCV(RandomForestClassifier(), param,cv=cv, n_jobs=10)\n",
    "grid_search.fit(X,y)\n",
    "(grid_search.best_params_, grid_search.best_score_)"
   ]
  },
  {
   "cell_type": "code",
   "execution_count": 35,
   "id": "b9a69b53",
   "metadata": {},
   "outputs": [
    {
     "data": {
      "text/html": [
       "<div>\n",
       "<style scoped>\n",
       "    .dataframe tbody tr th:only-of-type {\n",
       "        vertical-align: middle;\n",
       "    }\n",
       "\n",
       "    .dataframe tbody tr th {\n",
       "        vertical-align: top;\n",
       "    }\n",
       "\n",
       "    .dataframe thead th {\n",
       "        text-align: right;\n",
       "    }\n",
       "</style>\n",
       "<table border=\"1\" class=\"dataframe\">\n",
       "  <thead>\n",
       "    <tr style=\"text-align: right;\">\n",
       "      <th></th>\n",
       "      <th>param_criterion</th>\n",
       "      <th>param_max_depth</th>\n",
       "      <th>param_n_estimators</th>\n",
       "      <th>params</th>\n",
       "      <th>split0_test_score</th>\n",
       "      <th>split1_test_score</th>\n",
       "      <th>split2_test_score</th>\n",
       "      <th>split3_test_score</th>\n",
       "      <th>split4_test_score</th>\n",
       "      <th>mean_test_score</th>\n",
       "      <th>std_test_score</th>\n",
       "      <th>rank_test_score</th>\n",
       "    </tr>\n",
       "  </thead>\n",
       "  <tbody>\n",
       "    <tr>\n",
       "      <th>32</th>\n",
       "      <td>entropy</td>\n",
       "      <td>11</td>\n",
       "      <td>500</td>\n",
       "      <td>{'criterion': 'entropy', 'max_depth': 11, 'n_e...</td>\n",
       "      <td>0.652893</td>\n",
       "      <td>0.677686</td>\n",
       "      <td>0.633609</td>\n",
       "      <td>0.569061</td>\n",
       "      <td>0.621547</td>\n",
       "      <td>0.630959</td>\n",
       "      <td>0.036308</td>\n",
       "      <td>1</td>\n",
       "    </tr>\n",
       "    <tr>\n",
       "      <th>34</th>\n",
       "      <td>entropy</td>\n",
       "      <td>11</td>\n",
       "      <td>2000</td>\n",
       "      <td>{'criterion': 'entropy', 'max_depth': 11, 'n_e...</td>\n",
       "      <td>0.644628</td>\n",
       "      <td>0.680441</td>\n",
       "      <td>0.633609</td>\n",
       "      <td>0.566298</td>\n",
       "      <td>0.616022</td>\n",
       "      <td>0.628200</td>\n",
       "      <td>0.037439</td>\n",
       "      <td>2</td>\n",
       "    </tr>\n",
       "    <tr>\n",
       "      <th>31</th>\n",
       "      <td>entropy</td>\n",
       "      <td>11</td>\n",
       "      <td>200</td>\n",
       "      <td>{'criterion': 'entropy', 'max_depth': 11, 'n_e...</td>\n",
       "      <td>0.641873</td>\n",
       "      <td>0.669421</td>\n",
       "      <td>0.641873</td>\n",
       "      <td>0.571823</td>\n",
       "      <td>0.610497</td>\n",
       "      <td>0.627098</td>\n",
       "      <td>0.033343</td>\n",
       "      <td>3</td>\n",
       "    </tr>\n",
       "    <tr>\n",
       "      <th>33</th>\n",
       "      <td>entropy</td>\n",
       "      <td>11</td>\n",
       "      <td>1000</td>\n",
       "      <td>{'criterion': 'entropy', 'max_depth': 11, 'n_e...</td>\n",
       "      <td>0.647383</td>\n",
       "      <td>0.677686</td>\n",
       "      <td>0.639118</td>\n",
       "      <td>0.555249</td>\n",
       "      <td>0.616022</td>\n",
       "      <td>0.627092</td>\n",
       "      <td>0.040988</td>\n",
       "      <td>4</td>\n",
       "    </tr>\n",
       "    <tr>\n",
       "      <th>7</th>\n",
       "      <td>gini</td>\n",
       "      <td>11</td>\n",
       "      <td>500</td>\n",
       "      <td>{'criterion': 'gini', 'max_depth': 11, 'n_esti...</td>\n",
       "      <td>0.641873</td>\n",
       "      <td>0.663912</td>\n",
       "      <td>0.628099</td>\n",
       "      <td>0.558011</td>\n",
       "      <td>0.613260</td>\n",
       "      <td>0.621031</td>\n",
       "      <td>0.035651</td>\n",
       "      <td>5</td>\n",
       "    </tr>\n",
       "  </tbody>\n",
       "</table>\n",
       "</div>"
      ],
      "text/plain": [
       "   param_criterion param_max_depth param_n_estimators  \\\n",
       "32         entropy              11                500   \n",
       "34         entropy              11               2000   \n",
       "31         entropy              11                200   \n",
       "33         entropy              11               1000   \n",
       "7             gini              11                500   \n",
       "\n",
       "                                               params  split0_test_score  \\\n",
       "32  {'criterion': 'entropy', 'max_depth': 11, 'n_e...           0.652893   \n",
       "34  {'criterion': 'entropy', 'max_depth': 11, 'n_e...           0.644628   \n",
       "31  {'criterion': 'entropy', 'max_depth': 11, 'n_e...           0.641873   \n",
       "33  {'criterion': 'entropy', 'max_depth': 11, 'n_e...           0.647383   \n",
       "7   {'criterion': 'gini', 'max_depth': 11, 'n_esti...           0.641873   \n",
       "\n",
       "    split1_test_score  split2_test_score  split3_test_score  \\\n",
       "32           0.677686           0.633609           0.569061   \n",
       "34           0.680441           0.633609           0.566298   \n",
       "31           0.669421           0.641873           0.571823   \n",
       "33           0.677686           0.639118           0.555249   \n",
       "7            0.663912           0.628099           0.558011   \n",
       "\n",
       "    split4_test_score  mean_test_score  std_test_score  rank_test_score  \n",
       "32           0.621547         0.630959        0.036308                1  \n",
       "34           0.616022         0.628200        0.037439                2  \n",
       "31           0.610497         0.627098        0.033343                3  \n",
       "33           0.616022         0.627092        0.040988                4  \n",
       "7            0.613260         0.621031        0.035651                5  "
      ]
     },
     "execution_count": 35,
     "metadata": {},
     "output_type": "execute_result"
    }
   ],
   "source": [
    "pd.DataFrame(grid_search.cv_results_).sort_values('mean_test_score', ascending=False).iloc[:,4:].head()"
   ]
  },
  {
   "cell_type": "code",
   "execution_count": 36,
   "id": "e739e27f",
   "metadata": {},
   "outputs": [],
   "source": [
    "param = {'n_estimators': [100,200,500,1000],\n",
    "         'criterion': ['gini', 'entropy'],\n",
    "         'max_depth': [10,11,12]}"
   ]
  },
  {
   "cell_type": "code",
   "execution_count": 37,
   "id": "4bf9586b",
   "metadata": {},
   "outputs": [
    {
     "name": "stdout",
     "output_type": "stream",
     "text": [
      "Wall time: 1min 4s\n"
     ]
    },
    {
     "data": {
      "text/plain": [
       "({'criterion': 'entropy', 'max_depth': 10, 'n_estimators': 1000},\n",
       " 0.630406526338219)"
      ]
     },
     "execution_count": 37,
     "metadata": {},
     "output_type": "execute_result"
    }
   ],
   "source": [
    "%%time\n",
    "grid_search = GridSearchCV(RandomForestClassifier(), param,cv=cv, n_jobs=10)\n",
    "grid_search.fit(X,y)\n",
    "(grid_search.best_params_, grid_search.best_score_)"
   ]
  },
  {
   "cell_type": "code",
   "execution_count": 39,
   "id": "aaa021ea",
   "metadata": {},
   "outputs": [
    {
     "data": {
      "text/html": [
       "<div>\n",
       "<style scoped>\n",
       "    .dataframe tbody tr th:only-of-type {\n",
       "        vertical-align: middle;\n",
       "    }\n",
       "\n",
       "    .dataframe tbody tr th {\n",
       "        vertical-align: top;\n",
       "    }\n",
       "\n",
       "    .dataframe thead th {\n",
       "        text-align: right;\n",
       "    }\n",
       "</style>\n",
       "<table border=\"1\" class=\"dataframe\">\n",
       "  <thead>\n",
       "    <tr style=\"text-align: right;\">\n",
       "      <th></th>\n",
       "      <th>param_criterion</th>\n",
       "      <th>param_max_depth</th>\n",
       "      <th>param_n_estimators</th>\n",
       "      <th>params</th>\n",
       "      <th>split0_test_score</th>\n",
       "      <th>split1_test_score</th>\n",
       "      <th>split2_test_score</th>\n",
       "      <th>split3_test_score</th>\n",
       "      <th>split4_test_score</th>\n",
       "      <th>mean_test_score</th>\n",
       "      <th>std_test_score</th>\n",
       "      <th>rank_test_score</th>\n",
       "    </tr>\n",
       "  </thead>\n",
       "  <tbody>\n",
       "    <tr>\n",
       "      <th>15</th>\n",
       "      <td>entropy</td>\n",
       "      <td>10</td>\n",
       "      <td>1000</td>\n",
       "      <td>{'criterion': 'entropy', 'max_depth': 10, 'n_e...</td>\n",
       "      <td>0.644628</td>\n",
       "      <td>0.672176</td>\n",
       "      <td>0.647383</td>\n",
       "      <td>0.569061</td>\n",
       "      <td>0.618785</td>\n",
       "      <td>0.630407</td>\n",
       "      <td>0.035024</td>\n",
       "      <td>1</td>\n",
       "    </tr>\n",
       "    <tr>\n",
       "      <th>19</th>\n",
       "      <td>entropy</td>\n",
       "      <td>11</td>\n",
       "      <td>1000</td>\n",
       "      <td>{'criterion': 'entropy', 'max_depth': 11, 'n_e...</td>\n",
       "      <td>0.650138</td>\n",
       "      <td>0.677686</td>\n",
       "      <td>0.639118</td>\n",
       "      <td>0.558011</td>\n",
       "      <td>0.624309</td>\n",
       "      <td>0.629853</td>\n",
       "      <td>0.039943</td>\n",
       "      <td>2</td>\n",
       "    </tr>\n",
       "    <tr>\n",
       "      <th>4</th>\n",
       "      <td>gini</td>\n",
       "      <td>11</td>\n",
       "      <td>100</td>\n",
       "      <td>{'criterion': 'gini', 'max_depth': 11, 'n_esti...</td>\n",
       "      <td>0.658402</td>\n",
       "      <td>0.674931</td>\n",
       "      <td>0.622590</td>\n",
       "      <td>0.577348</td>\n",
       "      <td>0.613260</td>\n",
       "      <td>0.629306</td>\n",
       "      <td>0.034440</td>\n",
       "      <td>3</td>\n",
       "    </tr>\n",
       "    <tr>\n",
       "      <th>22</th>\n",
       "      <td>entropy</td>\n",
       "      <td>12</td>\n",
       "      <td>500</td>\n",
       "      <td>{'criterion': 'entropy', 'max_depth': 12, 'n_e...</td>\n",
       "      <td>0.641873</td>\n",
       "      <td>0.674931</td>\n",
       "      <td>0.636364</td>\n",
       "      <td>0.566298</td>\n",
       "      <td>0.621547</td>\n",
       "      <td>0.628203</td>\n",
       "      <td>0.035534</td>\n",
       "      <td>4</td>\n",
       "    </tr>\n",
       "    <tr>\n",
       "      <th>3</th>\n",
       "      <td>gini</td>\n",
       "      <td>10</td>\n",
       "      <td>1000</td>\n",
       "      <td>{'criterion': 'gini', 'max_depth': 10, 'n_esti...</td>\n",
       "      <td>0.663912</td>\n",
       "      <td>0.674931</td>\n",
       "      <td>0.633609</td>\n",
       "      <td>0.563536</td>\n",
       "      <td>0.604972</td>\n",
       "      <td>0.628192</td>\n",
       "      <td>0.040520</td>\n",
       "      <td>5</td>\n",
       "    </tr>\n",
       "    <tr>\n",
       "      <th>8</th>\n",
       "      <td>gini</td>\n",
       "      <td>12</td>\n",
       "      <td>100</td>\n",
       "      <td>{'criterion': 'gini', 'max_depth': 12, 'n_esti...</td>\n",
       "      <td>0.644628</td>\n",
       "      <td>0.677686</td>\n",
       "      <td>0.652893</td>\n",
       "      <td>0.555249</td>\n",
       "      <td>0.610497</td>\n",
       "      <td>0.628190</td>\n",
       "      <td>0.042341</td>\n",
       "      <td>6</td>\n",
       "    </tr>\n",
       "    <tr>\n",
       "      <th>12</th>\n",
       "      <td>entropy</td>\n",
       "      <td>10</td>\n",
       "      <td>100</td>\n",
       "      <td>{'criterion': 'entropy', 'max_depth': 10, 'n_e...</td>\n",
       "      <td>0.644628</td>\n",
       "      <td>0.672176</td>\n",
       "      <td>0.636364</td>\n",
       "      <td>0.571823</td>\n",
       "      <td>0.610497</td>\n",
       "      <td>0.627098</td>\n",
       "      <td>0.033930</td>\n",
       "      <td>7</td>\n",
       "    </tr>\n",
       "    <tr>\n",
       "      <th>17</th>\n",
       "      <td>entropy</td>\n",
       "      <td>11</td>\n",
       "      <td>200</td>\n",
       "      <td>{'criterion': 'entropy', 'max_depth': 11, 'n_e...</td>\n",
       "      <td>0.641873</td>\n",
       "      <td>0.688705</td>\n",
       "      <td>0.619835</td>\n",
       "      <td>0.555249</td>\n",
       "      <td>0.627072</td>\n",
       "      <td>0.626547</td>\n",
       "      <td>0.042959</td>\n",
       "      <td>8</td>\n",
       "    </tr>\n",
       "    <tr>\n",
       "      <th>7</th>\n",
       "      <td>gini</td>\n",
       "      <td>11</td>\n",
       "      <td>1000</td>\n",
       "      <td>{'criterion': 'gini', 'max_depth': 11, 'n_esti...</td>\n",
       "      <td>0.647383</td>\n",
       "      <td>0.666667</td>\n",
       "      <td>0.636364</td>\n",
       "      <td>0.569061</td>\n",
       "      <td>0.613260</td>\n",
       "      <td>0.626547</td>\n",
       "      <td>0.033530</td>\n",
       "      <td>9</td>\n",
       "    </tr>\n",
       "    <tr>\n",
       "      <th>16</th>\n",
       "      <td>entropy</td>\n",
       "      <td>11</td>\n",
       "      <td>100</td>\n",
       "      <td>{'criterion': 'entropy', 'max_depth': 11, 'n_e...</td>\n",
       "      <td>0.641873</td>\n",
       "      <td>0.683196</td>\n",
       "      <td>0.636364</td>\n",
       "      <td>0.555249</td>\n",
       "      <td>0.616022</td>\n",
       "      <td>0.626541</td>\n",
       "      <td>0.041796</td>\n",
       "      <td>10</td>\n",
       "    </tr>\n",
       "    <tr>\n",
       "      <th>14</th>\n",
       "      <td>entropy</td>\n",
       "      <td>10</td>\n",
       "      <td>500</td>\n",
       "      <td>{'criterion': 'entropy', 'max_depth': 10, 'n_e...</td>\n",
       "      <td>0.647383</td>\n",
       "      <td>0.674931</td>\n",
       "      <td>0.641873</td>\n",
       "      <td>0.560773</td>\n",
       "      <td>0.607735</td>\n",
       "      <td>0.626539</td>\n",
       "      <td>0.039218</td>\n",
       "      <td>11</td>\n",
       "    </tr>\n",
       "    <tr>\n",
       "      <th>21</th>\n",
       "      <td>entropy</td>\n",
       "      <td>12</td>\n",
       "      <td>200</td>\n",
       "      <td>{'criterion': 'entropy', 'max_depth': 12, 'n_e...</td>\n",
       "      <td>0.655647</td>\n",
       "      <td>0.666667</td>\n",
       "      <td>0.628099</td>\n",
       "      <td>0.552486</td>\n",
       "      <td>0.627072</td>\n",
       "      <td>0.625994</td>\n",
       "      <td>0.039856</td>\n",
       "      <td>12</td>\n",
       "    </tr>\n",
       "    <tr>\n",
       "      <th>18</th>\n",
       "      <td>entropy</td>\n",
       "      <td>11</td>\n",
       "      <td>500</td>\n",
       "      <td>{'criterion': 'entropy', 'max_depth': 11, 'n_e...</td>\n",
       "      <td>0.644628</td>\n",
       "      <td>0.677686</td>\n",
       "      <td>0.628099</td>\n",
       "      <td>0.555249</td>\n",
       "      <td>0.624309</td>\n",
       "      <td>0.625994</td>\n",
       "      <td>0.040079</td>\n",
       "      <td>12</td>\n",
       "    </tr>\n",
       "    <tr>\n",
       "      <th>13</th>\n",
       "      <td>entropy</td>\n",
       "      <td>10</td>\n",
       "      <td>200</td>\n",
       "      <td>{'criterion': 'entropy', 'max_depth': 10, 'n_e...</td>\n",
       "      <td>0.652893</td>\n",
       "      <td>0.685950</td>\n",
       "      <td>0.617080</td>\n",
       "      <td>0.552486</td>\n",
       "      <td>0.616022</td>\n",
       "      <td>0.624886</td>\n",
       "      <td>0.044485</td>\n",
       "      <td>14</td>\n",
       "    </tr>\n",
       "    <tr>\n",
       "      <th>20</th>\n",
       "      <td>entropy</td>\n",
       "      <td>12</td>\n",
       "      <td>100</td>\n",
       "      <td>{'criterion': 'entropy', 'max_depth': 12, 'n_e...</td>\n",
       "      <td>0.633609</td>\n",
       "      <td>0.661157</td>\n",
       "      <td>0.636364</td>\n",
       "      <td>0.571823</td>\n",
       "      <td>0.610497</td>\n",
       "      <td>0.622690</td>\n",
       "      <td>0.030073</td>\n",
       "      <td>15</td>\n",
       "    </tr>\n",
       "    <tr>\n",
       "      <th>2</th>\n",
       "      <td>gini</td>\n",
       "      <td>10</td>\n",
       "      <td>500</td>\n",
       "      <td>{'criterion': 'gini', 'max_depth': 10, 'n_esti...</td>\n",
       "      <td>0.630854</td>\n",
       "      <td>0.672176</td>\n",
       "      <td>0.628099</td>\n",
       "      <td>0.569061</td>\n",
       "      <td>0.613260</td>\n",
       "      <td>0.622690</td>\n",
       "      <td>0.033196</td>\n",
       "      <td>15</td>\n",
       "    </tr>\n",
       "    <tr>\n",
       "      <th>6</th>\n",
       "      <td>gini</td>\n",
       "      <td>11</td>\n",
       "      <td>500</td>\n",
       "      <td>{'criterion': 'gini', 'max_depth': 11, 'n_esti...</td>\n",
       "      <td>0.641873</td>\n",
       "      <td>0.677686</td>\n",
       "      <td>0.628099</td>\n",
       "      <td>0.552486</td>\n",
       "      <td>0.613260</td>\n",
       "      <td>0.622681</td>\n",
       "      <td>0.041084</td>\n",
       "      <td>17</td>\n",
       "    </tr>\n",
       "    <tr>\n",
       "      <th>23</th>\n",
       "      <td>entropy</td>\n",
       "      <td>12</td>\n",
       "      <td>1000</td>\n",
       "      <td>{'criterion': 'entropy', 'max_depth': 12, 'n_e...</td>\n",
       "      <td>0.644628</td>\n",
       "      <td>0.674931</td>\n",
       "      <td>0.630854</td>\n",
       "      <td>0.558011</td>\n",
       "      <td>0.604972</td>\n",
       "      <td>0.622679</td>\n",
       "      <td>0.039432</td>\n",
       "      <td>18</td>\n",
       "    </tr>\n",
       "    <tr>\n",
       "      <th>1</th>\n",
       "      <td>gini</td>\n",
       "      <td>10</td>\n",
       "      <td>200</td>\n",
       "      <td>{'criterion': 'gini', 'max_depth': 10, 'n_esti...</td>\n",
       "      <td>0.650138</td>\n",
       "      <td>0.677686</td>\n",
       "      <td>0.625344</td>\n",
       "      <td>0.552486</td>\n",
       "      <td>0.607735</td>\n",
       "      <td>0.622678</td>\n",
       "      <td>0.042278</td>\n",
       "      <td>19</td>\n",
       "    </tr>\n",
       "    <tr>\n",
       "      <th>0</th>\n",
       "      <td>gini</td>\n",
       "      <td>10</td>\n",
       "      <td>100</td>\n",
       "      <td>{'criterion': 'gini', 'max_depth': 10, 'n_esti...</td>\n",
       "      <td>0.652893</td>\n",
       "      <td>0.663912</td>\n",
       "      <td>0.628099</td>\n",
       "      <td>0.549724</td>\n",
       "      <td>0.607735</td>\n",
       "      <td>0.620472</td>\n",
       "      <td>0.040408</td>\n",
       "      <td>20</td>\n",
       "    </tr>\n",
       "    <tr>\n",
       "      <th>5</th>\n",
       "      <td>gini</td>\n",
       "      <td>11</td>\n",
       "      <td>200</td>\n",
       "      <td>{'criterion': 'gini', 'max_depth': 11, 'n_esti...</td>\n",
       "      <td>0.636364</td>\n",
       "      <td>0.652893</td>\n",
       "      <td>0.617080</td>\n",
       "      <td>0.569061</td>\n",
       "      <td>0.621547</td>\n",
       "      <td>0.619389</td>\n",
       "      <td>0.028120</td>\n",
       "      <td>21</td>\n",
       "    </tr>\n",
       "    <tr>\n",
       "      <th>9</th>\n",
       "      <td>gini</td>\n",
       "      <td>12</td>\n",
       "      <td>200</td>\n",
       "      <td>{'criterion': 'gini', 'max_depth': 12, 'n_esti...</td>\n",
       "      <td>0.639118</td>\n",
       "      <td>0.652893</td>\n",
       "      <td>0.617080</td>\n",
       "      <td>0.574586</td>\n",
       "      <td>0.599448</td>\n",
       "      <td>0.616625</td>\n",
       "      <td>0.027871</td>\n",
       "      <td>22</td>\n",
       "    </tr>\n",
       "    <tr>\n",
       "      <th>11</th>\n",
       "      <td>gini</td>\n",
       "      <td>12</td>\n",
       "      <td>1000</td>\n",
       "      <td>{'criterion': 'gini', 'max_depth': 12, 'n_esti...</td>\n",
       "      <td>0.628099</td>\n",
       "      <td>0.655647</td>\n",
       "      <td>0.633609</td>\n",
       "      <td>0.558011</td>\n",
       "      <td>0.604972</td>\n",
       "      <td>0.616068</td>\n",
       "      <td>0.033204</td>\n",
       "      <td>23</td>\n",
       "    </tr>\n",
       "    <tr>\n",
       "      <th>10</th>\n",
       "      <td>gini</td>\n",
       "      <td>12</td>\n",
       "      <td>500</td>\n",
       "      <td>{'criterion': 'gini', 'max_depth': 12, 'n_esti...</td>\n",
       "      <td>0.644628</td>\n",
       "      <td>0.644628</td>\n",
       "      <td>0.633609</td>\n",
       "      <td>0.555249</td>\n",
       "      <td>0.599448</td>\n",
       "      <td>0.615512</td>\n",
       "      <td>0.034388</td>\n",
       "      <td>24</td>\n",
       "    </tr>\n",
       "  </tbody>\n",
       "</table>\n",
       "</div>"
      ],
      "text/plain": [
       "   param_criterion param_max_depth param_n_estimators  \\\n",
       "15         entropy              10               1000   \n",
       "19         entropy              11               1000   \n",
       "4             gini              11                100   \n",
       "22         entropy              12                500   \n",
       "3             gini              10               1000   \n",
       "8             gini              12                100   \n",
       "12         entropy              10                100   \n",
       "17         entropy              11                200   \n",
       "7             gini              11               1000   \n",
       "16         entropy              11                100   \n",
       "14         entropy              10                500   \n",
       "21         entropy              12                200   \n",
       "18         entropy              11                500   \n",
       "13         entropy              10                200   \n",
       "20         entropy              12                100   \n",
       "2             gini              10                500   \n",
       "6             gini              11                500   \n",
       "23         entropy              12               1000   \n",
       "1             gini              10                200   \n",
       "0             gini              10                100   \n",
       "5             gini              11                200   \n",
       "9             gini              12                200   \n",
       "11            gini              12               1000   \n",
       "10            gini              12                500   \n",
       "\n",
       "                                               params  split0_test_score  \\\n",
       "15  {'criterion': 'entropy', 'max_depth': 10, 'n_e...           0.644628   \n",
       "19  {'criterion': 'entropy', 'max_depth': 11, 'n_e...           0.650138   \n",
       "4   {'criterion': 'gini', 'max_depth': 11, 'n_esti...           0.658402   \n",
       "22  {'criterion': 'entropy', 'max_depth': 12, 'n_e...           0.641873   \n",
       "3   {'criterion': 'gini', 'max_depth': 10, 'n_esti...           0.663912   \n",
       "8   {'criterion': 'gini', 'max_depth': 12, 'n_esti...           0.644628   \n",
       "12  {'criterion': 'entropy', 'max_depth': 10, 'n_e...           0.644628   \n",
       "17  {'criterion': 'entropy', 'max_depth': 11, 'n_e...           0.641873   \n",
       "7   {'criterion': 'gini', 'max_depth': 11, 'n_esti...           0.647383   \n",
       "16  {'criterion': 'entropy', 'max_depth': 11, 'n_e...           0.641873   \n",
       "14  {'criterion': 'entropy', 'max_depth': 10, 'n_e...           0.647383   \n",
       "21  {'criterion': 'entropy', 'max_depth': 12, 'n_e...           0.655647   \n",
       "18  {'criterion': 'entropy', 'max_depth': 11, 'n_e...           0.644628   \n",
       "13  {'criterion': 'entropy', 'max_depth': 10, 'n_e...           0.652893   \n",
       "20  {'criterion': 'entropy', 'max_depth': 12, 'n_e...           0.633609   \n",
       "2   {'criterion': 'gini', 'max_depth': 10, 'n_esti...           0.630854   \n",
       "6   {'criterion': 'gini', 'max_depth': 11, 'n_esti...           0.641873   \n",
       "23  {'criterion': 'entropy', 'max_depth': 12, 'n_e...           0.644628   \n",
       "1   {'criterion': 'gini', 'max_depth': 10, 'n_esti...           0.650138   \n",
       "0   {'criterion': 'gini', 'max_depth': 10, 'n_esti...           0.652893   \n",
       "5   {'criterion': 'gini', 'max_depth': 11, 'n_esti...           0.636364   \n",
       "9   {'criterion': 'gini', 'max_depth': 12, 'n_esti...           0.639118   \n",
       "11  {'criterion': 'gini', 'max_depth': 12, 'n_esti...           0.628099   \n",
       "10  {'criterion': 'gini', 'max_depth': 12, 'n_esti...           0.644628   \n",
       "\n",
       "    split1_test_score  split2_test_score  split3_test_score  \\\n",
       "15           0.672176           0.647383           0.569061   \n",
       "19           0.677686           0.639118           0.558011   \n",
       "4            0.674931           0.622590           0.577348   \n",
       "22           0.674931           0.636364           0.566298   \n",
       "3            0.674931           0.633609           0.563536   \n",
       "8            0.677686           0.652893           0.555249   \n",
       "12           0.672176           0.636364           0.571823   \n",
       "17           0.688705           0.619835           0.555249   \n",
       "7            0.666667           0.636364           0.569061   \n",
       "16           0.683196           0.636364           0.555249   \n",
       "14           0.674931           0.641873           0.560773   \n",
       "21           0.666667           0.628099           0.552486   \n",
       "18           0.677686           0.628099           0.555249   \n",
       "13           0.685950           0.617080           0.552486   \n",
       "20           0.661157           0.636364           0.571823   \n",
       "2            0.672176           0.628099           0.569061   \n",
       "6            0.677686           0.628099           0.552486   \n",
       "23           0.674931           0.630854           0.558011   \n",
       "1            0.677686           0.625344           0.552486   \n",
       "0            0.663912           0.628099           0.549724   \n",
       "5            0.652893           0.617080           0.569061   \n",
       "9            0.652893           0.617080           0.574586   \n",
       "11           0.655647           0.633609           0.558011   \n",
       "10           0.644628           0.633609           0.555249   \n",
       "\n",
       "    split4_test_score  mean_test_score  std_test_score  rank_test_score  \n",
       "15           0.618785         0.630407        0.035024                1  \n",
       "19           0.624309         0.629853        0.039943                2  \n",
       "4            0.613260         0.629306        0.034440                3  \n",
       "22           0.621547         0.628203        0.035534                4  \n",
       "3            0.604972         0.628192        0.040520                5  \n",
       "8            0.610497         0.628190        0.042341                6  \n",
       "12           0.610497         0.627098        0.033930                7  \n",
       "17           0.627072         0.626547        0.042959                8  \n",
       "7            0.613260         0.626547        0.033530                9  \n",
       "16           0.616022         0.626541        0.041796               10  \n",
       "14           0.607735         0.626539        0.039218               11  \n",
       "21           0.627072         0.625994        0.039856               12  \n",
       "18           0.624309         0.625994        0.040079               12  \n",
       "13           0.616022         0.624886        0.044485               14  \n",
       "20           0.610497         0.622690        0.030073               15  \n",
       "2            0.613260         0.622690        0.033196               15  \n",
       "6            0.613260         0.622681        0.041084               17  \n",
       "23           0.604972         0.622679        0.039432               18  \n",
       "1            0.607735         0.622678        0.042278               19  \n",
       "0            0.607735         0.620472        0.040408               20  \n",
       "5            0.621547         0.619389        0.028120               21  \n",
       "9            0.599448         0.616625        0.027871               22  \n",
       "11           0.604972         0.616068        0.033204               23  \n",
       "10           0.599448         0.615512        0.034388               24  "
      ]
     },
     "execution_count": 39,
     "metadata": {},
     "output_type": "execute_result"
    }
   ],
   "source": [
    "pd.DataFrame(grid_search.cv_results_).sort_values('mean_test_score', ascending=False).iloc[:,4:]"
   ]
  },
  {
   "cell_type": "markdown",
   "id": "4470d2b4",
   "metadata": {},
   "source": [
    "и снова не плохо."
   ]
  },
  {
   "cell_type": "markdown",
   "id": "06472253",
   "metadata": {},
   "source": [
    "<h3>Градиентный бустинг</h3>"
   ]
  },
  {
   "cell_type": "code",
   "execution_count": 40,
   "id": "6ed01918",
   "metadata": {},
   "outputs": [
    {
     "name": "stdout",
     "output_type": "stream",
     "text": [
      "name: XGBClassifier, score: [0.61432507 0.60606061 0.63636364 0.54972376 0.57734807], mean: 0.5967642268998372\n",
      "Wall time: 5.26 s\n"
     ]
    }
   ],
   "source": [
    "%%time\n",
    "model_xgb = XGBClassifier()\n",
    "result_xgb = cross_val_score(model_xgb, X, y, cv=cv, n_jobs=-1)\n",
    "print(f'name: XGBClassifier, score: {result_xgb}, mean: {result_xgb.mean()}')"
   ]
  },
  {
   "cell_type": "code",
   "execution_count": 43,
   "id": "b3534170",
   "metadata": {},
   "outputs": [],
   "source": [
    "param = {'n_estimators': [100,200],\n",
    "         'max_depth': range(10,21)}"
   ]
  },
  {
   "cell_type": "code",
   "execution_count": 44,
   "id": "70c484d4",
   "metadata": {},
   "outputs": [
    {
     "name": "stdout",
     "output_type": "stream",
     "text": [
      "[15:10:45] WARNING: ..\\src\\learner.cc:1115: Starting in XGBoost 1.3.0, the default evaluation metric used with the objective 'binary:logistic' was changed from 'error' to 'logloss'. Explicitly set eval_metric if you'd like to restore the old behavior.\n",
      "Wall time: 3min 33s\n"
     ]
    },
    {
     "data": {
      "text/plain": [
       "({'max_depth': 12, 'n_estimators': 100}, 0.6088945710241541)"
      ]
     },
     "execution_count": 44,
     "metadata": {},
     "output_type": "execute_result"
    }
   ],
   "source": [
    "%%time\n",
    "grid_search = GridSearchCV(XGBClassifier(n_jobs=-1), param,cv=cv, n_jobs=-1)\n",
    "grid_search.fit(X,y)\n",
    "(grid_search.best_params_, grid_search.best_score_)"
   ]
  },
  {
   "cell_type": "markdown",
   "id": "93ea3cb4",
   "metadata": {},
   "source": [
    "могло бы быть и получше"
   ]
  },
  {
   "cell_type": "code",
   "execution_count": null,
   "id": "02b17b58",
   "metadata": {},
   "outputs": [],
   "source": []
  }
 ],
 "metadata": {
  "kernelspec": {
   "display_name": "Python 3",
   "language": "python",
   "name": "python3"
  },
  "language_info": {
   "codemirror_mode": {
    "name": "ipython",
    "version": 3
   },
   "file_extension": ".py",
   "mimetype": "text/x-python",
   "name": "python",
   "nbconvert_exporter": "python",
   "pygments_lexer": "ipython3",
   "version": "3.8.5"
  }
 },
 "nbformat": 4,
 "nbformat_minor": 5
}
