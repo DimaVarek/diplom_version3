{
 "cells": [
  {
   "cell_type": "code",
   "execution_count": 1,
   "id": "7caf733b",
   "metadata": {},
   "outputs": [],
   "source": [
    "import numpy as np\n",
    "import pandas as pd\n",
    "from sklearn.model_selection import KFold\n",
    "from sklearn.model_selection import cross_val_score\n",
    "from sklearn.model_selection import train_test_split\n",
    "from sklearn.preprocessing import LabelEncoder, RobustScaler, StandardScaler\n",
    "\n",
    "import matplotlib.pyplot as plt\n",
    "plt.rcParams['figure.figsize'] = [12, 8]\n",
    "plt.rcParams['figure.dpi'] = 100\n",
    "\n",
    "from sklearn.dummy import DummyClassifier\n",
    "from sklearn.linear_model import Perceptron\n",
    "from sklearn.svm import SVC\n",
    "from sklearn.linear_model import LogisticRegression\n",
    "from sklearn.tree import DecisionTreeClassifier\n",
    "from sklearn.ensemble import RandomForestClassifier\n",
    "from xgboost import XGBClassifier\n",
    "\n",
    "from sklearn.model_selection import GridSearchCV\n",
    "\n",
    "import warnings\n",
    "warnings.filterwarnings('ignore')"
   ]
  },
  {
   "cell_type": "markdown",
   "id": "44c9430c",
   "metadata": {},
   "source": [
    "<h2>Предобработка данных</h2>"
   ]
  },
  {
   "cell_type": "code",
   "execution_count": 2,
   "id": "7fba715f",
   "metadata": {},
   "outputs": [
    {
     "name": "stdout",
     "output_type": "stream",
     "text": [
      "<class 'pandas.core.frame.DataFrame'>\n",
      "RangeIndex: 1813 entries, 0 to 1812\n",
      "Columns: 1025 entries, version to map\n",
      "dtypes: float64(339), int64(679), object(7)\n",
      "memory usage: 14.2+ MB\n"
     ]
    }
   ],
   "source": [
    "df = pd.read_csv('../data/df_split_by_map_all_info.csv')\n",
    "df.info()"
   ]
  },
  {
   "cell_type": "code",
   "execution_count": 3,
   "id": "1891ee62",
   "metadata": {},
   "outputs": [
    {
     "data": {
      "text/html": [
       "<div>\n",
       "<style scoped>\n",
       "    .dataframe tbody tr th:only-of-type {\n",
       "        vertical-align: middle;\n",
       "    }\n",
       "\n",
       "    .dataframe tbody tr th {\n",
       "        vertical-align: top;\n",
       "    }\n",
       "\n",
       "    .dataframe thead th {\n",
       "        text-align: right;\n",
       "    }\n",
       "</style>\n",
       "<table border=\"1\" class=\"dataframe\">\n",
       "  <thead>\n",
       "    <tr style=\"text-align: right;\">\n",
       "      <th></th>\n",
       "      <th>team1_world_rank</th>\n",
       "      <th>team2_world_rank</th>\n",
       "      <th>1_47_top5_Times played</th>\n",
       "      <th>1_47_top5_wins</th>\n",
       "      <th>1_47_top5_draws</th>\n",
       "      <th>1_47_top5_losses</th>\n",
       "      <th>1_47_top5_Total rounds played</th>\n",
       "      <th>1_47_top5_Rounds won</th>\n",
       "      <th>1_47_top5_Win percent</th>\n",
       "      <th>1_47_top5_Pistol rounds</th>\n",
       "      <th>...</th>\n",
       "      <th>2_46_topAll_Rounds won</th>\n",
       "      <th>2_46_topAll_Win percent</th>\n",
       "      <th>2_46_topAll_Pistol rounds</th>\n",
       "      <th>2_46_topAll_Pistol rounds won</th>\n",
       "      <th>2_46_topAll_Pistol round win percent</th>\n",
       "      <th>2_46_topAll_CT round win percent</th>\n",
       "      <th>2_46_topAll_T round win percent</th>\n",
       "      <th>result</th>\n",
       "      <th>best_of</th>\n",
       "      <th>map</th>\n",
       "    </tr>\n",
       "  </thead>\n",
       "  <tbody>\n",
       "    <tr>\n",
       "      <th>0</th>\n",
       "      <td>28</td>\n",
       "      <td>46</td>\n",
       "      <td>0</td>\n",
       "      <td>0</td>\n",
       "      <td>0</td>\n",
       "      <td>0</td>\n",
       "      <td>0</td>\n",
       "      <td>0</td>\n",
       "      <td>0.0</td>\n",
       "      <td>0</td>\n",
       "      <td>...</td>\n",
       "      <td>53</td>\n",
       "      <td>0.75</td>\n",
       "      <td>8</td>\n",
       "      <td>4</td>\n",
       "      <td>0.5</td>\n",
       "      <td>0.590</td>\n",
       "      <td>0.526</td>\n",
       "      <td>-1</td>\n",
       "      <td>3</td>\n",
       "      <td>Nuke</td>\n",
       "    </tr>\n",
       "    <tr>\n",
       "      <th>1</th>\n",
       "      <td>28</td>\n",
       "      <td>46</td>\n",
       "      <td>0</td>\n",
       "      <td>0</td>\n",
       "      <td>0</td>\n",
       "      <td>0</td>\n",
       "      <td>0</td>\n",
       "      <td>0</td>\n",
       "      <td>0.0</td>\n",
       "      <td>0</td>\n",
       "      <td>...</td>\n",
       "      <td>53</td>\n",
       "      <td>0.75</td>\n",
       "      <td>8</td>\n",
       "      <td>4</td>\n",
       "      <td>0.5</td>\n",
       "      <td>0.590</td>\n",
       "      <td>0.526</td>\n",
       "      <td>-1</td>\n",
       "      <td>3</td>\n",
       "      <td>Ancient</td>\n",
       "    </tr>\n",
       "    <tr>\n",
       "      <th>2</th>\n",
       "      <td>1</td>\n",
       "      <td>223</td>\n",
       "      <td>2</td>\n",
       "      <td>2</td>\n",
       "      <td>0</td>\n",
       "      <td>0</td>\n",
       "      <td>54</td>\n",
       "      <td>32</td>\n",
       "      <td>1.0</td>\n",
       "      <td>4</td>\n",
       "      <td>...</td>\n",
       "      <td>29</td>\n",
       "      <td>0.50</td>\n",
       "      <td>4</td>\n",
       "      <td>2</td>\n",
       "      <td>0.5</td>\n",
       "      <td>0.448</td>\n",
       "      <td>0.552</td>\n",
       "      <td>1</td>\n",
       "      <td>3</td>\n",
       "      <td>Mirage</td>\n",
       "    </tr>\n",
       "    <tr>\n",
       "      <th>3</th>\n",
       "      <td>1</td>\n",
       "      <td>223</td>\n",
       "      <td>2</td>\n",
       "      <td>2</td>\n",
       "      <td>0</td>\n",
       "      <td>0</td>\n",
       "      <td>54</td>\n",
       "      <td>32</td>\n",
       "      <td>1.0</td>\n",
       "      <td>4</td>\n",
       "      <td>...</td>\n",
       "      <td>29</td>\n",
       "      <td>0.50</td>\n",
       "      <td>4</td>\n",
       "      <td>2</td>\n",
       "      <td>0.5</td>\n",
       "      <td>0.448</td>\n",
       "      <td>0.552</td>\n",
       "      <td>1</td>\n",
       "      <td>3</td>\n",
       "      <td>Ancient</td>\n",
       "    </tr>\n",
       "    <tr>\n",
       "      <th>4</th>\n",
       "      <td>14</td>\n",
       "      <td>101</td>\n",
       "      <td>0</td>\n",
       "      <td>0</td>\n",
       "      <td>0</td>\n",
       "      <td>0</td>\n",
       "      <td>0</td>\n",
       "      <td>0</td>\n",
       "      <td>0.0</td>\n",
       "      <td>0</td>\n",
       "      <td>...</td>\n",
       "      <td>0</td>\n",
       "      <td>0.00</td>\n",
       "      <td>0</td>\n",
       "      <td>0</td>\n",
       "      <td>0.0</td>\n",
       "      <td>0.000</td>\n",
       "      <td>0.000</td>\n",
       "      <td>-1</td>\n",
       "      <td>3</td>\n",
       "      <td>Overpass</td>\n",
       "    </tr>\n",
       "  </tbody>\n",
       "</table>\n",
       "<p>5 rows × 1013 columns</p>\n",
       "</div>"
      ],
      "text/plain": [
       "   team1_world_rank  team2_world_rank  1_47_top5_Times played  1_47_top5_wins  \\\n",
       "0                28                46                       0               0   \n",
       "1                28                46                       0               0   \n",
       "2                 1               223                       2               2   \n",
       "3                 1               223                       2               2   \n",
       "4                14               101                       0               0   \n",
       "\n",
       "   1_47_top5_draws  1_47_top5_losses  1_47_top5_Total rounds played  \\\n",
       "0                0                 0                              0   \n",
       "1                0                 0                              0   \n",
       "2                0                 0                             54   \n",
       "3                0                 0                             54   \n",
       "4                0                 0                              0   \n",
       "\n",
       "   1_47_top5_Rounds won  1_47_top5_Win percent  1_47_top5_Pistol rounds  ...  \\\n",
       "0                     0                    0.0                        0  ...   \n",
       "1                     0                    0.0                        0  ...   \n",
       "2                    32                    1.0                        4  ...   \n",
       "3                    32                    1.0                        4  ...   \n",
       "4                     0                    0.0                        0  ...   \n",
       "\n",
       "   2_46_topAll_Rounds won  2_46_topAll_Win percent  2_46_topAll_Pistol rounds  \\\n",
       "0                      53                     0.75                          8   \n",
       "1                      53                     0.75                          8   \n",
       "2                      29                     0.50                          4   \n",
       "3                      29                     0.50                          4   \n",
       "4                       0                     0.00                          0   \n",
       "\n",
       "   2_46_topAll_Pistol rounds won  2_46_topAll_Pistol round win percent  \\\n",
       "0                              4                                   0.5   \n",
       "1                              4                                   0.5   \n",
       "2                              2                                   0.5   \n",
       "3                              2                                   0.5   \n",
       "4                              0                                   0.0   \n",
       "\n",
       "   2_46_topAll_CT round win percent  2_46_topAll_T round win percent  result  \\\n",
       "0                             0.590                            0.526      -1   \n",
       "1                             0.590                            0.526      -1   \n",
       "2                             0.448                            0.552       1   \n",
       "3                             0.448                            0.552       1   \n",
       "4                             0.000                            0.000      -1   \n",
       "\n",
       "   best_of       map  \n",
       "0        3      Nuke  \n",
       "1        3   Ancient  \n",
       "2        3    Mirage  \n",
       "3        3   Ancient  \n",
       "4        3  Overpass  \n",
       "\n",
       "[5 rows x 1013 columns]"
      ]
     },
     "execution_count": 3,
     "metadata": {},
     "output_type": "execute_result"
    }
   ],
   "source": [
    "df = df.drop(['version', 'url', 'number_of_confrontation', 'datetime1', 'ratio1', 'ratio2', 'name1', 'number1', 'name2', 'number2',\n",
    "         'team1_stat_url', 'team2_stat_url'], axis=1)\n",
    "df.head()"
   ]
  },
  {
   "cell_type": "code",
   "execution_count": 5,
   "id": "86150a8e",
   "metadata": {},
   "outputs": [],
   "source": [
    "maps_decoder = LabelEncoder()\n",
    "df['map'] = maps_decoder.fit_transform(df['map'])"
   ]
  },
  {
   "cell_type": "code",
   "execution_count": 6,
   "id": "985ca4cc",
   "metadata": {},
   "outputs": [],
   "source": [
    "cv = KFold(shuffle=True, random_state=1)\n",
    "X = df.drop('result', axis=1)\n",
    "y = df['result']"
   ]
  },
  {
   "cell_type": "code",
   "execution_count": 7,
   "id": "64c4ea80",
   "metadata": {},
   "outputs": [],
   "source": [
    "scaler = StandardScaler()\n",
    "X_scaled = scaler.fit_transform(X)"
   ]
  },
  {
   "cell_type": "code",
   "execution_count": 8,
   "id": "a4cd879e",
   "metadata": {},
   "outputs": [],
   "source": [
    "pd.DataFrame(X_scaled).head().iloc[:,:10].to_excel('standart.xlsx')"
   ]
  },
  {
   "cell_type": "markdown",
   "id": "e5499242",
   "metadata": {},
   "source": [
    "<h2>Обучение моделей. Сравнение результатов.</h2>"
   ]
  },
  {
   "cell_type": "code",
   "execution_count": 9,
   "id": "3604a26b",
   "metadata": {},
   "outputs": [
    {
     "name": "stdout",
     "output_type": "stream",
     "text": [
      "name: Dummy, score: [0.56473829 0.5785124  0.56749311 0.50552486 0.53314917], mean: 0.5498835669604129\n"
     ]
    }
   ],
   "source": [
    "model_dummy = DummyClassifier(strategy=\"most_frequent\")\n",
    "result_dummy = cross_val_score(model_dummy, X_scaled, y, cv=cv)\n",
    "print(f'name: Dummy, score: {result_dummy}, mean: {result_dummy.mean()}')"
   ]
  },
  {
   "cell_type": "markdown",
   "id": "4425d741",
   "metadata": {},
   "source": [
    "<h3>Ошибка перцептрона</h3> "
   ]
  },
  {
   "cell_type": "code",
   "execution_count": 10,
   "id": "c82f8ca9",
   "metadata": {},
   "outputs": [
    {
     "name": "stdout",
     "output_type": "stream",
     "text": [
      "name: Perceptron, score: [0.56749311 0.53443526 0.55647383 0.54143646 0.59944751], mean: 0.5598572363514603\n"
     ]
    }
   ],
   "source": [
    "model_perceptron = Perceptron()\n",
    "result_perceptron = cross_val_score(model_perceptron, X_scaled, y, cv=cv)\n",
    "print(f'name: Perceptron, score: {result_perceptron}, mean: {result_perceptron.mean()}')"
   ]
  },
  {
   "cell_type": "code",
   "execution_count": 11,
   "id": "1ff7a98c",
   "metadata": {},
   "outputs": [],
   "source": [
    "param = {'penalty': ['l2', 'l1'],\n",
    "         'alpha': [10**-6, 10**-5, 10**-4, 10**-3, 10**-2, 10**-1, 10**0, 10**1, 10**2]}"
   ]
  },
  {
   "cell_type": "code",
   "execution_count": 12,
   "id": "f6cb07a8",
   "metadata": {},
   "outputs": [
    {
     "name": "stdout",
     "output_type": "stream",
     "text": [
      "Wall time: 2.78 s\n"
     ]
    },
    {
     "data": {
      "text/plain": [
       "({'alpha': 1e-06, 'penalty': 'l1'}, 0.5609454667214587)"
      ]
     },
     "execution_count": 12,
     "metadata": {},
     "output_type": "execute_result"
    }
   ],
   "source": [
    "%%time\n",
    "grid_search = GridSearchCV(Perceptron(), param,cv=cv, n_jobs=-1)\n",
    "grid_search.fit(X_scaled,y)\n",
    "(grid_search.best_params_, grid_search.best_score_)"
   ]
  },
  {
   "cell_type": "code",
   "execution_count": 13,
   "id": "8ddfd6ad",
   "metadata": {},
   "outputs": [
    {
     "data": {
      "text/html": [
       "<div>\n",
       "<style scoped>\n",
       "    .dataframe tbody tr th:only-of-type {\n",
       "        vertical-align: middle;\n",
       "    }\n",
       "\n",
       "    .dataframe tbody tr th {\n",
       "        vertical-align: top;\n",
       "    }\n",
       "\n",
       "    .dataframe thead th {\n",
       "        text-align: right;\n",
       "    }\n",
       "</style>\n",
       "<table border=\"1\" class=\"dataframe\">\n",
       "  <thead>\n",
       "    <tr style=\"text-align: right;\">\n",
       "      <th></th>\n",
       "      <th>param_alpha</th>\n",
       "      <th>param_penalty</th>\n",
       "      <th>params</th>\n",
       "      <th>split0_test_score</th>\n",
       "      <th>split1_test_score</th>\n",
       "      <th>split2_test_score</th>\n",
       "      <th>split3_test_score</th>\n",
       "      <th>split4_test_score</th>\n",
       "      <th>mean_test_score</th>\n",
       "      <th>std_test_score</th>\n",
       "      <th>rank_test_score</th>\n",
       "    </tr>\n",
       "  </thead>\n",
       "  <tbody>\n",
       "    <tr>\n",
       "      <th>1</th>\n",
       "      <td>1e-06</td>\n",
       "      <td>l1</td>\n",
       "      <td>{'alpha': 1e-06, 'penalty': 'l1'}</td>\n",
       "      <td>0.567493</td>\n",
       "      <td>0.570248</td>\n",
       "      <td>0.550964</td>\n",
       "      <td>0.549724</td>\n",
       "      <td>0.566298</td>\n",
       "      <td>0.560945</td>\n",
       "      <td>0.008759</td>\n",
       "      <td>1</td>\n",
       "    </tr>\n",
       "    <tr>\n",
       "      <th>3</th>\n",
       "      <td>1e-05</td>\n",
       "      <td>l1</td>\n",
       "      <td>{'alpha': 1e-05, 'penalty': 'l1'}</td>\n",
       "      <td>0.545455</td>\n",
       "      <td>0.592287</td>\n",
       "      <td>0.517906</td>\n",
       "      <td>0.549724</td>\n",
       "      <td>0.596685</td>\n",
       "      <td>0.560411</td>\n",
       "      <td>0.029921</td>\n",
       "      <td>2</td>\n",
       "    </tr>\n",
       "    <tr>\n",
       "      <th>4</th>\n",
       "      <td>0.0001</td>\n",
       "      <td>l2</td>\n",
       "      <td>{'alpha': 0.0001, 'penalty': 'l2'}</td>\n",
       "      <td>0.482094</td>\n",
       "      <td>0.592287</td>\n",
       "      <td>0.589532</td>\n",
       "      <td>0.535912</td>\n",
       "      <td>0.577348</td>\n",
       "      <td>0.555434</td>\n",
       "      <td>0.041859</td>\n",
       "      <td>3</td>\n",
       "    </tr>\n",
       "    <tr>\n",
       "      <th>7</th>\n",
       "      <td>0.001</td>\n",
       "      <td>l1</td>\n",
       "      <td>{'alpha': 0.001, 'penalty': 'l1'}</td>\n",
       "      <td>0.600551</td>\n",
       "      <td>0.561983</td>\n",
       "      <td>0.545455</td>\n",
       "      <td>0.519337</td>\n",
       "      <td>0.533149</td>\n",
       "      <td>0.552095</td>\n",
       "      <td>0.028007</td>\n",
       "      <td>4</td>\n",
       "    </tr>\n",
       "    <tr>\n",
       "      <th>0</th>\n",
       "      <td>1e-06</td>\n",
       "      <td>l2</td>\n",
       "      <td>{'alpha': 1e-06, 'penalty': 'l2'}</td>\n",
       "      <td>0.581267</td>\n",
       "      <td>0.575758</td>\n",
       "      <td>0.473829</td>\n",
       "      <td>0.541436</td>\n",
       "      <td>0.582873</td>\n",
       "      <td>0.551033</td>\n",
       "      <td>0.041453</td>\n",
       "      <td>5</td>\n",
       "    </tr>\n",
       "  </tbody>\n",
       "</table>\n",
       "</div>"
      ],
      "text/plain": [
       "  param_alpha param_penalty                              params  \\\n",
       "1       1e-06            l1   {'alpha': 1e-06, 'penalty': 'l1'}   \n",
       "3       1e-05            l1   {'alpha': 1e-05, 'penalty': 'l1'}   \n",
       "4      0.0001            l2  {'alpha': 0.0001, 'penalty': 'l2'}   \n",
       "7       0.001            l1   {'alpha': 0.001, 'penalty': 'l1'}   \n",
       "0       1e-06            l2   {'alpha': 1e-06, 'penalty': 'l2'}   \n",
       "\n",
       "   split0_test_score  split1_test_score  split2_test_score  split3_test_score  \\\n",
       "1           0.567493           0.570248           0.550964           0.549724   \n",
       "3           0.545455           0.592287           0.517906           0.549724   \n",
       "4           0.482094           0.592287           0.589532           0.535912   \n",
       "7           0.600551           0.561983           0.545455           0.519337   \n",
       "0           0.581267           0.575758           0.473829           0.541436   \n",
       "\n",
       "   split4_test_score  mean_test_score  std_test_score  rank_test_score  \n",
       "1           0.566298         0.560945        0.008759                1  \n",
       "3           0.596685         0.560411        0.029921                2  \n",
       "4           0.577348         0.555434        0.041859                3  \n",
       "7           0.533149         0.552095        0.028007                4  \n",
       "0           0.582873         0.551033        0.041453                5  "
      ]
     },
     "execution_count": 13,
     "metadata": {},
     "output_type": "execute_result"
    }
   ],
   "source": [
    "pd.DataFrame(grid_search.cv_results_).sort_values('mean_test_score', ascending=False).iloc[:,4:].head()"
   ]
  },
  {
   "cell_type": "markdown",
   "id": "44195525",
   "metadata": {},
   "source": [
    "Линейная модель построенная на ошибке перцептрона дала + 1%, что не может не радовать, т.к. другие модели скорее всего дадут более хорошие результаты."
   ]
  },
  {
   "cell_type": "markdown",
   "id": "664d2d6f",
   "metadata": {},
   "source": [
    "<h3>Метод опорных векторов</h3>"
   ]
  },
  {
   "cell_type": "code",
   "execution_count": 14,
   "id": "8dc68027",
   "metadata": {},
   "outputs": [
    {
     "name": "stdout",
     "output_type": "stream",
     "text": [
      "name: SVM, score: [0.62534435 0.61432507 0.61432507 0.5359116  0.56906077], mean: 0.5917933732097469\n",
      "Wall time: 2.66 s\n"
     ]
    }
   ],
   "source": [
    "%%time\n",
    "model_svm = SVC()\n",
    "result_svm = cross_val_score(model_svm, X_scaled, y, cv=cv, n_jobs=-1)\n",
    "print(f'name: SVM, score: {result_svm}, mean: {result_svm.mean()}')"
   ]
  },
  {
   "cell_type": "code",
   "execution_count": 15,
   "id": "ff2b7d46",
   "metadata": {},
   "outputs": [],
   "source": [
    "param = {'C': [10**-3, 10**-2, 10**-1, 10**0, 10**1],\n",
    "         'kernel': ['rbf', 'poly', 'sigmoid']}"
   ]
  },
  {
   "cell_type": "code",
   "execution_count": 16,
   "id": "eaf1ab69",
   "metadata": {},
   "outputs": [
    {
     "name": "stdout",
     "output_type": "stream",
     "text": [
      "Wall time: 49.8 s\n"
     ]
    },
    {
     "data": {
      "text/plain": [
       "({'C': 10, 'kernel': 'rbf'}, 0.6100010654003623)"
      ]
     },
     "execution_count": 16,
     "metadata": {},
     "output_type": "execute_result"
    }
   ],
   "source": [
    "%%time\n",
    "grid_search = GridSearchCV(SVC(), param,cv=cv, n_jobs=-1)\n",
    "grid_search.fit(X_scaled,y)\n",
    "(grid_search.best_params_, grid_search.best_score_)"
   ]
  },
  {
   "cell_type": "code",
   "execution_count": 17,
   "id": "c2d71ecd",
   "metadata": {},
   "outputs": [
    {
     "data": {
      "text/html": [
       "<div>\n",
       "<style scoped>\n",
       "    .dataframe tbody tr th:only-of-type {\n",
       "        vertical-align: middle;\n",
       "    }\n",
       "\n",
       "    .dataframe tbody tr th {\n",
       "        vertical-align: top;\n",
       "    }\n",
       "\n",
       "    .dataframe thead th {\n",
       "        text-align: right;\n",
       "    }\n",
       "</style>\n",
       "<table border=\"1\" class=\"dataframe\">\n",
       "  <thead>\n",
       "    <tr style=\"text-align: right;\">\n",
       "      <th></th>\n",
       "      <th>param_C</th>\n",
       "      <th>param_kernel</th>\n",
       "      <th>params</th>\n",
       "      <th>split0_test_score</th>\n",
       "      <th>split1_test_score</th>\n",
       "      <th>split2_test_score</th>\n",
       "      <th>split3_test_score</th>\n",
       "      <th>split4_test_score</th>\n",
       "      <th>mean_test_score</th>\n",
       "      <th>std_test_score</th>\n",
       "      <th>rank_test_score</th>\n",
       "    </tr>\n",
       "  </thead>\n",
       "  <tbody>\n",
       "    <tr>\n",
       "      <th>12</th>\n",
       "      <td>10</td>\n",
       "      <td>rbf</td>\n",
       "      <td>{'C': 10, 'kernel': 'rbf'}</td>\n",
       "      <td>0.641873</td>\n",
       "      <td>0.644628</td>\n",
       "      <td>0.611570</td>\n",
       "      <td>0.558011</td>\n",
       "      <td>0.593923</td>\n",
       "      <td>0.610001</td>\n",
       "      <td>0.032183</td>\n",
       "      <td>1</td>\n",
       "    </tr>\n",
       "    <tr>\n",
       "      <th>13</th>\n",
       "      <td>10</td>\n",
       "      <td>poly</td>\n",
       "      <td>{'C': 10, 'kernel': 'poly'}</td>\n",
       "      <td>0.622590</td>\n",
       "      <td>0.622590</td>\n",
       "      <td>0.600551</td>\n",
       "      <td>0.555249</td>\n",
       "      <td>0.566298</td>\n",
       "      <td>0.593455</td>\n",
       "      <td>0.028090</td>\n",
       "      <td>2</td>\n",
       "    </tr>\n",
       "    <tr>\n",
       "      <th>9</th>\n",
       "      <td>1</td>\n",
       "      <td>rbf</td>\n",
       "      <td>{'C': 1, 'kernel': 'rbf'}</td>\n",
       "      <td>0.625344</td>\n",
       "      <td>0.614325</td>\n",
       "      <td>0.614325</td>\n",
       "      <td>0.535912</td>\n",
       "      <td>0.569061</td>\n",
       "      <td>0.591793</td>\n",
       "      <td>0.034002</td>\n",
       "      <td>3</td>\n",
       "    </tr>\n",
       "    <tr>\n",
       "      <th>11</th>\n",
       "      <td>1</td>\n",
       "      <td>sigmoid</td>\n",
       "      <td>{'C': 1, 'kernel': 'sigmoid'}</td>\n",
       "      <td>0.592287</td>\n",
       "      <td>0.611570</td>\n",
       "      <td>0.559229</td>\n",
       "      <td>0.530387</td>\n",
       "      <td>0.569061</td>\n",
       "      <td>0.572507</td>\n",
       "      <td>0.027855</td>\n",
       "      <td>4</td>\n",
       "    </tr>\n",
       "    <tr>\n",
       "      <th>10</th>\n",
       "      <td>1</td>\n",
       "      <td>poly</td>\n",
       "      <td>{'C': 1, 'kernel': 'poly'}</td>\n",
       "      <td>0.597796</td>\n",
       "      <td>0.589532</td>\n",
       "      <td>0.561983</td>\n",
       "      <td>0.533149</td>\n",
       "      <td>0.549724</td>\n",
       "      <td>0.566437</td>\n",
       "      <td>0.024183</td>\n",
       "      <td>5</td>\n",
       "    </tr>\n",
       "  </tbody>\n",
       "</table>\n",
       "</div>"
      ],
      "text/plain": [
       "   param_C param_kernel                         params  split0_test_score  \\\n",
       "12      10          rbf     {'C': 10, 'kernel': 'rbf'}           0.641873   \n",
       "13      10         poly    {'C': 10, 'kernel': 'poly'}           0.622590   \n",
       "9        1          rbf      {'C': 1, 'kernel': 'rbf'}           0.625344   \n",
       "11       1      sigmoid  {'C': 1, 'kernel': 'sigmoid'}           0.592287   \n",
       "10       1         poly     {'C': 1, 'kernel': 'poly'}           0.597796   \n",
       "\n",
       "    split1_test_score  split2_test_score  split3_test_score  \\\n",
       "12           0.644628           0.611570           0.558011   \n",
       "13           0.622590           0.600551           0.555249   \n",
       "9            0.614325           0.614325           0.535912   \n",
       "11           0.611570           0.559229           0.530387   \n",
       "10           0.589532           0.561983           0.533149   \n",
       "\n",
       "    split4_test_score  mean_test_score  std_test_score  rank_test_score  \n",
       "12           0.593923         0.610001        0.032183                1  \n",
       "13           0.566298         0.593455        0.028090                2  \n",
       "9            0.569061         0.591793        0.034002                3  \n",
       "11           0.569061         0.572507        0.027855                4  \n",
       "10           0.549724         0.566437        0.024183                5  "
      ]
     },
     "execution_count": 17,
     "metadata": {},
     "output_type": "execute_result"
    }
   ],
   "source": [
    "pd.DataFrame(grid_search.cv_results_).sort_values('mean_test_score', ascending=False).iloc[:,4:].head()"
   ]
  },
  {
   "cell_type": "code",
   "execution_count": 18,
   "id": "cba73906",
   "metadata": {},
   "outputs": [],
   "source": [
    "param = {'C': [1],\n",
    "         'kernel': ['poly'],\n",
    "         'degree': range(1,11)}"
   ]
  },
  {
   "cell_type": "code",
   "execution_count": 19,
   "id": "e20cc4d6",
   "metadata": {},
   "outputs": [
    {
     "name": "stdout",
     "output_type": "stream",
     "text": [
      "Wall time: 34.2 s\n"
     ]
    },
    {
     "data": {
      "text/plain": [
       "({'C': 1, 'degree': 1, 'kernel': 'poly'}, 0.5835410864039694)"
      ]
     },
     "execution_count": 19,
     "metadata": {},
     "output_type": "execute_result"
    }
   ],
   "source": [
    "%%time\n",
    "grid_search = GridSearchCV(SVC(), param,cv=cv, n_jobs=-1)\n",
    "grid_search.fit(X_scaled,y)\n",
    "(grid_search.best_params_, grid_search.best_score_)"
   ]
  },
  {
   "cell_type": "code",
   "execution_count": 20,
   "id": "7348c0b2",
   "metadata": {},
   "outputs": [
    {
     "data": {
      "text/html": [
       "<div>\n",
       "<style scoped>\n",
       "    .dataframe tbody tr th:only-of-type {\n",
       "        vertical-align: middle;\n",
       "    }\n",
       "\n",
       "    .dataframe tbody tr th {\n",
       "        vertical-align: top;\n",
       "    }\n",
       "\n",
       "    .dataframe thead th {\n",
       "        text-align: right;\n",
       "    }\n",
       "</style>\n",
       "<table border=\"1\" class=\"dataframe\">\n",
       "  <thead>\n",
       "    <tr style=\"text-align: right;\">\n",
       "      <th></th>\n",
       "      <th>param_C</th>\n",
       "      <th>param_degree</th>\n",
       "      <th>param_kernel</th>\n",
       "      <th>params</th>\n",
       "      <th>split0_test_score</th>\n",
       "      <th>split1_test_score</th>\n",
       "      <th>split2_test_score</th>\n",
       "      <th>split3_test_score</th>\n",
       "      <th>split4_test_score</th>\n",
       "      <th>mean_test_score</th>\n",
       "      <th>std_test_score</th>\n",
       "      <th>rank_test_score</th>\n",
       "    </tr>\n",
       "  </thead>\n",
       "  <tbody>\n",
       "    <tr>\n",
       "      <th>0</th>\n",
       "      <td>1</td>\n",
       "      <td>1</td>\n",
       "      <td>poly</td>\n",
       "      <td>{'C': 1, 'degree': 1, 'kernel': 'poly'}</td>\n",
       "      <td>0.608815</td>\n",
       "      <td>0.597796</td>\n",
       "      <td>0.584022</td>\n",
       "      <td>0.530387</td>\n",
       "      <td>0.596685</td>\n",
       "      <td>0.583541</td>\n",
       "      <td>0.027714</td>\n",
       "      <td>1</td>\n",
       "    </tr>\n",
       "    <tr>\n",
       "      <th>1</th>\n",
       "      <td>1</td>\n",
       "      <td>2</td>\n",
       "      <td>poly</td>\n",
       "      <td>{'C': 1, 'degree': 2, 'kernel': 'poly'}</td>\n",
       "      <td>0.625344</td>\n",
       "      <td>0.608815</td>\n",
       "      <td>0.570248</td>\n",
       "      <td>0.527624</td>\n",
       "      <td>0.563536</td>\n",
       "      <td>0.579114</td>\n",
       "      <td>0.034618</td>\n",
       "      <td>2</td>\n",
       "    </tr>\n",
       "    <tr>\n",
       "      <th>2</th>\n",
       "      <td>1</td>\n",
       "      <td>3</td>\n",
       "      <td>poly</td>\n",
       "      <td>{'C': 1, 'degree': 3, 'kernel': 'poly'}</td>\n",
       "      <td>0.597796</td>\n",
       "      <td>0.589532</td>\n",
       "      <td>0.561983</td>\n",
       "      <td>0.533149</td>\n",
       "      <td>0.549724</td>\n",
       "      <td>0.566437</td>\n",
       "      <td>0.024183</td>\n",
       "      <td>3</td>\n",
       "    </tr>\n",
       "    <tr>\n",
       "      <th>7</th>\n",
       "      <td>1</td>\n",
       "      <td>8</td>\n",
       "      <td>poly</td>\n",
       "      <td>{'C': 1, 'degree': 8, 'kernel': 'poly'}</td>\n",
       "      <td>0.597796</td>\n",
       "      <td>0.570248</td>\n",
       "      <td>0.559229</td>\n",
       "      <td>0.535912</td>\n",
       "      <td>0.552486</td>\n",
       "      <td>0.563134</td>\n",
       "      <td>0.020600</td>\n",
       "      <td>4</td>\n",
       "    </tr>\n",
       "    <tr>\n",
       "      <th>6</th>\n",
       "      <td>1</td>\n",
       "      <td>7</td>\n",
       "      <td>poly</td>\n",
       "      <td>{'C': 1, 'degree': 7, 'kernel': 'poly'}</td>\n",
       "      <td>0.600551</td>\n",
       "      <td>0.575758</td>\n",
       "      <td>0.550964</td>\n",
       "      <td>0.530387</td>\n",
       "      <td>0.552486</td>\n",
       "      <td>0.562029</td>\n",
       "      <td>0.024030</td>\n",
       "      <td>5</td>\n",
       "    </tr>\n",
       "  </tbody>\n",
       "</table>\n",
       "</div>"
      ],
      "text/plain": [
       "  param_C param_degree param_kernel                                   params  \\\n",
       "0       1            1         poly  {'C': 1, 'degree': 1, 'kernel': 'poly'}   \n",
       "1       1            2         poly  {'C': 1, 'degree': 2, 'kernel': 'poly'}   \n",
       "2       1            3         poly  {'C': 1, 'degree': 3, 'kernel': 'poly'}   \n",
       "7       1            8         poly  {'C': 1, 'degree': 8, 'kernel': 'poly'}   \n",
       "6       1            7         poly  {'C': 1, 'degree': 7, 'kernel': 'poly'}   \n",
       "\n",
       "   split0_test_score  split1_test_score  split2_test_score  split3_test_score  \\\n",
       "0           0.608815           0.597796           0.584022           0.530387   \n",
       "1           0.625344           0.608815           0.570248           0.527624   \n",
       "2           0.597796           0.589532           0.561983           0.533149   \n",
       "7           0.597796           0.570248           0.559229           0.535912   \n",
       "6           0.600551           0.575758           0.550964           0.530387   \n",
       "\n",
       "   split4_test_score  mean_test_score  std_test_score  rank_test_score  \n",
       "0           0.596685         0.583541        0.027714                1  \n",
       "1           0.563536         0.579114        0.034618                2  \n",
       "2           0.549724         0.566437        0.024183                3  \n",
       "7           0.552486         0.563134        0.020600                4  \n",
       "6           0.552486         0.562029        0.024030                5  "
      ]
     },
     "execution_count": 20,
     "metadata": {},
     "output_type": "execute_result"
    }
   ],
   "source": [
    "pd.DataFrame(grid_search.cv_results_).sort_values('mean_test_score', ascending=False).iloc[:,4:].head()"
   ]
  },
  {
   "cell_type": "markdown",
   "id": "b20fb789",
   "metadata": {},
   "source": [
    "<h3>Дерево решений.</h3>"
   ]
  },
  {
   "cell_type": "code",
   "execution_count": 21,
   "id": "d92cd684",
   "metadata": {},
   "outputs": [
    {
     "name": "stdout",
     "output_type": "stream",
     "text": [
      "name: Tree, score: [0.56749311 0.60606061 0.61983471 0.51933702 0.58287293], mean: 0.5791196749006894\n",
      "Wall time: 531 ms\n"
     ]
    }
   ],
   "source": [
    "%%time\n",
    "model_tree = DecisionTreeClassifier()\n",
    "result_tree = cross_val_score(model_tree, X_scaled, y, cv=cv, n_jobs=-1)\n",
    "print(f'name: Tree, score: {result_tree}, mean: {result_tree.mean()}')"
   ]
  },
  {
   "cell_type": "code",
   "execution_count": 22,
   "id": "f99d9025",
   "metadata": {},
   "outputs": [],
   "source": [
    "param = {'criterion': ['gini', 'entropy'],\n",
    "         'max_depth': range(2,50)}"
   ]
  },
  {
   "cell_type": "code",
   "execution_count": 23,
   "id": "e89a2621",
   "metadata": {},
   "outputs": [
    {
     "name": "stdout",
     "output_type": "stream",
     "text": [
      "Wall time: 14.6 s\n"
     ]
    },
    {
     "data": {
      "text/plain": [
       "({'criterion': 'entropy', 'max_depth': 47}, 0.6033971051550158)"
      ]
     },
     "execution_count": 23,
     "metadata": {},
     "output_type": "execute_result"
    }
   ],
   "source": [
    "%%time\n",
    "grid_search = GridSearchCV(DecisionTreeClassifier(), param,cv=cv, n_jobs=-1)\n",
    "grid_search.fit(X_scaled,y)\n",
    "(grid_search.best_params_, grid_search.best_score_)"
   ]
  },
  {
   "cell_type": "code",
   "execution_count": 24,
   "id": "64a7f981",
   "metadata": {},
   "outputs": [
    {
     "data": {
      "text/html": [
       "<div>\n",
       "<style scoped>\n",
       "    .dataframe tbody tr th:only-of-type {\n",
       "        vertical-align: middle;\n",
       "    }\n",
       "\n",
       "    .dataframe tbody tr th {\n",
       "        vertical-align: top;\n",
       "    }\n",
       "\n",
       "    .dataframe thead th {\n",
       "        text-align: right;\n",
       "    }\n",
       "</style>\n",
       "<table border=\"1\" class=\"dataframe\">\n",
       "  <thead>\n",
       "    <tr style=\"text-align: right;\">\n",
       "      <th></th>\n",
       "      <th>param_criterion</th>\n",
       "      <th>param_max_depth</th>\n",
       "      <th>params</th>\n",
       "      <th>split0_test_score</th>\n",
       "      <th>split1_test_score</th>\n",
       "      <th>split2_test_score</th>\n",
       "      <th>split3_test_score</th>\n",
       "      <th>split4_test_score</th>\n",
       "      <th>mean_test_score</th>\n",
       "      <th>std_test_score</th>\n",
       "      <th>rank_test_score</th>\n",
       "    </tr>\n",
       "  </thead>\n",
       "  <tbody>\n",
       "    <tr>\n",
       "      <th>93</th>\n",
       "      <td>entropy</td>\n",
       "      <td>47</td>\n",
       "      <td>{'criterion': 'entropy', 'max_depth': 47}</td>\n",
       "      <td>0.586777</td>\n",
       "      <td>0.606061</td>\n",
       "      <td>0.658402</td>\n",
       "      <td>0.563536</td>\n",
       "      <td>0.602210</td>\n",
       "      <td>0.603397</td>\n",
       "      <td>0.031302</td>\n",
       "      <td>1</td>\n",
       "    </tr>\n",
       "    <tr>\n",
       "      <th>69</th>\n",
       "      <td>entropy</td>\n",
       "      <td>23</td>\n",
       "      <td>{'criterion': 'entropy', 'max_depth': 23}</td>\n",
       "      <td>0.581267</td>\n",
       "      <td>0.592287</td>\n",
       "      <td>0.636364</td>\n",
       "      <td>0.555249</td>\n",
       "      <td>0.596685</td>\n",
       "      <td>0.592370</td>\n",
       "      <td>0.026288</td>\n",
       "      <td>2</td>\n",
       "    </tr>\n",
       "    <tr>\n",
       "      <th>72</th>\n",
       "      <td>entropy</td>\n",
       "      <td>26</td>\n",
       "      <td>{'criterion': 'entropy', 'max_depth': 26}</td>\n",
       "      <td>0.581267</td>\n",
       "      <td>0.603306</td>\n",
       "      <td>0.625344</td>\n",
       "      <td>0.555249</td>\n",
       "      <td>0.596685</td>\n",
       "      <td>0.592370</td>\n",
       "      <td>0.023353</td>\n",
       "      <td>2</td>\n",
       "    </tr>\n",
       "    <tr>\n",
       "      <th>90</th>\n",
       "      <td>entropy</td>\n",
       "      <td>44</td>\n",
       "      <td>{'criterion': 'entropy', 'max_depth': 44}</td>\n",
       "      <td>0.586777</td>\n",
       "      <td>0.614325</td>\n",
       "      <td>0.622590</td>\n",
       "      <td>0.560773</td>\n",
       "      <td>0.571823</td>\n",
       "      <td>0.591258</td>\n",
       "      <td>0.023836</td>\n",
       "      <td>4</td>\n",
       "    </tr>\n",
       "    <tr>\n",
       "      <th>85</th>\n",
       "      <td>entropy</td>\n",
       "      <td>39</td>\n",
       "      <td>{'criterion': 'entropy', 'max_depth': 39}</td>\n",
       "      <td>0.573003</td>\n",
       "      <td>0.597796</td>\n",
       "      <td>0.617080</td>\n",
       "      <td>0.558011</td>\n",
       "      <td>0.604972</td>\n",
       "      <td>0.590172</td>\n",
       "      <td>0.021589</td>\n",
       "      <td>5</td>\n",
       "    </tr>\n",
       "  </tbody>\n",
       "</table>\n",
       "</div>"
      ],
      "text/plain": [
       "   param_criterion param_max_depth                                     params  \\\n",
       "93         entropy              47  {'criterion': 'entropy', 'max_depth': 47}   \n",
       "69         entropy              23  {'criterion': 'entropy', 'max_depth': 23}   \n",
       "72         entropy              26  {'criterion': 'entropy', 'max_depth': 26}   \n",
       "90         entropy              44  {'criterion': 'entropy', 'max_depth': 44}   \n",
       "85         entropy              39  {'criterion': 'entropy', 'max_depth': 39}   \n",
       "\n",
       "    split0_test_score  split1_test_score  split2_test_score  \\\n",
       "93           0.586777           0.606061           0.658402   \n",
       "69           0.581267           0.592287           0.636364   \n",
       "72           0.581267           0.603306           0.625344   \n",
       "90           0.586777           0.614325           0.622590   \n",
       "85           0.573003           0.597796           0.617080   \n",
       "\n",
       "    split3_test_score  split4_test_score  mean_test_score  std_test_score  \\\n",
       "93           0.563536           0.602210         0.603397        0.031302   \n",
       "69           0.555249           0.596685         0.592370        0.026288   \n",
       "72           0.555249           0.596685         0.592370        0.023353   \n",
       "90           0.560773           0.571823         0.591258        0.023836   \n",
       "85           0.558011           0.604972         0.590172        0.021589   \n",
       "\n",
       "    rank_test_score  \n",
       "93                1  \n",
       "69                2  \n",
       "72                2  \n",
       "90                4  \n",
       "85                5  "
      ]
     },
     "execution_count": 24,
     "metadata": {},
     "output_type": "execute_result"
    }
   ],
   "source": [
    "pd.DataFrame(grid_search.cv_results_).sort_values('mean_test_score', ascending=False).iloc[:,4:].head()"
   ]
  },
  {
   "cell_type": "markdown",
   "id": "e93c1a0d",
   "metadata": {},
   "source": [
    "<h3>Логистическая регрессия</h3>"
   ]
  },
  {
   "cell_type": "code",
   "execution_count": 25,
   "id": "e40dac8c",
   "metadata": {},
   "outputs": [
    {
     "name": "stdout",
     "output_type": "stream",
     "text": [
      "name: LogisticRegression, score: [0.60881543 0.61707989 0.60330579 0.53314917 0.5718232 ], mean: 0.5868346955237965\n",
      "Wall time: 582 ms\n"
     ]
    }
   ],
   "source": [
    "%%time\n",
    "model_log = LogisticRegression()\n",
    "result_log = cross_val_score(model_log, X_scaled, y, cv=cv, n_jobs=-1)\n",
    "print(f'name: LogisticRegression, score: {result_log}, mean: {result_log.mean()}')"
   ]
  },
  {
   "cell_type": "code",
   "execution_count": 26,
   "id": "cb4eaeed",
   "metadata": {},
   "outputs": [],
   "source": [
    "param = {'C': [10**-3, 10**-2, 10**-1, 10**0, 10**1]}"
   ]
  },
  {
   "cell_type": "code",
   "execution_count": 27,
   "id": "79f620f0",
   "metadata": {},
   "outputs": [
    {
     "name": "stdout",
     "output_type": "stream",
     "text": [
      "Wall time: 2.71 s\n"
     ]
    },
    {
     "data": {
      "text/plain": [
       "({'C': 0.1}, 0.6077865546474286)"
      ]
     },
     "execution_count": 27,
     "metadata": {},
     "output_type": "execute_result"
    }
   ],
   "source": [
    "%%time\n",
    "grid_search = GridSearchCV(LogisticRegression(), param,cv=cv, n_jobs=-1)\n",
    "grid_search.fit(X_scaled,y)\n",
    "(grid_search.best_params_, grid_search.best_score_)"
   ]
  },
  {
   "cell_type": "code",
   "execution_count": 28,
   "id": "d8b1b2f1",
   "metadata": {},
   "outputs": [
    {
     "data": {
      "text/html": [
       "<div>\n",
       "<style scoped>\n",
       "    .dataframe tbody tr th:only-of-type {\n",
       "        vertical-align: middle;\n",
       "    }\n",
       "\n",
       "    .dataframe tbody tr th {\n",
       "        vertical-align: top;\n",
       "    }\n",
       "\n",
       "    .dataframe thead th {\n",
       "        text-align: right;\n",
       "    }\n",
       "</style>\n",
       "<table border=\"1\" class=\"dataframe\">\n",
       "  <thead>\n",
       "    <tr style=\"text-align: right;\">\n",
       "      <th></th>\n",
       "      <th>param_C</th>\n",
       "      <th>params</th>\n",
       "      <th>split0_test_score</th>\n",
       "      <th>split1_test_score</th>\n",
       "      <th>split2_test_score</th>\n",
       "      <th>split3_test_score</th>\n",
       "      <th>split4_test_score</th>\n",
       "      <th>mean_test_score</th>\n",
       "      <th>std_test_score</th>\n",
       "      <th>rank_test_score</th>\n",
       "    </tr>\n",
       "  </thead>\n",
       "  <tbody>\n",
       "    <tr>\n",
       "      <th>2</th>\n",
       "      <td>0.1</td>\n",
       "      <td>{'C': 0.1}</td>\n",
       "      <td>0.630854</td>\n",
       "      <td>0.633609</td>\n",
       "      <td>0.641873</td>\n",
       "      <td>0.552486</td>\n",
       "      <td>0.580110</td>\n",
       "      <td>0.607787</td>\n",
       "      <td>0.035171</td>\n",
       "      <td>1</td>\n",
       "    </tr>\n",
       "    <tr>\n",
       "      <th>1</th>\n",
       "      <td>0.01</td>\n",
       "      <td>{'C': 0.01}</td>\n",
       "      <td>0.611570</td>\n",
       "      <td>0.628099</td>\n",
       "      <td>0.619835</td>\n",
       "      <td>0.535912</td>\n",
       "      <td>0.588398</td>\n",
       "      <td>0.596763</td>\n",
       "      <td>0.033185</td>\n",
       "      <td>2</td>\n",
       "    </tr>\n",
       "    <tr>\n",
       "      <th>0</th>\n",
       "      <td>0.001</td>\n",
       "      <td>{'C': 0.001}</td>\n",
       "      <td>0.606061</td>\n",
       "      <td>0.622590</td>\n",
       "      <td>0.592287</td>\n",
       "      <td>0.546961</td>\n",
       "      <td>0.602210</td>\n",
       "      <td>0.594022</td>\n",
       "      <td>0.025479</td>\n",
       "      <td>3</td>\n",
       "    </tr>\n",
       "    <tr>\n",
       "      <th>3</th>\n",
       "      <td>1</td>\n",
       "      <td>{'C': 1}</td>\n",
       "      <td>0.608815</td>\n",
       "      <td>0.617080</td>\n",
       "      <td>0.603306</td>\n",
       "      <td>0.533149</td>\n",
       "      <td>0.571823</td>\n",
       "      <td>0.586835</td>\n",
       "      <td>0.030909</td>\n",
       "      <td>4</td>\n",
       "    </tr>\n",
       "    <tr>\n",
       "      <th>4</th>\n",
       "      <td>10</td>\n",
       "      <td>{'C': 10}</td>\n",
       "      <td>0.606061</td>\n",
       "      <td>0.614325</td>\n",
       "      <td>0.578512</td>\n",
       "      <td>0.530387</td>\n",
       "      <td>0.560773</td>\n",
       "      <td>0.578012</td>\n",
       "      <td>0.030565</td>\n",
       "      <td>5</td>\n",
       "    </tr>\n",
       "  </tbody>\n",
       "</table>\n",
       "</div>"
      ],
      "text/plain": [
       "  param_C        params  split0_test_score  split1_test_score  \\\n",
       "2     0.1    {'C': 0.1}           0.630854           0.633609   \n",
       "1    0.01   {'C': 0.01}           0.611570           0.628099   \n",
       "0   0.001  {'C': 0.001}           0.606061           0.622590   \n",
       "3       1      {'C': 1}           0.608815           0.617080   \n",
       "4      10     {'C': 10}           0.606061           0.614325   \n",
       "\n",
       "   split2_test_score  split3_test_score  split4_test_score  mean_test_score  \\\n",
       "2           0.641873           0.552486           0.580110         0.607787   \n",
       "1           0.619835           0.535912           0.588398         0.596763   \n",
       "0           0.592287           0.546961           0.602210         0.594022   \n",
       "3           0.603306           0.533149           0.571823         0.586835   \n",
       "4           0.578512           0.530387           0.560773         0.578012   \n",
       "\n",
       "   std_test_score  rank_test_score  \n",
       "2        0.035171                1  \n",
       "1        0.033185                2  \n",
       "0        0.025479                3  \n",
       "3        0.030909                4  \n",
       "4        0.030565                5  "
      ]
     },
     "execution_count": 28,
     "metadata": {},
     "output_type": "execute_result"
    }
   ],
   "source": [
    "pd.DataFrame(grid_search.cv_results_).sort_values('mean_test_score', ascending=False).iloc[:,4:].head(10)"
   ]
  },
  {
   "cell_type": "markdown",
   "id": "d10d389d",
   "metadata": {},
   "source": [
    "На целый процент прибавили"
   ]
  },
  {
   "cell_type": "markdown",
   "id": "aac9e62b",
   "metadata": {},
   "source": [
    "<h3>Случайный лес</h3>"
   ]
  },
  {
   "cell_type": "code",
   "execution_count": 29,
   "id": "fc01f023",
   "metadata": {},
   "outputs": [
    {
     "name": "stdout",
     "output_type": "stream",
     "text": [
      "name: RandomForestClassifier, score: [0.60881543 0.63085399 0.62534435 0.56629834 0.60773481], mean: 0.6078093846551907\n",
      "Wall time: 1.19 s\n"
     ]
    }
   ],
   "source": [
    "%%time\n",
    "model_rf = RandomForestClassifier()\n",
    "result_fr = cross_val_score(model_rf, X_scaled, y, cv=cv, n_jobs=-1)\n",
    "print(f'name: RandomForestClassifier, score: {result_fr}, mean: {result_fr.mean()}')"
   ]
  },
  {
   "cell_type": "code",
   "execution_count": 30,
   "id": "f9f3169a",
   "metadata": {},
   "outputs": [],
   "source": [
    "param = {'n_estimators': [100,200,500,1000,2000],\n",
    "         'criterion': ['gini', 'entropy'],\n",
    "         'max_depth': range(1,51,10)}"
   ]
  },
  {
   "cell_type": "code",
   "execution_count": 31,
   "id": "81eb5f75",
   "metadata": {},
   "outputs": [
    {
     "name": "stdout",
     "output_type": "stream",
     "text": [
      "Wall time: 2min 44s\n"
     ]
    },
    {
     "data": {
      "text/plain": [
       "({'criterion': 'entropy', 'max_depth': 11, 'n_estimators': 100},\n",
       " 0.6326179930901177)"
      ]
     },
     "execution_count": 31,
     "metadata": {},
     "output_type": "execute_result"
    }
   ],
   "source": [
    "%%time\n",
    "grid_search = GridSearchCV(RandomForestClassifier(n_jobs=-1), param,cv=cv, n_jobs=-1)\n",
    "grid_search.fit(X_scaled,y)\n",
    "(grid_search.best_params_, grid_search.best_score_)"
   ]
  },
  {
   "cell_type": "code",
   "execution_count": 32,
   "id": "fc0c9d38",
   "metadata": {},
   "outputs": [
    {
     "data": {
      "text/html": [
       "<div>\n",
       "<style scoped>\n",
       "    .dataframe tbody tr th:only-of-type {\n",
       "        vertical-align: middle;\n",
       "    }\n",
       "\n",
       "    .dataframe tbody tr th {\n",
       "        vertical-align: top;\n",
       "    }\n",
       "\n",
       "    .dataframe thead th {\n",
       "        text-align: right;\n",
       "    }\n",
       "</style>\n",
       "<table border=\"1\" class=\"dataframe\">\n",
       "  <thead>\n",
       "    <tr style=\"text-align: right;\">\n",
       "      <th></th>\n",
       "      <th>param_criterion</th>\n",
       "      <th>param_max_depth</th>\n",
       "      <th>param_n_estimators</th>\n",
       "      <th>params</th>\n",
       "      <th>split0_test_score</th>\n",
       "      <th>split1_test_score</th>\n",
       "      <th>split2_test_score</th>\n",
       "      <th>split3_test_score</th>\n",
       "      <th>split4_test_score</th>\n",
       "      <th>mean_test_score</th>\n",
       "      <th>std_test_score</th>\n",
       "      <th>rank_test_score</th>\n",
       "    </tr>\n",
       "  </thead>\n",
       "  <tbody>\n",
       "    <tr>\n",
       "      <th>30</th>\n",
       "      <td>entropy</td>\n",
       "      <td>11</td>\n",
       "      <td>100</td>\n",
       "      <td>{'criterion': 'entropy', 'max_depth': 11, 'n_e...</td>\n",
       "      <td>0.652893</td>\n",
       "      <td>0.669421</td>\n",
       "      <td>0.639118</td>\n",
       "      <td>0.588398</td>\n",
       "      <td>0.613260</td>\n",
       "      <td>0.632618</td>\n",
       "      <td>0.028768</td>\n",
       "      <td>1</td>\n",
       "    </tr>\n",
       "    <tr>\n",
       "      <th>31</th>\n",
       "      <td>entropy</td>\n",
       "      <td>11</td>\n",
       "      <td>200</td>\n",
       "      <td>{'criterion': 'entropy', 'max_depth': 11, 'n_e...</td>\n",
       "      <td>0.647383</td>\n",
       "      <td>0.685950</td>\n",
       "      <td>0.630854</td>\n",
       "      <td>0.566298</td>\n",
       "      <td>0.621547</td>\n",
       "      <td>0.630407</td>\n",
       "      <td>0.038889</td>\n",
       "      <td>2</td>\n",
       "    </tr>\n",
       "    <tr>\n",
       "      <th>32</th>\n",
       "      <td>entropy</td>\n",
       "      <td>11</td>\n",
       "      <td>500</td>\n",
       "      <td>{'criterion': 'entropy', 'max_depth': 11, 'n_e...</td>\n",
       "      <td>0.630854</td>\n",
       "      <td>0.680441</td>\n",
       "      <td>0.641873</td>\n",
       "      <td>0.563536</td>\n",
       "      <td>0.624309</td>\n",
       "      <td>0.628203</td>\n",
       "      <td>0.037735</td>\n",
       "      <td>3</td>\n",
       "    </tr>\n",
       "    <tr>\n",
       "      <th>33</th>\n",
       "      <td>entropy</td>\n",
       "      <td>11</td>\n",
       "      <td>1000</td>\n",
       "      <td>{'criterion': 'entropy', 'max_depth': 11, 'n_e...</td>\n",
       "      <td>0.633609</td>\n",
       "      <td>0.680441</td>\n",
       "      <td>0.641873</td>\n",
       "      <td>0.566298</td>\n",
       "      <td>0.613260</td>\n",
       "      <td>0.627096</td>\n",
       "      <td>0.037401</td>\n",
       "      <td>4</td>\n",
       "    </tr>\n",
       "    <tr>\n",
       "      <th>34</th>\n",
       "      <td>entropy</td>\n",
       "      <td>11</td>\n",
       "      <td>2000</td>\n",
       "      <td>{'criterion': 'entropy', 'max_depth': 11, 'n_e...</td>\n",
       "      <td>0.625344</td>\n",
       "      <td>0.680441</td>\n",
       "      <td>0.636364</td>\n",
       "      <td>0.560773</td>\n",
       "      <td>0.621547</td>\n",
       "      <td>0.624894</td>\n",
       "      <td>0.038314</td>\n",
       "      <td>5</td>\n",
       "    </tr>\n",
       "  </tbody>\n",
       "</table>\n",
       "</div>"
      ],
      "text/plain": [
       "   param_criterion param_max_depth param_n_estimators  \\\n",
       "30         entropy              11                100   \n",
       "31         entropy              11                200   \n",
       "32         entropy              11                500   \n",
       "33         entropy              11               1000   \n",
       "34         entropy              11               2000   \n",
       "\n",
       "                                               params  split0_test_score  \\\n",
       "30  {'criterion': 'entropy', 'max_depth': 11, 'n_e...           0.652893   \n",
       "31  {'criterion': 'entropy', 'max_depth': 11, 'n_e...           0.647383   \n",
       "32  {'criterion': 'entropy', 'max_depth': 11, 'n_e...           0.630854   \n",
       "33  {'criterion': 'entropy', 'max_depth': 11, 'n_e...           0.633609   \n",
       "34  {'criterion': 'entropy', 'max_depth': 11, 'n_e...           0.625344   \n",
       "\n",
       "    split1_test_score  split2_test_score  split3_test_score  \\\n",
       "30           0.669421           0.639118           0.588398   \n",
       "31           0.685950           0.630854           0.566298   \n",
       "32           0.680441           0.641873           0.563536   \n",
       "33           0.680441           0.641873           0.566298   \n",
       "34           0.680441           0.636364           0.560773   \n",
       "\n",
       "    split4_test_score  mean_test_score  std_test_score  rank_test_score  \n",
       "30           0.613260         0.632618        0.028768                1  \n",
       "31           0.621547         0.630407        0.038889                2  \n",
       "32           0.624309         0.628203        0.037735                3  \n",
       "33           0.613260         0.627096        0.037401                4  \n",
       "34           0.621547         0.624894        0.038314                5  "
      ]
     },
     "execution_count": 32,
     "metadata": {},
     "output_type": "execute_result"
    }
   ],
   "source": [
    "pd.DataFrame(grid_search.cv_results_).sort_values('mean_test_score', ascending=False).iloc[:,4:].head(5)"
   ]
  },
  {
   "cell_type": "markdown",
   "id": "be78ebf3",
   "metadata": {},
   "source": [
    "не плохо"
   ]
  },
  {
   "cell_type": "markdown",
   "id": "3ec6bd11",
   "metadata": {},
   "source": [
    "<h3>Градиентный бустинг</h3>"
   ]
  },
  {
   "cell_type": "code",
   "execution_count": 33,
   "id": "7d383881",
   "metadata": {},
   "outputs": [
    {
     "name": "stdout",
     "output_type": "stream",
     "text": [
      "name: XGBClassifier, score: [0.61432507 0.60881543 0.63636364 0.54972376 0.57734807], mean: 0.597315191087165\n",
      "Wall time: 4.94 s\n"
     ]
    }
   ],
   "source": [
    "%%time\n",
    "model_xgb = XGBClassifier()\n",
    "result_xgb = cross_val_score(model_xgb, X_scaled, y, cv=cv, n_jobs=-1)\n",
    "print(f'name: XGBClassifier, score: {result_xgb}, mean: {result_xgb.mean()}')"
   ]
  },
  {
   "cell_type": "code",
   "execution_count": 34,
   "id": "8b654ecc",
   "metadata": {},
   "outputs": [],
   "source": [
    "param = {'n_estimators': [100,200],\n",
    "         'max_depth': range(10,51,2)}"
   ]
  },
  {
   "cell_type": "code",
   "execution_count": 35,
   "id": "9dd727da",
   "metadata": {},
   "outputs": [
    {
     "name": "stdout",
     "output_type": "stream",
     "text": [
      "[22:44:49] WARNING: ..\\src\\learner.cc:1115: Starting in XGBoost 1.3.0, the default evaluation metric used with the objective 'binary:logistic' was changed from 'error' to 'logloss'. Explicitly set eval_metric if you'd like to restore the old behavior.\n",
      "Wall time: 6min 17s\n"
     ]
    },
    {
     "data": {
      "text/plain": [
       "({'max_depth': 12, 'n_estimators': 100}, 0.6088945710241541)"
      ]
     },
     "execution_count": 35,
     "metadata": {},
     "output_type": "execute_result"
    }
   ],
   "source": [
    "%%time\n",
    "grid_search = GridSearchCV(XGBClassifier(n_jobs=-1), param,cv=cv, n_jobs=-1)\n",
    "grid_search.fit(X_scaled,y)\n",
    "(grid_search.best_params_, grid_search.best_score_)"
   ]
  },
  {
   "cell_type": "code",
   "execution_count": 48,
   "id": "10588077",
   "metadata": {},
   "outputs": [
    {
     "data": {
      "text/html": [
       "<div>\n",
       "<style scoped>\n",
       "    .dataframe tbody tr th:only-of-type {\n",
       "        vertical-align: middle;\n",
       "    }\n",
       "\n",
       "    .dataframe tbody tr th {\n",
       "        vertical-align: top;\n",
       "    }\n",
       "\n",
       "    .dataframe thead th {\n",
       "        text-align: right;\n",
       "    }\n",
       "</style>\n",
       "<table border=\"1\" class=\"dataframe\">\n",
       "  <thead>\n",
       "    <tr style=\"text-align: right;\">\n",
       "      <th></th>\n",
       "      <th>param_max_depth</th>\n",
       "      <th>param_n_estimators</th>\n",
       "      <th>params</th>\n",
       "      <th>split0_test_score</th>\n",
       "      <th>split1_test_score</th>\n",
       "      <th>split2_test_score</th>\n",
       "      <th>split3_test_score</th>\n",
       "      <th>split4_test_score</th>\n",
       "      <th>mean_test_score</th>\n",
       "      <th>std_test_score</th>\n",
       "      <th>rank_test_score</th>\n",
       "    </tr>\n",
       "  </thead>\n",
       "  <tbody>\n",
       "    <tr>\n",
       "      <th>34</th>\n",
       "      <td>44</td>\n",
       "      <td>100</td>\n",
       "      <td>{'max_depth': 44, 'n_estimators': 100}</td>\n",
       "      <td>0.64497</td>\n",
       "      <td>0.64497</td>\n",
       "      <td>0.607143</td>\n",
       "      <td>0.636905</td>\n",
       "      <td>0.583333</td>\n",
       "      <td>0.623464</td>\n",
       "      <td>0.024424</td>\n",
       "      <td>1</td>\n",
       "    </tr>\n",
       "    <tr>\n",
       "      <th>12</th>\n",
       "      <td>22</td>\n",
       "      <td>100</td>\n",
       "      <td>{'max_depth': 22, 'n_estimators': 100}</td>\n",
       "      <td>0.64497</td>\n",
       "      <td>0.64497</td>\n",
       "      <td>0.607143</td>\n",
       "      <td>0.636905</td>\n",
       "      <td>0.583333</td>\n",
       "      <td>0.623464</td>\n",
       "      <td>0.024424</td>\n",
       "      <td>1</td>\n",
       "    </tr>\n",
       "    <tr>\n",
       "      <th>28</th>\n",
       "      <td>38</td>\n",
       "      <td>100</td>\n",
       "      <td>{'max_depth': 38, 'n_estimators': 100}</td>\n",
       "      <td>0.64497</td>\n",
       "      <td>0.64497</td>\n",
       "      <td>0.607143</td>\n",
       "      <td>0.636905</td>\n",
       "      <td>0.583333</td>\n",
       "      <td>0.623464</td>\n",
       "      <td>0.024424</td>\n",
       "      <td>1</td>\n",
       "    </tr>\n",
       "    <tr>\n",
       "      <th>24</th>\n",
       "      <td>34</td>\n",
       "      <td>100</td>\n",
       "      <td>{'max_depth': 34, 'n_estimators': 100}</td>\n",
       "      <td>0.64497</td>\n",
       "      <td>0.64497</td>\n",
       "      <td>0.607143</td>\n",
       "      <td>0.636905</td>\n",
       "      <td>0.583333</td>\n",
       "      <td>0.623464</td>\n",
       "      <td>0.024424</td>\n",
       "      <td>1</td>\n",
       "    </tr>\n",
       "    <tr>\n",
       "      <th>22</th>\n",
       "      <td>32</td>\n",
       "      <td>100</td>\n",
       "      <td>{'max_depth': 32, 'n_estimators': 100}</td>\n",
       "      <td>0.64497</td>\n",
       "      <td>0.64497</td>\n",
       "      <td>0.607143</td>\n",
       "      <td>0.636905</td>\n",
       "      <td>0.583333</td>\n",
       "      <td>0.623464</td>\n",
       "      <td>0.024424</td>\n",
       "      <td>1</td>\n",
       "    </tr>\n",
       "  </tbody>\n",
       "</table>\n",
       "</div>"
      ],
      "text/plain": [
       "   param_max_depth param_n_estimators                                  params  \\\n",
       "34              44                100  {'max_depth': 44, 'n_estimators': 100}   \n",
       "12              22                100  {'max_depth': 22, 'n_estimators': 100}   \n",
       "28              38                100  {'max_depth': 38, 'n_estimators': 100}   \n",
       "24              34                100  {'max_depth': 34, 'n_estimators': 100}   \n",
       "22              32                100  {'max_depth': 32, 'n_estimators': 100}   \n",
       "\n",
       "    split0_test_score  split1_test_score  split2_test_score  \\\n",
       "34            0.64497            0.64497           0.607143   \n",
       "12            0.64497            0.64497           0.607143   \n",
       "28            0.64497            0.64497           0.607143   \n",
       "24            0.64497            0.64497           0.607143   \n",
       "22            0.64497            0.64497           0.607143   \n",
       "\n",
       "    split3_test_score  split4_test_score  mean_test_score  std_test_score  \\\n",
       "34           0.636905           0.583333         0.623464        0.024424   \n",
       "12           0.636905           0.583333         0.623464        0.024424   \n",
       "28           0.636905           0.583333         0.623464        0.024424   \n",
       "24           0.636905           0.583333         0.623464        0.024424   \n",
       "22           0.636905           0.583333         0.623464        0.024424   \n",
       "\n",
       "    rank_test_score  \n",
       "34                1  \n",
       "12                1  \n",
       "28                1  \n",
       "24                1  \n",
       "22                1  "
      ]
     },
     "execution_count": 48,
     "metadata": {},
     "output_type": "execute_result"
    }
   ],
   "source": [
    "pd.DataFrame(grid_search.cv_results_).sort_values('mean_test_score', ascending=False).iloc[:,4:].head(5)"
   ]
  },
  {
   "cell_type": "markdown",
   "id": "0655d311",
   "metadata": {},
   "source": [
    "тоже не улучшилось. Вывод - стандартизация данных помогает только линейным методам, а деревянные скорее ухудшает."
   ]
  },
  {
   "cell_type": "code",
   "execution_count": null,
   "id": "73107042",
   "metadata": {},
   "outputs": [],
   "source": []
  }
 ],
 "metadata": {
  "kernelspec": {
   "display_name": "Python 3",
   "language": "python",
   "name": "python3"
  },
  "language_info": {
   "codemirror_mode": {
    "name": "ipython",
    "version": 3
   },
   "file_extension": ".py",
   "mimetype": "text/x-python",
   "name": "python",
   "nbconvert_exporter": "python",
   "pygments_lexer": "ipython3",
   "version": "3.8.5"
  }
 },
 "nbformat": 4,
 "nbformat_minor": 5
}
